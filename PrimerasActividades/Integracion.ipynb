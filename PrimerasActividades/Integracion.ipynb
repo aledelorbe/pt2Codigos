{
  "nbformat": 4,
  "nbformat_minor": 0,
  "metadata": {
    "colab": {
      "provenance": [],
      "mount_file_id": "19WwCp8sDr8IFSbEPhGBPxQ30HS-uEunS",
      "authorship_tag": "ABX9TyPwc2If6WjoQmwFl1mEAPfU",
      "include_colab_link": true
    },
    "kernelspec": {
      "name": "python3",
      "display_name": "Python 3"
    },
    "language_info": {
      "name": "python"
    }
  },
  "cells": [
    {
      "cell_type": "markdown",
      "metadata": {
        "id": "view-in-github",
        "colab_type": "text"
      },
      "source": [
        "<a href=\"https://colab.research.google.com/github/aledelorbe/pt2Codigos/blob/main/PrimerasActividades/Integracion.ipynb\" target=\"_parent\"><img src=\"https://colab.research.google.com/assets/colab-badge.svg\" alt=\"Open In Colab\"/></a>"
      ]
    },
    {
      "cell_type": "markdown",
      "source": [
        "### Cargar librerias"
      ],
      "metadata": {
        "id": "TfLRvAuPFeqe"
      }
    },
    {
      "cell_type": "code",
      "source": [
        "import pandas as pd\n",
        "import matplotlib.pyplot as plt"
      ],
      "metadata": {
        "id": "AO4KKD9XEpzI"
      },
      "execution_count": null,
      "outputs": []
    },
    {
      "cell_type": "markdown",
      "source": [
        "### Cargar los dataFrame"
      ],
      "metadata": {
        "id": "r7EfovT3UImO"
      }
    },
    {
      "cell_type": "code",
      "source": [
        "mortalidad = '/content/drive/MyDrive/Pt2/Primeras Actividades/0 Bases de Datos/Mortalidad/'\n",
        "\n",
        "df2010 = pd.read_csv(mortalidad + '2010.csv')\n",
        "df2011 = pd.read_csv(mortalidad + '2011.csv')\n",
        "df2012 = pd.read_csv(mortalidad + '2012.csv')\n",
        "df2013 = pd.read_csv(mortalidad + '2013.csv')\n",
        "df2014 = pd.read_csv(mortalidad + '2014.csv')\n",
        "df2015 = pd.read_csv(mortalidad + '2015.csv')\n",
        "df2016 = pd.read_csv(mortalidad + '2016.csv')\n",
        "df2017 = pd.read_csv(mortalidad + '2017.csv')\n",
        "df2018 = pd.read_csv(mortalidad + '2018.csv')\n",
        "df2019 = pd.read_csv(mortalidad + '2019.csv')"
      ],
      "metadata": {
        "id": "y1JW32OLUImP"
      },
      "execution_count": null,
      "outputs": []
    },
    {
      "cell_type": "markdown",
      "source": [
        "### Cargar los catalogos"
      ],
      "metadata": {
        "id": "HLa5IJjFd6qP"
      }
    },
    {
      "cell_type": "code",
      "source": [
        "catalogos = '/content/drive/MyDrive/Pt2/Primeras Actividades/0 Bases de Datos/Catalogos/'\n",
        "\n",
        "dfEmpleo2010_2012 = pd.read_csv(catalogos + 'ocupacion2010_2012.csv')\n",
        "dfEmpleo2013_2019 = pd.read_csv(catalogos + 'ocupacion2013_2019.csv', encoding='latin-1')\n",
        "\n",
        "dfEducacion2010_2011 = pd.read_csv(catalogos + 'escolaridad2010_2011.csv')\n",
        "dfEducacion2012_2019 = pd.read_csv(catalogos + 'escolaridad2012_2019.csv', encoding='latin-1')"
      ],
      "metadata": {
        "id": "PZsg__7md-ZF"
      },
      "execution_count": null,
      "outputs": []
    },
    {
      "cell_type": "markdown",
      "source": [
        "### Para realizar una validacion mas adelante"
      ],
      "metadata": {
        "id": "uZVjRcabq1-H"
      }
    },
    {
      "cell_type": "code",
      "source": [
        "totalReg2010 = df2010.shape[0]\n",
        "totalReg2011 = df2011.shape[0]\n",
        "totalReg2012 = df2012.shape[0]\n",
        "totalReg2013 = df2013.shape[0]\n",
        "totalReg2014 = df2014.shape[0]\n",
        "totalReg2015 = df2015.shape[0]\n",
        "totalReg2016 = df2016.shape[0]\n",
        "totalReg2017 = df2017.shape[0]\n",
        "totalReg2018 = df2018.shape[0]\n",
        "totalReg2019 = df2019.shape[0]\n",
        "\n",
        "print('Cantidad total de registros en dataFrame 2010: ', totalReg2010)\n",
        "print('Cantidad total de registros en dataFrame 2011: ', totalReg2011)\n",
        "print('Cantidad total de registros en dataFrame 2012: ', totalReg2012)\n",
        "print('Cantidad total de registros en dataFrame 2013: ', totalReg2013)\n",
        "print('Cantidad total de registros en dataFrame 2014: ', totalReg2014)\n",
        "print('Cantidad total de registros en dataFrame 2015: ', totalReg2015)\n",
        "print('Cantidad total de registros en dataFrame 2016: ', totalReg2016)\n",
        "print('Cantidad total de registros en dataFrame 2017: ', totalReg2017)\n",
        "print('Cantidad total de registros en dataFrame 2018: ', totalReg2018)\n",
        "print('Cantidad total de registros en dataFrame 2019: ', totalReg2019)"
      ],
      "metadata": {
        "colab": {
          "base_uri": "https://localhost:8080/"
        },
        "id": "qEx8420cq1DL",
        "outputId": "72708c2f-112b-480e-accd-c763e753a2b4"
      },
      "execution_count": null,
      "outputs": [
        {
          "output_type": "stream",
          "name": "stdout",
          "text": [
            "Cantidad total de registros en dataFrame 2010:  70242\n",
            "Cantidad total de registros en dataFrame 2011:  71234\n",
            "Cantidad total de registros en dataFrame 2012:  73230\n",
            "Cantidad total de registros en dataFrame 2013:  75050\n",
            "Cantidad total de registros en dataFrame 2014:  76843\n",
            "Cantidad total de registros en dataFrame 2015:  79317\n",
            "Cantidad total de registros en dataFrame 2016:  82375\n",
            "Cantidad total de registros en dataFrame 2017:  83675\n",
            "Cantidad total de registros en dataFrame 2018:  85003\n",
            "Cantidad total de registros en dataFrame 2019:  86285\n"
          ]
        }
      ]
    },
    {
      "cell_type": "markdown",
      "source": [
        "## Integración de Empleo ---------------------------------------------------------------------------------------------"
      ],
      "metadata": {
        "id": "RL7wc9XxcZWO"
      }
    },
    {
      "cell_type": "markdown",
      "source": [
        "### Mini analisis exploratorio de los catalogos de empleo"
      ],
      "metadata": {
        "id": "aX2eWF0XFQZS"
      }
    },
    {
      "cell_type": "code",
      "source": [
        "# Por el analisis exploratorio sabemos que hay 26, 28 y 31 valores distintos en los dataset 2010, 2011 y 2012 respectivamente\n",
        "print('Catalogo de empleo 2010 al 2012 valores distintos en ocupacion: ', list(dfEmpleo2010_2012['CVE']), '\\n\\tCantidad de valores distintos: ', len(dfEmpleo2010_2012['CVE'].unique()))\n",
        "\n",
        "# Por el analisis exploratorio sabemos que hay 14 valores distintos en los dataset 2013 al 2018 y 13 valores distintos para el año 2019.\n",
        "print('Catalogo de empleo 2013 al 2019 valores distintos en ocupacion: ', list(dfEmpleo2013_2019['CVE']), '\\n\\tCantidad de valores distintos: ', len(dfEmpleo2013_2019['CVE'].unique()))\n"
      ],
      "metadata": {
        "colab": {
          "base_uri": "https://localhost:8080/"
        },
        "id": "Tvjn6ma1FPkF",
        "outputId": "7c0fe9d3-919d-41f5-c10f-756d7912cc91"
      },
      "execution_count": null,
      "outputs": [
        {
          "output_type": "stream",
          "name": "stdout",
          "text": [
            "Catalogo de empleo 2010 al 2012 valores distintos en ocupacion:  [2, 11, 12, 13, 14, 21, 41, 51, 52, 53, 54, 55, 61, 62, 71, 72, 81, 82, 83, 97, 98, 99] \n",
            "\tCantidad de valores distintos:  22\n",
            "Catalogo de empleo 2013 al 2019 valores distintos en ocupacion:  [1, 2, 3, 4, 5, 6, 7, 8, 9, 10, 11, 97, 98, 99] \n",
            "\tCantidad de valores distintos:  14\n"
          ]
        }
      ]
    },
    {
      "cell_type": "markdown",
      "source": [
        "### Integración de catalagos del año 2010 al 2012"
      ],
      "metadata": {
        "id": "k-y5VCwWcfwp"
      }
    },
    {
      "cell_type": "code",
      "source": [
        "# Unir los fragmento 2010 al 2012 con sus respectivos catalogos\n",
        "# Se utiliza left para no perder los registros que tienen algun tipo de ocupacion y que no estan en el catalogo de ocupacion (los que vendrian a ser ruido).\n",
        "\n",
        "df2010 = pd.merge(df2010, dfEmpleo2010_2012, left_on='ocupacion', right_on='CVE', how='left')\n",
        "df2011 = pd.merge(df2011, dfEmpleo2010_2012, left_on='ocupacion', right_on='CVE', how='left')\n",
        "df2012 = pd.merge(df2012, dfEmpleo2010_2012, left_on='ocupacion', right_on='CVE', how='left')"
      ],
      "metadata": {
        "id": "oxBtX50fcpZd"
      },
      "execution_count": null,
      "outputs": []
    },
    {
      "cell_type": "markdown",
      "source": [
        "### Integración de catalagos del año 2013 al 2019"
      ],
      "metadata": {
        "id": "MaKdVWUocjoD"
      }
    },
    {
      "cell_type": "code",
      "source": [
        "# Unir los fragmento 2013 al 2019 con sus respectivos catalogos\n",
        "# Se utilizar inner porque todos los valores distintos de los dataset 2013 a 2019 estan presentes en los catalogos\n",
        "\n",
        "df2013 = pd.merge(df2013, dfEmpleo2013_2019, left_on='ocupacion', right_on='CVE', how='inner')\n",
        "df2014 = pd.merge(df2014, dfEmpleo2013_2019, left_on='ocupacion', right_on='CVE', how='inner')\n",
        "df2015 = pd.merge(df2015, dfEmpleo2013_2019, left_on='ocupacion', right_on='CVE', how='inner')\n",
        "df2016 = pd.merge(df2016, dfEmpleo2013_2019, left_on='ocupacion', right_on='CVE', how='inner')\n",
        "df2017 = pd.merge(df2017, dfEmpleo2013_2019, left_on='ocupacion', right_on='CVE', how='inner')\n",
        "df2018 = pd.merge(df2018, dfEmpleo2013_2019, left_on='ocupacion', right_on='CVE', how='inner')\n",
        "df2019 = pd.merge(df2019, dfEmpleo2013_2019, left_on='ocupacion', right_on='CVE', how='inner')"
      ],
      "metadata": {
        "id": "GqHYvr0Icip7"
      },
      "execution_count": null,
      "outputs": []
    },
    {
      "cell_type": "markdown",
      "source": [
        "### Renombrar Campo"
      ],
      "metadata": {
        "id": "99zCP4D8KHgQ"
      }
    },
    {
      "cell_type": "code",
      "source": [
        "df2010 = df2010.rename(columns={\"CVE\": \"id_ocupacion\", \"DESC\": \"desc_ocupacion\"})\n",
        "df2011 = df2011.rename(columns={\"CVE\": \"id_ocupacion\", \"DESC\": \"desc_ocupacion\"})\n",
        "df2012 = df2012.rename(columns={\"CVE\": \"id_ocupacion\", \"DESC\": \"desc_ocupacion\"})\n",
        "\n",
        "df2013 = df2013.rename(columns={\"CVE\": \"id_ocupacion\", \"DESCRIP\": \"desc_ocupacion\"})\n",
        "df2014 = df2014.rename(columns={\"CVE\": \"id_ocupacion\", \"DESCRIP\": \"desc_ocupacion\"})\n",
        "df2015 = df2015.rename(columns={\"CVE\": \"id_ocupacion\", \"DESCRIP\": \"desc_ocupacion\"})\n",
        "df2016 = df2016.rename(columns={\"CVE\": \"id_ocupacion\", \"DESCRIP\": \"desc_ocupacion\"})\n",
        "df2017 = df2017.rename(columns={\"CVE\": \"id_ocupacion\", \"DESCRIP\": \"desc_ocupacion\"})\n",
        "df2018 = df2018.rename(columns={\"CVE\": \"id_ocupacion\", \"DESCRIP\": \"desc_ocupacion\"})\n",
        "df2019 = df2019.rename(columns={\"CVE\": \"id_ocupacion\", \"DESCRIP\": \"desc_ocupacion\"})"
      ],
      "metadata": {
        "id": "2iqUJ-8fInS2"
      },
      "execution_count": null,
      "outputs": []
    },
    {
      "cell_type": "markdown",
      "source": [
        "##  Integración de Niveles Academicos ---------------------------------------------------------------------------------------------"
      ],
      "metadata": {
        "id": "YKiR33J_zJCP"
      }
    },
    {
      "cell_type": "markdown",
      "source": [
        "### Mini analisis exploratorio de los catalogos de educación"
      ],
      "metadata": {
        "id": "9dgvZqaiF25E"
      }
    },
    {
      "cell_type": "code",
      "source": [
        "# Por el analisis exploratorio sabemos que hay 12 valores distintos en todos los dataset.\n",
        "\n",
        "print('Catalogo de educación 2010 al 2011 valores distintos en educación: ', list(dfEducacion2010_2011['CVE']), '\\n\\tCantidad de valores distintos: ', len(dfEducacion2010_2011['CVE'].unique()))\n",
        "print('Catalogo de educación 2012 al 2019 valores distintos en educación: ', list(dfEducacion2012_2019['CVE']), '\\n\\tCantidad de valores distintos: ', len(dfEducacion2012_2019['CVE'].unique()))"
      ],
      "metadata": {
        "colab": {
          "base_uri": "https://localhost:8080/"
        },
        "id": "B7oFG0QoF4oa",
        "outputId": "81b8c62f-d5bc-40bf-b165-bbc618f26099"
      },
      "execution_count": null,
      "outputs": [
        {
          "output_type": "stream",
          "name": "stdout",
          "text": [
            "Catalogo de educación 2010 al 2011 valores distintos en educación:  [1, 2, 3, 4, 5, 6, 7, 8, 9] \n",
            "\tCantidad de valores distintos:  9\n",
            "Catalogo de educación 2012 al 2019 valores distintos en educación:  [1, 2, 3, 4, 5, 6, 7, 8, 9, 10, 88, 99] \n",
            "\tCantidad de valores distintos:  12\n"
          ]
        }
      ]
    },
    {
      "cell_type": "markdown",
      "source": [
        "### Integración de catalagos del año 2010 y 2011"
      ],
      "metadata": {
        "id": "nc4NkF-Ib9pa"
      }
    },
    {
      "cell_type": "code",
      "source": [
        "# Unir los fragmento 2010 y 2011 con sus respectivos catalogos\n",
        "# Se utiliza left para no perder los registros que tienen algun tipo de nivel academico y que no estan en el catalogo de\n",
        "# educacion (los que vendrian a ser ruido).\n",
        "\n",
        "df2010 = pd.merge(df2010, dfEducacion2010_2011, left_on='escolarida', right_on='CVE', how='left')\n",
        "df2011 = pd.merge(df2011, dfEducacion2010_2011, left_on='escolarida', right_on='CVE', how='left')\n"
      ],
      "metadata": {
        "id": "o38X2FrubrbA"
      },
      "execution_count": null,
      "outputs": []
    },
    {
      "cell_type": "markdown",
      "source": [
        "### Integración de catalagos del año 2012 y 2019"
      ],
      "metadata": {
        "id": "IH9qKnllcuZj"
      }
    },
    {
      "cell_type": "code",
      "source": [
        "# Unir los fragmento 2012 al 2019 con sus respectivos catalogos\n",
        "# Se utilizar inner porque todos los valores distintos de los dataset 2012 a 2019 estan presentes en los catalogos\n",
        "\n",
        "df2012 = pd.merge(df2012, dfEducacion2012_2019, left_on='escolarida', right_on='CVE', how='inner')\n",
        "df2013 = pd.merge(df2013, dfEducacion2012_2019, left_on='escolarida', right_on='CVE', how='inner')\n",
        "df2014 = pd.merge(df2014, dfEducacion2012_2019, left_on='escolarida', right_on='CVE', how='inner')\n",
        "df2015 = pd.merge(df2015, dfEducacion2012_2019, left_on='escolarida', right_on='CVE', how='inner')\n",
        "df2016 = pd.merge(df2016, dfEducacion2012_2019, left_on='escolarida', right_on='CVE', how='inner')\n",
        "df2017 = pd.merge(df2017, dfEducacion2012_2019, left_on='escolarida', right_on='CVE', how='inner')\n",
        "df2018 = pd.merge(df2018, dfEducacion2012_2019, left_on='escolarida', right_on='CVE', how='inner')\n",
        "df2019 = pd.merge(df2019, dfEducacion2012_2019, left_on='escolarida', right_on='CVE', how='inner')"
      ],
      "metadata": {
        "id": "GD8d4QQwcyGl"
      },
      "execution_count": null,
      "outputs": []
    },
    {
      "cell_type": "markdown",
      "source": [
        "### Renombrar campo"
      ],
      "metadata": {
        "id": "fBQCaQ0PKw2O"
      }
    },
    {
      "cell_type": "code",
      "source": [
        "df2010 = df2010.rename(columns={\"CVE\": \"id_escolaridad\", \"DESC\": \"desc_escolaridad\"})\n",
        "df2011 = df2011.rename(columns={\"CVE\": \"id_escolaridad\", \"DESC\": \"desc_escolaridad\"})\n",
        "\n",
        "df2012 = df2012.rename(columns={\"CVE\": \"id_escolaridad\", \"DESCRIP\": \"desc_escolaridad\"})\n",
        "df2013 = df2013.rename(columns={\"CVE\": \"id_escolaridad\", \"DESCRIP\": \"desc_escolaridad\"})\n",
        "df2014 = df2014.rename(columns={\"CVE\": \"id_escolaridad\", \"DESCRIP\": \"desc_escolaridad\"})\n",
        "df2015 = df2015.rename(columns={\"CVE\": \"id_escolaridad\", \"DESCRIP\": \"desc_escolaridad\"})\n",
        "df2016 = df2016.rename(columns={\"CVE\": \"id_escolaridad\", \"DESCRIP\": \"desc_escolaridad\"})\n",
        "df2017 = df2017.rename(columns={\"CVE\": \"id_escolaridad\", \"DESCRIP\": \"desc_escolaridad\"})\n",
        "df2018 = df2018.rename(columns={\"CVE\": \"id_escolaridad\", \"DESCRIP\": \"desc_escolaridad\"})\n",
        "df2019 = df2019.rename(columns={\"CVE\": \"id_escolaridad\", \"DESCRIP\": \"desc_escolaridad\"})"
      ],
      "metadata": {
        "id": "NtI-ji1MKzdd"
      },
      "execution_count": null,
      "outputs": []
    },
    {
      "cell_type": "markdown",
      "source": [
        "## Validar Resultados ---------------------------------------------------------------------------------------------"
      ],
      "metadata": {
        "id": "by4RN7cNqdk3"
      }
    },
    {
      "cell_type": "code",
      "source": [
        "# Validar que tras realizar la integracion no se hayan perdido registros\n",
        "\n",
        "totalRegInteg2010 = df2010.shape[0]\n",
        "totalRegInteg2011 = df2011.shape[0]\n",
        "totalRegInteg2012 = df2012.shape[0]\n",
        "totalRegInteg2013 = df2013.shape[0]\n",
        "totalRegInteg2014 = df2014.shape[0]\n",
        "totalRegInteg2015 = df2015.shape[0]\n",
        "totalRegInteg2016 = df2016.shape[0]\n",
        "totalRegInteg2017 = df2017.shape[0]\n",
        "totalRegInteg2018 = df2018.shape[0]\n",
        "totalRegInteg2019 = df2019.shape[0]\n",
        "\n",
        "if totalReg2010 == totalRegInteg2010 and totalReg2011 == totalRegInteg2011 and totalReg2012 == totalRegInteg2012 and totalReg2013 == totalRegInteg2013 and totalReg2014 == totalRegInteg2014 and totalReg2015 == totalRegInteg2015 and totalReg2016 == totalRegInteg2016 and totalReg2017 == totalRegInteg2017 and totalReg2018 == totalRegInteg2018 and totalReg2019 == totalRegInteg2019:\n",
        "  print('No se perdieron registros tras realizar la integracion :D')\n",
        "else:\n",
        "  print('Se perdieron registros tras realizar la integracion :C')\n"
      ],
      "metadata": {
        "colab": {
          "base_uri": "https://localhost:8080/"
        },
        "id": "fYqNTMxuqjPX",
        "outputId": "f08e7d19-b16b-44b2-cc68-641ef3783523"
      },
      "execution_count": null,
      "outputs": [
        {
          "output_type": "stream",
          "name": "stdout",
          "text": [
            "No se perdieron registros tras realizar la integracion :D\n"
          ]
        }
      ]
    },
    {
      "cell_type": "markdown",
      "source": [
        "## Guardar Resultados---------------------------------------------------------------------------------------------"
      ],
      "metadata": {
        "id": "viXpYFGmiVGH"
      }
    },
    {
      "cell_type": "code",
      "source": [
        "nuevaMortalidad = '/content/drive/MyDrive/Pt2/Primeras Actividades/0 Bases de Datos/Nueva Mortalidad/'\n",
        "\n",
        "df2010.to_csv(nuevaMortalidad + '2010.csv', index=False)\n",
        "df2011.to_csv(nuevaMortalidad + '2011.csv', index=False)\n",
        "df2012.to_csv(nuevaMortalidad + '2012.csv', index=False)\n",
        "df2013.to_csv(nuevaMortalidad + '2013.csv', index=False)\n",
        "df2014.to_csv(nuevaMortalidad + '2014.csv', index=False)\n",
        "df2015.to_csv(nuevaMortalidad + '2015.csv', index=False)\n",
        "df2016.to_csv(nuevaMortalidad + '2016.csv', index=False)\n",
        "df2017.to_csv(nuevaMortalidad + '2017.csv', index=False)\n",
        "df2018.to_csv(nuevaMortalidad + '2018.csv', index=False)\n",
        "df2019.to_csv(nuevaMortalidad + '2019.csv', index=False)"
      ],
      "metadata": {
        "id": "JB1a6lTliaJP"
      },
      "execution_count": null,
      "outputs": []
    }
  ]
}