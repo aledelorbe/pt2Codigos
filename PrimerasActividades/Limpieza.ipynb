{
  "nbformat": 4,
  "nbformat_minor": 0,
  "metadata": {
    "colab": {
      "provenance": [],
      "mount_file_id": "1X36SSGRCWi0k2c-HzEOQlg9-Vvv8nP26",
      "authorship_tag": "ABX9TyMkZAGfybHhnKVYI17Kp7dQ",
      "include_colab_link": true
    },
    "kernelspec": {
      "name": "python3",
      "display_name": "Python 3"
    },
    "language_info": {
      "name": "python"
    }
  },
  "cells": [
    {
      "cell_type": "markdown",
      "metadata": {
        "id": "view-in-github",
        "colab_type": "text"
      },
      "source": [
        "<a href=\"https://colab.research.google.com/github/aledelorbe/pt2Codigos/blob/main/PrimerasActividades/Limpieza.ipynb\" target=\"_parent\"><img src=\"https://colab.research.google.com/assets/colab-badge.svg\" alt=\"Open In Colab\"/></a>"
      ]
    },
    {
      "cell_type": "markdown",
      "source": [
        "### Cargar librerias"
      ],
      "metadata": {
        "id": "TfLRvAuPFeqe"
      }
    },
    {
      "cell_type": "code",
      "source": [
        "import pandas as pd\n",
        "import matplotlib.pyplot as plt\n",
        "from sklearn.impute import SimpleImputer"
      ],
      "metadata": {
        "id": "AO4KKD9XEpzI"
      },
      "execution_count": null,
      "outputs": []
    },
    {
      "cell_type": "markdown",
      "source": [
        "### Cargar los dataFrame"
      ],
      "metadata": {
        "id": "r7EfovT3UImO"
      }
    },
    {
      "cell_type": "code",
      "source": [
        "nuevaMortalidad = '/content/drive/MyDrive/Pt2/Primeras Actividades/0 Bases de Datos/Nueva Mortalidad/'\n",
        "\n",
        "df2010 = pd.read_csv(nuevaMortalidad + '2010.csv')\n",
        "df2011 = pd.read_csv(nuevaMortalidad + '2011.csv')\n",
        "df2012 = pd.read_csv(nuevaMortalidad + '2012.csv')\n",
        "df2013 = pd.read_csv(nuevaMortalidad + '2013.csv')\n",
        "df2014 = pd.read_csv(nuevaMortalidad + '2014.csv')\n",
        "df2015 = pd.read_csv(nuevaMortalidad + '2015.csv')\n",
        "df2016 = pd.read_csv(nuevaMortalidad + '2016.csv')\n",
        "df2017 = pd.read_csv(nuevaMortalidad + '2017.csv')\n",
        "df2018 = pd.read_csv(nuevaMortalidad + '2018.csv')\n",
        "df2019 = pd.read_csv(nuevaMortalidad + '2019.csv')"
      ],
      "metadata": {
        "id": "y1JW32OLUImP"
      },
      "execution_count": null,
      "outputs": []
    },
    {
      "cell_type": "markdown",
      "source": [
        "### Cargar el catalogoa de empleo y educacion (\"Recientes\")\n"
      ],
      "metadata": {
        "id": "FNvKUPMc6Aw1"
      }
    },
    {
      "cell_type": "code",
      "source": [
        "catalogos = '/content/drive/MyDrive/Pt2/Primeras Actividades/0 Bases de Datos/Catalogos/'\n",
        "\n",
        "dfEscolaridad = pd.read_csv(catalogos + 'escolaridad2012_2019.csv', encoding='latin-1')\n",
        "dfEmpleo = pd.read_csv(catalogos + 'ocupacion2013_2019.csv', encoding='latin-1')"
      ],
      "metadata": {
        "id": "vv1q08Sx6HEd"
      },
      "execution_count": null,
      "outputs": []
    },
    {
      "cell_type": "markdown",
      "source": [
        "### Seleccionar las columnas relevantes para cumplir con los objetivos del proyecto"
      ],
      "metadata": {
        "id": "uZVjRcabq1-H"
      }
    },
    {
      "cell_type": "code",
      "source": [
        "df2010 = df2010[['ent_resid', 'ent_resid_nm', 'ICD', 'detailCaus', 'ocupacion', 'desc_ocupacion', 'escolarida', 'desc_escolaridad']]\n",
        "df2011 = df2011[['ent_resid', 'ent_resid_nm', 'ICD', 'detailCaus', 'ocupacion', 'desc_ocupacion', 'escolarida', 'desc_escolaridad']]\n",
        "# df2012 = df2012[['date_ocurr', 'ent_resid', 'ent_resid_nm', 'ICD', 'detailCaus', 'ocupacion', 'desc_ocupacion', 'escolarida', 'desc_escolaridad']]\n",
        "df2012 = df2012[['ent_resid', 'ent_resid_nm', 'ICD', 'detailCaus', 'ocupacion', 'desc_ocupacion', 'escolarida', 'desc_escolaridad']]\n",
        "df2013 = df2013[['ent_resid', 'ent_resid_nm', 'ICD', 'detailCaus', 'ocupacion', 'desc_ocupacion', 'escolarida', 'desc_escolaridad']]\n",
        "df2014 = df2014[['ent_resid', 'ent_resid_nm', 'ICD', 'detailCaus', 'ocupacion', 'desc_ocupacion', 'escolarida', 'desc_escolaridad']]\n",
        "df2015 = df2015[['ent_resid', 'ent_resid_nm', 'ICD', 'detailCaus', 'ocupacion', 'desc_ocupacion', 'escolarida', 'desc_escolaridad']]\n",
        "df2016 = df2016[['ent_resid', 'ent_resid_nm', 'ICD', 'detailCaus', 'ocupacion', 'desc_ocupacion', 'escolarida', 'desc_escolaridad']]\n",
        "df2017 = df2017[['ent_resid', 'ent_resid_nm', 'ICD', 'detailCaus', 'ocupacion', 'desc_ocupacion', 'escolarida', 'desc_escolaridad']]\n",
        "df2018 = df2018[['ent_resid', 'ent_resid_nm', 'ICD', 'detailCaus', 'ocupacion', 'desc_ocupacion', 'escolarida', 'desc_escolaridad']]\n",
        "df2019 = df2019[['ent_resid', 'ent_resid_nm', 'ICD', 'detailCaus', 'ocupacion', 'desc_ocupacion', 'escolarida', 'desc_escolaridad']]\n"
      ],
      "metadata": {
        "id": "qEx8420cq1DL",
        "colab": {
          "base_uri": "https://localhost:8080/",
          "height": 251
        },
        "outputId": "2547ea23-7c0c-41e3-a76a-28c855ca34e2"
      },
      "execution_count": null,
      "outputs": [
        {
          "output_type": "error",
          "ename": "NameError",
          "evalue": "ignored",
          "traceback": [
            "\u001b[0;31m---------------------------------------------------------------------------\u001b[0m",
            "\u001b[0;31mNameError\u001b[0m                                 Traceback (most recent call last)",
            "\u001b[0;32m<ipython-input-1-071e8af184e2>\u001b[0m in \u001b[0;36m<cell line: 1>\u001b[0;34m()\u001b[0m\n\u001b[0;32m----> 1\u001b[0;31m \u001b[0mdf2010\u001b[0m \u001b[0;34m=\u001b[0m \u001b[0mdf2010\u001b[0m\u001b[0;34m[\u001b[0m\u001b[0;34m[\u001b[0m\u001b[0;34m'ent_resid'\u001b[0m\u001b[0;34m,\u001b[0m \u001b[0;34m'ent_resid_nm'\u001b[0m\u001b[0;34m,\u001b[0m \u001b[0;34m'ICD'\u001b[0m\u001b[0;34m,\u001b[0m \u001b[0;34m'detailCaus'\u001b[0m\u001b[0;34m,\u001b[0m \u001b[0;34m'ocupacion'\u001b[0m\u001b[0;34m,\u001b[0m \u001b[0;34m'desc_ocupacion'\u001b[0m\u001b[0;34m,\u001b[0m \u001b[0;34m'escolarida'\u001b[0m\u001b[0;34m,\u001b[0m \u001b[0;34m'desc_escolaridad'\u001b[0m\u001b[0;34m]\u001b[0m\u001b[0;34m]\u001b[0m\u001b[0;34m\u001b[0m\u001b[0;34m\u001b[0m\u001b[0m\n\u001b[0m\u001b[1;32m      2\u001b[0m \u001b[0mdf2011\u001b[0m \u001b[0;34m=\u001b[0m \u001b[0mdf2011\u001b[0m\u001b[0;34m[\u001b[0m\u001b[0;34m[\u001b[0m\u001b[0;34m'ent_resid'\u001b[0m\u001b[0;34m,\u001b[0m \u001b[0;34m'ent_resid_nm'\u001b[0m\u001b[0;34m,\u001b[0m \u001b[0;34m'ICD'\u001b[0m\u001b[0;34m,\u001b[0m \u001b[0;34m'detailCaus'\u001b[0m\u001b[0;34m,\u001b[0m \u001b[0;34m'ocupacion'\u001b[0m\u001b[0;34m,\u001b[0m \u001b[0;34m'desc_ocupacion'\u001b[0m\u001b[0;34m,\u001b[0m \u001b[0;34m'escolarida'\u001b[0m\u001b[0;34m,\u001b[0m \u001b[0;34m'desc_escolaridad'\u001b[0m\u001b[0;34m]\u001b[0m\u001b[0;34m]\u001b[0m\u001b[0;34m\u001b[0m\u001b[0;34m\u001b[0m\u001b[0m\n\u001b[1;32m      3\u001b[0m \u001b[0mdf2012\u001b[0m \u001b[0;34m=\u001b[0m \u001b[0mdf2012\u001b[0m\u001b[0;34m[\u001b[0m\u001b[0;34m[\u001b[0m\u001b[0;34m'date_ocurr'\u001b[0m\u001b[0;34m,\u001b[0m \u001b[0;34m'ent_resid'\u001b[0m\u001b[0;34m,\u001b[0m \u001b[0;34m'ent_resid_nm'\u001b[0m\u001b[0;34m,\u001b[0m \u001b[0;34m'ICD'\u001b[0m\u001b[0;34m,\u001b[0m \u001b[0;34m'detailCaus'\u001b[0m\u001b[0;34m,\u001b[0m \u001b[0;34m'ocupacion'\u001b[0m\u001b[0;34m,\u001b[0m \u001b[0;34m'desc_ocupacion'\u001b[0m\u001b[0;34m,\u001b[0m \u001b[0;34m'escolarida'\u001b[0m\u001b[0;34m,\u001b[0m \u001b[0;34m'desc_escolaridad'\u001b[0m\u001b[0;34m]\u001b[0m\u001b[0;34m]\u001b[0m\u001b[0;34m\u001b[0m\u001b[0;34m\u001b[0m\u001b[0m\n\u001b[1;32m      4\u001b[0m \u001b[0mdf2013\u001b[0m \u001b[0;34m=\u001b[0m \u001b[0mdf2013\u001b[0m\u001b[0;34m[\u001b[0m\u001b[0;34m[\u001b[0m\u001b[0;34m'ent_resid'\u001b[0m\u001b[0;34m,\u001b[0m \u001b[0;34m'ent_resid_nm'\u001b[0m\u001b[0;34m,\u001b[0m \u001b[0;34m'ICD'\u001b[0m\u001b[0;34m,\u001b[0m \u001b[0;34m'detailCaus'\u001b[0m\u001b[0;34m,\u001b[0m \u001b[0;34m'ocupacion'\u001b[0m\u001b[0;34m,\u001b[0m \u001b[0;34m'desc_ocupacion'\u001b[0m\u001b[0;34m,\u001b[0m \u001b[0;34m'escolarida'\u001b[0m\u001b[0;34m,\u001b[0m \u001b[0;34m'desc_escolaridad'\u001b[0m\u001b[0;34m]\u001b[0m\u001b[0;34m]\u001b[0m\u001b[0;34m\u001b[0m\u001b[0;34m\u001b[0m\u001b[0m\n\u001b[1;32m      5\u001b[0m \u001b[0mdf2014\u001b[0m \u001b[0;34m=\u001b[0m \u001b[0mdf2014\u001b[0m\u001b[0;34m[\u001b[0m\u001b[0;34m[\u001b[0m\u001b[0;34m'ent_resid'\u001b[0m\u001b[0;34m,\u001b[0m \u001b[0;34m'ent_resid_nm'\u001b[0m\u001b[0;34m,\u001b[0m \u001b[0;34m'ICD'\u001b[0m\u001b[0;34m,\u001b[0m \u001b[0;34m'detailCaus'\u001b[0m\u001b[0;34m,\u001b[0m \u001b[0;34m'ocupacion'\u001b[0m\u001b[0;34m,\u001b[0m \u001b[0;34m'desc_ocupacion'\u001b[0m\u001b[0;34m,\u001b[0m \u001b[0;34m'escolarida'\u001b[0m\u001b[0;34m,\u001b[0m \u001b[0;34m'desc_escolaridad'\u001b[0m\u001b[0;34m]\u001b[0m\u001b[0;34m]\u001b[0m\u001b[0;34m\u001b[0m\u001b[0;34m\u001b[0m\u001b[0m\n",
            "\u001b[0;31mNameError\u001b[0m: name 'df2010' is not defined"
          ]
        }
      ]
    },
    {
      "cell_type": "markdown",
      "source": [
        "# LIMPIEZA"
      ],
      "metadata": {
        "id": "4QbO23WDgQbo"
      }
    },
    {
      "cell_type": "markdown",
      "source": [
        "## Limpieza por Estado ---------------------------------------------------------------------------------------------------"
      ],
      "metadata": {
        "id": "clpIHElC66QN"
      }
    },
    {
      "cell_type": "markdown",
      "source": [
        "### Detectar los valores de EUA"
      ],
      "metadata": {
        "id": "mlG5G8j0abh8"
      }
    },
    {
      "cell_type": "code",
      "source": [
        "condicion2010 = (df2010['ent_resid_nm'] == 'Estados unidos de America')\n",
        "condicion2011 = (df2011['ent_resid_nm'] == 'Estados unidos de America')\n",
        "condicion2012 = (df2012['ent_resid_nm'] == 'Estados unidos de America')\n",
        "condicion2013 = (df2013['ent_resid_nm'] == 'Estados unidos de America')\n",
        "condicion2014 = (df2014['ent_resid_nm'] == 'Estados unidos de America')\n",
        "condicion2015 = (df2015['ent_resid_nm'] == 'Estados unidos de America')\n",
        "condicion2016 = (df2016['ent_resid_nm'] == 'Estados unidos de America')\n",
        "condicion2017 = (df2017['ent_resid_nm'] == 'Estados unidos de America')\n",
        "condicion2018 = (df2018['ent_resid_nm'] == 'Estados unidos de America')\n",
        "condicion2019 = (df2019['ent_resid_nm'] == 'Estados unidos de America')"
      ],
      "metadata": {
        "id": "QoAmYsI-agIw"
      },
      "execution_count": null,
      "outputs": []
    },
    {
      "cell_type": "markdown",
      "source": [
        "### Contar la cantidad de registros por cada fragmento con el valor de EUA"
      ],
      "metadata": {
        "id": "H-GRW9O8a4Dh"
      }
    },
    {
      "cell_type": "code",
      "source": [
        "print('Cantidad de basura en el dataframe 2010: ', df2010.loc[condicion2010].shape[0])\n",
        "print('Cantidad de basura en el dataframe 2011: ', df2011.loc[condicion2011].shape[0])\n",
        "print('Cantidad de basura en el dataframe 2012: ', df2012.loc[condicion2012].shape[0])\n",
        "print('Cantidad de basura en el dataframe 2013: ', df2013.loc[condicion2013].shape[0])\n",
        "print('Cantidad de basura en el dataframe 2014: ', df2014.loc[condicion2014].shape[0])\n",
        "print('Cantidad de basura en el dataframe 2015: ', df2015.loc[condicion2015].shape[0])\n",
        "print('Cantidad de basura en el dataframe 2016: ', df2016.loc[condicion2016].shape[0])\n",
        "print('Cantidad de basura en el dataframe 2017: ', df2017.loc[condicion2017].shape[0])\n",
        "print('Cantidad de basura en el dataframe 2018: ', df2018.loc[condicion2018].shape[0])\n",
        "print('Cantidad de basura en el dataframe 2019: ', df2019.loc[condicion2019].shape[0])"
      ],
      "metadata": {
        "colab": {
          "base_uri": "https://localhost:8080/"
        },
        "id": "uMOJ2vOSa-WM",
        "outputId": "eff03093-ae43-487c-d81e-5040c6f6db80"
      },
      "execution_count": null,
      "outputs": [
        {
          "output_type": "stream",
          "name": "stdout",
          "text": [
            "Cantidad de basura en el dataframe 2010:  99\n",
            "Cantidad de basura en el dataframe 2011:  96\n",
            "Cantidad de basura en el dataframe 2012:  77\n",
            "Cantidad de basura en el dataframe 2013:  94\n",
            "Cantidad de basura en el dataframe 2014:  86\n",
            "Cantidad de basura en el dataframe 2015:  77\n",
            "Cantidad de basura en el dataframe 2016:  117\n",
            "Cantidad de basura en el dataframe 2017:  121\n",
            "Cantidad de basura en el dataframe 2018:  88\n",
            "Cantidad de basura en el dataframe 2019:  87\n"
          ]
        }
      ]
    },
    {
      "cell_type": "markdown",
      "source": [
        "### Eliminacion de registros\n",
        "\n"
      ],
      "metadata": {
        "id": "B6arG1bM7RXi"
      }
    },
    {
      "cell_type": "code",
      "source": [
        "# Como el proyecto tiene como objetivo analizar datos de personas en Mexico, se considera necesario eliminar los datos de personas\n",
        "# las cuales pertenezcan a EUA\n",
        "\n",
        "df2010 = df2010.drop(df2010[condicion2010].index)\n",
        "df2011 = df2011.drop(df2011[condicion2011].index)\n",
        "df2012 = df2012.drop(df2012[condicion2012].index)\n",
        "df2013 = df2013.drop(df2013[condicion2013].index)\n",
        "df2014 = df2014.drop(df2014[condicion2014].index)\n",
        "df2015 = df2015.drop(df2015[condicion2015].index)\n",
        "df2016 = df2016.drop(df2016[condicion2016].index)\n",
        "df2017 = df2017.drop(df2017[condicion2017].index)\n",
        "df2018 = df2018.drop(df2018[condicion2018].index)\n",
        "df2019 = df2019.drop(df2019[condicion2019].index)"
      ],
      "metadata": {
        "id": "MqOYnVsc7IoI"
      },
      "execution_count": null,
      "outputs": []
    },
    {
      "cell_type": "markdown",
      "source": [
        "### Comprobar de la inexistencia del valor de EUA"
      ],
      "metadata": {
        "id": "Oes3Zx4_RMFT"
      }
    },
    {
      "cell_type": "code",
      "source": [
        "def ordenarLista(lista):\n",
        "  listaSinNan = [valor for valor in lista if type(valor) != float]\n",
        "  listaOrdenada = sorted(listaSinNan)\n",
        "  listaOrdenada.append('NaN')\n",
        "\n",
        "  return listaOrdenada\n",
        "\n",
        "lista2010 = list(df2010['ent_resid_nm'].unique())\n",
        "lista2011 = list(df2011['ent_resid_nm'].unique())\n",
        "lista2012 = list(df2012['ent_resid_nm'].unique())\n",
        "lista2013 = list(df2013['ent_resid_nm'].unique())\n",
        "lista2014 = list(df2014['ent_resid_nm'].unique())\n",
        "lista2015 = list(df2015['ent_resid_nm'].unique())\n",
        "lista2016 = list(df2016['ent_resid_nm'].unique())\n",
        "lista2017 = list(df2017['ent_resid_nm'].unique())\n",
        "lista2018 = list(df2018['ent_resid_nm'].unique())\n",
        "lista2019 = list(df2019['ent_resid_nm'].unique())\n",
        "\n",
        "print(\"DataFrame 2010\".center(100, '-'))\n",
        "print(ordenarLista(lista2010))\n",
        "print(\"DataFrame 2011\".center(100, '-'))\n",
        "print(ordenarLista(lista2011))\n",
        "print(\"DataFrame 2012\".center(100, '-'))\n",
        "print(ordenarLista(lista2012))\n",
        "print(\"DataFrame 2013\".center(100, '-'))\n",
        "print(ordenarLista(lista2013))\n",
        "print(\"DataFrame 2014\".center(100, '-'))\n",
        "print(ordenarLista(lista2014))\n",
        "print(\"DataFrame 2015\".center(100, '-'))\n",
        "print(ordenarLista(lista2015))\n",
        "print(\"DataFrame 2016\".center(100, '-'))\n",
        "print(ordenarLista(lista2016))\n",
        "print(\"DataFrame 2017\".center(100, '-'))\n",
        "print(ordenarLista(lista2017))\n",
        "print(\"DataFrame 2018\".center(100, '-'))\n",
        "print(ordenarLista(lista2018))\n",
        "print(\"DataFrame 2019\".center(100, '-'))\n",
        "print(ordenarLista(lista2019))"
      ],
      "metadata": {
        "colab": {
          "base_uri": "https://localhost:8080/"
        },
        "id": "F-hQzeGo976F",
        "outputId": "ade07281-5bcc-438c-9909-8051ff879739"
      },
      "execution_count": null,
      "outputs": [
        {
          "output_type": "stream",
          "name": "stdout",
          "text": [
            "-------------------------------------------DataFrame 2010-------------------------------------------\n",
            "['Aguascalientes', 'Baja California', 'Baja California Sur', 'Campeche', 'Chiapas', 'Chihuahua', 'Coahuila de Zaragoza', 'Colima', 'Distrito Federal', 'Durango', 'Guanajuato', 'Guerrero', 'Hidalgo', 'Jalisco', 'Michoacán de Ocampo', 'Morelos', 'México', 'Nayarit', 'Nuevo León', 'Oaxaca', 'Puebla', 'Querétaro', 'Quintana Roo', 'San Luis Potosí', 'Sinaloa', 'Sonora', 'Tabasco', 'Tamaulipas', 'Tlaxcala', 'Veracruz de Ignacio de la Llave', 'Yucatán', 'Zacatecas', 'NaN']\n",
            "-------------------------------------------DataFrame 2011-------------------------------------------\n",
            "['Aguascalientes', 'Baja California', 'Baja California Sur', 'Campeche', 'Chiapas', 'Chihuahua', 'Coahuila de Zaragoza', 'Colima', 'Distrito Federal', 'Durango', 'Guanajuato', 'Guerrero', 'Hidalgo', 'Jalisco', 'Michoacán de Ocampo', 'Morelos', 'México', 'Nayarit', 'Nuevo León', 'Oaxaca', 'Puebla', 'Querétaro', 'Quintana Roo', 'San Luis Potosí', 'Sinaloa', 'Sonora', 'Tabasco', 'Tamaulipas', 'Tlaxcala', 'Veracruz de Ignacio de la Llave', 'Yucatán', 'Zacatecas', 'NaN']\n",
            "-------------------------------------------DataFrame 2012-------------------------------------------\n",
            "['Aguascalientes', 'Baja California', 'Baja California Sur', 'Campeche', 'Chiapas', 'Chihuahua', 'Coahuila de Zaragoza', 'Colima', 'Distrito Federal', 'Durango', 'Guanajuato', 'Guerrero', 'Hidalgo', 'Jalisco', 'Michoacán de Ocampo', 'Morelos', 'México', 'Nayarit', 'Nuevo León', 'Oaxaca', 'Puebla', 'Querétaro', 'Quintana Roo', 'San Luis Potosí', 'Sinaloa', 'Sonora', 'Tabasco', 'Tamaulipas', 'Tlaxcala', 'Veracruz de Ignacio de la Llave', 'Yucatán', 'Zacatecas', 'NaN']\n",
            "-------------------------------------------DataFrame 2013-------------------------------------------\n",
            "['Aguascalientes', 'Baja California', 'Baja California Sur', 'Campeche', 'Chiapas', 'Chihuahua', 'Coahuila de Zaragoza', 'Colima', 'Distrito Federal', 'Durango', 'Guanajuato', 'Guerrero', 'Hidalgo', 'Jalisco', 'Michoacán de Ocampo', 'Morelos', 'México', 'Nayarit', 'Nuevo León', 'Oaxaca', 'Puebla', 'Querétaro', 'Quintana Roo', 'San Luis Potosí', 'Sinaloa', 'Sonora', 'Tabasco', 'Tamaulipas', 'Tlaxcala', 'Veracruz de Ignacio de la Llave', 'Yucatán', 'Zacatecas', 'NaN']\n",
            "-------------------------------------------DataFrame 2014-------------------------------------------\n",
            "['Aguascalientes', 'Baja California', 'Baja California Sur', 'Campeche', 'Chiapas', 'Chihuahua', 'Coahuila de Zaragoza', 'Colima', 'Distrito Federal', 'Durango', 'Guanajuato', 'Guerrero', 'Hidalgo', 'Jalisco', 'Michoacán de Ocampo', 'Morelos', 'México', 'Nayarit', 'Nuevo León', 'Oaxaca', 'Puebla', 'Querétaro', 'Quintana Roo', 'San Luis Potosí', 'Sinaloa', 'Sonora', 'Tabasco', 'Tamaulipas', 'Tlaxcala', 'Veracruz de Ignacio de la Llave', 'Yucatán', 'Zacatecas', 'NaN']\n",
            "-------------------------------------------DataFrame 2015-------------------------------------------\n",
            "['Aguascalientes', 'Baja California', 'Baja California Sur', 'Campeche', 'Chiapas', 'Chihuahua', 'Coahuila de Zaragoza', 'Colima', 'Distrito Federal', 'Durango', 'Guanajuato', 'Guerrero', 'Hidalgo', 'Jalisco', 'Michoacán de Ocampo', 'Morelos', 'México', 'Nayarit', 'Nuevo León', 'Oaxaca', 'Puebla', 'Querétaro', 'Quintana Roo', 'San Luis Potosí', 'Sinaloa', 'Sonora', 'Tabasco', 'Tamaulipas', 'Tlaxcala', 'Veracruz de Ignacio de la Llave', 'Yucatán', 'Zacatecas', 'NaN']\n",
            "-------------------------------------------DataFrame 2016-------------------------------------------\n",
            "['Aguascalientes', 'Baja California', 'Baja California Sur', 'Campeche', 'Chiapas', 'Chihuahua', 'Coahuila de Zaragoza', 'Colima', 'Distrito Federal', 'Durango', 'Guanajuato', 'Guerrero', 'Hidalgo', 'Jalisco', 'Michoacán de Ocampo', 'Morelos', 'México', 'Nayarit', 'Nuevo León', 'Oaxaca', 'Puebla', 'Querétaro', 'Quintana Roo', 'San Luis Potosí', 'Sinaloa', 'Sonora', 'Tabasco', 'Tamaulipas', 'Tlaxcala', 'Veracruz de Ignacio de la Llave', 'Yucatán', 'Zacatecas', 'NaN']\n",
            "-------------------------------------------DataFrame 2017-------------------------------------------\n",
            "['Aguascalientes', 'Baja California', 'Baja California Sur', 'Campeche', 'Chiapas', 'Chihuahua', 'Coahuila de Zaragoza', 'Colima', 'Distrito Federal', 'Durango', 'Guanajuato', 'Guerrero', 'Hidalgo', 'Jalisco', 'Michoacán de Ocampo', 'Morelos', 'México', 'Nayarit', 'Nuevo León', 'Oaxaca', 'Puebla', 'Querétaro', 'Quintana Roo', 'San Luis Potosí', 'Sinaloa', 'Sonora', 'Tabasco', 'Tamaulipas', 'Tlaxcala', 'Veracruz de Ignacio de la Llave', 'Yucatán', 'Zacatecas', 'NaN']\n",
            "-------------------------------------------DataFrame 2018-------------------------------------------\n",
            "['Aguascalientes', 'Baja California', 'Baja California Sur', 'Campeche', 'Chiapas', 'Chihuahua', 'Coahuila de Zaragoza', 'Colima', 'Distrito Federal', 'Durango', 'Guanajuato', 'Guerrero', 'Hidalgo', 'Jalisco', 'Michoacán de Ocampo', 'Morelos', 'México', 'Nayarit', 'Nuevo León', 'Oaxaca', 'Puebla', 'Querétaro', 'Quintana Roo', 'San Luis Potosí', 'Sinaloa', 'Sonora', 'Tabasco', 'Tamaulipas', 'Tlaxcala', 'Veracruz de Ignacio de la Llave', 'Yucatán', 'Zacatecas', 'NaN']\n",
            "-------------------------------------------DataFrame 2019-------------------------------------------\n",
            "['Aguascalientes', 'Baja California', 'Baja California Sur', 'Campeche', 'Chiapas', 'Chihuahua', 'Coahuila de Zaragoza', 'Colima', 'Distrito Federal', 'Durango', 'Guanajuato', 'Guerrero', 'Hidalgo', 'Jalisco', 'Michoacán de Ocampo', 'Morelos', 'México', 'Nayarit', 'Nuevo León', 'Oaxaca', 'Puebla', 'Querétaro', 'Quintana Roo', 'San Luis Potosí', 'Sinaloa', 'Sonora', 'Tabasco', 'Tamaulipas', 'Tlaxcala', 'Veracruz de Ignacio de la Llave', 'Yucatán', 'Zacatecas', 'NaN']\n"
          ]
        }
      ]
    },
    {
      "cell_type": "markdown",
      "source": [
        "### Tratamiento de valores nulos"
      ],
      "metadata": {
        "id": "gAsAe00J7UlS"
      }
    },
    {
      "cell_type": "code",
      "source": [
        "# En teoria este deberia hacerse para la categoria del cancer, empelo y educacion, pero esas 3 columnas no presentaron valores nulos\n",
        "spImputer = SimpleImputer(strategy='most_frequent')\n",
        "\n",
        "spImputer.fit(df2010[['ent_resid_nm']])\n",
        "df2010[['ent_resid_nm']] = spImputer.transform(df2010[['ent_resid_nm']])\n",
        "spImputer.fit(df2011[['ent_resid_nm']])\n",
        "df2011[['ent_resid_nm']] = spImputer.transform(df2011[['ent_resid_nm']])\n",
        "spImputer.fit(df2012[['ent_resid_nm']])\n",
        "df2012[['ent_resid_nm']] = spImputer.transform(df2012[['ent_resid_nm']])\n",
        "spImputer.fit(df2013[['ent_resid_nm']])\n",
        "df2013[['ent_resid_nm']] = spImputer.transform(df2013[['ent_resid_nm']])\n",
        "spImputer.fit(df2014[['ent_resid_nm']])\n",
        "df2014[['ent_resid_nm']] = spImputer.transform(df2014[['ent_resid_nm']])\n",
        "spImputer.fit(df2015[['ent_resid_nm']])\n",
        "df2015[['ent_resid_nm']] = spImputer.transform(df2015[['ent_resid_nm']])\n",
        "spImputer.fit(df2016[['ent_resid_nm']])\n",
        "df2016[['ent_resid_nm']] = spImputer.transform(df2016[['ent_resid_nm']])\n",
        "spImputer.fit(df2017[['ent_resid_nm']])\n",
        "df2017[['ent_resid_nm']] = spImputer.transform(df2017[['ent_resid_nm']])\n",
        "spImputer.fit(df2018[['ent_resid_nm']])\n",
        "df2018[['ent_resid_nm']] = spImputer.transform(df2018[['ent_resid_nm']])\n",
        "spImputer.fit(df2019[['ent_resid_nm']])\n",
        "df2019[['ent_resid_nm']] = spImputer.transform(df2019[['ent_resid_nm']])\n"
      ],
      "metadata": {
        "id": "I-BhHHF6UDiS"
      },
      "execution_count": null,
      "outputs": []
    },
    {
      "cell_type": "markdown",
      "source": [
        "### Comprobacion de la inexistencia de valores nulos"
      ],
      "metadata": {
        "id": "0sTvT4Z4T_zS"
      }
    },
    {
      "cell_type": "code",
      "source": [
        "print(\"DataFrame 2010\".center(100, '-'))\n",
        "print(list(df2010['ent_resid_nm'].unique()))\n",
        "print(\"DataFrame 2011\".center(100, '-'))\n",
        "print(list(df2011['ent_resid_nm'].unique()))\n",
        "print(\"DataFrame 2012\".center(100, '-'))\n",
        "print(list(df2012['ent_resid_nm'].unique()))\n",
        "print(\"DataFrame 2013\".center(100, '-'))\n",
        "print(list(df2013['ent_resid_nm'].unique()))\n",
        "print(\"DataFrame 2014\".center(100, '-'))\n",
        "print(list(df2014['ent_resid_nm'].unique()))\n",
        "print(\"DataFrame 2015\".center(100, '-'))\n",
        "print(list(df2015['ent_resid_nm'].unique()))\n",
        "print(\"DataFrame 2016\".center(100, '-'))\n",
        "print(list(df2016['ent_resid_nm'].unique()))\n",
        "print(\"DataFrame 2017\".center(100, '-'))\n",
        "print(list(df2017['ent_resid_nm'].unique()))\n",
        "print(\"DataFrame 2018\".center(100, '-'))\n",
        "print(list(df2018['ent_resid_nm'].unique()))\n",
        "print(\"DataFrame 2019\".center(100, '-'))\n",
        "print(list(df2019['ent_resid_nm'].unique()))\n"
      ],
      "metadata": {
        "colab": {
          "base_uri": "https://localhost:8080/"
        },
        "id": "9y5-hciZael0",
        "outputId": "eacb810d-e735-47de-e2d3-0638d0b1cdf2"
      },
      "execution_count": null,
      "outputs": [
        {
          "output_type": "stream",
          "name": "stdout",
          "text": [
            "-------------------------------------------DataFrame 2010-------------------------------------------\n",
            "['Aguascalientes', 'Jalisco', 'Querétaro', 'Michoacán de Ocampo', 'Zacatecas', 'Distrito Federal', 'México', 'Oaxaca', 'Guanajuato', 'Baja California', 'Sonora', 'Baja California Sur', 'Sinaloa', 'Morelos', 'Colima', 'Campeche', 'Yucatán', 'Chiapas', 'Veracruz de Ignacio de la Llave', 'Coahuila de Zaragoza', 'Tabasco', 'Quintana Roo', 'Chihuahua', 'Durango', 'Nuevo León', 'Puebla', 'San Luis Potosí', 'Guerrero', 'Tlaxcala', 'Hidalgo', 'Tamaulipas', 'Nayarit']\n",
            "-------------------------------------------DataFrame 2011-------------------------------------------\n",
            "['Aguascalientes', 'Jalisco', 'Zacatecas', 'Veracruz de Ignacio de la Llave', 'México', 'San Luis Potosí', 'Baja California', 'Michoacán de Ocampo', 'Sonora', 'Durango', 'Guerrero', 'Sinaloa', 'Baja California Sur', 'Distrito Federal', 'Querétaro', 'Campeche', 'Nuevo León', 'Coahuila de Zaragoza', 'Chihuahua', 'Tabasco', 'Tamaulipas', 'Colima', 'Chiapas', 'Oaxaca', 'Hidalgo', 'Puebla', 'Tlaxcala', 'Morelos', 'Guanajuato', 'Nayarit', 'Quintana Roo', 'Yucatán']\n",
            "-------------------------------------------DataFrame 2012-------------------------------------------\n",
            "['Aguascalientes', 'Zacatecas', 'Jalisco', 'Baja California', 'Nayarit', 'Sonora', 'Sinaloa', 'Baja California Sur', 'Tamaulipas', 'Campeche', 'Coahuila de Zaragoza', 'Quintana Roo', 'Tabasco', 'Durango', 'Nuevo León', 'Colima', 'Michoacán de Ocampo', 'Chiapas', 'Oaxaca', 'Veracruz de Ignacio de la Llave', 'Chihuahua', 'México', 'Distrito Federal', 'Morelos', 'Guerrero', 'Puebla', 'Hidalgo', 'Querétaro', 'Guanajuato', 'Tlaxcala', 'San Luis Potosí', 'Yucatán']\n",
            "-------------------------------------------DataFrame 2013-------------------------------------------\n",
            "['Aguascalientes', 'Jalisco', 'Baja California', 'Baja California Sur', 'Campeche', 'Quintana Roo', 'Coahuila de Zaragoza', 'Durango', 'Colima', 'Chiapas', 'Chihuahua', 'Morelos', 'México', 'Oaxaca', 'Tlaxcala', 'Distrito Federal', 'Hidalgo', 'Guerrero', 'Veracruz de Ignacio de la Llave', 'Puebla', 'Querétaro', 'Zacatecas', 'Guanajuato', 'Nayarit', 'Michoacán de Ocampo', 'Sinaloa', 'Nuevo León', 'Tamaulipas', 'Yucatán', 'San Luis Potosí', 'Sonora', 'Tabasco']\n",
            "-------------------------------------------DataFrame 2014-------------------------------------------\n",
            "['Aguascalientes', 'Baja California', 'Michoacán de Ocampo', 'Campeche', 'Quintana Roo', 'Coahuila de Zaragoza', 'Zacatecas', 'Colima', 'Chiapas', 'Chihuahua', 'México', 'Guerrero', 'Distrito Federal', 'Puebla', 'Veracruz de Ignacio de la Llave', 'Hidalgo', 'Guanajuato', 'Durango', 'Jalisco', 'Sinaloa', 'Nayarit', 'Tamaulipas', 'Nuevo León', 'Oaxaca', 'Querétaro', 'San Luis Potosí', 'Sonora', 'Tabasco', 'Tlaxcala', 'Yucatán', 'Morelos', 'Baja California Sur']\n",
            "-------------------------------------------DataFrame 2015-------------------------------------------\n",
            "['Aguascalientes', 'Jalisco', 'Coahuila de Zaragoza', 'Zacatecas', 'Baja California', 'Sonora', 'Querétaro', 'Baja California Sur', 'Campeche', 'Quintana Roo', 'Oaxaca', 'Durango', 'Chihuahua', 'Nuevo León', 'Colima', 'Chiapas', 'San Luis Potosí', 'Distrito Federal', 'Hidalgo', 'México', 'Sinaloa', 'Michoacán de Ocampo', 'Tamaulipas', 'Guanajuato', 'Veracruz de Ignacio de la Llave', 'Puebla', 'Guerrero', 'Morelos', 'Tabasco', 'Nayarit', 'Tlaxcala', 'Yucatán']\n",
            "-------------------------------------------DataFrame 2016-------------------------------------------\n",
            "['Aguascalientes', 'Sonora', 'Baja California', 'Coahuila de Zaragoza', 'México', 'Baja California Sur', 'Campeche', 'Durango', 'Nuevo León', 'Tamaulipas', 'Chihuahua', 'Colima', 'Jalisco', 'Michoacán de Ocampo', 'Chiapas', 'Querétaro', 'Distrito Federal', 'Guanajuato', 'Hidalgo', 'Veracruz de Ignacio de la Llave', 'Oaxaca', 'Tabasco', 'Quintana Roo', 'Guerrero', 'Puebla', 'Morelos', 'Tlaxcala', 'San Luis Potosí', 'Nayarit', 'Zacatecas', 'Sinaloa', 'Yucatán']\n",
            "-------------------------------------------DataFrame 2017-------------------------------------------\n",
            "['Aguascalientes', 'Baja California', 'México', 'Campeche', 'Durango', 'Coahuila de Zaragoza', 'Colima', 'Chiapas', 'Chihuahua', 'Tabasco', 'Distrito Federal', 'Querétaro', 'Sinaloa', 'Morelos', 'Guerrero', 'Nuevo León', 'Tamaulipas', 'Michoacán de Ocampo', 'Guanajuato', 'Hidalgo', 'Jalisco', 'Nayarit', 'Sonora', 'Oaxaca', 'Puebla', 'Veracruz de Ignacio de la Llave', 'Quintana Roo', 'San Luis Potosí', 'Tlaxcala', 'Yucatán', 'Zacatecas', 'Baja California Sur']\n",
            "-------------------------------------------DataFrame 2018-------------------------------------------\n",
            "['Aguascalientes', 'Baja California', 'Baja California Sur', 'Campeche', 'Coahuila de Zaragoza', 'Colima', 'Chiapas', 'Chihuahua', 'Durango', 'Distrito Federal', 'México', 'Guanajuato', 'Guerrero', 'Hidalgo', 'Jalisco', 'Sinaloa', 'Michoacán de Ocampo', 'Morelos', 'Nayarit', 'Nuevo León', 'Oaxaca', 'Puebla', 'Querétaro', 'Quintana Roo', 'San Luis Potosí', 'Sonora', 'Tabasco', 'Veracruz de Ignacio de la Llave', 'Tamaulipas', 'Tlaxcala', 'Yucatán', 'Zacatecas']\n",
            "-------------------------------------------DataFrame 2019-------------------------------------------\n",
            "['Aguascalientes', 'Guanajuato', 'Zacatecas', 'Baja California', 'Sonora', 'Chiapas', 'Chihuahua', 'Nayarit', 'Guerrero', 'Baja California Sur', 'Campeche', 'Quintana Roo', 'Yucatán', 'Veracruz de Ignacio de la Llave', 'Coahuila de Zaragoza', 'Durango', 'Nuevo León', 'México', 'Colima', 'Michoacán de Ocampo', 'Jalisco', 'Sinaloa', 'Distrito Federal', 'Hidalgo', 'Oaxaca', 'Tlaxcala', 'Querétaro', 'Morelos', 'Tabasco', 'Puebla', 'San Luis Potosí', 'Tamaulipas']\n"
          ]
        }
      ]
    },
    {
      "cell_type": "markdown",
      "source": [
        "## Limpieza por Empleo ---------------------------------------------------------------------------------------------------"
      ],
      "metadata": {
        "id": "fGeh1LIX7Cgu"
      }
    },
    {
      "cell_type": "markdown",
      "source": [
        "### Detectar Basura"
      ],
      "metadata": {
        "id": "o_112IPdjbxK"
      }
    },
    {
      "cell_type": "code",
      "source": [
        "\n",
        "dfRuido2010 = df2010[df2010['desc_ocupacion'].isnull()]\n",
        "dfRuido2011 = df2011[df2011['desc_ocupacion'].isnull()]\n",
        "dfRuido2012 = df2012[df2012['desc_ocupacion'].isnull()]\n",
        "dfRuido2013 = df2013[df2013['desc_ocupacion'].isnull()]\n",
        "dfRuido2014 = df2014[df2014['desc_ocupacion'].isnull()]\n",
        "dfRuido2015 = df2015[df2015['desc_ocupacion'].isnull()]\n",
        "dfRuido2016 = df2016[df2016['desc_ocupacion'].isnull()]\n",
        "dfRuido2017 = df2017[df2017['desc_ocupacion'].isnull()]\n",
        "dfRuido2018 = df2018[df2018['desc_ocupacion'].isnull()]\n",
        "dfRuido2019 = df2019[df2019['desc_ocupacion'].isnull()]\n",
        "\n",
        "print(dfRuido2010['ocupacion'].unique())\n",
        "print(dfRuido2011['ocupacion'].unique())\n",
        "print(dfRuido2012['ocupacion'].unique())\n",
        "print(dfRuido2013['ocupacion'].unique())\n",
        "print(dfRuido2014['ocupacion'].unique())\n",
        "print(dfRuido2015['ocupacion'].unique())\n",
        "print(dfRuido2016['ocupacion'].unique())\n",
        "print(dfRuido2017['ocupacion'].unique())\n",
        "print(dfRuido2018['ocupacion'].unique())\n",
        "print(dfRuido2019['ocupacion'].unique())\n",
        "# Entonces solo hubo ruido en los años 2010 a 2012"
      ],
      "metadata": {
        "colab": {
          "base_uri": "https://localhost:8080/"
        },
        "id": "VElvCwNJcskx",
        "outputId": "91221d41-4d00-4f13-a1a0-929d298dbe87"
      },
      "execution_count": null,
      "outputs": [
        {
          "output_type": "stream",
          "name": "stdout",
          "text": [
            "[9 6 4 7]\n",
            "[4 6 9 7 8 1]\n",
            "[ 8  1  6  4  9  7  5  3 10]\n",
            "[]\n",
            "[]\n",
            "[]\n",
            "[]\n",
            "[]\n",
            "[]\n",
            "[]\n"
          ]
        }
      ]
    },
    {
      "cell_type": "markdown",
      "source": [
        "### Contar la cantidad de basura"
      ],
      "metadata": {
        "id": "eKlhXmqJRPY-"
      }
    },
    {
      "cell_type": "code",
      "source": [
        "listaRuido2010 = list(dfRuido2010['ocupacion'].unique())\n",
        "listaRuido2011 = list(dfRuido2011['ocupacion'].unique())\n",
        "listaRuido2012 = list(dfRuido2012['ocupacion'].unique())\n",
        "\n",
        "condicion2010 = df2010['ocupacion'].isin(listaRuido2010)\n",
        "condicion2011 = df2011['ocupacion'].isin(listaRuido2011)\n",
        "condicion2012 = df2012['ocupacion'].isin(listaRuido2012)\n",
        "\n",
        "newDf2010 = df2010.loc[condicion2010]\n",
        "newDf2011 = df2011.loc[condicion2011]\n",
        "newDf2012 = df2012.loc[condicion2012]\n",
        "\n",
        "print('Cantidad de basura en el dataframe 2010: ', newDf2010.shape[0])\n",
        "print('Cantidad de basura en el dataframe 2011: ', newDf2011.shape[0])\n",
        "print('Cantidad de basura en el dataframe 2012: ', newDf2012.shape[0])"
      ],
      "metadata": {
        "colab": {
          "base_uri": "https://localhost:8080/"
        },
        "id": "sJxaPb_uRR1C",
        "outputId": "aebbebbb-695b-4411-9305-9267d45b5a4d"
      },
      "execution_count": null,
      "outputs": [
        {
          "output_type": "stream",
          "name": "stdout",
          "text": [
            "Cantidad de basura en el dataframe 2010:  14\n",
            "Cantidad de basura en el dataframe 2011:  31\n",
            "Cantidad de basura en el dataframe 2012:  480\n"
          ]
        }
      ]
    },
    {
      "cell_type": "code",
      "source": [
        "\"\"\"\n",
        "newDf2012['date_ocurr'] = pd.to_datetime(newDf2012['date_ocurr'])\n",
        "\n",
        "conteo_por_mes = newDf2012.groupby(newDf2012['date_ocurr'].dt.strftime('%Y-%m')).size().reset_index(name='conteo')\n",
        "\n",
        "# Renombrar la columna del mes\n",
        "conteo_por_mes.rename(columns={'date_ocurr': 'mes'}, inplace=True)\n",
        "\n",
        "print(conteo_por_mes)\n",
        "\"\"\""
      ],
      "metadata": {
        "colab": {
          "base_uri": "https://localhost:8080/"
        },
        "id": "X7fojYetS4rp",
        "outputId": "7fabdb5e-8a25-45e9-a2ff-cd2712b47af2"
      },
      "execution_count": null,
      "outputs": [
        {
          "output_type": "stream",
          "name": "stdout",
          "text": [
            "        mes  conteo\n",
            "0   2012-01       4\n",
            "1   2012-02       4\n",
            "2   2012-03       5\n",
            "3   2012-04       3\n",
            "4   2012-05       8\n",
            "5   2012-06       5\n",
            "6   2012-07      10\n",
            "7   2012-08      20\n",
            "8   2012-09      12\n",
            "9   2012-10      34\n",
            "10  2012-11      43\n",
            "11  2012-12     332\n"
          ]
        },
        {
          "output_type": "stream",
          "name": "stderr",
          "text": [
            "<ipython-input-16-7c1d7abdc67d>:1: SettingWithCopyWarning: \n",
            "A value is trying to be set on a copy of a slice from a DataFrame.\n",
            "Try using .loc[row_indexer,col_indexer] = value instead\n",
            "\n",
            "See the caveats in the documentation: https://pandas.pydata.org/pandas-docs/stable/user_guide/indexing.html#returning-a-view-versus-a-copy\n",
            "  newDf2012['date_ocurr'] = pd.to_datetime(newDf2012['date_ocurr'])\n"
          ]
        }
      ]
    },
    {
      "cell_type": "markdown",
      "source": [
        "### Reemplazar Basura por la moda"
      ],
      "metadata": {
        "id": "5eT_OsMcsEMN"
      }
    },
    {
      "cell_type": "code",
      "source": [
        "# Determinar cual fue el valor mas comun en los años 2010 a 2012 en la columna ocupacion\n",
        "moda2010 = df2010['ocupacion'].mode()[0]\n",
        "moda2011 = df2011['ocupacion'].mode()[0]\n",
        "moda2012 = df2012['ocupacion'].mode()[0]\n",
        "\n",
        "print(\"DataFrame 2010. La moda en la columna 'ocupacion' es:\", moda2010)\n",
        "print(\"DataFrame 2011. La moda en la columna 'ocupacion' es:\", moda2011)\n",
        "print(\"DataFrame 2012. La moda en la columna 'ocupacion' es:\", moda2012)\n",
        "# Para los 3 años fue el valor: 2\n",
        "\n",
        "# Buscar los registros que tienen los datos basura y reemplazarlos por el valor de la moda de cada\n",
        "# fragmento\n",
        "condicion2010 = df2010['ocupacion'].isin(listaRuido2010)\n",
        "condicion2011 = df2011['ocupacion'].isin(listaRuido2011)\n",
        "condicion2012 = df2012['ocupacion'].isin(listaRuido2012)\n",
        "\n",
        "df2010.loc[condicion2010, 'ocupacion'] = 2\n",
        "df2011.loc[condicion2011, 'ocupacion'] = 2\n",
        "df2012.loc[condicion2012, 'ocupacion'] = 2"
      ],
      "metadata": {
        "colab": {
          "base_uri": "https://localhost:8080/"
        },
        "id": "OnKVdlOUsDxk",
        "outputId": "f517e81b-6e43-40d3-b8fb-b8610ae29978"
      },
      "execution_count": null,
      "outputs": [
        {
          "output_type": "stream",
          "name": "stdout",
          "text": [
            "DataFrame 2010. La moda en la columna 'ocupacion' es: 2\n",
            "DataFrame 2011. La moda en la columna 'ocupacion' es: 2\n",
            "DataFrame 2012. La moda en la columna 'ocupacion' es: 2\n"
          ]
        }
      ]
    },
    {
      "cell_type": "markdown",
      "source": [
        "### Comprobacion de que se elmino la basura"
      ],
      "metadata": {
        "id": "UVR5TC-zOpJi"
      }
    },
    {
      "cell_type": "code",
      "source": [
        "\n",
        "dfRuido2010 = df2010[df2010['desc_ocupacion'].isnull()]\n",
        "dfRuido2011 = df2011[df2011['desc_ocupacion'].isnull()]\n",
        "dfRuido2012 = df2012[df2012['desc_ocupacion'].isnull()]\n",
        "\n",
        "print(\"DataFrame 2010\".center(100, '-'))\n",
        "print(dfRuido2010[['ocupacion', 'desc_ocupacion']])\n",
        "print(\"DataFrame 2011\".center(100, '-'))\n",
        "print(dfRuido2011[['ocupacion', 'desc_ocupacion']])\n",
        "print(\"DataFrame 2012\".center(100, '-'))\n",
        "print(dfRuido2012[['ocupacion', 'desc_ocupacion']])\n"
      ],
      "metadata": {
        "colab": {
          "base_uri": "https://localhost:8080/"
        },
        "id": "kal8gPGFw_Qu",
        "outputId": "e55c0800-ef1e-440f-b49a-dd9de29e1e5e"
      },
      "execution_count": null,
      "outputs": [
        {
          "output_type": "stream",
          "name": "stdout",
          "text": [
            "-------------------------------------------DataFrame 2010-------------------------------------------\n",
            "       ocupacion desc_ocupacion\n",
            "70167          2            NaN\n",
            "70169          2            NaN\n",
            "70173          2            NaN\n",
            "70176          2            NaN\n",
            "70187          2            NaN\n",
            "70189          2            NaN\n",
            "70190          2            NaN\n",
            "70194          2            NaN\n",
            "70206          2            NaN\n",
            "70209          2            NaN\n",
            "70213          2            NaN\n",
            "70229          2            NaN\n",
            "70230          2            NaN\n",
            "70240          2            NaN\n",
            "-------------------------------------------DataFrame 2011-------------------------------------------\n",
            "       ocupacion desc_ocupacion\n",
            "71113          2            NaN\n",
            "71126          2            NaN\n",
            "71127          2            NaN\n",
            "71129          2            NaN\n",
            "71130          2            NaN\n",
            "71131          2            NaN\n",
            "71136          2            NaN\n",
            "71139          2            NaN\n",
            "71141          2            NaN\n",
            "71146          2            NaN\n",
            "71147          2            NaN\n",
            "71159          2            NaN\n",
            "71165          2            NaN\n",
            "71166          2            NaN\n",
            "71169          2            NaN\n",
            "71170          2            NaN\n",
            "71171          2            NaN\n",
            "71172          2            NaN\n",
            "71175          2            NaN\n",
            "71177          2            NaN\n",
            "71180          2            NaN\n",
            "71190          2            NaN\n",
            "71194          2            NaN\n",
            "71198          2            NaN\n",
            "71199          2            NaN\n",
            "71202          2            NaN\n",
            "71208          2            NaN\n",
            "71209          2            NaN\n",
            "71216          2            NaN\n",
            "71220          2            NaN\n",
            "71224          2            NaN\n",
            "-------------------------------------------DataFrame 2012-------------------------------------------\n",
            "       ocupacion desc_ocupacion\n",
            "18606          2            NaN\n",
            "18608          2            NaN\n",
            "18609          2            NaN\n",
            "18610          2            NaN\n",
            "18611          2            NaN\n",
            "...          ...            ...\n",
            "72355          2            NaN\n",
            "72366          2            NaN\n",
            "72387          2            NaN\n",
            "72388          2            NaN\n",
            "73061          2            NaN\n",
            "\n",
            "[480 rows x 2 columns]\n"
          ]
        }
      ]
    },
    {
      "cell_type": "markdown",
      "source": [
        "### Mapear"
      ],
      "metadata": {
        "id": "jcxeOuFvjZKq"
      }
    },
    {
      "cell_type": "code",
      "source": [
        "# Eliminar la descripcion de ocupacion de los dataset\n",
        "df2010 = df2010.drop(['desc_ocupacion'], axis=1)\n",
        "df2011 = df2011.drop(['desc_ocupacion'], axis=1)\n",
        "df2012 = df2012.drop(['desc_ocupacion'], axis=1)\n",
        "\n",
        "# Hacer mapeo en fragmento 2010\n",
        "df2010.loc[condicion2010, 'ocupacion'] = 2\n",
        "df2010.loc[condicion2010, 'ocupacion'] = 2\n",
        "df2010.loc[condicion2010, 'ocupacion'] = 2\n",
        "df2010.loc[condicion2010, 'ocupacion'] = 2\n",
        "df2010.loc[condicion2010, 'ocupacion'] = 2\n",
        "df2010.loc[condicion2010, 'ocupacion'] = 2\n",
        "df2010.loc[condicion2010, 'ocupacion'] = 2\n",
        "df2010.loc[condicion2010, 'ocupacion'] = 2\n",
        "df2010.loc[condicion2010, 'ocupacion'] = 2\n",
        "\n",
        "\n",
        "\n",
        "# Realizar nuevamente la integracion de las bases de datos 2010, 2011 y 2012 con\n",
        "# los catalogos de empleo de los años 2013 a 2019\n",
        "df2010 = pd.merge(dfEmpleo, how='inner', left_on='ocupacion', right_on='CVE')\n",
        "df2011 = pd.merge(dfEmpleo, how='inner', left_on='ocupacion', right_on='CVE')\n",
        "df2012 = pd.merge(dfEmpleo, how='inner', left_on='ocupacion', right_on='CVE')\n"
      ],
      "metadata": {
        "id": "Fdz55qPjjigQ",
        "colab": {
          "base_uri": "https://localhost:8080/",
          "height": 1000
        },
        "outputId": "b78b4789-b4ed-489e-dcfd-fd4cf1025260"
      },
      "execution_count": null,
      "outputs": [
        {
          "output_type": "stream",
          "name": "stdout",
          "text": [
            "       ent_resid    ent_resid_nm  ICD  \\\n",
            "0              1  Aguascalientes  C25   \n",
            "1              1  Aguascalientes  C22   \n",
            "2              1  Aguascalientes  C34   \n",
            "3              1  Aguascalientes  C49   \n",
            "4              1  Aguascalientes  C20   \n",
            "...          ...             ...  ...   \n",
            "70237         10         Durango  C22   \n",
            "70238         18         Nayarit  C23   \n",
            "70239         25         Sinaloa  C50   \n",
            "70240         28      Tamaulipas  C34   \n",
            "70241         28      Tamaulipas  C22   \n",
            "\n",
            "                                              detailCaus  ocupacion  \\\n",
            "0                Tumor maligno de la cabeza del páncreas         41   \n",
            "1              Tumor maligno del hígado, no especificado          2   \n",
            "2      Tumor maligno de los bronquios o del pulmón, p...          2   \n",
            "3      Tumor maligno de parte especificada del peritoneo          2   \n",
            "4         Tumor maligno del colon, parte no especificada         55   \n",
            "...                                                  ...        ...   \n",
            "70237          Tumor maligno del hígado, no especificado         99   \n",
            "70238  Tumor maligno de las vías biliares extrahepáticas         99   \n",
            "70239    Tumor maligno de la mama, parte no especificada         98   \n",
            "70240  Tumor maligno de los bronquios o del pulmón, p...          2   \n",
            "70241          Tumor maligno del hígado, no especificado         11   \n",
            "\n",
            "       escolarida             desc_escolaridad  \n",
            "0               1              Sin escolaridad  \n",
            "1               1              Sin escolaridad  \n",
            "2               3            Primaria completa  \n",
            "3               1              Sin escolaridad  \n",
            "4               5          Secundaria completa  \n",
            "...           ...                          ...  \n",
            "70237          99                          NaN  \n",
            "70238          99                          NaN  \n",
            "70239          10                          NaN  \n",
            "70240           3            Primaria completa  \n",
            "70241           6  Bachillerato o preparatoria  \n",
            "\n",
            "[70143 rows x 7 columns]\n"
          ]
        },
        {
          "output_type": "error",
          "ename": "KeyError",
          "evalue": "ignored",
          "traceback": [
            "\u001b[0;31m---------------------------------------------------------------------------\u001b[0m",
            "\u001b[0;31mKeyError\u001b[0m                                  Traceback (most recent call last)",
            "\u001b[0;32m<ipython-input-19-7c053103fed8>\u001b[0m in \u001b[0;36m<cell line: 3>\u001b[0;34m()\u001b[0m\n\u001b[1;32m      1\u001b[0m \u001b[0mprint\u001b[0m\u001b[0;34m(\u001b[0m\u001b[0mdf2010\u001b[0m\u001b[0;34m)\u001b[0m\u001b[0;34m\u001b[0m\u001b[0;34m\u001b[0m\u001b[0m\n\u001b[1;32m      2\u001b[0m \u001b[0;34m\u001b[0m\u001b[0m\n\u001b[0;32m----> 3\u001b[0;31m \u001b[0mdf2010\u001b[0m \u001b[0;34m=\u001b[0m \u001b[0mdf2010\u001b[0m\u001b[0;34m.\u001b[0m\u001b[0mdrop\u001b[0m\u001b[0;34m(\u001b[0m\u001b[0;34m[\u001b[0m\u001b[0;34m'desc_ocupacion'\u001b[0m\u001b[0;34m]\u001b[0m\u001b[0;34m,\u001b[0m \u001b[0maxis\u001b[0m\u001b[0;34m=\u001b[0m\u001b[0;36m1\u001b[0m\u001b[0;34m)\u001b[0m\u001b[0;34m\u001b[0m\u001b[0;34m\u001b[0m\u001b[0m\n\u001b[0m\u001b[1;32m      4\u001b[0m \u001b[0;34m\u001b[0m\u001b[0m\n\u001b[1;32m      5\u001b[0m \u001b[0mprint\u001b[0m\u001b[0;34m(\u001b[0m\u001b[0mdf2010\u001b[0m\u001b[0;34m)\u001b[0m\u001b[0;34m\u001b[0m\u001b[0;34m\u001b[0m\u001b[0m\n",
            "\u001b[0;32m/usr/local/lib/python3.10/dist-packages/pandas/util/_decorators.py\u001b[0m in \u001b[0;36mwrapper\u001b[0;34m(*args, **kwargs)\u001b[0m\n\u001b[1;32m    329\u001b[0m                     \u001b[0mstacklevel\u001b[0m\u001b[0;34m=\u001b[0m\u001b[0mfind_stack_level\u001b[0m\u001b[0;34m(\u001b[0m\u001b[0;34m)\u001b[0m\u001b[0;34m,\u001b[0m\u001b[0;34m\u001b[0m\u001b[0;34m\u001b[0m\u001b[0m\n\u001b[1;32m    330\u001b[0m                 )\n\u001b[0;32m--> 331\u001b[0;31m             \u001b[0;32mreturn\u001b[0m \u001b[0mfunc\u001b[0m\u001b[0;34m(\u001b[0m\u001b[0;34m*\u001b[0m\u001b[0margs\u001b[0m\u001b[0;34m,\u001b[0m \u001b[0;34m**\u001b[0m\u001b[0mkwargs\u001b[0m\u001b[0;34m)\u001b[0m\u001b[0;34m\u001b[0m\u001b[0;34m\u001b[0m\u001b[0m\n\u001b[0m\u001b[1;32m    332\u001b[0m \u001b[0;34m\u001b[0m\u001b[0m\n\u001b[1;32m    333\u001b[0m         \u001b[0;31m# error: \"Callable[[VarArg(Any), KwArg(Any)], Any]\" has no\u001b[0m\u001b[0;34m\u001b[0m\u001b[0;34m\u001b[0m\u001b[0m\n",
            "\u001b[0;32m/usr/local/lib/python3.10/dist-packages/pandas/core/frame.py\u001b[0m in \u001b[0;36mdrop\u001b[0;34m(self, labels, axis, index, columns, level, inplace, errors)\u001b[0m\n\u001b[1;32m   5397\u001b[0m                 \u001b[0mweight\u001b[0m  \u001b[0;36m1.0\u001b[0m     \u001b[0;36m0.8\u001b[0m\u001b[0;34m\u001b[0m\u001b[0;34m\u001b[0m\u001b[0m\n\u001b[1;32m   5398\u001b[0m         \"\"\"\n\u001b[0;32m-> 5399\u001b[0;31m         return super().drop(\n\u001b[0m\u001b[1;32m   5400\u001b[0m             \u001b[0mlabels\u001b[0m\u001b[0;34m=\u001b[0m\u001b[0mlabels\u001b[0m\u001b[0;34m,\u001b[0m\u001b[0;34m\u001b[0m\u001b[0;34m\u001b[0m\u001b[0m\n\u001b[1;32m   5401\u001b[0m             \u001b[0maxis\u001b[0m\u001b[0;34m=\u001b[0m\u001b[0maxis\u001b[0m\u001b[0;34m,\u001b[0m\u001b[0;34m\u001b[0m\u001b[0;34m\u001b[0m\u001b[0m\n",
            "\u001b[0;32m/usr/local/lib/python3.10/dist-packages/pandas/util/_decorators.py\u001b[0m in \u001b[0;36mwrapper\u001b[0;34m(*args, **kwargs)\u001b[0m\n\u001b[1;32m    329\u001b[0m                     \u001b[0mstacklevel\u001b[0m\u001b[0;34m=\u001b[0m\u001b[0mfind_stack_level\u001b[0m\u001b[0;34m(\u001b[0m\u001b[0;34m)\u001b[0m\u001b[0;34m,\u001b[0m\u001b[0;34m\u001b[0m\u001b[0;34m\u001b[0m\u001b[0m\n\u001b[1;32m    330\u001b[0m                 )\n\u001b[0;32m--> 331\u001b[0;31m             \u001b[0;32mreturn\u001b[0m \u001b[0mfunc\u001b[0m\u001b[0;34m(\u001b[0m\u001b[0;34m*\u001b[0m\u001b[0margs\u001b[0m\u001b[0;34m,\u001b[0m \u001b[0;34m**\u001b[0m\u001b[0mkwargs\u001b[0m\u001b[0;34m)\u001b[0m\u001b[0;34m\u001b[0m\u001b[0;34m\u001b[0m\u001b[0m\n\u001b[0m\u001b[1;32m    332\u001b[0m \u001b[0;34m\u001b[0m\u001b[0m\n\u001b[1;32m    333\u001b[0m         \u001b[0;31m# error: \"Callable[[VarArg(Any), KwArg(Any)], Any]\" has no\u001b[0m\u001b[0;34m\u001b[0m\u001b[0;34m\u001b[0m\u001b[0m\n",
            "\u001b[0;32m/usr/local/lib/python3.10/dist-packages/pandas/core/generic.py\u001b[0m in \u001b[0;36mdrop\u001b[0;34m(self, labels, axis, index, columns, level, inplace, errors)\u001b[0m\n\u001b[1;32m   4503\u001b[0m         \u001b[0;32mfor\u001b[0m \u001b[0maxis\u001b[0m\u001b[0;34m,\u001b[0m \u001b[0mlabels\u001b[0m \u001b[0;32min\u001b[0m \u001b[0maxes\u001b[0m\u001b[0;34m.\u001b[0m\u001b[0mitems\u001b[0m\u001b[0;34m(\u001b[0m\u001b[0;34m)\u001b[0m\u001b[0;34m:\u001b[0m\u001b[0;34m\u001b[0m\u001b[0;34m\u001b[0m\u001b[0m\n\u001b[1;32m   4504\u001b[0m             \u001b[0;32mif\u001b[0m \u001b[0mlabels\u001b[0m \u001b[0;32mis\u001b[0m \u001b[0;32mnot\u001b[0m \u001b[0;32mNone\u001b[0m\u001b[0;34m:\u001b[0m\u001b[0;34m\u001b[0m\u001b[0;34m\u001b[0m\u001b[0m\n\u001b[0;32m-> 4505\u001b[0;31m                 \u001b[0mobj\u001b[0m \u001b[0;34m=\u001b[0m \u001b[0mobj\u001b[0m\u001b[0;34m.\u001b[0m\u001b[0m_drop_axis\u001b[0m\u001b[0;34m(\u001b[0m\u001b[0mlabels\u001b[0m\u001b[0;34m,\u001b[0m \u001b[0maxis\u001b[0m\u001b[0;34m,\u001b[0m \u001b[0mlevel\u001b[0m\u001b[0;34m=\u001b[0m\u001b[0mlevel\u001b[0m\u001b[0;34m,\u001b[0m \u001b[0merrors\u001b[0m\u001b[0;34m=\u001b[0m\u001b[0merrors\u001b[0m\u001b[0;34m)\u001b[0m\u001b[0;34m\u001b[0m\u001b[0;34m\u001b[0m\u001b[0m\n\u001b[0m\u001b[1;32m   4506\u001b[0m \u001b[0;34m\u001b[0m\u001b[0m\n\u001b[1;32m   4507\u001b[0m         \u001b[0;32mif\u001b[0m \u001b[0minplace\u001b[0m\u001b[0;34m:\u001b[0m\u001b[0;34m\u001b[0m\u001b[0;34m\u001b[0m\u001b[0m\n",
            "\u001b[0;32m/usr/local/lib/python3.10/dist-packages/pandas/core/generic.py\u001b[0m in \u001b[0;36m_drop_axis\u001b[0;34m(self, labels, axis, level, errors, only_slice)\u001b[0m\n\u001b[1;32m   4544\u001b[0m                 \u001b[0mnew_axis\u001b[0m \u001b[0;34m=\u001b[0m \u001b[0maxis\u001b[0m\u001b[0;34m.\u001b[0m\u001b[0mdrop\u001b[0m\u001b[0;34m(\u001b[0m\u001b[0mlabels\u001b[0m\u001b[0;34m,\u001b[0m \u001b[0mlevel\u001b[0m\u001b[0;34m=\u001b[0m\u001b[0mlevel\u001b[0m\u001b[0;34m,\u001b[0m \u001b[0merrors\u001b[0m\u001b[0;34m=\u001b[0m\u001b[0merrors\u001b[0m\u001b[0;34m)\u001b[0m\u001b[0;34m\u001b[0m\u001b[0;34m\u001b[0m\u001b[0m\n\u001b[1;32m   4545\u001b[0m             \u001b[0;32melse\u001b[0m\u001b[0;34m:\u001b[0m\u001b[0;34m\u001b[0m\u001b[0;34m\u001b[0m\u001b[0m\n\u001b[0;32m-> 4546\u001b[0;31m                 \u001b[0mnew_axis\u001b[0m \u001b[0;34m=\u001b[0m \u001b[0maxis\u001b[0m\u001b[0;34m.\u001b[0m\u001b[0mdrop\u001b[0m\u001b[0;34m(\u001b[0m\u001b[0mlabels\u001b[0m\u001b[0;34m,\u001b[0m \u001b[0merrors\u001b[0m\u001b[0;34m=\u001b[0m\u001b[0merrors\u001b[0m\u001b[0;34m)\u001b[0m\u001b[0;34m\u001b[0m\u001b[0;34m\u001b[0m\u001b[0m\n\u001b[0m\u001b[1;32m   4547\u001b[0m             \u001b[0mindexer\u001b[0m \u001b[0;34m=\u001b[0m \u001b[0maxis\u001b[0m\u001b[0;34m.\u001b[0m\u001b[0mget_indexer\u001b[0m\u001b[0;34m(\u001b[0m\u001b[0mnew_axis\u001b[0m\u001b[0;34m)\u001b[0m\u001b[0;34m\u001b[0m\u001b[0;34m\u001b[0m\u001b[0m\n\u001b[1;32m   4548\u001b[0m \u001b[0;34m\u001b[0m\u001b[0m\n",
            "\u001b[0;32m/usr/local/lib/python3.10/dist-packages/pandas/core/indexes/base.py\u001b[0m in \u001b[0;36mdrop\u001b[0;34m(self, labels, errors)\u001b[0m\n\u001b[1;32m   6932\u001b[0m         \u001b[0;32mif\u001b[0m \u001b[0mmask\u001b[0m\u001b[0;34m.\u001b[0m\u001b[0many\u001b[0m\u001b[0;34m(\u001b[0m\u001b[0;34m)\u001b[0m\u001b[0;34m:\u001b[0m\u001b[0;34m\u001b[0m\u001b[0;34m\u001b[0m\u001b[0m\n\u001b[1;32m   6933\u001b[0m             \u001b[0;32mif\u001b[0m \u001b[0merrors\u001b[0m \u001b[0;34m!=\u001b[0m \u001b[0;34m\"ignore\"\u001b[0m\u001b[0;34m:\u001b[0m\u001b[0;34m\u001b[0m\u001b[0;34m\u001b[0m\u001b[0m\n\u001b[0;32m-> 6934\u001b[0;31m                 \u001b[0;32mraise\u001b[0m \u001b[0mKeyError\u001b[0m\u001b[0;34m(\u001b[0m\u001b[0;34mf\"{list(labels[mask])} not found in axis\"\u001b[0m\u001b[0;34m)\u001b[0m\u001b[0;34m\u001b[0m\u001b[0;34m\u001b[0m\u001b[0m\n\u001b[0m\u001b[1;32m   6935\u001b[0m             \u001b[0mindexer\u001b[0m \u001b[0;34m=\u001b[0m \u001b[0mindexer\u001b[0m\u001b[0;34m[\u001b[0m\u001b[0;34m~\u001b[0m\u001b[0mmask\u001b[0m\u001b[0;34m]\u001b[0m\u001b[0;34m\u001b[0m\u001b[0;34m\u001b[0m\u001b[0m\n\u001b[1;32m   6936\u001b[0m         \u001b[0;32mreturn\u001b[0m \u001b[0mself\u001b[0m\u001b[0;34m.\u001b[0m\u001b[0mdelete\u001b[0m\u001b[0;34m(\u001b[0m\u001b[0mindexer\u001b[0m\u001b[0;34m)\u001b[0m\u001b[0;34m\u001b[0m\u001b[0;34m\u001b[0m\u001b[0m\n",
            "\u001b[0;31mKeyError\u001b[0m: \"['desc_ocupacion'] not found in axis\""
          ]
        }
      ]
    },
    {
      "cell_type": "markdown",
      "source": [
        "## Limpieza por Educacion ---------------------------------------------------------------------------------------------------"
      ],
      "metadata": {
        "id": "cPy_ZsTr7DOp"
      }
    },
    {
      "cell_type": "code",
      "source": [],
      "metadata": {
        "id": "j3ddNGXn5S2Q"
      },
      "execution_count": null,
      "outputs": []
    },
    {
      "cell_type": "markdown",
      "source": [
        "## Conclusión de la Limpieza ---------------------------------------------------------------------------------------------------"
      ],
      "metadata": {
        "id": "zoKYObHpQ1kx"
      }
    },
    {
      "cell_type": "markdown",
      "source": [
        "### Selección de las columnas"
      ],
      "metadata": {
        "id": "WQKxpxuXQ-vo"
      }
    },
    {
      "cell_type": "code",
      "source": [
        "df2010 = df2010[['ent_resid_nm', 'detailCaus', 'desc_ocupacion', 'desc_escolaridad']]\n",
        "df2011 = df2011[['ent_resid_nm', 'detailCaus', 'desc_ocupacion', 'desc_escolaridad']]\n",
        "df2012 = df2012[['ent_resid_nm', 'detailCaus', 'desc_ocupacion', 'desc_escolaridad']]\n",
        "df2013 = df2013[['ent_resid_nm', 'detailCaus', 'desc_ocupacion', 'desc_escolaridad']]\n",
        "df2014 = df2014[['ent_resid_nm', 'detailCaus', 'desc_ocupacion', 'desc_escolaridad']]\n",
        "df2015 = df2015[['ent_resid_nm', 'detailCaus', 'desc_ocupacion', 'desc_escolaridad']]\n",
        "df2016 = df2016[['ent_resid_nm', 'detailCaus', 'desc_ocupacion', 'desc_escolaridad']]\n",
        "df2017 = df2017[['ent_resid_nm', 'detailCaus', 'desc_ocupacion', 'desc_escolaridad']]\n",
        "df2018 = df2018[['ent_resid_nm', 'detailCaus', 'desc_ocupacion', 'desc_escolaridad']]\n",
        "df2019 = df2019[['ent_resid_nm', 'detailCaus', 'desc_ocupacion', 'desc_escolaridad']]"
      ],
      "metadata": {
        "id": "TQA0psrYQ565"
      },
      "execution_count": null,
      "outputs": []
    },
    {
      "cell_type": "markdown",
      "source": [
        "### Almacenar nueva base de datos"
      ],
      "metadata": {
        "id": "OJm9lKDUTB3D"
      }
    },
    {
      "cell_type": "code",
      "source": [
        "nuevaMortalidadLimpia = '/content/drive/MyDrive/Pt2/Primeras Actividades/0 Bases de Datos/Nueva Mortalidad Limpia/'\n",
        "\n",
        "df2010.to_csv(nuevaMortalidadLimpia + '2010.csv')\n",
        "df2011.to_csv(nuevaMortalidadLimpia + '2011.csv')\n",
        "df2012.to_csv(nuevaMortalidadLimpia + '2012.csv')\n",
        "df2013.to_csv(nuevaMortalidadLimpia + '2013.csv')\n",
        "df2014.to_csv(nuevaMortalidadLimpia + '2014.csv')\n",
        "df2015.to_csv(nuevaMortalidadLimpia + '2015.csv')\n",
        "df2016.to_csv(nuevaMortalidadLimpia + '2016.csv')\n",
        "df2017.to_csv(nuevaMortalidadLimpia + '2017.csv')\n",
        "df2018.to_csv(nuevaMortalidadLimpia + '2018.csv')\n",
        "df2019.to_csv(nuevaMortalidadLimpia + '2019.csv')\n"
      ],
      "metadata": {
        "id": "XlFCAviMS8mc"
      },
      "execution_count": null,
      "outputs": []
    }
  ]
}