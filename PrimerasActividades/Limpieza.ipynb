{
  "nbformat": 4,
  "nbformat_minor": 0,
  "metadata": {
    "colab": {
      "provenance": [],
      "mount_file_id": "1X36SSGRCWi0k2c-HzEOQlg9-Vvv8nP26",
      "authorship_tag": "ABX9TyPfcCcV9xTe23H6cYfWWhBc",
      "include_colab_link": true
    },
    "kernelspec": {
      "name": "python3",
      "display_name": "Python 3"
    },
    "language_info": {
      "name": "python"
    }
  },
  "cells": [
    {
      "cell_type": "markdown",
      "metadata": {
        "id": "view-in-github",
        "colab_type": "text"
      },
      "source": [
        "<a href=\"https://colab.research.google.com/github/aledelorbe/pt2Codigos/blob/main/PrimerasActividades/Limpieza.ipynb\" target=\"_parent\"><img src=\"https://colab.research.google.com/assets/colab-badge.svg\" alt=\"Open In Colab\"/></a>"
      ]
    },
    {
      "cell_type": "markdown",
      "source": [
        "### Cargar librerias"
      ],
      "metadata": {
        "id": "TfLRvAuPFeqe"
      }
    },
    {
      "cell_type": "code",
      "source": [
        "import pandas as pd\n",
        "import matplotlib.pyplot as plt\n",
        "from sklearn.impute import SimpleImputer"
      ],
      "metadata": {
        "id": "AO4KKD9XEpzI"
      },
      "execution_count": 275,
      "outputs": []
    },
    {
      "cell_type": "markdown",
      "source": [
        "### Cargar los dataFrame"
      ],
      "metadata": {
        "id": "r7EfovT3UImO"
      }
    },
    {
      "cell_type": "code",
      "source": [
        "nuevaMortalidad = '/content/drive/MyDrive/Pt2/Primeras Actividades/0 Bases de Datos/Nueva Mortalidad/'\n",
        "\n",
        "df2010 = pd.read_csv(nuevaMortalidad + '2010.csv')\n",
        "df2011 = pd.read_csv(nuevaMortalidad + '2011.csv')\n",
        "df2012 = pd.read_csv(nuevaMortalidad + '2012.csv')\n",
        "df2013 = pd.read_csv(nuevaMortalidad + '2013.csv')\n",
        "df2014 = pd.read_csv(nuevaMortalidad + '2014.csv')\n",
        "df2015 = pd.read_csv(nuevaMortalidad + '2015.csv')\n",
        "df2016 = pd.read_csv(nuevaMortalidad + '2016.csv')\n",
        "df2017 = pd.read_csv(nuevaMortalidad + '2017.csv')\n",
        "df2018 = pd.read_csv(nuevaMortalidad + '2018.csv')\n",
        "df2019 = pd.read_csv(nuevaMortalidad + '2019.csv')"
      ],
      "metadata": {
        "id": "y1JW32OLUImP"
      },
      "execution_count": 276,
      "outputs": []
    },
    {
      "cell_type": "markdown",
      "source": [
        "### Cargar el catalogoa de empleo y educacion (\"Recientes\")\n"
      ],
      "metadata": {
        "id": "FNvKUPMc6Aw1"
      }
    },
    {
      "cell_type": "code",
      "source": [
        "catalogos = '/content/drive/MyDrive/Pt2/Primeras Actividades/0 Bases de Datos/Catalogos/'\n",
        "\n",
        "dfEscolaridad = pd.read_csv(catalogos + 'escolaridad2012_2019.csv', encoding='latin-1')\n",
        "dfEmpleo = pd.read_csv(catalogos + 'ocupacion2013_2019.csv', encoding='latin-1')"
      ],
      "metadata": {
        "id": "vv1q08Sx6HEd"
      },
      "execution_count": 277,
      "outputs": []
    },
    {
      "cell_type": "markdown",
      "source": [
        "### Seleccionar las columnas relevantes para cumplir con los objetivos del proyecto"
      ],
      "metadata": {
        "id": "uZVjRcabq1-H"
      }
    },
    {
      "cell_type": "code",
      "source": [
        "df2010 = df2010[['ent_resid', 'ent_resid_nm', 'ICD', 'detailCaus', 'ocupacion', 'desc_ocupacion', 'escolarida', 'desc_escolaridad']]\n",
        "df2011 = df2011[['ent_resid', 'ent_resid_nm', 'ICD', 'detailCaus', 'ocupacion', 'desc_ocupacion', 'escolarida', 'desc_escolaridad']]\n",
        "df2012 = df2012[['ent_resid', 'ent_resid_nm', 'ICD', 'detailCaus', 'ocupacion', 'desc_ocupacion', 'escolarida', 'desc_escolaridad']]\n",
        "df2013 = df2013[['ent_resid', 'ent_resid_nm', 'ICD', 'detailCaus', 'ocupacion', 'desc_ocupacion', 'escolarida', 'desc_escolaridad']]\n",
        "df2014 = df2014[['ent_resid', 'ent_resid_nm', 'ICD', 'detailCaus', 'ocupacion', 'desc_ocupacion', 'escolarida', 'desc_escolaridad']]\n",
        "df2015 = df2015[['ent_resid', 'ent_resid_nm', 'ICD', 'detailCaus', 'ocupacion', 'desc_ocupacion', 'escolarida', 'desc_escolaridad']]\n",
        "df2016 = df2016[['ent_resid', 'ent_resid_nm', 'ICD', 'detailCaus', 'ocupacion', 'desc_ocupacion', 'escolarida', 'desc_escolaridad']]\n",
        "df2017 = df2017[['ent_resid', 'ent_resid_nm', 'ICD', 'detailCaus', 'ocupacion', 'desc_ocupacion', 'escolarida', 'desc_escolaridad']]\n",
        "df2018 = df2018[['ent_resid', 'ent_resid_nm', 'ICD', 'detailCaus', 'ocupacion', 'desc_ocupacion', 'escolarida', 'desc_escolaridad']]\n",
        "df2019 = df2019[['ent_resid', 'ent_resid_nm', 'ICD', 'detailCaus', 'ocupacion', 'desc_ocupacion', 'escolarida', 'desc_escolaridad']]\n"
      ],
      "metadata": {
        "id": "qEx8420cq1DL"
      },
      "execution_count": 278,
      "outputs": []
    },
    {
      "cell_type": "markdown",
      "source": [
        "# LIMPIEZA"
      ],
      "metadata": {
        "id": "4QbO23WDgQbo"
      }
    },
    {
      "cell_type": "markdown",
      "source": [
        "## Limpieza por Estado ---------------------------------------------------------------------------------------------------"
      ],
      "metadata": {
        "id": "clpIHElC66QN"
      }
    },
    {
      "cell_type": "markdown",
      "source": [
        "### Detectar los valores de EUA"
      ],
      "metadata": {
        "id": "mlG5G8j0abh8"
      }
    },
    {
      "cell_type": "code",
      "source": [
        "condicion2010 = (df2010['ent_resid_nm'] == 'Estados unidos de America')\n",
        "condicion2011 = (df2011['ent_resid_nm'] == 'Estados unidos de America')\n",
        "condicion2012 = (df2012['ent_resid_nm'] == 'Estados unidos de America')\n",
        "condicion2013 = (df2013['ent_resid_nm'] == 'Estados unidos de America')\n",
        "condicion2014 = (df2014['ent_resid_nm'] == 'Estados unidos de America')\n",
        "condicion2015 = (df2015['ent_resid_nm'] == 'Estados unidos de America')\n",
        "condicion2016 = (df2016['ent_resid_nm'] == 'Estados unidos de America')\n",
        "condicion2017 = (df2017['ent_resid_nm'] == 'Estados unidos de America')\n",
        "condicion2018 = (df2018['ent_resid_nm'] == 'Estados unidos de America')\n",
        "condicion2019 = (df2019['ent_resid_nm'] == 'Estados unidos de America')"
      ],
      "metadata": {
        "id": "QoAmYsI-agIw"
      },
      "execution_count": 279,
      "outputs": []
    },
    {
      "cell_type": "markdown",
      "source": [
        "### Contar la cantidad de registros por cada fragmento con el valor de EUA"
      ],
      "metadata": {
        "id": "H-GRW9O8a4Dh"
      }
    },
    {
      "cell_type": "code",
      "source": [
        "print('Cantidad de basura en el dataframe 2010: ', df2010.loc[condicion2010].shape[0])\n",
        "print('Cantidad de basura en el dataframe 2011: ', df2011.loc[condicion2011].shape[0])\n",
        "print('Cantidad de basura en el dataframe 2012: ', df2012.loc[condicion2012].shape[0])\n",
        "print('Cantidad de basura en el dataframe 2013: ', df2013.loc[condicion2013].shape[0])\n",
        "print('Cantidad de basura en el dataframe 2014: ', df2014.loc[condicion2014].shape[0])\n",
        "print('Cantidad de basura en el dataframe 2015: ', df2015.loc[condicion2015].shape[0])\n",
        "print('Cantidad de basura en el dataframe 2016: ', df2016.loc[condicion2016].shape[0])\n",
        "print('Cantidad de basura en el dataframe 2017: ', df2017.loc[condicion2017].shape[0])\n",
        "print('Cantidad de basura en el dataframe 2018: ', df2018.loc[condicion2018].shape[0])\n",
        "print('Cantidad de basura en el dataframe 2019: ', df2019.loc[condicion2019].shape[0])"
      ],
      "metadata": {
        "colab": {
          "base_uri": "https://localhost:8080/"
        },
        "id": "uMOJ2vOSa-WM",
        "outputId": "a7beaeab-8863-470b-a0b0-3b8ae3b7bc3f"
      },
      "execution_count": 280,
      "outputs": [
        {
          "output_type": "stream",
          "name": "stdout",
          "text": [
            "Cantidad de basura en el dataframe 2010:  99\n",
            "Cantidad de basura en el dataframe 2011:  96\n",
            "Cantidad de basura en el dataframe 2012:  77\n",
            "Cantidad de basura en el dataframe 2013:  94\n",
            "Cantidad de basura en el dataframe 2014:  86\n",
            "Cantidad de basura en el dataframe 2015:  77\n",
            "Cantidad de basura en el dataframe 2016:  117\n",
            "Cantidad de basura en el dataframe 2017:  121\n",
            "Cantidad de basura en el dataframe 2018:  88\n",
            "Cantidad de basura en el dataframe 2019:  87\n"
          ]
        }
      ]
    },
    {
      "cell_type": "markdown",
      "source": [
        "### Eliminacion de registros\n",
        "\n"
      ],
      "metadata": {
        "id": "B6arG1bM7RXi"
      }
    },
    {
      "cell_type": "code",
      "source": [
        "# Como el proyecto tiene como objetivo analizar datos de personas en Mexico, se considera necesario eliminar los datos de personas\n",
        "# las cuales pertenezcan a EUA\n",
        "\n",
        "df2010 = df2010.drop(df2010[condicion2010].index)\n",
        "df2011 = df2011.drop(df2011[condicion2011].index)\n",
        "df2012 = df2012.drop(df2012[condicion2012].index)\n",
        "df2013 = df2013.drop(df2013[condicion2013].index)\n",
        "df2014 = df2014.drop(df2014[condicion2014].index)\n",
        "df2015 = df2015.drop(df2015[condicion2015].index)\n",
        "df2016 = df2016.drop(df2016[condicion2016].index)\n",
        "df2017 = df2017.drop(df2017[condicion2017].index)\n",
        "df2018 = df2018.drop(df2018[condicion2018].index)\n",
        "df2019 = df2019.drop(df2019[condicion2019].index)"
      ],
      "metadata": {
        "id": "MqOYnVsc7IoI"
      },
      "execution_count": 281,
      "outputs": []
    },
    {
      "cell_type": "markdown",
      "source": [
        "### Comprobar de la inexistencia del valor de EUA"
      ],
      "metadata": {
        "id": "Oes3Zx4_RMFT"
      }
    },
    {
      "cell_type": "code",
      "source": [
        "def ordenarLista(lista):\n",
        "  listaSinNan = [valor for valor in lista if type(valor) != float]\n",
        "  listaOrdenada = sorted(listaSinNan)\n",
        "  listaOrdenada.append('NaN')\n",
        "\n",
        "  return listaOrdenada\n",
        "\n",
        "lista2010 = list(df2010['ent_resid_nm'].unique())\n",
        "lista2011 = list(df2011['ent_resid_nm'].unique())\n",
        "lista2012 = list(df2012['ent_resid_nm'].unique())\n",
        "lista2013 = list(df2013['ent_resid_nm'].unique())\n",
        "lista2014 = list(df2014['ent_resid_nm'].unique())\n",
        "lista2015 = list(df2015['ent_resid_nm'].unique())\n",
        "lista2016 = list(df2016['ent_resid_nm'].unique())\n",
        "lista2017 = list(df2017['ent_resid_nm'].unique())\n",
        "lista2018 = list(df2018['ent_resid_nm'].unique())\n",
        "lista2019 = list(df2019['ent_resid_nm'].unique())\n",
        "\n",
        "print(\"DataFrame 2010\".center(100, '-'))\n",
        "print(ordenarLista(lista2010))\n",
        "print(\"DataFrame 2011\".center(100, '-'))\n",
        "print(ordenarLista(lista2011))\n",
        "print(\"DataFrame 2012\".center(100, '-'))\n",
        "print(ordenarLista(lista2012))\n",
        "print(\"DataFrame 2013\".center(100, '-'))\n",
        "print(ordenarLista(lista2013))\n",
        "print(\"DataFrame 2014\".center(100, '-'))\n",
        "print(ordenarLista(lista2014))\n",
        "print(\"DataFrame 2015\".center(100, '-'))\n",
        "print(ordenarLista(lista2015))\n",
        "print(\"DataFrame 2016\".center(100, '-'))\n",
        "print(ordenarLista(lista2016))\n",
        "print(\"DataFrame 2017\".center(100, '-'))\n",
        "print(ordenarLista(lista2017))\n",
        "print(\"DataFrame 2018\".center(100, '-'))\n",
        "print(ordenarLista(lista2018))\n",
        "print(\"DataFrame 2019\".center(100, '-'))\n",
        "print(ordenarLista(lista2019))"
      ],
      "metadata": {
        "colab": {
          "base_uri": "https://localhost:8080/"
        },
        "id": "F-hQzeGo976F",
        "outputId": "7ba490a0-903d-4d39-b456-f1fb5f7923bf"
      },
      "execution_count": 282,
      "outputs": [
        {
          "output_type": "stream",
          "name": "stdout",
          "text": [
            "-------------------------------------------DataFrame 2010-------------------------------------------\n",
            "['Aguascalientes', 'Baja California', 'Baja California Sur', 'Campeche', 'Chiapas', 'Chihuahua', 'Coahuila de Zaragoza', 'Colima', 'Distrito Federal', 'Durango', 'Guanajuato', 'Guerrero', 'Hidalgo', 'Jalisco', 'Michoacán de Ocampo', 'Morelos', 'México', 'Nayarit', 'Nuevo León', 'Oaxaca', 'Puebla', 'Querétaro', 'Quintana Roo', 'San Luis Potosí', 'Sinaloa', 'Sonora', 'Tabasco', 'Tamaulipas', 'Tlaxcala', 'Veracruz de Ignacio de la Llave', 'Yucatán', 'Zacatecas', 'NaN']\n",
            "-------------------------------------------DataFrame 2011-------------------------------------------\n",
            "['Aguascalientes', 'Baja California', 'Baja California Sur', 'Campeche', 'Chiapas', 'Chihuahua', 'Coahuila de Zaragoza', 'Colima', 'Distrito Federal', 'Durango', 'Guanajuato', 'Guerrero', 'Hidalgo', 'Jalisco', 'Michoacán de Ocampo', 'Morelos', 'México', 'Nayarit', 'Nuevo León', 'Oaxaca', 'Puebla', 'Querétaro', 'Quintana Roo', 'San Luis Potosí', 'Sinaloa', 'Sonora', 'Tabasco', 'Tamaulipas', 'Tlaxcala', 'Veracruz de Ignacio de la Llave', 'Yucatán', 'Zacatecas', 'NaN']\n",
            "-------------------------------------------DataFrame 2012-------------------------------------------\n",
            "['Aguascalientes', 'Baja California', 'Baja California Sur', 'Campeche', 'Chiapas', 'Chihuahua', 'Coahuila de Zaragoza', 'Colima', 'Distrito Federal', 'Durango', 'Guanajuato', 'Guerrero', 'Hidalgo', 'Jalisco', 'Michoacán de Ocampo', 'Morelos', 'México', 'Nayarit', 'Nuevo León', 'Oaxaca', 'Puebla', 'Querétaro', 'Quintana Roo', 'San Luis Potosí', 'Sinaloa', 'Sonora', 'Tabasco', 'Tamaulipas', 'Tlaxcala', 'Veracruz de Ignacio de la Llave', 'Yucatán', 'Zacatecas', 'NaN']\n",
            "-------------------------------------------DataFrame 2013-------------------------------------------\n",
            "['Aguascalientes', 'Baja California', 'Baja California Sur', 'Campeche', 'Chiapas', 'Chihuahua', 'Coahuila de Zaragoza', 'Colima', 'Distrito Federal', 'Durango', 'Guanajuato', 'Guerrero', 'Hidalgo', 'Jalisco', 'Michoacán de Ocampo', 'Morelos', 'México', 'Nayarit', 'Nuevo León', 'Oaxaca', 'Puebla', 'Querétaro', 'Quintana Roo', 'San Luis Potosí', 'Sinaloa', 'Sonora', 'Tabasco', 'Tamaulipas', 'Tlaxcala', 'Veracruz de Ignacio de la Llave', 'Yucatán', 'Zacatecas', 'NaN']\n",
            "-------------------------------------------DataFrame 2014-------------------------------------------\n",
            "['Aguascalientes', 'Baja California', 'Baja California Sur', 'Campeche', 'Chiapas', 'Chihuahua', 'Coahuila de Zaragoza', 'Colima', 'Distrito Federal', 'Durango', 'Guanajuato', 'Guerrero', 'Hidalgo', 'Jalisco', 'Michoacán de Ocampo', 'Morelos', 'México', 'Nayarit', 'Nuevo León', 'Oaxaca', 'Puebla', 'Querétaro', 'Quintana Roo', 'San Luis Potosí', 'Sinaloa', 'Sonora', 'Tabasco', 'Tamaulipas', 'Tlaxcala', 'Veracruz de Ignacio de la Llave', 'Yucatán', 'Zacatecas', 'NaN']\n",
            "-------------------------------------------DataFrame 2015-------------------------------------------\n",
            "['Aguascalientes', 'Baja California', 'Baja California Sur', 'Campeche', 'Chiapas', 'Chihuahua', 'Coahuila de Zaragoza', 'Colima', 'Distrito Federal', 'Durango', 'Guanajuato', 'Guerrero', 'Hidalgo', 'Jalisco', 'Michoacán de Ocampo', 'Morelos', 'México', 'Nayarit', 'Nuevo León', 'Oaxaca', 'Puebla', 'Querétaro', 'Quintana Roo', 'San Luis Potosí', 'Sinaloa', 'Sonora', 'Tabasco', 'Tamaulipas', 'Tlaxcala', 'Veracruz de Ignacio de la Llave', 'Yucatán', 'Zacatecas', 'NaN']\n",
            "-------------------------------------------DataFrame 2016-------------------------------------------\n",
            "['Aguascalientes', 'Baja California', 'Baja California Sur', 'Campeche', 'Chiapas', 'Chihuahua', 'Coahuila de Zaragoza', 'Colima', 'Distrito Federal', 'Durango', 'Guanajuato', 'Guerrero', 'Hidalgo', 'Jalisco', 'Michoacán de Ocampo', 'Morelos', 'México', 'Nayarit', 'Nuevo León', 'Oaxaca', 'Puebla', 'Querétaro', 'Quintana Roo', 'San Luis Potosí', 'Sinaloa', 'Sonora', 'Tabasco', 'Tamaulipas', 'Tlaxcala', 'Veracruz de Ignacio de la Llave', 'Yucatán', 'Zacatecas', 'NaN']\n",
            "-------------------------------------------DataFrame 2017-------------------------------------------\n",
            "['Aguascalientes', 'Baja California', 'Baja California Sur', 'Campeche', 'Chiapas', 'Chihuahua', 'Coahuila de Zaragoza', 'Colima', 'Distrito Federal', 'Durango', 'Guanajuato', 'Guerrero', 'Hidalgo', 'Jalisco', 'Michoacán de Ocampo', 'Morelos', 'México', 'Nayarit', 'Nuevo León', 'Oaxaca', 'Puebla', 'Querétaro', 'Quintana Roo', 'San Luis Potosí', 'Sinaloa', 'Sonora', 'Tabasco', 'Tamaulipas', 'Tlaxcala', 'Veracruz de Ignacio de la Llave', 'Yucatán', 'Zacatecas', 'NaN']\n",
            "-------------------------------------------DataFrame 2018-------------------------------------------\n",
            "['Aguascalientes', 'Baja California', 'Baja California Sur', 'Campeche', 'Chiapas', 'Chihuahua', 'Coahuila de Zaragoza', 'Colima', 'Distrito Federal', 'Durango', 'Guanajuato', 'Guerrero', 'Hidalgo', 'Jalisco', 'Michoacán de Ocampo', 'Morelos', 'México', 'Nayarit', 'Nuevo León', 'Oaxaca', 'Puebla', 'Querétaro', 'Quintana Roo', 'San Luis Potosí', 'Sinaloa', 'Sonora', 'Tabasco', 'Tamaulipas', 'Tlaxcala', 'Veracruz de Ignacio de la Llave', 'Yucatán', 'Zacatecas', 'NaN']\n",
            "-------------------------------------------DataFrame 2019-------------------------------------------\n",
            "['Aguascalientes', 'Baja California', 'Baja California Sur', 'Campeche', 'Chiapas', 'Chihuahua', 'Coahuila de Zaragoza', 'Colima', 'Distrito Federal', 'Durango', 'Guanajuato', 'Guerrero', 'Hidalgo', 'Jalisco', 'Michoacán de Ocampo', 'Morelos', 'México', 'Nayarit', 'Nuevo León', 'Oaxaca', 'Puebla', 'Querétaro', 'Quintana Roo', 'San Luis Potosí', 'Sinaloa', 'Sonora', 'Tabasco', 'Tamaulipas', 'Tlaxcala', 'Veracruz de Ignacio de la Llave', 'Yucatán', 'Zacatecas', 'NaN']\n"
          ]
        }
      ]
    },
    {
      "cell_type": "markdown",
      "source": [
        "### Tratamiento de valores nulos"
      ],
      "metadata": {
        "id": "gAsAe00J7UlS"
      }
    },
    {
      "cell_type": "code",
      "source": [
        "# En teoria este deberia hacerse para la categoria del cancer, empelo y educacion, pero esas 3 columnas no presentaron valores nulos\n",
        "spImputer = SimpleImputer(strategy='most_frequent')\n",
        "\n",
        "spImputer.fit(df2010[['ent_resid_nm']])\n",
        "df2010[['ent_resid_nm']] = spImputer.transform(df2010[['ent_resid_nm']])\n",
        "spImputer.fit(df2011[['ent_resid_nm']])\n",
        "df2011[['ent_resid_nm']] = spImputer.transform(df2011[['ent_resid_nm']])\n",
        "spImputer.fit(df2012[['ent_resid_nm']])\n",
        "df2012[['ent_resid_nm']] = spImputer.transform(df2012[['ent_resid_nm']])\n",
        "spImputer.fit(df2013[['ent_resid_nm']])\n",
        "df2013[['ent_resid_nm']] = spImputer.transform(df2013[['ent_resid_nm']])\n",
        "spImputer.fit(df2014[['ent_resid_nm']])\n",
        "df2014[['ent_resid_nm']] = spImputer.transform(df2014[['ent_resid_nm']])\n",
        "spImputer.fit(df2015[['ent_resid_nm']])\n",
        "df2015[['ent_resid_nm']] = spImputer.transform(df2015[['ent_resid_nm']])\n",
        "spImputer.fit(df2016[['ent_resid_nm']])\n",
        "df2016[['ent_resid_nm']] = spImputer.transform(df2016[['ent_resid_nm']])\n",
        "spImputer.fit(df2017[['ent_resid_nm']])\n",
        "df2017[['ent_resid_nm']] = spImputer.transform(df2017[['ent_resid_nm']])\n",
        "spImputer.fit(df2018[['ent_resid_nm']])\n",
        "df2018[['ent_resid_nm']] = spImputer.transform(df2018[['ent_resid_nm']])\n",
        "spImputer.fit(df2019[['ent_resid_nm']])\n",
        "df2019[['ent_resid_nm']] = spImputer.transform(df2019[['ent_resid_nm']])\n"
      ],
      "metadata": {
        "id": "I-BhHHF6UDiS"
      },
      "execution_count": 283,
      "outputs": []
    },
    {
      "cell_type": "markdown",
      "source": [
        "### Comprobacion de la inexistencia de valores nulos"
      ],
      "metadata": {
        "id": "0sTvT4Z4T_zS"
      }
    },
    {
      "cell_type": "code",
      "source": [
        "print(\"DataFrame 2010\".center(100, '-'))\n",
        "print(list(df2010['ent_resid_nm'].unique()))\n",
        "print(\"DataFrame 2011\".center(100, '-'))\n",
        "print(list(df2011['ent_resid_nm'].unique()))\n",
        "print(\"DataFrame 2012\".center(100, '-'))\n",
        "print(list(df2012['ent_resid_nm'].unique()))\n",
        "print(\"DataFrame 2013\".center(100, '-'))\n",
        "print(list(df2013['ent_resid_nm'].unique()))\n",
        "print(\"DataFrame 2014\".center(100, '-'))\n",
        "print(list(df2014['ent_resid_nm'].unique()))\n",
        "print(\"DataFrame 2015\".center(100, '-'))\n",
        "print(list(df2015['ent_resid_nm'].unique()))\n",
        "print(\"DataFrame 2016\".center(100, '-'))\n",
        "print(list(df2016['ent_resid_nm'].unique()))\n",
        "print(\"DataFrame 2017\".center(100, '-'))\n",
        "print(list(df2017['ent_resid_nm'].unique()))\n",
        "print(\"DataFrame 2018\".center(100, '-'))\n",
        "print(list(df2018['ent_resid_nm'].unique()))\n",
        "print(\"DataFrame 2019\".center(100, '-'))\n",
        "print(list(df2019['ent_resid_nm'].unique()))\n"
      ],
      "metadata": {
        "colab": {
          "base_uri": "https://localhost:8080/"
        },
        "id": "9y5-hciZael0",
        "outputId": "88a3e950-71a6-4aec-eac0-4d266df02f77"
      },
      "execution_count": 284,
      "outputs": [
        {
          "output_type": "stream",
          "name": "stdout",
          "text": [
            "-------------------------------------------DataFrame 2010-------------------------------------------\n",
            "['Aguascalientes', 'Jalisco', 'Querétaro', 'Michoacán de Ocampo', 'Zacatecas', 'Distrito Federal', 'México', 'Oaxaca', 'Guanajuato', 'Baja California', 'Sonora', 'Baja California Sur', 'Sinaloa', 'Morelos', 'Colima', 'Campeche', 'Yucatán', 'Chiapas', 'Veracruz de Ignacio de la Llave', 'Coahuila de Zaragoza', 'Tabasco', 'Quintana Roo', 'Chihuahua', 'Durango', 'Nuevo León', 'Puebla', 'San Luis Potosí', 'Guerrero', 'Tlaxcala', 'Hidalgo', 'Tamaulipas', 'Nayarit']\n",
            "-------------------------------------------DataFrame 2011-------------------------------------------\n",
            "['Aguascalientes', 'Jalisco', 'Zacatecas', 'Veracruz de Ignacio de la Llave', 'México', 'San Luis Potosí', 'Baja California', 'Michoacán de Ocampo', 'Sonora', 'Durango', 'Guerrero', 'Sinaloa', 'Baja California Sur', 'Distrito Federal', 'Querétaro', 'Campeche', 'Nuevo León', 'Coahuila de Zaragoza', 'Chihuahua', 'Tabasco', 'Tamaulipas', 'Colima', 'Chiapas', 'Oaxaca', 'Hidalgo', 'Puebla', 'Tlaxcala', 'Morelos', 'Guanajuato', 'Nayarit', 'Quintana Roo', 'Yucatán']\n",
            "-------------------------------------------DataFrame 2012-------------------------------------------\n",
            "['Aguascalientes', 'Zacatecas', 'Jalisco', 'Baja California', 'Nayarit', 'Sonora', 'Sinaloa', 'Baja California Sur', 'Tamaulipas', 'Campeche', 'Coahuila de Zaragoza', 'Quintana Roo', 'Tabasco', 'Durango', 'Nuevo León', 'Colima', 'Michoacán de Ocampo', 'Chiapas', 'Oaxaca', 'Veracruz de Ignacio de la Llave', 'Chihuahua', 'México', 'Distrito Federal', 'Morelos', 'Guerrero', 'Puebla', 'Hidalgo', 'Querétaro', 'Guanajuato', 'Tlaxcala', 'San Luis Potosí', 'Yucatán']\n",
            "-------------------------------------------DataFrame 2013-------------------------------------------\n",
            "['Aguascalientes', 'Jalisco', 'Baja California', 'Baja California Sur', 'Campeche', 'Quintana Roo', 'Coahuila de Zaragoza', 'Durango', 'Colima', 'Chiapas', 'Chihuahua', 'Morelos', 'México', 'Oaxaca', 'Tlaxcala', 'Distrito Federal', 'Hidalgo', 'Guerrero', 'Veracruz de Ignacio de la Llave', 'Puebla', 'Querétaro', 'Zacatecas', 'Guanajuato', 'Nayarit', 'Michoacán de Ocampo', 'Sinaloa', 'Nuevo León', 'Tamaulipas', 'Yucatán', 'San Luis Potosí', 'Sonora', 'Tabasco']\n",
            "-------------------------------------------DataFrame 2014-------------------------------------------\n",
            "['Aguascalientes', 'Baja California', 'Michoacán de Ocampo', 'Campeche', 'Quintana Roo', 'Coahuila de Zaragoza', 'Zacatecas', 'Colima', 'Chiapas', 'Chihuahua', 'México', 'Guerrero', 'Distrito Federal', 'Puebla', 'Veracruz de Ignacio de la Llave', 'Hidalgo', 'Guanajuato', 'Durango', 'Jalisco', 'Sinaloa', 'Nayarit', 'Tamaulipas', 'Nuevo León', 'Oaxaca', 'Querétaro', 'San Luis Potosí', 'Sonora', 'Tabasco', 'Tlaxcala', 'Yucatán', 'Morelos', 'Baja California Sur']\n",
            "-------------------------------------------DataFrame 2015-------------------------------------------\n",
            "['Aguascalientes', 'Jalisco', 'Coahuila de Zaragoza', 'Zacatecas', 'Baja California', 'Sonora', 'Querétaro', 'Baja California Sur', 'Campeche', 'Quintana Roo', 'Oaxaca', 'Durango', 'Chihuahua', 'Nuevo León', 'Colima', 'Chiapas', 'San Luis Potosí', 'Distrito Federal', 'Hidalgo', 'México', 'Sinaloa', 'Michoacán de Ocampo', 'Tamaulipas', 'Guanajuato', 'Veracruz de Ignacio de la Llave', 'Puebla', 'Guerrero', 'Morelos', 'Tabasco', 'Nayarit', 'Tlaxcala', 'Yucatán']\n",
            "-------------------------------------------DataFrame 2016-------------------------------------------\n",
            "['Aguascalientes', 'Sonora', 'Baja California', 'Coahuila de Zaragoza', 'México', 'Baja California Sur', 'Campeche', 'Durango', 'Nuevo León', 'Tamaulipas', 'Chihuahua', 'Colima', 'Jalisco', 'Michoacán de Ocampo', 'Chiapas', 'Querétaro', 'Distrito Federal', 'Guanajuato', 'Hidalgo', 'Veracruz de Ignacio de la Llave', 'Oaxaca', 'Tabasco', 'Quintana Roo', 'Guerrero', 'Puebla', 'Morelos', 'Tlaxcala', 'San Luis Potosí', 'Nayarit', 'Zacatecas', 'Sinaloa', 'Yucatán']\n",
            "-------------------------------------------DataFrame 2017-------------------------------------------\n",
            "['Aguascalientes', 'Baja California', 'México', 'Campeche', 'Durango', 'Coahuila de Zaragoza', 'Colima', 'Chiapas', 'Chihuahua', 'Tabasco', 'Distrito Federal', 'Querétaro', 'Sinaloa', 'Morelos', 'Guerrero', 'Nuevo León', 'Tamaulipas', 'Michoacán de Ocampo', 'Guanajuato', 'Hidalgo', 'Jalisco', 'Nayarit', 'Sonora', 'Oaxaca', 'Puebla', 'Veracruz de Ignacio de la Llave', 'Quintana Roo', 'San Luis Potosí', 'Tlaxcala', 'Yucatán', 'Zacatecas', 'Baja California Sur']\n",
            "-------------------------------------------DataFrame 2018-------------------------------------------\n",
            "['Aguascalientes', 'Baja California', 'Baja California Sur', 'Campeche', 'Coahuila de Zaragoza', 'Colima', 'Chiapas', 'Chihuahua', 'Durango', 'Distrito Federal', 'México', 'Guanajuato', 'Guerrero', 'Hidalgo', 'Jalisco', 'Sinaloa', 'Michoacán de Ocampo', 'Morelos', 'Nayarit', 'Nuevo León', 'Oaxaca', 'Puebla', 'Querétaro', 'Quintana Roo', 'San Luis Potosí', 'Sonora', 'Tabasco', 'Veracruz de Ignacio de la Llave', 'Tamaulipas', 'Tlaxcala', 'Yucatán', 'Zacatecas']\n",
            "-------------------------------------------DataFrame 2019-------------------------------------------\n",
            "['Aguascalientes', 'Guanajuato', 'Zacatecas', 'Baja California', 'Sonora', 'Chiapas', 'Chihuahua', 'Nayarit', 'Guerrero', 'Baja California Sur', 'Campeche', 'Quintana Roo', 'Yucatán', 'Veracruz de Ignacio de la Llave', 'Coahuila de Zaragoza', 'Durango', 'Nuevo León', 'México', 'Colima', 'Michoacán de Ocampo', 'Jalisco', 'Sinaloa', 'Distrito Federal', 'Hidalgo', 'Oaxaca', 'Tlaxcala', 'Querétaro', 'Morelos', 'Tabasco', 'Puebla', 'San Luis Potosí', 'Tamaulipas']\n"
          ]
        }
      ]
    },
    {
      "cell_type": "markdown",
      "source": [
        "## Limpieza por Empleo ---------------------------------------------------------------------------------------------------"
      ],
      "metadata": {
        "id": "fGeh1LIX7Cgu"
      }
    },
    {
      "cell_type": "markdown",
      "source": [
        "### Detectar Basura"
      ],
      "metadata": {
        "id": "o_112IPdjbxK"
      }
    },
    {
      "cell_type": "code",
      "source": [
        "dfRuido2010 = df2010[df2010['desc_ocupacion'].isnull()]\n",
        "dfRuido2011 = df2011[df2011['desc_ocupacion'].isnull()]\n",
        "dfRuido2012 = df2012[df2012['desc_ocupacion'].isnull()]\n",
        "dfRuido2013 = df2013[df2013['desc_ocupacion'].isnull()]\n",
        "dfRuido2014 = df2014[df2014['desc_ocupacion'].isnull()]\n",
        "dfRuido2015 = df2015[df2015['desc_ocupacion'].isnull()]\n",
        "dfRuido2016 = df2016[df2016['desc_ocupacion'].isnull()]\n",
        "dfRuido2017 = df2017[df2017['desc_ocupacion'].isnull()]\n",
        "dfRuido2018 = df2018[df2018['desc_ocupacion'].isnull()]\n",
        "dfRuido2019 = df2019[df2019['desc_ocupacion'].isnull()]\n",
        "\n",
        "print(dfRuido2010['ocupacion'].unique())\n",
        "print(dfRuido2011['ocupacion'].unique())\n",
        "print(dfRuido2012['ocupacion'].unique())\n",
        "print(dfRuido2013['ocupacion'].unique())\n",
        "print(dfRuido2014['ocupacion'].unique())\n",
        "print(dfRuido2015['ocupacion'].unique())\n",
        "print(dfRuido2016['ocupacion'].unique())\n",
        "print(dfRuido2017['ocupacion'].unique())\n",
        "print(dfRuido2018['ocupacion'].unique())\n",
        "print(dfRuido2019['ocupacion'].unique())\n",
        "# Entonces solo hubo ruido en los años 2010 a 2012"
      ],
      "metadata": {
        "colab": {
          "base_uri": "https://localhost:8080/"
        },
        "id": "VElvCwNJcskx",
        "outputId": "bc9845d0-a28c-4683-b1e0-4cc9c4474b94"
      },
      "execution_count": 285,
      "outputs": [
        {
          "output_type": "stream",
          "name": "stdout",
          "text": [
            "[9 6 4 7]\n",
            "[4 6 9 7 8 1]\n",
            "[ 8  1  6  4  9  7  5  3 10]\n",
            "[]\n",
            "[]\n",
            "[]\n",
            "[]\n",
            "[]\n",
            "[]\n",
            "[]\n"
          ]
        }
      ]
    },
    {
      "cell_type": "markdown",
      "source": [
        "### Contar la cantidad de basura"
      ],
      "metadata": {
        "id": "eKlhXmqJRPY-"
      }
    },
    {
      "cell_type": "code",
      "source": [
        "listaRuido2010 = list(dfRuido2010['ocupacion'].unique())\n",
        "listaRuido2011 = list(dfRuido2011['ocupacion'].unique())\n",
        "listaRuido2012 = list(dfRuido2012['ocupacion'].unique())\n",
        "\n",
        "condicion2010 = df2010['ocupacion'].isin(listaRuido2010)\n",
        "condicion2011 = df2011['ocupacion'].isin(listaRuido2011)\n",
        "condicion2012 = df2012['ocupacion'].isin(listaRuido2012)\n",
        "\n",
        "newDf2010 = df2010.loc[condicion2010]\n",
        "newDf2011 = df2011.loc[condicion2011]\n",
        "newDf2012 = df2012.loc[condicion2012]\n",
        "\n",
        "print('Cantidad de basura en el dataframe 2010: ', newDf2010.shape[0])\n",
        "print('Cantidad de basura en el dataframe 2011: ', newDf2011.shape[0])\n",
        "print('Cantidad de basura en el dataframe 2012: ', newDf2012.shape[0])"
      ],
      "metadata": {
        "colab": {
          "base_uri": "https://localhost:8080/"
        },
        "id": "sJxaPb_uRR1C",
        "outputId": "82aa8075-91b2-42b0-83e3-82d926c4b20f"
      },
      "execution_count": 286,
      "outputs": [
        {
          "output_type": "stream",
          "name": "stdout",
          "text": [
            "Cantidad de basura en el dataframe 2010:  14\n",
            "Cantidad de basura en el dataframe 2011:  31\n",
            "Cantidad de basura en el dataframe 2012:  480\n"
          ]
        }
      ]
    },
    {
      "cell_type": "markdown",
      "source": [
        "### Reemplazar Basura por la moda"
      ],
      "metadata": {
        "id": "5eT_OsMcsEMN"
      }
    },
    {
      "cell_type": "code",
      "source": [
        "# Determinar cual fue el valor mas comun en los años 2010 a 2012 en la columna ocupacion\n",
        "moda2010 = df2010['ocupacion'].mode()[0]\n",
        "moda2011 = df2011['ocupacion'].mode()[0]\n",
        "moda2012 = df2012['ocupacion'].mode()[0]\n",
        "\n",
        "print(\"DataFrame 2010. La moda en la columna 'ocupacion' es:\", moda2010)\n",
        "print(\"DataFrame 2011. La moda en la columna 'ocupacion' es:\", moda2011)\n",
        "print(\"DataFrame 2012. La moda en la columna 'ocupacion' es:\", moda2012)\n",
        "# Para los 3 años fue el valor: 2\n",
        "\n",
        "# Buscar los registros que tienen los datos basura y reemplazarlos por el valor de la moda de cada\n",
        "# fragmento\n",
        "condicion2010 = df2010['ocupacion'].isin(listaRuido2010)\n",
        "condicion2011 = df2011['ocupacion'].isin(listaRuido2011)\n",
        "condicion2012 = df2012['ocupacion'].isin(listaRuido2012)\n",
        "\n",
        "df2010.loc[condicion2010, 'ocupacion'] = 2\n",
        "df2011.loc[condicion2011, 'ocupacion'] = 2\n",
        "df2012.loc[condicion2012, 'ocupacion'] = 2"
      ],
      "metadata": {
        "colab": {
          "base_uri": "https://localhost:8080/"
        },
        "id": "OnKVdlOUsDxk",
        "outputId": "b46ef303-13c6-4019-8bc3-7f0fcbffcf52"
      },
      "execution_count": 287,
      "outputs": [
        {
          "output_type": "stream",
          "name": "stdout",
          "text": [
            "DataFrame 2010. La moda en la columna 'ocupacion' es: 2\n",
            "DataFrame 2011. La moda en la columna 'ocupacion' es: 2\n",
            "DataFrame 2012. La moda en la columna 'ocupacion' es: 2\n"
          ]
        }
      ]
    },
    {
      "cell_type": "markdown",
      "source": [
        "### Comprobacion de que se elmino la basura"
      ],
      "metadata": {
        "id": "UVR5TC-zOpJi"
      }
    },
    {
      "cell_type": "code",
      "source": [
        "\n",
        "dfRuido2010 = df2010[df2010['desc_ocupacion'].isnull()]\n",
        "dfRuido2011 = df2011[df2011['desc_ocupacion'].isnull()]\n",
        "dfRuido2012 = df2012[df2012['desc_ocupacion'].isnull()]\n",
        "\n",
        "print(\"DataFrame 2010\".center(100, '-'))\n",
        "print(dfRuido2010[['ocupacion', 'desc_ocupacion']])\n",
        "print(\"DataFrame 2011\".center(100, '-'))\n",
        "print(dfRuido2011[['ocupacion', 'desc_ocupacion']])\n",
        "print(\"DataFrame 2012\".center(100, '-'))\n",
        "print(dfRuido2012[['ocupacion', 'desc_ocupacion']])\n"
      ],
      "metadata": {
        "colab": {
          "base_uri": "https://localhost:8080/"
        },
        "id": "kal8gPGFw_Qu",
        "outputId": "76afacc1-2a02-4466-b97e-7b1d8648308f"
      },
      "execution_count": 288,
      "outputs": [
        {
          "output_type": "stream",
          "name": "stdout",
          "text": [
            "-------------------------------------------DataFrame 2010-------------------------------------------\n",
            "       ocupacion desc_ocupacion\n",
            "70167          2            NaN\n",
            "70169          2            NaN\n",
            "70173          2            NaN\n",
            "70176          2            NaN\n",
            "70187          2            NaN\n",
            "70189          2            NaN\n",
            "70190          2            NaN\n",
            "70194          2            NaN\n",
            "70206          2            NaN\n",
            "70209          2            NaN\n",
            "70213          2            NaN\n",
            "70229          2            NaN\n",
            "70230          2            NaN\n",
            "70240          2            NaN\n",
            "-------------------------------------------DataFrame 2011-------------------------------------------\n",
            "       ocupacion desc_ocupacion\n",
            "71113          2            NaN\n",
            "71126          2            NaN\n",
            "71127          2            NaN\n",
            "71129          2            NaN\n",
            "71130          2            NaN\n",
            "71131          2            NaN\n",
            "71136          2            NaN\n",
            "71139          2            NaN\n",
            "71141          2            NaN\n",
            "71146          2            NaN\n",
            "71147          2            NaN\n",
            "71159          2            NaN\n",
            "71165          2            NaN\n",
            "71166          2            NaN\n",
            "71169          2            NaN\n",
            "71170          2            NaN\n",
            "71171          2            NaN\n",
            "71172          2            NaN\n",
            "71175          2            NaN\n",
            "71177          2            NaN\n",
            "71180          2            NaN\n",
            "71190          2            NaN\n",
            "71194          2            NaN\n",
            "71198          2            NaN\n",
            "71199          2            NaN\n",
            "71202          2            NaN\n",
            "71208          2            NaN\n",
            "71209          2            NaN\n",
            "71216          2            NaN\n",
            "71220          2            NaN\n",
            "71224          2            NaN\n",
            "-------------------------------------------DataFrame 2012-------------------------------------------\n",
            "       ocupacion desc_ocupacion\n",
            "18606          2            NaN\n",
            "18608          2            NaN\n",
            "18609          2            NaN\n",
            "18610          2            NaN\n",
            "18611          2            NaN\n",
            "...          ...            ...\n",
            "72355          2            NaN\n",
            "72366          2            NaN\n",
            "72387          2            NaN\n",
            "72388          2            NaN\n",
            "73061          2            NaN\n",
            "\n",
            "[480 rows x 2 columns]\n"
          ]
        }
      ]
    },
    {
      "cell_type": "markdown",
      "source": [
        "### Mapear"
      ],
      "metadata": {
        "id": "jcxeOuFvjZKq"
      }
    },
    {
      "cell_type": "code",
      "source": [
        "\n",
        "def mapearEmpleo(df20xx, nombreDf):\n",
        "    df20xx = df20xx.drop(['desc_ocupacion'], axis=1) # Eliminar la descripcion de ocupacion de los dataset\n",
        "    df20xx['NuevaColEmpleo'] = 0 # Agregar una nueva columna y llenarla de puros 0, en esta columna se vaceara el mapeo\n",
        "\n",
        "    # Buscar cuales valores se deben mapear (actualizar)\n",
        "    condicion1 = (df20xx['ocupacion'] == 21)\n",
        "    condicion2 = (df20xx['ocupacion'] == 11) | (df20xx['ocupacion'] == 12) | (df20xx['ocupacion'] == 13)\n",
        "    condicion3 = (df20xx['ocupacion'] == 61) | (df20xx['ocupacion'] == 62)\n",
        "    condicion4 = (df20xx['ocupacion'] == 71)\n",
        "    condicion5 = (df20xx['ocupacion'] == 81) | (df20xx['ocupacion'] == 83)\n",
        "    condicion6 = (df20xx['ocupacion'] == 41)\n",
        "    condicion7 = (df20xx['ocupacion'] == 54)\n",
        "    condicion8 = (df20xx['ocupacion'] == 51) | (df20xx['ocupacion'] == 52) | (df20xx['ocupacion'] == 53) | (df20xx['ocupacion'] == 55)\n",
        "    condicion9 = (df20xx['ocupacion'] == 82)\n",
        "    condicion11 = (df20xx['ocupacion'] == 2) | (df20xx['ocupacion'] == 72)\n",
        "    condicion98 = (df20xx['ocupacion'] == 14)\n",
        "\n",
        "    # Actualizar los valores\n",
        "    df20xx.loc[condicion1, 'NuevaColEmpleo'] = 1\n",
        "    df20xx.loc[condicion2, 'NuevaColEmpleo'] = 2\n",
        "    df20xx.loc[condicion3, 'NuevaColEmpleo'] = 3\n",
        "    df20xx.loc[condicion4, 'NuevaColEmpleo'] = 4\n",
        "    df20xx.loc[condicion5, 'NuevaColEmpleo'] = 5\n",
        "    df20xx.loc[condicion6, 'NuevaColEmpleo'] = 6\n",
        "    df20xx.loc[condicion7, 'NuevaColEmpleo'] = 7\n",
        "    df20xx.loc[condicion8, 'NuevaColEmpleo'] = 8\n",
        "    df20xx.loc[condicion9, 'NuevaColEmpleo'] = 9\n",
        "    df20xx.loc[condicion11, 'NuevaColEmpleo'] = 11\n",
        "    df20xx.loc[condicion98, 'NuevaColEmpleo'] = 98\n",
        "\n",
        "    # Pasar estas llaves tal cual estan (no sufren mapeo porque estos si coinciden)\n",
        "    condicion97 = (df20xx['ocupacion'] == 97)\n",
        "    condicion98 = (df20xx['ocupacion'] == 98)\n",
        "    condicion99 = (df20xx['ocupacion'] == 99)\n",
        "\n",
        "    df20xx.loc[condicion97, 'NuevaColEmpleo'] = 97\n",
        "    df20xx.loc[condicion98, 'NuevaColEmpleo'] = 98\n",
        "    df20xx.loc[condicion99, 'NuevaColEmpleo'] = 99\n",
        "\n",
        "    # Imprimir resultados y validacion\n",
        "    condicion0 = (df20xx['NuevaColEmpleo'] == 0)\n",
        "    newDf = df20xx.loc[condicion0]\n",
        "    print(f'En el dataframe {nombreDf} la cantidad de registros con el valor 0 en la columna NuevaColEmpleo es: {newDf.shape[0]}')\n",
        "\n",
        "    return df20xx\n",
        "\n",
        "df2010 = mapearEmpleo(df2010, '2010')\n",
        "df2011 = mapearEmpleo(df2011, '2011')\n",
        "df2012 = mapearEmpleo(df2012, '2012')"
      ],
      "metadata": {
        "id": "Fdz55qPjjigQ",
        "colab": {
          "base_uri": "https://localhost:8080/"
        },
        "outputId": "6d1935a0-26d8-4432-e309-0cfdc8368027"
      },
      "execution_count": 289,
      "outputs": [
        {
          "output_type": "stream",
          "name": "stdout",
          "text": [
            "En el dataframe 2010 la cantidad de registros con el valor 0 en la columna NuevaColEmpleo es: 0\n",
            "En el dataframe 2011 la cantidad de registros con el valor 0 en la columna NuevaColEmpleo es: 0\n",
            "En el dataframe 2012 la cantidad de registros con el valor 0 en la columna NuevaColEmpleo es: 0\n"
          ]
        }
      ]
    },
    {
      "cell_type": "markdown",
      "source": [
        "### Realizar la integracion con el 'nuevo catalogo' de empleo"
      ],
      "metadata": {
        "id": "HXMR7SLhRR4j"
      }
    },
    {
      "cell_type": "code",
      "source": [
        "# Realizar nuevamente la integracion de las bases de datos 2010, 2011 y 2012 con los catalogos de empleo de los\n",
        "# años 2013 a 2019\n",
        "df2010 = pd.merge(df2010, dfEmpleo, how='inner', left_on='NuevaColEmpleo', right_on='CVE')\n",
        "df2011 = pd.merge(df2011, dfEmpleo, how='inner', left_on='NuevaColEmpleo', right_on='CVE')\n",
        "df2012 = pd.merge(df2012, dfEmpleo, how='inner', left_on='NuevaColEmpleo', right_on='CVE')\n",
        "\n",
        "df2010 = df2010.rename(columns={\"DESCRIP\": \"desc_ocupacion\"})\n",
        "df2011 = df2010.rename(columns={\"DESCRIP\": \"desc_ocupacion\"})\n",
        "df2012 = df2010.rename(columns={\"DESCRIP\": \"desc_ocupacion\"})"
      ],
      "metadata": {
        "id": "jR4e9ev3vKiM"
      },
      "execution_count": 290,
      "outputs": []
    },
    {
      "cell_type": "markdown",
      "source": [
        "## Limpieza por Educacion ---------------------------------------------------------------------------------------------------"
      ],
      "metadata": {
        "id": "cPy_ZsTr7DOp"
      }
    },
    {
      "cell_type": "markdown",
      "source": [
        "### Detectar basura"
      ],
      "metadata": {
        "id": "WABNGTUFVdkq"
      }
    },
    {
      "cell_type": "code",
      "source": [
        "dfRuido2010 = df2010[df2010['desc_escolaridad'].isnull()]\n",
        "dfRuido2011 = df2011[df2011['desc_escolaridad'].isnull()]\n",
        "dfRuido2012 = df2012[df2012['desc_escolaridad'].isnull()]\n",
        "dfRuido2013 = df2013[df2013['desc_escolaridad'].isnull()]\n",
        "dfRuido2014 = df2014[df2014['desc_escolaridad'].isnull()]\n",
        "dfRuido2015 = df2015[df2015['desc_escolaridad'].isnull()]\n",
        "dfRuido2016 = df2016[df2016['desc_escolaridad'].isnull()]\n",
        "dfRuido2017 = df2017[df2017['desc_escolaridad'].isnull()]\n",
        "dfRuido2018 = df2018[df2018['desc_escolaridad'].isnull()]\n",
        "dfRuido2019 = df2019[df2019['desc_escolaridad'].isnull()]\n",
        "\n",
        "print(dfRuido2010['escolarida'].unique())\n",
        "print(dfRuido2011['escolarida'].unique())\n",
        "print(dfRuido2012['escolarida'].unique())\n",
        "print(dfRuido2013['escolarida'].unique())\n",
        "print(dfRuido2014['escolarida'].unique())\n",
        "print(dfRuido2015['escolarida'].unique())\n",
        "print(dfRuido2016['escolarida'].unique())\n",
        "print(dfRuido2017['escolarida'].unique())\n",
        "print(dfRuido2018['escolarida'].unique())\n",
        "print(dfRuido2019['escolarida'].unique())\n",
        "# Entonces solo hubo ruido en los años 2010 y 2011"
      ],
      "metadata": {
        "id": "j3ddNGXn5S2Q",
        "colab": {
          "base_uri": "https://localhost:8080/"
        },
        "outputId": "5de0d566-d03d-4218-d839-124afa785fdb"
      },
      "execution_count": 291,
      "outputs": [
        {
          "output_type": "stream",
          "name": "stdout",
          "text": [
            "[99 88 10]\n",
            "[99 88 10]\n",
            "[99 88 10]\n",
            "[]\n",
            "[]\n",
            "[]\n",
            "[]\n",
            "[]\n",
            "[]\n",
            "[]\n"
          ]
        }
      ]
    },
    {
      "cell_type": "markdown",
      "source": [
        "### Contar la cantidad de basura"
      ],
      "metadata": {
        "id": "DmYDyBbxWzil"
      }
    },
    {
      "cell_type": "code",
      "source": [
        "listaRuido2010 = list(dfRuido2010['escolarida'].unique())\n",
        "listaRuido2011 = list(dfRuido2011['escolarida'].unique())\n",
        "\n",
        "condicion2010 = df2010['escolarida'].isin(listaRuido2010)\n",
        "condicion2011 = df2011['escolarida'].isin(listaRuido2011)\n",
        "\n",
        "newDf2010 = df2010.loc[condicion2010]\n",
        "newDf2011 = df2011.loc[condicion2011]\n",
        "\n",
        "print('Cantidad de basura en el dataframe 2010: ', newDf2010.shape[0])\n",
        "print('Cantidad de basura en el dataframe 2011: ', newDf2011.shape[0])"
      ],
      "metadata": {
        "colab": {
          "base_uri": "https://localhost:8080/"
        },
        "id": "4gC3nDXJW2Du",
        "outputId": "165c069c-c236-401f-a99a-ad096979b22f"
      },
      "execution_count": 292,
      "outputs": [
        {
          "output_type": "stream",
          "name": "stdout",
          "text": [
            "Cantidad de basura en el dataframe 2010:  42\n",
            "Cantidad de basura en el dataframe 2011:  42\n"
          ]
        }
      ]
    },
    {
      "cell_type": "markdown",
      "source": [
        "### Reemplazar basura por la moda"
      ],
      "metadata": {
        "id": "gsyI_ZP9YEuv"
      }
    },
    {
      "cell_type": "code",
      "source": [
        "# Determinar cual fue el valor mas comun en los años 2010 y 2011 en la columna escolarida\n",
        "moda2010 = df2010['escolarida'].mode()[0]\n",
        "moda2011 = df2011['escolarida'].mode()[0]\n",
        "\n",
        "print(\"DataFrame 2010. La moda en la columna 'escolarida' es:\", moda2010)\n",
        "print(\"DataFrame 2011. La moda en la columna 'escolarida' es:\", moda2011)\n",
        "# Para los 2 años fue el valor: 2\n",
        "\n",
        "# Buscar los registros que tienen los datos basura y reemplazarlos por el valor de la moda de cada\n",
        "# fragmento\n",
        "condicion2010 = df2010['escolarida'].isin(listaRuido2010)\n",
        "condicion2011 = df2011['escolarida'].isin(listaRuido2011)\n",
        "\n",
        "df2010.loc[condicion2010, 'escolarida'] = 2\n",
        "df2011.loc[condicion2011, 'escolarida'] = 2"
      ],
      "metadata": {
        "colab": {
          "base_uri": "https://localhost:8080/"
        },
        "id": "nMQJQNYoYI8l",
        "outputId": "469f553f-8c35-403a-8743-ad683118ba42"
      },
      "execution_count": 293,
      "outputs": [
        {
          "output_type": "stream",
          "name": "stdout",
          "text": [
            "DataFrame 2010. La moda en la columna 'escolarida' es: 2\n",
            "DataFrame 2011. La moda en la columna 'escolarida' es: 2\n"
          ]
        }
      ]
    },
    {
      "cell_type": "markdown",
      "source": [
        "### Comprobacion de que se elmino la basura"
      ],
      "metadata": {
        "id": "x9qb8bUEbRjf"
      }
    },
    {
      "cell_type": "code",
      "source": [
        "dfRuido2010 = df2010[df2010['desc_escolaridad'].isnull()]\n",
        "dfRuido2011 = df2011[df2011['desc_escolaridad'].isnull()]\n",
        "\n",
        "print(\"DataFrame 2010\".center(100, '-'))\n",
        "print(dfRuido2010[['escolarida', 'desc_escolaridad']])\n",
        "print(\"DataFrame 2011\".center(100, '-'))\n",
        "print(dfRuido2011[['escolarida', 'desc_escolaridad']])\n"
      ],
      "metadata": {
        "colab": {
          "base_uri": "https://localhost:8080/"
        },
        "id": "MJT6DSpTbTIm",
        "outputId": "75e8acc5-3935-4123-c5e3-e4b3967af81b"
      },
      "execution_count": 294,
      "outputs": [
        {
          "output_type": "stream",
          "name": "stdout",
          "text": [
            "-------------------------------------------DataFrame 2010-------------------------------------------\n",
            "       escolarida desc_escolaridad\n",
            "50023           2              NaN\n",
            "50026           2              NaN\n",
            "50030           2              NaN\n",
            "50031           2              NaN\n",
            "50043           2              NaN\n",
            "59276           2              NaN\n",
            "59278           2              NaN\n",
            "62537           2              NaN\n",
            "62552           2              NaN\n",
            "68068           2              NaN\n",
            "68342           2              NaN\n",
            "68344           2              NaN\n",
            "69873           2              NaN\n",
            "69877           2              NaN\n",
            "69878           2              NaN\n",
            "69880           2              NaN\n",
            "69881           2              NaN\n",
            "69882           2              NaN\n",
            "69883           2              NaN\n",
            "69886           2              NaN\n",
            "69887           2              NaN\n",
            "69888           2              NaN\n",
            "69889           2              NaN\n",
            "69890           2              NaN\n",
            "69891           2              NaN\n",
            "69892           2              NaN\n",
            "69893           2              NaN\n",
            "69894           2              NaN\n",
            "69896           2              NaN\n",
            "69897           2              NaN\n",
            "69899           2              NaN\n",
            "69900           2              NaN\n",
            "69901           2              NaN\n",
            "69903           2              NaN\n",
            "69904           2              NaN\n",
            "69905           2              NaN\n",
            "69907           2              NaN\n",
            "69908           2              NaN\n",
            "69909           2              NaN\n",
            "69911           2              NaN\n",
            "69912           2              NaN\n",
            "69913           2              NaN\n",
            "-------------------------------------------DataFrame 2011-------------------------------------------\n",
            "       escolarida desc_escolaridad\n",
            "50023           2              NaN\n",
            "50026           2              NaN\n",
            "50030           2              NaN\n",
            "50031           2              NaN\n",
            "50043           2              NaN\n",
            "59276           2              NaN\n",
            "59278           2              NaN\n",
            "62537           2              NaN\n",
            "62552           2              NaN\n",
            "68068           2              NaN\n",
            "68342           2              NaN\n",
            "68344           2              NaN\n",
            "69873           2              NaN\n",
            "69877           2              NaN\n",
            "69878           2              NaN\n",
            "69880           2              NaN\n",
            "69881           2              NaN\n",
            "69882           2              NaN\n",
            "69883           2              NaN\n",
            "69886           2              NaN\n",
            "69887           2              NaN\n",
            "69888           2              NaN\n",
            "69889           2              NaN\n",
            "69890           2              NaN\n",
            "69891           2              NaN\n",
            "69892           2              NaN\n",
            "69893           2              NaN\n",
            "69894           2              NaN\n",
            "69896           2              NaN\n",
            "69897           2              NaN\n",
            "69899           2              NaN\n",
            "69900           2              NaN\n",
            "69901           2              NaN\n",
            "69903           2              NaN\n",
            "69904           2              NaN\n",
            "69905           2              NaN\n",
            "69907           2              NaN\n",
            "69908           2              NaN\n",
            "69909           2              NaN\n",
            "69911           2              NaN\n",
            "69912           2              NaN\n",
            "69913           2              NaN\n"
          ]
        }
      ]
    },
    {
      "cell_type": "markdown",
      "source": [
        "### Mapear"
      ],
      "metadata": {
        "id": "tnDDcRqJcZt7"
      }
    },
    {
      "cell_type": "code",
      "source": [
        "def mapearEducacion(df20xx, nombreDf):\n",
        "    df20xx = df20xx.drop(['desc_escolaridad'], axis=1) # Eliminar la descripcion de escolarida de los dataset\n",
        "    df20xx['NuevaColEducacion'] = 0 # Agregar una nueva columna y llenarla de puros 0, en esta columna se vaceara el mapeo\n",
        "\n",
        "    # Buscar cuales valores se deben mapear (actualizar)\n",
        "    condicion3 = (df20xx['escolarida'] == 2)\n",
        "    condicion4 = (df20xx['escolarida'] == 3)\n",
        "    condicion5 = (df20xx['escolarida'] == 4)\n",
        "    condicion6 = (df20xx['escolarida'] == 5)\n",
        "    condicion9 = (df20xx['escolarida'] == 7)\n",
        "    condicion88 = (df20xx['escolarida'] == 8)\n",
        "    condicion99 = (df20xx['escolarida'] == 9)\n",
        "\n",
        "    # Actualizar los valores\n",
        "    df20xx.loc[condicion3, 'NuevaColEducacion'] = 3\n",
        "    df20xx.loc[condicion4, 'NuevaColEducacion'] = 4\n",
        "    df20xx.loc[condicion5, 'NuevaColEducacion'] = 5\n",
        "    df20xx.loc[condicion6, 'NuevaColEducacion'] = 6\n",
        "    df20xx.loc[condicion9, 'NuevaColEducacion'] = 9\n",
        "    df20xx.loc[condicion88, 'NuevaColEducacion'] = 88\n",
        "    df20xx.loc[condicion99, 'NuevaColEducacion'] = 99\n",
        "\n",
        "    # Pasar estas llaves tal cual estan (no sufren mapeo porque estos si coinciden)\n",
        "    condicion1 = (df20xx['escolarida'] == 1)\n",
        "\n",
        "    df20xx.loc[condicion1, 'NuevaColEducacion'] = 1\n",
        "\n",
        "    # Imprimir resultados y validacion\n",
        "    condicion0 = (df20xx['NuevaColEducacion'] == 0)\n",
        "    newDf = df20xx.loc[condicion0]\n",
        "    print(f'En el dataframe {nombreDf} la cantidad de registros con el valor 0 en la columna NuevaColEducacion es: {newDf.shape[0]}')\n",
        "\n",
        "    return df20xx\n",
        "\n",
        "df2010 = mapearEducacion(df2010, '2010')\n",
        "df2011 = mapearEducacion(df2011, '2011')"
      ],
      "metadata": {
        "colab": {
          "base_uri": "https://localhost:8080/"
        },
        "id": "jPzL8AlvcbI5",
        "outputId": "80419090-53d3-47b8-8ecd-cc8023c95580"
      },
      "execution_count": 295,
      "outputs": [
        {
          "output_type": "stream",
          "name": "stdout",
          "text": [
            "En el dataframe 2010 la cantidad de registros con el valor 0 en la columna NuevaColEducacion es: 5205\n",
            "En el dataframe 2011 la cantidad de registros con el valor 0 en la columna NuevaColEducacion es: 5205\n"
          ]
        }
      ]
    },
    {
      "cell_type": "markdown",
      "source": [
        "### Realizar la integracion con el 'nuevo catalogo' de educacion"
      ],
      "metadata": {
        "id": "74lBl2P_kxqc"
      }
    },
    {
      "cell_type": "code",
      "source": [
        "# Realizar nuevamente la integracion de las bases de datos 2010 y 2011 con los catalogos de educacion de los\n",
        "# años 2012 a 2019\n",
        "df2010 = pd.merge(df2010, dfEmpleo, how='inner', left_on='NuevaColEducacion', right_on='CVE')\n",
        "df2011 = pd.merge(df2011, dfEmpleo, how='inner', left_on='NuevaColEducacion', right_on='CVE')\n",
        "\n",
        "df2010 = df2010.rename(columns={\"DESCRIP\": \"desc_escolaridad\"})\n",
        "df2011 = df2010.rename(columns={\"DESCRIP\": \"desc_escolaridad\"})"
      ],
      "metadata": {
        "id": "2aCEyDYlk0Co"
      },
      "execution_count": 296,
      "outputs": []
    },
    {
      "cell_type": "markdown",
      "source": [
        "## Conclusión de la Limpieza ---------------------------------------------------------------------------------------------------"
      ],
      "metadata": {
        "id": "zoKYObHpQ1kx"
      }
    },
    {
      "cell_type": "markdown",
      "source": [
        "### Selección de las columnas"
      ],
      "metadata": {
        "id": "WQKxpxuXQ-vo"
      }
    },
    {
      "cell_type": "code",
      "source": [
        "df2010 = df2010[['ent_resid_nm', 'detailCaus', 'desc_ocupacion', 'desc_escolaridad']]\n",
        "df2011 = df2011[['ent_resid_nm', 'detailCaus', 'desc_ocupacion', 'desc_escolaridad']]\n",
        "df2012 = df2012[['ent_resid_nm', 'detailCaus', 'desc_ocupacion', 'desc_escolaridad']]\n",
        "df2013 = df2013[['ent_resid_nm', 'detailCaus', 'desc_ocupacion', 'desc_escolaridad']]\n",
        "df2014 = df2014[['ent_resid_nm', 'detailCaus', 'desc_ocupacion', 'desc_escolaridad']]\n",
        "df2015 = df2015[['ent_resid_nm', 'detailCaus', 'desc_ocupacion', 'desc_escolaridad']]\n",
        "df2016 = df2016[['ent_resid_nm', 'detailCaus', 'desc_ocupacion', 'desc_escolaridad']]\n",
        "df2017 = df2017[['ent_resid_nm', 'detailCaus', 'desc_ocupacion', 'desc_escolaridad']]\n",
        "df2018 = df2018[['ent_resid_nm', 'detailCaus', 'desc_ocupacion', 'desc_escolaridad']]\n",
        "df2019 = df2019[['ent_resid_nm', 'detailCaus', 'desc_ocupacion', 'desc_escolaridad']]"
      ],
      "metadata": {
        "id": "TQA0psrYQ565"
      },
      "execution_count": 297,
      "outputs": []
    },
    {
      "cell_type": "markdown",
      "source": [
        "### Almacenar nueva base de datos"
      ],
      "metadata": {
        "id": "OJm9lKDUTB3D"
      }
    },
    {
      "cell_type": "code",
      "source": [
        "nuevaMortalidadLimpia = '/content/drive/MyDrive/Pt2/Primeras Actividades/0 Bases de Datos/Nueva Mortalidad Limpia/'\n",
        "\n",
        "df2010.to_csv(nuevaMortalidadLimpia + '2010.csv')\n",
        "df2011.to_csv(nuevaMortalidadLimpia + '2011.csv')\n",
        "df2012.to_csv(nuevaMortalidadLimpia + '2012.csv')\n",
        "df2013.to_csv(nuevaMortalidadLimpia + '2013.csv')\n",
        "df2014.to_csv(nuevaMortalidadLimpia + '2014.csv')\n",
        "df2015.to_csv(nuevaMortalidadLimpia + '2015.csv')\n",
        "df2016.to_csv(nuevaMortalidadLimpia + '2016.csv')\n",
        "df2017.to_csv(nuevaMortalidadLimpia + '2017.csv')\n",
        "df2018.to_csv(nuevaMortalidadLimpia + '2018.csv')\n",
        "df2019.to_csv(nuevaMortalidadLimpia + '2019.csv')\n"
      ],
      "metadata": {
        "id": "XlFCAviMS8mc"
      },
      "execution_count": 298,
      "outputs": []
    }
  ]
}