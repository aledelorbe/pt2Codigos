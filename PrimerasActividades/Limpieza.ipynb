{
  "nbformat": 4,
  "nbformat_minor": 0,
  "metadata": {
    "colab": {
      "provenance": [],
      "toc_visible": true,
      "mount_file_id": "1X36SSGRCWi0k2c-HzEOQlg9-Vvv8nP26",
      "authorship_tag": "ABX9TyNNVZgb/IsEan75iYYwUwHs",
      "include_colab_link": true
    },
    "kernelspec": {
      "name": "python3",
      "display_name": "Python 3"
    },
    "language_info": {
      "name": "python"
    }
  },
  "cells": [
    {
      "cell_type": "markdown",
      "metadata": {
        "id": "view-in-github",
        "colab_type": "text"
      },
      "source": [
        "<a href=\"https://colab.research.google.com/github/aledelorbe/pt2Codigos/blob/main/PrimerasActividades/Limpieza.ipynb\" target=\"_parent\"><img src=\"https://colab.research.google.com/assets/colab-badge.svg\" alt=\"Open In Colab\"/></a>"
      ]
    },
    {
      "cell_type": "markdown",
      "source": [
        "### Cargar librerias"
      ],
      "metadata": {
        "id": "TfLRvAuPFeqe"
      }
    },
    {
      "cell_type": "code",
      "source": [
        "import pandas as pd\n",
        "import matplotlib.pyplot as plt\n",
        "from sklearn.impute import SimpleImputer"
      ],
      "metadata": {
        "id": "AO4KKD9XEpzI"
      },
      "execution_count": 239,
      "outputs": []
    },
    {
      "cell_type": "markdown",
      "source": [
        "### Cargar los dataFrame"
      ],
      "metadata": {
        "id": "r7EfovT3UImO"
      }
    },
    {
      "cell_type": "code",
      "source": [
        "nuevaMortalidad = '/content/drive/MyDrive/Pt2/Primeras Actividades/0 Bases de Datos/Nueva Mortalidad/'\n",
        "\n",
        "df2010 = pd.read_csv(nuevaMortalidad + '2010.csv')\n",
        "df2011 = pd.read_csv(nuevaMortalidad + '2011.csv')\n",
        "df2012 = pd.read_csv(nuevaMortalidad + '2012.csv')\n",
        "df2013 = pd.read_csv(nuevaMortalidad + '2013.csv')\n",
        "df2014 = pd.read_csv(nuevaMortalidad + '2014.csv')\n",
        "df2015 = pd.read_csv(nuevaMortalidad + '2015.csv')\n",
        "df2016 = pd.read_csv(nuevaMortalidad + '2016.csv')\n",
        "df2017 = pd.read_csv(nuevaMortalidad + '2017.csv')\n",
        "df2018 = pd.read_csv(nuevaMortalidad + '2018.csv')\n",
        "df2019 = pd.read_csv(nuevaMortalidad + '2019.csv')"
      ],
      "metadata": {
        "id": "y1JW32OLUImP"
      },
      "execution_count": 240,
      "outputs": []
    },
    {
      "cell_type": "markdown",
      "source": [
        "### Cargar los catalogos de empleo y educacion (\"Recientes\")\n"
      ],
      "metadata": {
        "id": "FNvKUPMc6Aw1"
      }
    },
    {
      "cell_type": "code",
      "source": [
        "catalogos = '/content/drive/MyDrive/Pt2/Primeras Actividades/0 Bases de Datos/Catalogos/'\n",
        "\n",
        "dfEscolaridad = pd.read_csv(catalogos + 'escolaridad2012_2019.csv', encoding='latin-1')\n",
        "dfEmpleo = pd.read_csv(catalogos + 'ocupacion2013_2019.csv', encoding='latin-1')"
      ],
      "metadata": {
        "id": "vv1q08Sx6HEd"
      },
      "execution_count": 241,
      "outputs": []
    },
    {
      "cell_type": "markdown",
      "source": [
        "### Seleccionar las columnas relevantes para realizar la limpieza"
      ],
      "metadata": {
        "id": "uZVjRcabq1-H"
      }
    },
    {
      "cell_type": "code",
      "source": [
        "df2010 = df2010[['ent_resid', 'ent_resid_nm', 'ICD', 'Organ', 'ocupacion', 'desc_ocupacion', 'escolarida', 'desc_escolaridad']]\n",
        "df2011 = df2011[['ent_resid', 'ent_resid_nm', 'ICD', 'Organ', 'ocupacion', 'desc_ocupacion', 'escolarida', 'desc_escolaridad']]\n",
        "df2012 = df2012[['ent_resid', 'ent_resid_nm', 'ICD', 'Organ', 'ocupacion', 'desc_ocupacion', 'escolarida', 'desc_escolaridad']]\n",
        "df2013 = df2013[['ent_resid', 'ent_resid_nm', 'ICD', 'Organ', 'ocupacion', 'desc_ocupacion', 'escolarida', 'desc_escolaridad']]\n",
        "df2014 = df2014[['ent_resid', 'ent_resid_nm', 'ICD', 'Organ', 'ocupacion', 'desc_ocupacion', 'escolarida', 'desc_escolaridad']]\n",
        "df2015 = df2015[['ent_resid', 'ent_resid_nm', 'ICD', 'Organ', 'ocupacion', 'desc_ocupacion', 'escolarida', 'desc_escolaridad']]\n",
        "df2016 = df2016[['ent_resid', 'ent_resid_nm', 'ICD', 'Organ', 'ocupacion', 'desc_ocupacion', 'escolarida', 'desc_escolaridad']]\n",
        "df2017 = df2017[['ent_resid', 'ent_resid_nm', 'ICD', 'Organ', 'ocupacion', 'desc_ocupacion', 'escolarida', 'desc_escolaridad']]\n",
        "df2018 = df2018[['ent_resid', 'ent_resid_nm', 'ICD', 'Organ', 'ocupacion', 'desc_ocupacion', 'escolarida', 'desc_escolaridad']]\n",
        "df2019 = df2019[['ent_resid', 'ent_resid_nm', 'ICD', 'Organ', 'ocupacion', 'desc_ocupacion', 'escolarida', 'desc_escolaridad']]"
      ],
      "metadata": {
        "id": "qEx8420cq1DL"
      },
      "execution_count": 242,
      "outputs": []
    },
    {
      "cell_type": "markdown",
      "source": [
        "# LIMPIEZA"
      ],
      "metadata": {
        "id": "4QbO23WDgQbo"
      }
    },
    {
      "cell_type": "markdown",
      "source": [
        "## Limpieza por Estado ---------------------------------------------------------------------------------------------------"
      ],
      "metadata": {
        "id": "clpIHElC66QN"
      }
    },
    {
      "cell_type": "markdown",
      "source": [
        "### Eliminar EUA"
      ],
      "metadata": {
        "id": "OjdmKh1bsX-4"
      }
    },
    {
      "cell_type": "code",
      "source": [
        "# Definicion de la funcion que eliminaria los registros provenientes de este estado.\n",
        "# Como el proyecto tiene como objetivo analizar datos de personas en Mexico, se considera necesario eliminar los datos de personas\n",
        "# las cuales pertenezcan a EUA.\n",
        "\n",
        "def eliminarRegistros_x_Valor(df20xx, nombreDf, valorEliminar):\n",
        "  condicion20xx = (df20xx['ent_resid_nm'] == valorEliminar) # Detectar los registros con el valor de EUA en el campo 'ent_resid_nm'\n",
        "  print(f'Cantidad de basura en el dataframe {nombreDf}: {df20xx.loc[condicion20xx].shape[0]}') # Contar la cantidad de registros por cada fragmento con el valor de EUA\n",
        "  df20xx = df20xx.drop(df20xx[condicion20xx].index) # Eliminacion de registros\n",
        "\n",
        "  return df20xx\n",
        "\n",
        "# Mandar a llamar la funcion\n",
        "df2010 = eliminarRegistros_x_Valor(df2010, '2010', 'Estados unidos de America')\n",
        "df2011 = eliminarRegistros_x_Valor(df2011, '2011', 'Estados unidos de America')\n",
        "df2012 = eliminarRegistros_x_Valor(df2012, '2012', 'Estados unidos de America')\n",
        "df2013 = eliminarRegistros_x_Valor(df2013, '2013', 'Estados unidos de America')\n",
        "df2014 = eliminarRegistros_x_Valor(df2014, '2014', 'Estados unidos de America')\n",
        "df2015 = eliminarRegistros_x_Valor(df2015, '2015', 'Estados unidos de America')\n",
        "df2016 = eliminarRegistros_x_Valor(df2016, '2016', 'Estados unidos de America')\n",
        "df2017 = eliminarRegistros_x_Valor(df2017, '2017', 'Estados unidos de America')\n",
        "df2018 = eliminarRegistros_x_Valor(df2018, '2018', 'Estados unidos de America')\n",
        "df2019 = eliminarRegistros_x_Valor(df2019, '2019', 'Estados unidos de America')\n"
      ],
      "metadata": {
        "colab": {
          "base_uri": "https://localhost:8080/"
        },
        "id": "HvR23yRfsW3b",
        "outputId": "7c2da593-285f-493e-de5e-59c013d68fcd"
      },
      "execution_count": 243,
      "outputs": [
        {
          "output_type": "stream",
          "name": "stdout",
          "text": [
            "Cantidad de basura en el dataframe 2010: 99\n",
            "Cantidad de basura en el dataframe 2011: 96\n",
            "Cantidad de basura en el dataframe 2012: 77\n",
            "Cantidad de basura en el dataframe 2013: 94\n",
            "Cantidad de basura en el dataframe 2014: 86\n",
            "Cantidad de basura en el dataframe 2015: 77\n",
            "Cantidad de basura en el dataframe 2016: 117\n",
            "Cantidad de basura en el dataframe 2017: 121\n",
            "Cantidad de basura en el dataframe 2018: 88\n",
            "Cantidad de basura en el dataframe 2019: 87\n"
          ]
        }
      ]
    },
    {
      "cell_type": "markdown",
      "source": [
        "### Comprobar de la inexistencia del valor de EUA"
      ],
      "metadata": {
        "id": "Oes3Zx4_RMFT"
      }
    },
    {
      "cell_type": "code",
      "source": [
        "def ordenarLista(lista, nombreDf):\n",
        "  listaSinNan = [valor for valor in lista if type(valor) != float]\n",
        "  listaOrdenada = sorted(listaSinNan)\n",
        "  listaOrdenada.append('NaN')\n",
        "\n",
        "  titulo = f\"DataFrame {nombreDf}\".center(100, '-')\n",
        "  print(titulo)\n",
        "  print(listaOrdenada)\n",
        "\n",
        "# Crear listas de los valores distintos en el campo 'ent_resid_nm' de cada fragmento\n",
        "lista2010 = list(df2010['ent_resid_nm'].unique())\n",
        "lista2011 = list(df2011['ent_resid_nm'].unique())\n",
        "lista2012 = list(df2012['ent_resid_nm'].unique())\n",
        "lista2013 = list(df2013['ent_resid_nm'].unique())\n",
        "lista2014 = list(df2014['ent_resid_nm'].unique())\n",
        "lista2015 = list(df2015['ent_resid_nm'].unique())\n",
        "lista2016 = list(df2016['ent_resid_nm'].unique())\n",
        "lista2017 = list(df2017['ent_resid_nm'].unique())\n",
        "lista2018 = list(df2018['ent_resid_nm'].unique())\n",
        "lista2019 = list(df2019['ent_resid_nm'].unique())\n",
        "\n",
        "# Mandar a llamar la funcion\n",
        "ordenarLista(lista2010, '2010')\n",
        "ordenarLista(lista2011, '2011')\n",
        "ordenarLista(lista2012, '2012')\n",
        "ordenarLista(lista2013, '2013')\n",
        "ordenarLista(lista2014, '2014')\n",
        "ordenarLista(lista2015, '2015')\n",
        "ordenarLista(lista2016, '2016')\n",
        "ordenarLista(lista2017, '2017')\n",
        "ordenarLista(lista2018, '2018')\n",
        "ordenarLista(lista2019, '2019')"
      ],
      "metadata": {
        "colab": {
          "base_uri": "https://localhost:8080/"
        },
        "id": "F-hQzeGo976F",
        "outputId": "d489aa78-0284-49e0-f03f-3680eabb4e92"
      },
      "execution_count": 244,
      "outputs": [
        {
          "output_type": "stream",
          "name": "stdout",
          "text": [
            "-------------------------------------------DataFrame 2010-------------------------------------------\n",
            "['Aguascalientes', 'Baja California', 'Baja California Sur', 'Campeche', 'Chiapas', 'Chihuahua', 'Coahuila de Zaragoza', 'Colima', 'Distrito Federal', 'Durango', 'Guanajuato', 'Guerrero', 'Hidalgo', 'Jalisco', 'Michoacán de Ocampo', 'Morelos', 'México', 'Nayarit', 'Nuevo León', 'Oaxaca', 'Puebla', 'Querétaro', 'Quintana Roo', 'San Luis Potosí', 'Sinaloa', 'Sonora', 'Tabasco', 'Tamaulipas', 'Tlaxcala', 'Veracruz de Ignacio de la Llave', 'Yucatán', 'Zacatecas', 'NaN']\n",
            "-------------------------------------------DataFrame 2011-------------------------------------------\n",
            "['Aguascalientes', 'Baja California', 'Baja California Sur', 'Campeche', 'Chiapas', 'Chihuahua', 'Coahuila de Zaragoza', 'Colima', 'Distrito Federal', 'Durango', 'Guanajuato', 'Guerrero', 'Hidalgo', 'Jalisco', 'Michoacán de Ocampo', 'Morelos', 'México', 'Nayarit', 'Nuevo León', 'Oaxaca', 'Puebla', 'Querétaro', 'Quintana Roo', 'San Luis Potosí', 'Sinaloa', 'Sonora', 'Tabasco', 'Tamaulipas', 'Tlaxcala', 'Veracruz de Ignacio de la Llave', 'Yucatán', 'Zacatecas', 'NaN']\n",
            "-------------------------------------------DataFrame 2012-------------------------------------------\n",
            "['Aguascalientes', 'Baja California', 'Baja California Sur', 'Campeche', 'Chiapas', 'Chihuahua', 'Coahuila de Zaragoza', 'Colima', 'Distrito Federal', 'Durango', 'Guanajuato', 'Guerrero', 'Hidalgo', 'Jalisco', 'Michoacán de Ocampo', 'Morelos', 'México', 'Nayarit', 'Nuevo León', 'Oaxaca', 'Puebla', 'Querétaro', 'Quintana Roo', 'San Luis Potosí', 'Sinaloa', 'Sonora', 'Tabasco', 'Tamaulipas', 'Tlaxcala', 'Veracruz de Ignacio de la Llave', 'Yucatán', 'Zacatecas', 'NaN']\n",
            "-------------------------------------------DataFrame 2013-------------------------------------------\n",
            "['Aguascalientes', 'Baja California', 'Baja California Sur', 'Campeche', 'Chiapas', 'Chihuahua', 'Coahuila de Zaragoza', 'Colima', 'Distrito Federal', 'Durango', 'Guanajuato', 'Guerrero', 'Hidalgo', 'Jalisco', 'Michoacán de Ocampo', 'Morelos', 'México', 'Nayarit', 'Nuevo León', 'Oaxaca', 'Puebla', 'Querétaro', 'Quintana Roo', 'San Luis Potosí', 'Sinaloa', 'Sonora', 'Tabasco', 'Tamaulipas', 'Tlaxcala', 'Veracruz de Ignacio de la Llave', 'Yucatán', 'Zacatecas', 'NaN']\n",
            "-------------------------------------------DataFrame 2014-------------------------------------------\n",
            "['Aguascalientes', 'Baja California', 'Baja California Sur', 'Campeche', 'Chiapas', 'Chihuahua', 'Coahuila de Zaragoza', 'Colima', 'Distrito Federal', 'Durango', 'Guanajuato', 'Guerrero', 'Hidalgo', 'Jalisco', 'Michoacán de Ocampo', 'Morelos', 'México', 'Nayarit', 'Nuevo León', 'Oaxaca', 'Puebla', 'Querétaro', 'Quintana Roo', 'San Luis Potosí', 'Sinaloa', 'Sonora', 'Tabasco', 'Tamaulipas', 'Tlaxcala', 'Veracruz de Ignacio de la Llave', 'Yucatán', 'Zacatecas', 'NaN']\n",
            "-------------------------------------------DataFrame 2015-------------------------------------------\n",
            "['Aguascalientes', 'Baja California', 'Baja California Sur', 'Campeche', 'Chiapas', 'Chihuahua', 'Coahuila de Zaragoza', 'Colima', 'Distrito Federal', 'Durango', 'Guanajuato', 'Guerrero', 'Hidalgo', 'Jalisco', 'Michoacán de Ocampo', 'Morelos', 'México', 'Nayarit', 'Nuevo León', 'Oaxaca', 'Puebla', 'Querétaro', 'Quintana Roo', 'San Luis Potosí', 'Sinaloa', 'Sonora', 'Tabasco', 'Tamaulipas', 'Tlaxcala', 'Veracruz de Ignacio de la Llave', 'Yucatán', 'Zacatecas', 'NaN']\n",
            "-------------------------------------------DataFrame 2016-------------------------------------------\n",
            "['Aguascalientes', 'Baja California', 'Baja California Sur', 'Campeche', 'Chiapas', 'Chihuahua', 'Coahuila de Zaragoza', 'Colima', 'Distrito Federal', 'Durango', 'Guanajuato', 'Guerrero', 'Hidalgo', 'Jalisco', 'Michoacán de Ocampo', 'Morelos', 'México', 'Nayarit', 'Nuevo León', 'Oaxaca', 'Puebla', 'Querétaro', 'Quintana Roo', 'San Luis Potosí', 'Sinaloa', 'Sonora', 'Tabasco', 'Tamaulipas', 'Tlaxcala', 'Veracruz de Ignacio de la Llave', 'Yucatán', 'Zacatecas', 'NaN']\n",
            "-------------------------------------------DataFrame 2017-------------------------------------------\n",
            "['Aguascalientes', 'Baja California', 'Baja California Sur', 'Campeche', 'Chiapas', 'Chihuahua', 'Coahuila de Zaragoza', 'Colima', 'Distrito Federal', 'Durango', 'Guanajuato', 'Guerrero', 'Hidalgo', 'Jalisco', 'Michoacán de Ocampo', 'Morelos', 'México', 'Nayarit', 'Nuevo León', 'Oaxaca', 'Puebla', 'Querétaro', 'Quintana Roo', 'San Luis Potosí', 'Sinaloa', 'Sonora', 'Tabasco', 'Tamaulipas', 'Tlaxcala', 'Veracruz de Ignacio de la Llave', 'Yucatán', 'Zacatecas', 'NaN']\n",
            "-------------------------------------------DataFrame 2018-------------------------------------------\n",
            "['Aguascalientes', 'Baja California', 'Baja California Sur', 'Campeche', 'Chiapas', 'Chihuahua', 'Coahuila de Zaragoza', 'Colima', 'Distrito Federal', 'Durango', 'Guanajuato', 'Guerrero', 'Hidalgo', 'Jalisco', 'Michoacán de Ocampo', 'Morelos', 'México', 'Nayarit', 'Nuevo León', 'Oaxaca', 'Puebla', 'Querétaro', 'Quintana Roo', 'San Luis Potosí', 'Sinaloa', 'Sonora', 'Tabasco', 'Tamaulipas', 'Tlaxcala', 'Veracruz de Ignacio de la Llave', 'Yucatán', 'Zacatecas', 'NaN']\n",
            "-------------------------------------------DataFrame 2019-------------------------------------------\n",
            "['Aguascalientes', 'Baja California', 'Baja California Sur', 'Campeche', 'Chiapas', 'Chihuahua', 'Coahuila de Zaragoza', 'Colima', 'Distrito Federal', 'Durango', 'Guanajuato', 'Guerrero', 'Hidalgo', 'Jalisco', 'Michoacán de Ocampo', 'Morelos', 'México', 'Nayarit', 'Nuevo León', 'Oaxaca', 'Puebla', 'Querétaro', 'Quintana Roo', 'San Luis Potosí', 'Sinaloa', 'Sonora', 'Tabasco', 'Tamaulipas', 'Tlaxcala', 'Veracruz de Ignacio de la Llave', 'Yucatán', 'Zacatecas', 'NaN']\n"
          ]
        }
      ]
    },
    {
      "cell_type": "markdown",
      "source": [
        "### Tratamiento de valores nulos"
      ],
      "metadata": {
        "id": "gAsAe00J7UlS"
      }
    },
    {
      "cell_type": "code",
      "source": [
        "# En teoria este tratamiento deberia aplicarse para la categoria del cancer, empelo y educacion, pero esas 3 variables no presentaron valores nulos\n",
        "def tratamientoValoresNulos(dfxx):\n",
        "  spImputer.fit(dfxx[['ent_resid_nm']])\n",
        "  dfxx[['ent_resid_nm']] = spImputer.transform(dfxx[['ent_resid_nm']])\n",
        "\n",
        "  return dfxx\n",
        "\n",
        "# Preparamiento de la estrategia. En este caso se reemplazaran los valores nulos por el valor mas frecuente\n",
        "spImputer = SimpleImputer(strategy='most_frequent')\n",
        "\n",
        "# Mandar a llamar la funcion de tratamiento\n",
        "df2010 = tratamientoValoresNulos(df2010)\n",
        "df2011 = tratamientoValoresNulos(df2011)\n",
        "df2012 = tratamientoValoresNulos(df2012)\n",
        "df2013 = tratamientoValoresNulos(df2013)\n",
        "df2014 = tratamientoValoresNulos(df2014)\n",
        "df2015 = tratamientoValoresNulos(df2015)\n",
        "df2016 = tratamientoValoresNulos(df2016)\n",
        "df2017 = tratamientoValoresNulos(df2017)\n",
        "df2018 = tratamientoValoresNulos(df2018)\n",
        "df2019 = tratamientoValoresNulos(df2019)"
      ],
      "metadata": {
        "id": "I-BhHHF6UDiS"
      },
      "execution_count": 245,
      "outputs": []
    },
    {
      "cell_type": "markdown",
      "source": [
        "### Comprobacion de la inexistencia de valores nulos"
      ],
      "metadata": {
        "id": "0sTvT4Z4T_zS"
      }
    },
    {
      "cell_type": "code",
      "source": [
        "# Definir una funcion que impirma los valores distintos de la columna 'ent_resid_nm' en orden alfabetico\n",
        "def imprimirValoresDistintos(df20xx, nombreDf):\n",
        "  titulo = f\"DataFrame {nombreDf}\".center(100, '-')\n",
        "  valoresDistintos = list(df2010['ent_resid_nm'].unique())\n",
        "  valoresDistintos.sort()\n",
        "  print(titulo)\n",
        "  print(valoresDistintos)\n",
        "\n",
        "\n",
        "imprimirValoresDistintos(df2010, '2010')\n",
        "imprimirValoresDistintos(df2011, '2011')\n",
        "imprimirValoresDistintos(df2012, '2012')\n",
        "imprimirValoresDistintos(df2013, '2013')\n",
        "imprimirValoresDistintos(df2014, '2014')\n",
        "imprimirValoresDistintos(df2015, '2015')\n",
        "imprimirValoresDistintos(df2016, '2016')\n",
        "imprimirValoresDistintos(df2017, '2017')\n",
        "imprimirValoresDistintos(df2018, '2018')\n",
        "imprimirValoresDistintos(df2019, '2019')"
      ],
      "metadata": {
        "colab": {
          "base_uri": "https://localhost:8080/"
        },
        "id": "9y5-hciZael0",
        "outputId": "fdbc89f5-2d8c-46f9-9c7b-59be5a2403ff"
      },
      "execution_count": 246,
      "outputs": [
        {
          "output_type": "stream",
          "name": "stdout",
          "text": [
            "-------------------------------------------DataFrame 2010-------------------------------------------\n",
            "['Aguascalientes', 'Baja California', 'Baja California Sur', 'Campeche', 'Chiapas', 'Chihuahua', 'Coahuila de Zaragoza', 'Colima', 'Distrito Federal', 'Durango', 'Guanajuato', 'Guerrero', 'Hidalgo', 'Jalisco', 'Michoacán de Ocampo', 'Morelos', 'México', 'Nayarit', 'Nuevo León', 'Oaxaca', 'Puebla', 'Querétaro', 'Quintana Roo', 'San Luis Potosí', 'Sinaloa', 'Sonora', 'Tabasco', 'Tamaulipas', 'Tlaxcala', 'Veracruz de Ignacio de la Llave', 'Yucatán', 'Zacatecas']\n",
            "-------------------------------------------DataFrame 2011-------------------------------------------\n",
            "['Aguascalientes', 'Baja California', 'Baja California Sur', 'Campeche', 'Chiapas', 'Chihuahua', 'Coahuila de Zaragoza', 'Colima', 'Distrito Federal', 'Durango', 'Guanajuato', 'Guerrero', 'Hidalgo', 'Jalisco', 'Michoacán de Ocampo', 'Morelos', 'México', 'Nayarit', 'Nuevo León', 'Oaxaca', 'Puebla', 'Querétaro', 'Quintana Roo', 'San Luis Potosí', 'Sinaloa', 'Sonora', 'Tabasco', 'Tamaulipas', 'Tlaxcala', 'Veracruz de Ignacio de la Llave', 'Yucatán', 'Zacatecas']\n",
            "-------------------------------------------DataFrame 2012-------------------------------------------\n",
            "['Aguascalientes', 'Baja California', 'Baja California Sur', 'Campeche', 'Chiapas', 'Chihuahua', 'Coahuila de Zaragoza', 'Colima', 'Distrito Federal', 'Durango', 'Guanajuato', 'Guerrero', 'Hidalgo', 'Jalisco', 'Michoacán de Ocampo', 'Morelos', 'México', 'Nayarit', 'Nuevo León', 'Oaxaca', 'Puebla', 'Querétaro', 'Quintana Roo', 'San Luis Potosí', 'Sinaloa', 'Sonora', 'Tabasco', 'Tamaulipas', 'Tlaxcala', 'Veracruz de Ignacio de la Llave', 'Yucatán', 'Zacatecas']\n",
            "-------------------------------------------DataFrame 2013-------------------------------------------\n",
            "['Aguascalientes', 'Baja California', 'Baja California Sur', 'Campeche', 'Chiapas', 'Chihuahua', 'Coahuila de Zaragoza', 'Colima', 'Distrito Federal', 'Durango', 'Guanajuato', 'Guerrero', 'Hidalgo', 'Jalisco', 'Michoacán de Ocampo', 'Morelos', 'México', 'Nayarit', 'Nuevo León', 'Oaxaca', 'Puebla', 'Querétaro', 'Quintana Roo', 'San Luis Potosí', 'Sinaloa', 'Sonora', 'Tabasco', 'Tamaulipas', 'Tlaxcala', 'Veracruz de Ignacio de la Llave', 'Yucatán', 'Zacatecas']\n",
            "-------------------------------------------DataFrame 2014-------------------------------------------\n",
            "['Aguascalientes', 'Baja California', 'Baja California Sur', 'Campeche', 'Chiapas', 'Chihuahua', 'Coahuila de Zaragoza', 'Colima', 'Distrito Federal', 'Durango', 'Guanajuato', 'Guerrero', 'Hidalgo', 'Jalisco', 'Michoacán de Ocampo', 'Morelos', 'México', 'Nayarit', 'Nuevo León', 'Oaxaca', 'Puebla', 'Querétaro', 'Quintana Roo', 'San Luis Potosí', 'Sinaloa', 'Sonora', 'Tabasco', 'Tamaulipas', 'Tlaxcala', 'Veracruz de Ignacio de la Llave', 'Yucatán', 'Zacatecas']\n",
            "-------------------------------------------DataFrame 2015-------------------------------------------\n",
            "['Aguascalientes', 'Baja California', 'Baja California Sur', 'Campeche', 'Chiapas', 'Chihuahua', 'Coahuila de Zaragoza', 'Colima', 'Distrito Federal', 'Durango', 'Guanajuato', 'Guerrero', 'Hidalgo', 'Jalisco', 'Michoacán de Ocampo', 'Morelos', 'México', 'Nayarit', 'Nuevo León', 'Oaxaca', 'Puebla', 'Querétaro', 'Quintana Roo', 'San Luis Potosí', 'Sinaloa', 'Sonora', 'Tabasco', 'Tamaulipas', 'Tlaxcala', 'Veracruz de Ignacio de la Llave', 'Yucatán', 'Zacatecas']\n",
            "-------------------------------------------DataFrame 2016-------------------------------------------\n",
            "['Aguascalientes', 'Baja California', 'Baja California Sur', 'Campeche', 'Chiapas', 'Chihuahua', 'Coahuila de Zaragoza', 'Colima', 'Distrito Federal', 'Durango', 'Guanajuato', 'Guerrero', 'Hidalgo', 'Jalisco', 'Michoacán de Ocampo', 'Morelos', 'México', 'Nayarit', 'Nuevo León', 'Oaxaca', 'Puebla', 'Querétaro', 'Quintana Roo', 'San Luis Potosí', 'Sinaloa', 'Sonora', 'Tabasco', 'Tamaulipas', 'Tlaxcala', 'Veracruz de Ignacio de la Llave', 'Yucatán', 'Zacatecas']\n",
            "-------------------------------------------DataFrame 2017-------------------------------------------\n",
            "['Aguascalientes', 'Baja California', 'Baja California Sur', 'Campeche', 'Chiapas', 'Chihuahua', 'Coahuila de Zaragoza', 'Colima', 'Distrito Federal', 'Durango', 'Guanajuato', 'Guerrero', 'Hidalgo', 'Jalisco', 'Michoacán de Ocampo', 'Morelos', 'México', 'Nayarit', 'Nuevo León', 'Oaxaca', 'Puebla', 'Querétaro', 'Quintana Roo', 'San Luis Potosí', 'Sinaloa', 'Sonora', 'Tabasco', 'Tamaulipas', 'Tlaxcala', 'Veracruz de Ignacio de la Llave', 'Yucatán', 'Zacatecas']\n",
            "-------------------------------------------DataFrame 2018-------------------------------------------\n",
            "['Aguascalientes', 'Baja California', 'Baja California Sur', 'Campeche', 'Chiapas', 'Chihuahua', 'Coahuila de Zaragoza', 'Colima', 'Distrito Federal', 'Durango', 'Guanajuato', 'Guerrero', 'Hidalgo', 'Jalisco', 'Michoacán de Ocampo', 'Morelos', 'México', 'Nayarit', 'Nuevo León', 'Oaxaca', 'Puebla', 'Querétaro', 'Quintana Roo', 'San Luis Potosí', 'Sinaloa', 'Sonora', 'Tabasco', 'Tamaulipas', 'Tlaxcala', 'Veracruz de Ignacio de la Llave', 'Yucatán', 'Zacatecas']\n",
            "-------------------------------------------DataFrame 2019-------------------------------------------\n",
            "['Aguascalientes', 'Baja California', 'Baja California Sur', 'Campeche', 'Chiapas', 'Chihuahua', 'Coahuila de Zaragoza', 'Colima', 'Distrito Federal', 'Durango', 'Guanajuato', 'Guerrero', 'Hidalgo', 'Jalisco', 'Michoacán de Ocampo', 'Morelos', 'México', 'Nayarit', 'Nuevo León', 'Oaxaca', 'Puebla', 'Querétaro', 'Quintana Roo', 'San Luis Potosí', 'Sinaloa', 'Sonora', 'Tabasco', 'Tamaulipas', 'Tlaxcala', 'Veracruz de Ignacio de la Llave', 'Yucatán', 'Zacatecas']\n"
          ]
        }
      ]
    },
    {
      "cell_type": "markdown",
      "source": [
        "## Limpieza por Empleo ---------------------------------------------------------------------------------------------------"
      ],
      "metadata": {
        "id": "fGeh1LIX7Cgu"
      }
    },
    {
      "cell_type": "markdown",
      "source": [
        "### Detectar Basura"
      ],
      "metadata": {
        "id": "o_112IPdjbxK"
      }
    },
    {
      "cell_type": "code",
      "source": [
        "# Definicion de la funcion que busca los registros basura\n",
        "def buscarLlavesRuido(df20xx, nombreLLave, nombreDesc):\n",
        "  dfRuido20xx = df20xx[df20xx[nombreDesc].isnull()] # Buscar los registros que tienen vacio el campo 'nombreDesc'\n",
        "  print(dfRuido20xx[nombreLLave].unique()) # Imprimir las llaves que no tienen descripcion en 'nombreDesc'\n",
        "\n",
        "  return dfRuido20xx\n",
        "\n",
        "# Mandar a llamar la funcion\n",
        "dfRuido2010 = buscarLlavesRuido(df2010, 'ocupacion', 'desc_ocupacion')\n",
        "dfRuido2011 = buscarLlavesRuido(df2011, 'ocupacion', 'desc_ocupacion')\n",
        "dfRuido2012 = buscarLlavesRuido(df2012, 'ocupacion', 'desc_ocupacion')\n",
        "dfRuido2013 = buscarLlavesRuido(df2013, 'ocupacion', 'desc_ocupacion')\n",
        "dfRuido2014 = buscarLlavesRuido(df2014, 'ocupacion', 'desc_ocupacion')\n",
        "dfRuido2015 = buscarLlavesRuido(df2015, 'ocupacion', 'desc_ocupacion')\n",
        "dfRuido2016 = buscarLlavesRuido(df2016, 'ocupacion', 'desc_ocupacion')\n",
        "dfRuido2017 = buscarLlavesRuido(df2017, 'ocupacion', 'desc_ocupacion')\n",
        "dfRuido2018 = buscarLlavesRuido(df2018, 'ocupacion', 'desc_ocupacion')\n",
        "dfRuido2019 = buscarLlavesRuido(df2019, 'ocupacion', 'desc_ocupacion')\n",
        "# Entonces solo hubo ruido en los años 2010 a 2012"
      ],
      "metadata": {
        "colab": {
          "base_uri": "https://localhost:8080/"
        },
        "id": "VElvCwNJcskx",
        "outputId": "f6353064-d453-4748-f925-93dc08dee1b9"
      },
      "execution_count": 247,
      "outputs": [
        {
          "output_type": "stream",
          "name": "stdout",
          "text": [
            "[9 6 4 7]\n",
            "[4 6 9 7 8 1]\n",
            "[ 8  1  6  4  9  7  5  3 10]\n",
            "[]\n",
            "[]\n",
            "[]\n",
            "[]\n",
            "[]\n",
            "[]\n",
            "[]\n"
          ]
        }
      ]
    },
    {
      "cell_type": "markdown",
      "source": [
        "### Contar la cantidad de basura"
      ],
      "metadata": {
        "id": "eKlhXmqJRPY-"
      }
    },
    {
      "cell_type": "code",
      "source": [
        "# Definicion de la funcion que contara la cantidad de registros basura\n",
        "def contarBasura(df20xx, dfRuido20xx, nombreDf, campoX):\n",
        "  listaRuido20xx = list(dfRuido20xx[campoX].unique())\n",
        "  condicion20xx = df20xx[campoX].isin(listaRuido20xx)\n",
        "  newDf20xx = df20xx.loc[condicion20xx]\n",
        "  print(f'Cantidad de basura en el dataframe {nombreDf}: {newDf20xx.shape[0]}')\n",
        "\n",
        "contarBasura(df2010, dfRuido2010, '2010', 'ocupacion')\n",
        "contarBasura(df2011, dfRuido2011, '2011', 'ocupacion')\n",
        "contarBasura(df2012, dfRuido2012, '2012', 'ocupacion')"
      ],
      "metadata": {
        "colab": {
          "base_uri": "https://localhost:8080/"
        },
        "id": "sJxaPb_uRR1C",
        "outputId": "103ab81d-0357-4c22-cb91-478fc2da157a"
      },
      "execution_count": 248,
      "outputs": [
        {
          "output_type": "stream",
          "name": "stdout",
          "text": [
            "Cantidad de basura en el dataframe 2010: 14\n",
            "Cantidad de basura en el dataframe 2011: 31\n",
            "Cantidad de basura en el dataframe 2012: 480\n"
          ]
        }
      ]
    },
    {
      "cell_type": "markdown",
      "source": [
        "### Reemplazar Basura por la moda"
      ],
      "metadata": {
        "id": "5eT_OsMcsEMN"
      }
    },
    {
      "cell_type": "code",
      "source": [
        "\n",
        "def reemplazoBasura_x_Moda(df20xx, dfRuido20xx, nombreDf, campoX):\n",
        "  # Determinar cual fue el valor mas comun (Moda) en determinado fragmento en la columna 'campoX'\n",
        "  moda20xx = df20xx[campoX].mode()[0]\n",
        "  print(f\"DataFrame {nombreDf}. La moda en la columna '{campoX}' es: {moda20xx}\")\n",
        "\n",
        "  # Buscar los registros que tienen los datos basura y reemplazarlos por el valor de la moda de cada\n",
        "  # fragmento\n",
        "  listaRuido20xx = list(dfRuido20xx[campoX].unique())\n",
        "  condicion20xx = df20xx[campoX].isin(listaRuido20xx)\n",
        "  df20xx.loc[condicion20xx, campoX] = moda20xx\n",
        "\n",
        "  return df20xx\n",
        "\n",
        "# Mandar a llamar a la funcion\n",
        "df2010 = reemplazoBasura_x_Moda(df2010, dfRuido2010, '2010', 'ocupacion')\n",
        "df2011 = reemplazoBasura_x_Moda(df2011, dfRuido2011, '2011', 'ocupacion')\n",
        "df2012 = reemplazoBasura_x_Moda(df2012, dfRuido2012, '2012', 'ocupacion')\n"
      ],
      "metadata": {
        "colab": {
          "base_uri": "https://localhost:8080/"
        },
        "id": "OnKVdlOUsDxk",
        "outputId": "32086d28-45e3-4b07-f864-2439ce59ac08"
      },
      "execution_count": 249,
      "outputs": [
        {
          "output_type": "stream",
          "name": "stdout",
          "text": [
            "DataFrame 2010. La moda en la columna 'ocupacion' es: 2\n",
            "DataFrame 2011. La moda en la columna 'ocupacion' es: 2\n",
            "DataFrame 2012. La moda en la columna 'ocupacion' es: 2\n"
          ]
        }
      ]
    },
    {
      "cell_type": "markdown",
      "source": [
        "### Comprobacion de que se reemplazo los registros basura por la moda"
      ],
      "metadata": {
        "id": "UVR5TC-zOpJi"
      }
    },
    {
      "cell_type": "code",
      "source": [
        "def imprimirLlave_y_Descripcion(df20xx, nombreDf, campoLlave, campoDescripcion):\n",
        "  dfRuido20xx = df20xx[df20xx[campoDescripcion].isnull()]\n",
        "  titulo = f\"DataFrame {nombreDf}\".center(100, '-')\n",
        "  print(titulo)\n",
        "  print(dfRuido20xx[[campoLlave, campoDescripcion]])\n",
        "\n",
        "imprimirLlave_y_Descripcion(df2010, '2010', 'ocupacion', 'desc_ocupacion')\n",
        "imprimirLlave_y_Descripcion(df2011, '2011', 'ocupacion', 'desc_ocupacion')\n",
        "imprimirLlave_y_Descripcion(df2012, '2012', 'ocupacion', 'desc_ocupacion')\n"
      ],
      "metadata": {
        "colab": {
          "base_uri": "https://localhost:8080/"
        },
        "id": "kal8gPGFw_Qu",
        "outputId": "05e920c3-8e96-440d-9e08-b101be9f179c"
      },
      "execution_count": 250,
      "outputs": [
        {
          "output_type": "stream",
          "name": "stdout",
          "text": [
            "-------------------------------------------DataFrame 2010-------------------------------------------\n",
            "       ocupacion desc_ocupacion\n",
            "70167          2            NaN\n",
            "70169          2            NaN\n",
            "70173          2            NaN\n",
            "70176          2            NaN\n",
            "70187          2            NaN\n",
            "70189          2            NaN\n",
            "70190          2            NaN\n",
            "70194          2            NaN\n",
            "70206          2            NaN\n",
            "70209          2            NaN\n",
            "70213          2            NaN\n",
            "70229          2            NaN\n",
            "70230          2            NaN\n",
            "70240          2            NaN\n",
            "-------------------------------------------DataFrame 2011-------------------------------------------\n",
            "       ocupacion desc_ocupacion\n",
            "71113          2            NaN\n",
            "71126          2            NaN\n",
            "71127          2            NaN\n",
            "71129          2            NaN\n",
            "71130          2            NaN\n",
            "71131          2            NaN\n",
            "71136          2            NaN\n",
            "71139          2            NaN\n",
            "71141          2            NaN\n",
            "71146          2            NaN\n",
            "71147          2            NaN\n",
            "71159          2            NaN\n",
            "71165          2            NaN\n",
            "71166          2            NaN\n",
            "71169          2            NaN\n",
            "71170          2            NaN\n",
            "71171          2            NaN\n",
            "71172          2            NaN\n",
            "71175          2            NaN\n",
            "71177          2            NaN\n",
            "71180          2            NaN\n",
            "71190          2            NaN\n",
            "71194          2            NaN\n",
            "71198          2            NaN\n",
            "71199          2            NaN\n",
            "71202          2            NaN\n",
            "71208          2            NaN\n",
            "71209          2            NaN\n",
            "71216          2            NaN\n",
            "71220          2            NaN\n",
            "71224          2            NaN\n",
            "-------------------------------------------DataFrame 2012-------------------------------------------\n",
            "       ocupacion desc_ocupacion\n",
            "18606          2            NaN\n",
            "18608          2            NaN\n",
            "18609          2            NaN\n",
            "18610          2            NaN\n",
            "18611          2            NaN\n",
            "...          ...            ...\n",
            "72355          2            NaN\n",
            "72366          2            NaN\n",
            "72387          2            NaN\n",
            "72388          2            NaN\n",
            "73061          2            NaN\n",
            "\n",
            "[480 rows x 2 columns]\n"
          ]
        }
      ]
    },
    {
      "cell_type": "markdown",
      "source": [
        "### Mapear"
      ],
      "metadata": {
        "id": "jcxeOuFvjZKq"
      }
    },
    {
      "cell_type": "code",
      "source": [
        "\n",
        "def mapearEmpleo(df20xx, nombreDf):\n",
        "    df20xx = df20xx.drop(['desc_ocupacion'], axis=1) # Eliminar la descripcion de ocupacion de los dataset\n",
        "    df20xx['NuevaColEmpleo'] = 0 # Agregar una nueva columna y llenarla de puros 0, en esta columna se vaceara el mapeo\n",
        "\n",
        "    # Buscar cuales valores se deben mapear (actualizar)\n",
        "    condicion1 = (df20xx['ocupacion'] == 21)\n",
        "    condicion2 = (df20xx['ocupacion'] == 11) | (df20xx['ocupacion'] == 12) | (df20xx['ocupacion'] == 13)\n",
        "    condicion3 = (df20xx['ocupacion'] == 61) | (df20xx['ocupacion'] == 62)\n",
        "    condicion4 = (df20xx['ocupacion'] == 71) | (df20xx['ocupacion'] == 72)\n",
        "    condicion5 = (df20xx['ocupacion'] == 81) | (df20xx['ocupacion'] == 83)\n",
        "    condicion6 = (df20xx['ocupacion'] == 41)\n",
        "    condicion7 = (df20xx['ocupacion'] == 54)\n",
        "    condicion8 = (df20xx['ocupacion'] == 51) | (df20xx['ocupacion'] == 52) | (df20xx['ocupacion'] == 53) | (df20xx['ocupacion'] == 55)\n",
        "    condicion9 = (df20xx['ocupacion'] == 82)\n",
        "    condicion11 = (df20xx['ocupacion'] == 2)\n",
        "    condicion98 = (df20xx['ocupacion'] == 14)\n",
        "\n",
        "    # Actualizar los valores\n",
        "    df20xx.loc[condicion1, 'NuevaColEmpleo'] = 1\n",
        "    df20xx.loc[condicion2, 'NuevaColEmpleo'] = 2\n",
        "    df20xx.loc[condicion3, 'NuevaColEmpleo'] = 3\n",
        "    df20xx.loc[condicion4, 'NuevaColEmpleo'] = 4\n",
        "    df20xx.loc[condicion5, 'NuevaColEmpleo'] = 5\n",
        "    df20xx.loc[condicion6, 'NuevaColEmpleo'] = 6\n",
        "    df20xx.loc[condicion7, 'NuevaColEmpleo'] = 7\n",
        "    df20xx.loc[condicion8, 'NuevaColEmpleo'] = 8\n",
        "    df20xx.loc[condicion9, 'NuevaColEmpleo'] = 9\n",
        "    df20xx.loc[condicion11, 'NuevaColEmpleo'] = 11\n",
        "    df20xx.loc[condicion98, 'NuevaColEmpleo'] = 98\n",
        "\n",
        "    # Pasar estas llaves tal cual estan (no sufren mapeo porque estos si coinciden)\n",
        "    condicion97 = (df20xx['ocupacion'] == 97)\n",
        "    condicion98 = (df20xx['ocupacion'] == 98)\n",
        "    condicion99 = (df20xx['ocupacion'] == 99)\n",
        "\n",
        "    df20xx.loc[condicion97, 'NuevaColEmpleo'] = 97\n",
        "    df20xx.loc[condicion98, 'NuevaColEmpleo'] = 98\n",
        "    df20xx.loc[condicion99, 'NuevaColEmpleo'] = 99\n",
        "\n",
        "    # Imprimir resultados y validacion\n",
        "    condicion0 = (df20xx['NuevaColEmpleo'] == 0)\n",
        "    newDf = df20xx.loc[condicion0]\n",
        "    print(f'En el dataframe {nombreDf} la cantidad de registros con el valor 0 en la columna NuevaColEmpleo es: {newDf.shape[0]}')\n",
        "\n",
        "    return df20xx\n",
        "\n",
        "df2010 = mapearEmpleo(df2010, '2010')\n",
        "df2011 = mapearEmpleo(df2011, '2011')\n",
        "df2012 = mapearEmpleo(df2012, '2012')"
      ],
      "metadata": {
        "id": "Fdz55qPjjigQ",
        "colab": {
          "base_uri": "https://localhost:8080/"
        },
        "outputId": "be92ab8c-8082-4f78-ae29-7c6879ead743"
      },
      "execution_count": 251,
      "outputs": [
        {
          "output_type": "stream",
          "name": "stdout",
          "text": [
            "En el dataframe 2010 la cantidad de registros con el valor 0 en la columna NuevaColEmpleo es: 0\n",
            "En el dataframe 2011 la cantidad de registros con el valor 0 en la columna NuevaColEmpleo es: 0\n",
            "En el dataframe 2012 la cantidad de registros con el valor 0 en la columna NuevaColEmpleo es: 0\n"
          ]
        }
      ]
    },
    {
      "cell_type": "markdown",
      "source": [
        "### Realizar la integracion con el 'nuevo catalogo' de empleo"
      ],
      "metadata": {
        "id": "HXMR7SLhRR4j"
      }
    },
    {
      "cell_type": "code",
      "source": [
        "# Realizar nuevamente la integracion de las bases de datos 2010, 2011 y 2012 con los catalogos de empleo de los\n",
        "# años 2013 a 2019\n",
        "\n",
        "def reIntegracionDeDatos(df20xx, catalogoX, colIzq, colDer, nuevoNombre):\n",
        "  df20xx = pd.merge(df20xx, catalogoX, how='inner', left_on=colIzq, right_on=colDer)\n",
        "  df20xx = df20xx.rename(columns={\"DESCRIP\": nuevoNombre})\n",
        "\n",
        "  return df20xx\n",
        "\n",
        "df2010 = reIntegracionDeDatos(df2010, dfEmpleo, 'NuevaColEmpleo', 'CVE', 'desc_ocupacion')\n",
        "df2011 = reIntegracionDeDatos(df2011, dfEmpleo, 'NuevaColEmpleo', 'CVE', 'desc_ocupacion')\n",
        "df2012 = reIntegracionDeDatos(df2012, dfEmpleo, 'NuevaColEmpleo', 'CVE', 'desc_ocupacion')\n"
      ],
      "metadata": {
        "id": "jR4e9ev3vKiM"
      },
      "execution_count": 252,
      "outputs": []
    },
    {
      "cell_type": "markdown",
      "source": [
        "## Limpieza por Educacion ---------------------------------------------------------------------------------------------------"
      ],
      "metadata": {
        "id": "cPy_ZsTr7DOp"
      }
    },
    {
      "cell_type": "markdown",
      "source": [
        "### Detectar basura"
      ],
      "metadata": {
        "id": "WABNGTUFVdkq"
      }
    },
    {
      "cell_type": "code",
      "source": [
        "# Mandar a llamar la funcion\n",
        "dfRuido2010 = buscarLlavesRuido(df2010, 'escolarida', 'desc_escolaridad')\n",
        "dfRuido2011 = buscarLlavesRuido(df2011, 'escolarida', 'desc_escolaridad')\n",
        "dfRuido2012 = buscarLlavesRuido(df2012, 'escolarida', 'desc_escolaridad')\n",
        "dfRuido2013 = buscarLlavesRuido(df2013, 'escolarida', 'desc_escolaridad')\n",
        "dfRuido2014 = buscarLlavesRuido(df2014, 'escolarida', 'desc_escolaridad')\n",
        "dfRuido2015 = buscarLlavesRuido(df2015, 'escolarida', 'desc_escolaridad')\n",
        "dfRuido2016 = buscarLlavesRuido(df2016, 'escolarida', 'desc_escolaridad')\n",
        "dfRuido2017 = buscarLlavesRuido(df2017, 'escolarida', 'desc_escolaridad')\n",
        "dfRuido2018 = buscarLlavesRuido(df2018, 'escolarida', 'desc_escolaridad')\n",
        "dfRuido2019 = buscarLlavesRuido(df2019, 'escolarida', 'desc_escolaridad')\n",
        "\n",
        "# Entonces solo hubo ruido en los años 2010 y 2011"
      ],
      "metadata": {
        "colab": {
          "base_uri": "https://localhost:8080/"
        },
        "id": "Lo-A-nlNKXTH",
        "outputId": "e688fa87-fb89-4a62-b481-a481eb92001f"
      },
      "execution_count": 253,
      "outputs": [
        {
          "output_type": "stream",
          "name": "stdout",
          "text": [
            "[99 88 10]\n",
            "[99 88 10]\n",
            "[]\n",
            "[]\n",
            "[]\n",
            "[]\n",
            "[]\n",
            "[]\n",
            "[]\n",
            "[]\n"
          ]
        }
      ]
    },
    {
      "cell_type": "markdown",
      "source": [
        "### Contar la cantidad de basura"
      ],
      "metadata": {
        "id": "DmYDyBbxWzil"
      }
    },
    {
      "cell_type": "code",
      "source": [
        "contarBasura(df2010, dfRuido2010, '2010', 'escolarida')\n",
        "contarBasura(df2011, dfRuido2011, '2011', 'escolarida')"
      ],
      "metadata": {
        "colab": {
          "base_uri": "https://localhost:8080/"
        },
        "id": "f4RLGXBHWxzD",
        "outputId": "db365d15-08ca-43a6-8c1e-0fe560149ac6"
      },
      "execution_count": 255,
      "outputs": [
        {
          "output_type": "stream",
          "name": "stdout",
          "text": [
            "Cantidad de basura en el dataframe 2010: 42\n",
            "Cantidad de basura en el dataframe 2011: 102\n"
          ]
        }
      ]
    },
    {
      "cell_type": "markdown",
      "source": [
        "### Reemplazar basura por la moda"
      ],
      "metadata": {
        "id": "gsyI_ZP9YEuv"
      }
    },
    {
      "cell_type": "code",
      "source": [],
      "metadata": {
        "id": "DnpaoBjwWqDd"
      },
      "execution_count": null,
      "outputs": []
    },
    {
      "cell_type": "code",
      "source": [
        "# Determinar cual fue el valor mas comun en los años 2010 y 2011 en la columna escolarida\n",
        "moda2010 = df2010['escolarida'].mode()[0]\n",
        "moda2011 = df2011['escolarida'].mode()[0]\n",
        "\n",
        "print(\"DataFrame 2010. La moda en la columna 'escolarida' es:\", moda2010)\n",
        "print(\"DataFrame 2011. La moda en la columna 'escolarida' es:\", moda2011)\n",
        "# Para los 2 años fue el valor: 2\n",
        "\n",
        "# Buscar los registros que tienen los datos basura y reemplazarlos por el valor de la moda de cada\n",
        "# fragmento\n",
        "condicion2010 = df2010['escolarida'].isin(listaRuido2010)\n",
        "condicion2011 = df2011['escolarida'].isin(listaRuido2011)\n",
        "\n",
        "df2010.loc[condicion2010, 'escolarida'] = 2\n",
        "df2011.loc[condicion2011, 'escolarida'] = 2"
      ],
      "metadata": {
        "colab": {
          "base_uri": "https://localhost:8080/"
        },
        "id": "nMQJQNYoYI8l",
        "outputId": "4d47a744-5662-41fe-8e82-2edec44f80aa"
      },
      "execution_count": null,
      "outputs": [
        {
          "output_type": "stream",
          "name": "stdout",
          "text": [
            "DataFrame 2010. La moda en la columna 'escolarida' es: 2\n",
            "DataFrame 2011. La moda en la columna 'escolarida' es: 2\n"
          ]
        }
      ]
    },
    {
      "cell_type": "markdown",
      "source": [
        "### Comprobacion de que se elmino la basura"
      ],
      "metadata": {
        "id": "x9qb8bUEbRjf"
      }
    },
    {
      "cell_type": "code",
      "source": [
        "dfRuido2010 = df2010[df2010['desc_escolaridad'].isnull()]\n",
        "dfRuido2011 = df2011[df2011['desc_escolaridad'].isnull()]\n",
        "\n",
        "print(\"DataFrame 2010\".center(100, '-'))\n",
        "print(dfRuido2010[['escolarida', 'desc_escolaridad']])\n",
        "print(\"DataFrame 2011\".center(100, '-'))\n",
        "print(dfRuido2011[['escolarida', 'desc_escolaridad']])\n"
      ],
      "metadata": {
        "colab": {
          "base_uri": "https://localhost:8080/"
        },
        "id": "MJT6DSpTbTIm",
        "outputId": "51df2a81-c814-4490-8259-463abd32ac44"
      },
      "execution_count": null,
      "outputs": [
        {
          "output_type": "stream",
          "name": "stdout",
          "text": [
            "-------------------------------------------DataFrame 2010-------------------------------------------\n",
            "       escolarida desc_escolaridad\n",
            "50023           2              NaN\n",
            "50026           2              NaN\n",
            "50030           2              NaN\n",
            "50031           2              NaN\n",
            "50043           2              NaN\n",
            "59276           2              NaN\n",
            "59278           2              NaN\n",
            "62537           2              NaN\n",
            "62552           2              NaN\n",
            "68068           2              NaN\n",
            "68342           2              NaN\n",
            "68344           2              NaN\n",
            "69873           2              NaN\n",
            "69877           2              NaN\n",
            "69878           2              NaN\n",
            "69880           2              NaN\n",
            "69881           2              NaN\n",
            "69882           2              NaN\n",
            "69883           2              NaN\n",
            "69886           2              NaN\n",
            "69887           2              NaN\n",
            "69888           2              NaN\n",
            "69889           2              NaN\n",
            "69890           2              NaN\n",
            "69891           2              NaN\n",
            "69892           2              NaN\n",
            "69893           2              NaN\n",
            "69894           2              NaN\n",
            "69896           2              NaN\n",
            "69897           2              NaN\n",
            "69899           2              NaN\n",
            "69900           2              NaN\n",
            "69901           2              NaN\n",
            "69903           2              NaN\n",
            "69904           2              NaN\n",
            "69905           2              NaN\n",
            "69907           2              NaN\n",
            "69908           2              NaN\n",
            "69909           2              NaN\n",
            "69911           2              NaN\n",
            "69912           2              NaN\n",
            "69913           2              NaN\n",
            "-------------------------------------------DataFrame 2011-------------------------------------------\n",
            "       escolarida desc_escolaridad\n",
            "50023           2              NaN\n",
            "50026           2              NaN\n",
            "50030           2              NaN\n",
            "50031           2              NaN\n",
            "50043           2              NaN\n",
            "59276           2              NaN\n",
            "59278           2              NaN\n",
            "62537           2              NaN\n",
            "62552           2              NaN\n",
            "68068           2              NaN\n",
            "68342           2              NaN\n",
            "68344           2              NaN\n",
            "69873           2              NaN\n",
            "69877           2              NaN\n",
            "69878           2              NaN\n",
            "69880           2              NaN\n",
            "69881           2              NaN\n",
            "69882           2              NaN\n",
            "69883           2              NaN\n",
            "69886           2              NaN\n",
            "69887           2              NaN\n",
            "69888           2              NaN\n",
            "69889           2              NaN\n",
            "69890           2              NaN\n",
            "69891           2              NaN\n",
            "69892           2              NaN\n",
            "69893           2              NaN\n",
            "69894           2              NaN\n",
            "69896           2              NaN\n",
            "69897           2              NaN\n",
            "69899           2              NaN\n",
            "69900           2              NaN\n",
            "69901           2              NaN\n",
            "69903           2              NaN\n",
            "69904           2              NaN\n",
            "69905           2              NaN\n",
            "69907           2              NaN\n",
            "69908           2              NaN\n",
            "69909           2              NaN\n",
            "69911           2              NaN\n",
            "69912           2              NaN\n",
            "69913           2              NaN\n"
          ]
        }
      ]
    },
    {
      "cell_type": "markdown",
      "source": [
        "### Mapear"
      ],
      "metadata": {
        "id": "tnDDcRqJcZt7"
      }
    },
    {
      "cell_type": "code",
      "source": [
        "def mapearEducacion(df20xx, nombreDf):\n",
        "    df20xx = df20xx.drop(['desc_escolaridad'], axis=1) # Eliminar la descripcion de escolarida de los dataset\n",
        "    df20xx['NuevaColEducacion'] = 0 # Agregar una nueva columna y llenarla de puros 0, en esta columna se vaceara el mapeo\n",
        "\n",
        "    # Buscar cuales valores se deben mapear (actualizar)\n",
        "    condicion3 = (df20xx['escolarida'] == 2)\n",
        "    condicion4 = (df20xx['escolarida'] == 3)\n",
        "    condicion5 = (df20xx['escolarida'] == 4)\n",
        "    condicion6 = (df20xx['escolarida'] == 5)\n",
        "    condicion9 = (df20xx['escolarida'] == 7)\n",
        "    condicion88 = (df20xx['escolarida'] == 8)\n",
        "    condicion99 = (df20xx['escolarida'] == 9)\n",
        "\n",
        "    # Actualizar los valores\n",
        "    df20xx.loc[condicion3, 'NuevaColEducacion'] = 3\n",
        "    df20xx.loc[condicion4, 'NuevaColEducacion'] = 4\n",
        "    df20xx.loc[condicion5, 'NuevaColEducacion'] = 5\n",
        "    df20xx.loc[condicion6, 'NuevaColEducacion'] = 6\n",
        "    df20xx.loc[condicion9, 'NuevaColEducacion'] = 9\n",
        "    df20xx.loc[condicion88, 'NuevaColEducacion'] = 88\n",
        "    df20xx.loc[condicion99, 'NuevaColEducacion'] = 99\n",
        "\n",
        "    # Pasar estas llaves tal cual estan (no sufren mapeo porque estos si coinciden)\n",
        "    condicion1 = (df20xx['escolarida'] == 1)\n",
        "\n",
        "    df20xx.loc[condicion1, 'NuevaColEducacion'] = 1\n",
        "\n",
        "    # Imprimir resultados y validacion\n",
        "    condicion0 = (df20xx['NuevaColEducacion'] == 0)\n",
        "    newDf = df20xx.loc[condicion0]\n",
        "    print(f'En el dataframe {nombreDf} la cantidad de registros con el valor 0 en la columna NuevaColEducacion es: {newDf.shape[0]}')\n",
        "\n",
        "    return df20xx\n",
        "\n",
        "df2010 = mapearEducacion(df2010, '2010')\n",
        "df2011 = mapearEducacion(df2011, '2011')"
      ],
      "metadata": {
        "colab": {
          "base_uri": "https://localhost:8080/"
        },
        "id": "jPzL8AlvcbI5",
        "outputId": "530d3eef-6b63-45f8-e40d-edbf0619525f"
      },
      "execution_count": null,
      "outputs": [
        {
          "output_type": "stream",
          "name": "stdout",
          "text": [
            "En el dataframe 2010 la cantidad de registros con el valor 0 en la columna NuevaColEducacion es: 5205\n",
            "En el dataframe 2011 la cantidad de registros con el valor 0 en la columna NuevaColEducacion es: 5205\n"
          ]
        }
      ]
    },
    {
      "cell_type": "markdown",
      "source": [
        "### Realizar la integracion con el 'nuevo catalogo' de educacion"
      ],
      "metadata": {
        "id": "74lBl2P_kxqc"
      }
    },
    {
      "cell_type": "code",
      "source": [
        "# Realizar nuevamente la integracion de las bases de datos 2010 y 2011 con los catalogos de educacion de los\n",
        "# años 2012 a 2019\n",
        "df2010 = pd.merge(df2010, dfEmpleo, how='inner', left_on='NuevaColEducacion', right_on='CVE')\n",
        "df2011 = pd.merge(df2011, dfEmpleo, how='inner', left_on='NuevaColEducacion', right_on='CVE')\n",
        "\n",
        "df2010 = df2010.rename(columns={\"DESCRIP\": \"desc_escolaridad\"})\n",
        "df2011 = df2010.rename(columns={\"DESCRIP\": \"desc_escolaridad\"})"
      ],
      "metadata": {
        "id": "2aCEyDYlk0Co"
      },
      "execution_count": null,
      "outputs": []
    },
    {
      "cell_type": "markdown",
      "source": [
        "## Conclusión de la Limpieza ---------------------------------------------------------------------------------------------------"
      ],
      "metadata": {
        "id": "zoKYObHpQ1kx"
      }
    },
    {
      "cell_type": "markdown",
      "source": [
        "### Selección de las columnas"
      ],
      "metadata": {
        "id": "WQKxpxuXQ-vo"
      }
    },
    {
      "cell_type": "code",
      "source": [
        "df2010 = df2010[['ent_resid_nm', 'Organ', 'desc_ocupacion', 'desc_escolaridad']]\n",
        "df2011 = df2011[['ent_resid_nm', 'Organ', 'desc_ocupacion', 'desc_escolaridad']]\n",
        "df2012 = df2012[['ent_resid_nm', 'Organ', 'desc_ocupacion', 'desc_escolaridad']]\n",
        "df2013 = df2013[['ent_resid_nm', 'Organ', 'desc_ocupacion', 'desc_escolaridad']]\n",
        "df2014 = df2014[['ent_resid_nm', 'Organ', 'desc_ocupacion', 'desc_escolaridad']]\n",
        "df2015 = df2015[['ent_resid_nm', 'Organ', 'desc_ocupacion', 'desc_escolaridad']]\n",
        "df2016 = df2016[['ent_resid_nm', 'Organ', 'desc_ocupacion', 'desc_escolaridad']]\n",
        "df2017 = df2017[['ent_resid_nm', 'Organ', 'desc_ocupacion', 'desc_escolaridad']]\n",
        "df2018 = df2018[['ent_resid_nm', 'Organ', 'desc_ocupacion', 'desc_escolaridad']]\n",
        "df2019 = df2019[['ent_resid_nm', 'Organ', 'desc_ocupacion', 'desc_escolaridad']]"
      ],
      "metadata": {
        "id": "TQA0psrYQ565"
      },
      "execution_count": null,
      "outputs": []
    },
    {
      "cell_type": "markdown",
      "source": [
        "### Almacenar nueva base de datos"
      ],
      "metadata": {
        "id": "OJm9lKDUTB3D"
      }
    },
    {
      "cell_type": "code",
      "source": [
        "nuevaMortalidadLimpia = '/content/drive/MyDrive/Pt2/Primeras Actividades/0 Bases de Datos/Nueva Mortalidad Limpia/'\n",
        "\n",
        "df2010.to_csv(nuevaMortalidadLimpia + '2010.csv', index=False)\n",
        "df2011.to_csv(nuevaMortalidadLimpia + '2011.csv', index=False)\n",
        "df2012.to_csv(nuevaMortalidadLimpia + '2012.csv', index=False)\n",
        "df2013.to_csv(nuevaMortalidadLimpia + '2013.csv', index=False)\n",
        "df2014.to_csv(nuevaMortalidadLimpia + '2014.csv', index=False)\n",
        "df2015.to_csv(nuevaMortalidadLimpia + '2015.csv', index=False)\n",
        "df2016.to_csv(nuevaMortalidadLimpia + '2016.csv', index=False)\n",
        "df2017.to_csv(nuevaMortalidadLimpia + '2017.csv', index=False)\n",
        "df2018.to_csv(nuevaMortalidadLimpia + '2018.csv', index=False)\n",
        "df2019.to_csv(nuevaMortalidadLimpia + '2019.csv', index=False)\n"
      ],
      "metadata": {
        "id": "XlFCAviMS8mc"
      },
      "execution_count": null,
      "outputs": []
    }
  ]
}