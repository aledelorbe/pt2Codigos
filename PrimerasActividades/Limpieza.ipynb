{
  "nbformat": 4,
  "nbformat_minor": 0,
  "metadata": {
    "colab": {
      "provenance": [],
      "toc_visible": true,
      "mount_file_id": "1X36SSGRCWi0k2c-HzEOQlg9-Vvv8nP26",
      "authorship_tag": "ABX9TyMoVXfC5PCzt5raNZirj5Hq",
      "include_colab_link": true
    },
    "kernelspec": {
      "name": "python3",
      "display_name": "Python 3"
    },
    "language_info": {
      "name": "python"
    }
  },
  "cells": [
    {
      "cell_type": "markdown",
      "metadata": {
        "id": "view-in-github",
        "colab_type": "text"
      },
      "source": [
        "<a href=\"https://colab.research.google.com/github/aledelorbe/pt2Codigos/blob/main/PrimerasActividades/Limpieza.ipynb\" target=\"_parent\"><img src=\"https://colab.research.google.com/assets/colab-badge.svg\" alt=\"Open In Colab\"/></a>"
      ]
    },
    {
      "cell_type": "markdown",
      "source": [
        "### Cargar librerias"
      ],
      "metadata": {
        "id": "TfLRvAuPFeqe"
      }
    },
    {
      "cell_type": "code",
      "source": [
        "import pandas as pd\n",
        "import matplotlib.pyplot as plt\n",
        "from sklearn.impute import SimpleImputer"
      ],
      "metadata": {
        "id": "AO4KKD9XEpzI"
      },
      "execution_count": 88,
      "outputs": []
    },
    {
      "cell_type": "markdown",
      "source": [
        "### Cargar los dataFrame"
      ],
      "metadata": {
        "id": "r7EfovT3UImO"
      }
    },
    {
      "cell_type": "code",
      "source": [
        "nuevaMortalidad = '/content/drive/MyDrive/Pt2/Primeras Actividades/0 Bases de Datos/Nueva Mortalidad/'\n",
        "\n",
        "df2010 = pd.read_csv(nuevaMortalidad + '2010.csv')\n",
        "df2011 = pd.read_csv(nuevaMortalidad + '2011.csv')\n",
        "df2012 = pd.read_csv(nuevaMortalidad + '2012.csv')\n",
        "df2013 = pd.read_csv(nuevaMortalidad + '2013.csv')\n",
        "df2014 = pd.read_csv(nuevaMortalidad + '2014.csv')\n",
        "df2015 = pd.read_csv(nuevaMortalidad + '2015.csv')\n",
        "df2016 = pd.read_csv(nuevaMortalidad + '2016.csv')\n",
        "df2017 = pd.read_csv(nuevaMortalidad + '2017.csv')\n",
        "df2018 = pd.read_csv(nuevaMortalidad + '2018.csv')\n",
        "df2019 = pd.read_csv(nuevaMortalidad + '2019.csv')"
      ],
      "metadata": {
        "id": "y1JW32OLUImP"
      },
      "execution_count": 89,
      "outputs": []
    },
    {
      "cell_type": "markdown",
      "source": [
        "### Cargar los catalogos de empleo y educacion mas generales\n"
      ],
      "metadata": {
        "id": "FNvKUPMc6Aw1"
      }
    },
    {
      "cell_type": "code",
      "source": [
        "catalogos = '/content/drive/MyDrive/Pt2/Primeras Actividades/0 Bases de Datos/Catalogos/'\n",
        "\n",
        "dfEscolaridad = pd.read_csv(catalogos + 'escolaridad2010_2011.csv')\n",
        "dfEmpleo = pd.read_csv(catalogos + 'ocupacion2013_2019.csv', encoding='latin-1')"
      ],
      "metadata": {
        "id": "vv1q08Sx6HEd"
      },
      "execution_count": 90,
      "outputs": []
    },
    {
      "cell_type": "markdown",
      "source": [
        "### Seleccionar las columnas relevantes para realizar la limpieza"
      ],
      "metadata": {
        "id": "uZVjRcabq1-H"
      }
    },
    {
      "cell_type": "code",
      "source": [
        "df2010 = df2010[['ent_resid', 'ent_resid_nm', 'ICD', 'Organ', 'ocupacion', 'desc_ocupacion', 'escolarida', 'desc_escolaridad']]\n",
        "df2011 = df2011[['ent_resid', 'ent_resid_nm', 'ICD', 'Organ', 'ocupacion', 'desc_ocupacion', 'escolarida', 'desc_escolaridad']]\n",
        "df2012 = df2012[['ent_resid', 'ent_resid_nm', 'ICD', 'Organ', 'ocupacion', 'desc_ocupacion', 'escolarida', 'desc_escolaridad']]\n",
        "df2013 = df2013[['ent_resid', 'ent_resid_nm', 'ICD', 'Organ', 'ocupacion', 'desc_ocupacion', 'escolarida', 'desc_escolaridad']]\n",
        "df2014 = df2014[['ent_resid', 'ent_resid_nm', 'ICD', 'Organ', 'ocupacion', 'desc_ocupacion', 'escolarida', 'desc_escolaridad']]\n",
        "df2015 = df2015[['ent_resid', 'ent_resid_nm', 'ICD', 'Organ', 'ocupacion', 'desc_ocupacion', 'escolarida', 'desc_escolaridad']]\n",
        "df2016 = df2016[['ent_resid', 'ent_resid_nm', 'ICD', 'Organ', 'ocupacion', 'desc_ocupacion', 'escolarida', 'desc_escolaridad']]\n",
        "df2017 = df2017[['ent_resid', 'ent_resid_nm', 'ICD', 'Organ', 'ocupacion', 'desc_ocupacion', 'escolarida', 'desc_escolaridad']]\n",
        "df2018 = df2018[['ent_resid', 'ent_resid_nm', 'ICD', 'Organ', 'ocupacion', 'desc_ocupacion', 'escolarida', 'desc_escolaridad']]\n",
        "df2019 = df2019[['ent_resid', 'ent_resid_nm', 'ICD', 'Organ', 'ocupacion', 'desc_ocupacion', 'escolarida', 'desc_escolaridad']]"
      ],
      "metadata": {
        "id": "qEx8420cq1DL"
      },
      "execution_count": 91,
      "outputs": []
    },
    {
      "cell_type": "markdown",
      "source": [
        "# LIMPIEZA"
      ],
      "metadata": {
        "id": "4QbO23WDgQbo"
      }
    },
    {
      "cell_type": "markdown",
      "source": [
        "## Limpieza por Estado ---------------------------------------------------------------------------------------------------"
      ],
      "metadata": {
        "id": "clpIHElC66QN"
      }
    },
    {
      "cell_type": "markdown",
      "source": [
        "### Eliminar EUA"
      ],
      "metadata": {
        "id": "OjdmKh1bsX-4"
      }
    },
    {
      "cell_type": "code",
      "source": [
        "# Definicion de la funcion que eliminaria los registros provenientes de este estado.\n",
        "# Como el proyecto tiene como objetivo analizar datos de personas en Mexico, se considera necesario eliminar los datos de personas\n",
        "# las cuales pertenezcan a EUA.\n",
        "\n",
        "def eliminarRegistros_x_Valor(df20xx, nombreDf, valorEliminar):\n",
        "  condicion20xx = (df20xx['ent_resid_nm'] == valorEliminar) # Detectar los registros con el valor de EUA en el campo 'ent_resid_nm'\n",
        "  print(f'Cantidad de basura en el dataframe {nombreDf}: {df20xx.loc[condicion20xx].shape[0]}') # Contar la cantidad de registros por cada fragmento con el valor de EUA\n",
        "  df20xx = df20xx.drop(df20xx[condicion20xx].index) # Eliminacion de registros\n",
        "\n",
        "  return df20xx\n",
        "\n",
        "# Mandar a llamar la funcion\n",
        "df2010 = eliminarRegistros_x_Valor(df2010, '2010', 'Estados unidos de America')\n",
        "df2011 = eliminarRegistros_x_Valor(df2011, '2011', 'Estados unidos de America')\n",
        "df2012 = eliminarRegistros_x_Valor(df2012, '2012', 'Estados unidos de America')\n",
        "df2013 = eliminarRegistros_x_Valor(df2013, '2013', 'Estados unidos de America')\n",
        "df2014 = eliminarRegistros_x_Valor(df2014, '2014', 'Estados unidos de America')\n",
        "df2015 = eliminarRegistros_x_Valor(df2015, '2015', 'Estados unidos de America')\n",
        "df2016 = eliminarRegistros_x_Valor(df2016, '2016', 'Estados unidos de America')\n",
        "df2017 = eliminarRegistros_x_Valor(df2017, '2017', 'Estados unidos de America')\n",
        "df2018 = eliminarRegistros_x_Valor(df2018, '2018', 'Estados unidos de America')\n",
        "df2019 = eliminarRegistros_x_Valor(df2019, '2019', 'Estados unidos de America')\n"
      ],
      "metadata": {
        "colab": {
          "base_uri": "https://localhost:8080/"
        },
        "id": "HvR23yRfsW3b",
        "outputId": "29bcd84b-55c9-4154-b5cf-046fb968a169"
      },
      "execution_count": 92,
      "outputs": [
        {
          "output_type": "stream",
          "name": "stdout",
          "text": [
            "Cantidad de basura en el dataframe 2010: 99\n",
            "Cantidad de basura en el dataframe 2011: 96\n",
            "Cantidad de basura en el dataframe 2012: 77\n",
            "Cantidad de basura en el dataframe 2013: 94\n",
            "Cantidad de basura en el dataframe 2014: 86\n",
            "Cantidad de basura en el dataframe 2015: 77\n",
            "Cantidad de basura en el dataframe 2016: 117\n",
            "Cantidad de basura en el dataframe 2017: 121\n",
            "Cantidad de basura en el dataframe 2018: 88\n",
            "Cantidad de basura en el dataframe 2019: 87\n"
          ]
        }
      ]
    },
    {
      "cell_type": "markdown",
      "source": [
        "### Comprobar de la inexistencia del valor de EUA"
      ],
      "metadata": {
        "id": "Oes3Zx4_RMFT"
      }
    },
    {
      "cell_type": "code",
      "source": [
        "def ordenarLista(lista, nombreDf):\n",
        "  listaSinNan = [valor for valor in lista if type(valor) != float]\n",
        "  listaOrdenada = sorted(listaSinNan)\n",
        "  listaOrdenada.append('NaN')\n",
        "\n",
        "  titulo = f\"DataFrame {nombreDf}\".center(100, '-')\n",
        "  print(titulo)\n",
        "  print(listaOrdenada)\n",
        "\n",
        "# Crear listas de los valores distintos en el campo 'ent_resid_nm' de cada fragmento\n",
        "lista2010 = list(df2010['ent_resid_nm'].unique())\n",
        "lista2011 = list(df2011['ent_resid_nm'].unique())\n",
        "lista2012 = list(df2012['ent_resid_nm'].unique())\n",
        "lista2013 = list(df2013['ent_resid_nm'].unique())\n",
        "lista2014 = list(df2014['ent_resid_nm'].unique())\n",
        "lista2015 = list(df2015['ent_resid_nm'].unique())\n",
        "lista2016 = list(df2016['ent_resid_nm'].unique())\n",
        "lista2017 = list(df2017['ent_resid_nm'].unique())\n",
        "lista2018 = list(df2018['ent_resid_nm'].unique())\n",
        "lista2019 = list(df2019['ent_resid_nm'].unique())\n",
        "\n",
        "# Mandar a llamar la funcion\n",
        "ordenarLista(lista2010, '2010')\n",
        "ordenarLista(lista2011, '2011')\n",
        "ordenarLista(lista2012, '2012')\n",
        "ordenarLista(lista2013, '2013')\n",
        "ordenarLista(lista2014, '2014')\n",
        "ordenarLista(lista2015, '2015')\n",
        "ordenarLista(lista2016, '2016')\n",
        "ordenarLista(lista2017, '2017')\n",
        "ordenarLista(lista2018, '2018')\n",
        "ordenarLista(lista2019, '2019')"
      ],
      "metadata": {
        "colab": {
          "base_uri": "https://localhost:8080/"
        },
        "id": "F-hQzeGo976F",
        "outputId": "ad0cb7dd-e207-4fa1-c6ad-c39bce8d52ab"
      },
      "execution_count": 93,
      "outputs": [
        {
          "output_type": "stream",
          "name": "stdout",
          "text": [
            "-------------------------------------------DataFrame 2010-------------------------------------------\n",
            "['Aguascalientes', 'Baja California', 'Baja California Sur', 'Campeche', 'Chiapas', 'Chihuahua', 'Coahuila de Zaragoza', 'Colima', 'Distrito Federal', 'Durango', 'Guanajuato', 'Guerrero', 'Hidalgo', 'Jalisco', 'Michoacán de Ocampo', 'Morelos', 'México', 'Nayarit', 'Nuevo León', 'Oaxaca', 'Puebla', 'Querétaro', 'Quintana Roo', 'San Luis Potosí', 'Sinaloa', 'Sonora', 'Tabasco', 'Tamaulipas', 'Tlaxcala', 'Veracruz de Ignacio de la Llave', 'Yucatán', 'Zacatecas', 'NaN']\n",
            "-------------------------------------------DataFrame 2011-------------------------------------------\n",
            "['Aguascalientes', 'Baja California', 'Baja California Sur', 'Campeche', 'Chiapas', 'Chihuahua', 'Coahuila de Zaragoza', 'Colima', 'Distrito Federal', 'Durango', 'Guanajuato', 'Guerrero', 'Hidalgo', 'Jalisco', 'Michoacán de Ocampo', 'Morelos', 'México', 'Nayarit', 'Nuevo León', 'Oaxaca', 'Puebla', 'Querétaro', 'Quintana Roo', 'San Luis Potosí', 'Sinaloa', 'Sonora', 'Tabasco', 'Tamaulipas', 'Tlaxcala', 'Veracruz de Ignacio de la Llave', 'Yucatán', 'Zacatecas', 'NaN']\n",
            "-------------------------------------------DataFrame 2012-------------------------------------------\n",
            "['Aguascalientes', 'Baja California', 'Baja California Sur', 'Campeche', 'Chiapas', 'Chihuahua', 'Coahuila de Zaragoza', 'Colima', 'Distrito Federal', 'Durango', 'Guanajuato', 'Guerrero', 'Hidalgo', 'Jalisco', 'Michoacán de Ocampo', 'Morelos', 'México', 'Nayarit', 'Nuevo León', 'Oaxaca', 'Puebla', 'Querétaro', 'Quintana Roo', 'San Luis Potosí', 'Sinaloa', 'Sonora', 'Tabasco', 'Tamaulipas', 'Tlaxcala', 'Veracruz de Ignacio de la Llave', 'Yucatán', 'Zacatecas', 'NaN']\n",
            "-------------------------------------------DataFrame 2013-------------------------------------------\n",
            "['Aguascalientes', 'Baja California', 'Baja California Sur', 'Campeche', 'Chiapas', 'Chihuahua', 'Coahuila de Zaragoza', 'Colima', 'Distrito Federal', 'Durango', 'Guanajuato', 'Guerrero', 'Hidalgo', 'Jalisco', 'Michoacán de Ocampo', 'Morelos', 'México', 'Nayarit', 'Nuevo León', 'Oaxaca', 'Puebla', 'Querétaro', 'Quintana Roo', 'San Luis Potosí', 'Sinaloa', 'Sonora', 'Tabasco', 'Tamaulipas', 'Tlaxcala', 'Veracruz de Ignacio de la Llave', 'Yucatán', 'Zacatecas', 'NaN']\n",
            "-------------------------------------------DataFrame 2014-------------------------------------------\n",
            "['Aguascalientes', 'Baja California', 'Baja California Sur', 'Campeche', 'Chiapas', 'Chihuahua', 'Coahuila de Zaragoza', 'Colima', 'Distrito Federal', 'Durango', 'Guanajuato', 'Guerrero', 'Hidalgo', 'Jalisco', 'Michoacán de Ocampo', 'Morelos', 'México', 'Nayarit', 'Nuevo León', 'Oaxaca', 'Puebla', 'Querétaro', 'Quintana Roo', 'San Luis Potosí', 'Sinaloa', 'Sonora', 'Tabasco', 'Tamaulipas', 'Tlaxcala', 'Veracruz de Ignacio de la Llave', 'Yucatán', 'Zacatecas', 'NaN']\n",
            "-------------------------------------------DataFrame 2015-------------------------------------------\n",
            "['Aguascalientes', 'Baja California', 'Baja California Sur', 'Campeche', 'Chiapas', 'Chihuahua', 'Coahuila de Zaragoza', 'Colima', 'Distrito Federal', 'Durango', 'Guanajuato', 'Guerrero', 'Hidalgo', 'Jalisco', 'Michoacán de Ocampo', 'Morelos', 'México', 'Nayarit', 'Nuevo León', 'Oaxaca', 'Puebla', 'Querétaro', 'Quintana Roo', 'San Luis Potosí', 'Sinaloa', 'Sonora', 'Tabasco', 'Tamaulipas', 'Tlaxcala', 'Veracruz de Ignacio de la Llave', 'Yucatán', 'Zacatecas', 'NaN']\n",
            "-------------------------------------------DataFrame 2016-------------------------------------------\n",
            "['Aguascalientes', 'Baja California', 'Baja California Sur', 'Campeche', 'Chiapas', 'Chihuahua', 'Coahuila de Zaragoza', 'Colima', 'Distrito Federal', 'Durango', 'Guanajuato', 'Guerrero', 'Hidalgo', 'Jalisco', 'Michoacán de Ocampo', 'Morelos', 'México', 'Nayarit', 'Nuevo León', 'Oaxaca', 'Puebla', 'Querétaro', 'Quintana Roo', 'San Luis Potosí', 'Sinaloa', 'Sonora', 'Tabasco', 'Tamaulipas', 'Tlaxcala', 'Veracruz de Ignacio de la Llave', 'Yucatán', 'Zacatecas', 'NaN']\n",
            "-------------------------------------------DataFrame 2017-------------------------------------------\n",
            "['Aguascalientes', 'Baja California', 'Baja California Sur', 'Campeche', 'Chiapas', 'Chihuahua', 'Coahuila de Zaragoza', 'Colima', 'Distrito Federal', 'Durango', 'Guanajuato', 'Guerrero', 'Hidalgo', 'Jalisco', 'Michoacán de Ocampo', 'Morelos', 'México', 'Nayarit', 'Nuevo León', 'Oaxaca', 'Puebla', 'Querétaro', 'Quintana Roo', 'San Luis Potosí', 'Sinaloa', 'Sonora', 'Tabasco', 'Tamaulipas', 'Tlaxcala', 'Veracruz de Ignacio de la Llave', 'Yucatán', 'Zacatecas', 'NaN']\n",
            "-------------------------------------------DataFrame 2018-------------------------------------------\n",
            "['Aguascalientes', 'Baja California', 'Baja California Sur', 'Campeche', 'Chiapas', 'Chihuahua', 'Coahuila de Zaragoza', 'Colima', 'Distrito Federal', 'Durango', 'Guanajuato', 'Guerrero', 'Hidalgo', 'Jalisco', 'Michoacán de Ocampo', 'Morelos', 'México', 'Nayarit', 'Nuevo León', 'Oaxaca', 'Puebla', 'Querétaro', 'Quintana Roo', 'San Luis Potosí', 'Sinaloa', 'Sonora', 'Tabasco', 'Tamaulipas', 'Tlaxcala', 'Veracruz de Ignacio de la Llave', 'Yucatán', 'Zacatecas', 'NaN']\n",
            "-------------------------------------------DataFrame 2019-------------------------------------------\n",
            "['Aguascalientes', 'Baja California', 'Baja California Sur', 'Campeche', 'Chiapas', 'Chihuahua', 'Coahuila de Zaragoza', 'Colima', 'Distrito Federal', 'Durango', 'Guanajuato', 'Guerrero', 'Hidalgo', 'Jalisco', 'Michoacán de Ocampo', 'Morelos', 'México', 'Nayarit', 'Nuevo León', 'Oaxaca', 'Puebla', 'Querétaro', 'Quintana Roo', 'San Luis Potosí', 'Sinaloa', 'Sonora', 'Tabasco', 'Tamaulipas', 'Tlaxcala', 'Veracruz de Ignacio de la Llave', 'Yucatán', 'Zacatecas', 'NaN']\n"
          ]
        }
      ]
    },
    {
      "cell_type": "markdown",
      "source": [
        "### Tratamiento de valores nulos"
      ],
      "metadata": {
        "id": "gAsAe00J7UlS"
      }
    },
    {
      "cell_type": "code",
      "source": [
        "# En teoria este tratamiento deberia aplicarse para la categoria del cancer, empelo y educacion, pero esas 3 variables no presentaron valores nulos\n",
        "def tratamientoValoresNulos(dfxx):\n",
        "  spImputer.fit(dfxx[['ent_resid_nm']])\n",
        "  dfxx[['ent_resid_nm']] = spImputer.transform(dfxx[['ent_resid_nm']])\n",
        "\n",
        "  return dfxx\n",
        "\n",
        "# Preparamiento de la estrategia. En este caso se reemplazaran los valores nulos por el valor mas frecuente\n",
        "spImputer = SimpleImputer(strategy='most_frequent')\n",
        "\n",
        "# Mandar a llamar la funcion de tratamiento\n",
        "df2010 = tratamientoValoresNulos(df2010)\n",
        "df2011 = tratamientoValoresNulos(df2011)\n",
        "df2012 = tratamientoValoresNulos(df2012)\n",
        "df2013 = tratamientoValoresNulos(df2013)\n",
        "df2014 = tratamientoValoresNulos(df2014)\n",
        "df2015 = tratamientoValoresNulos(df2015)\n",
        "df2016 = tratamientoValoresNulos(df2016)\n",
        "df2017 = tratamientoValoresNulos(df2017)\n",
        "df2018 = tratamientoValoresNulos(df2018)\n",
        "df2019 = tratamientoValoresNulos(df2019)"
      ],
      "metadata": {
        "id": "I-BhHHF6UDiS"
      },
      "execution_count": 94,
      "outputs": []
    },
    {
      "cell_type": "markdown",
      "source": [
        "### Comprobacion de la inexistencia de valores nulos"
      ],
      "metadata": {
        "id": "0sTvT4Z4T_zS"
      }
    },
    {
      "cell_type": "code",
      "source": [
        "# Definir una funcion que impirma los valores distintos de la columna 'ent_resid_nm' en orden alfabetico\n",
        "def imprimirValoresDistintos(df20xx, nombreDf):\n",
        "  titulo = f\"DataFrame {nombreDf}\".center(100, '-')\n",
        "  valoresDistintos = list(df2010['ent_resid_nm'].unique())\n",
        "  valoresDistintos.sort()\n",
        "  print(titulo)\n",
        "  print(valoresDistintos)\n",
        "\n",
        "\n",
        "imprimirValoresDistintos(df2010, '2010')\n",
        "imprimirValoresDistintos(df2011, '2011')\n",
        "imprimirValoresDistintos(df2012, '2012')\n",
        "imprimirValoresDistintos(df2013, '2013')\n",
        "imprimirValoresDistintos(df2014, '2014')\n",
        "imprimirValoresDistintos(df2015, '2015')\n",
        "imprimirValoresDistintos(df2016, '2016')\n",
        "imprimirValoresDistintos(df2017, '2017')\n",
        "imprimirValoresDistintos(df2018, '2018')\n",
        "imprimirValoresDistintos(df2019, '2019')"
      ],
      "metadata": {
        "colab": {
          "base_uri": "https://localhost:8080/"
        },
        "id": "9y5-hciZael0",
        "outputId": "1627f25d-ddb2-40e1-9b1e-88ef73e65d0a"
      },
      "execution_count": 95,
      "outputs": [
        {
          "output_type": "stream",
          "name": "stdout",
          "text": [
            "-------------------------------------------DataFrame 2010-------------------------------------------\n",
            "['Aguascalientes', 'Baja California', 'Baja California Sur', 'Campeche', 'Chiapas', 'Chihuahua', 'Coahuila de Zaragoza', 'Colima', 'Distrito Federal', 'Durango', 'Guanajuato', 'Guerrero', 'Hidalgo', 'Jalisco', 'Michoacán de Ocampo', 'Morelos', 'México', 'Nayarit', 'Nuevo León', 'Oaxaca', 'Puebla', 'Querétaro', 'Quintana Roo', 'San Luis Potosí', 'Sinaloa', 'Sonora', 'Tabasco', 'Tamaulipas', 'Tlaxcala', 'Veracruz de Ignacio de la Llave', 'Yucatán', 'Zacatecas']\n",
            "-------------------------------------------DataFrame 2011-------------------------------------------\n",
            "['Aguascalientes', 'Baja California', 'Baja California Sur', 'Campeche', 'Chiapas', 'Chihuahua', 'Coahuila de Zaragoza', 'Colima', 'Distrito Federal', 'Durango', 'Guanajuato', 'Guerrero', 'Hidalgo', 'Jalisco', 'Michoacán de Ocampo', 'Morelos', 'México', 'Nayarit', 'Nuevo León', 'Oaxaca', 'Puebla', 'Querétaro', 'Quintana Roo', 'San Luis Potosí', 'Sinaloa', 'Sonora', 'Tabasco', 'Tamaulipas', 'Tlaxcala', 'Veracruz de Ignacio de la Llave', 'Yucatán', 'Zacatecas']\n",
            "-------------------------------------------DataFrame 2012-------------------------------------------\n",
            "['Aguascalientes', 'Baja California', 'Baja California Sur', 'Campeche', 'Chiapas', 'Chihuahua', 'Coahuila de Zaragoza', 'Colima', 'Distrito Federal', 'Durango', 'Guanajuato', 'Guerrero', 'Hidalgo', 'Jalisco', 'Michoacán de Ocampo', 'Morelos', 'México', 'Nayarit', 'Nuevo León', 'Oaxaca', 'Puebla', 'Querétaro', 'Quintana Roo', 'San Luis Potosí', 'Sinaloa', 'Sonora', 'Tabasco', 'Tamaulipas', 'Tlaxcala', 'Veracruz de Ignacio de la Llave', 'Yucatán', 'Zacatecas']\n",
            "-------------------------------------------DataFrame 2013-------------------------------------------\n",
            "['Aguascalientes', 'Baja California', 'Baja California Sur', 'Campeche', 'Chiapas', 'Chihuahua', 'Coahuila de Zaragoza', 'Colima', 'Distrito Federal', 'Durango', 'Guanajuato', 'Guerrero', 'Hidalgo', 'Jalisco', 'Michoacán de Ocampo', 'Morelos', 'México', 'Nayarit', 'Nuevo León', 'Oaxaca', 'Puebla', 'Querétaro', 'Quintana Roo', 'San Luis Potosí', 'Sinaloa', 'Sonora', 'Tabasco', 'Tamaulipas', 'Tlaxcala', 'Veracruz de Ignacio de la Llave', 'Yucatán', 'Zacatecas']\n",
            "-------------------------------------------DataFrame 2014-------------------------------------------\n",
            "['Aguascalientes', 'Baja California', 'Baja California Sur', 'Campeche', 'Chiapas', 'Chihuahua', 'Coahuila de Zaragoza', 'Colima', 'Distrito Federal', 'Durango', 'Guanajuato', 'Guerrero', 'Hidalgo', 'Jalisco', 'Michoacán de Ocampo', 'Morelos', 'México', 'Nayarit', 'Nuevo León', 'Oaxaca', 'Puebla', 'Querétaro', 'Quintana Roo', 'San Luis Potosí', 'Sinaloa', 'Sonora', 'Tabasco', 'Tamaulipas', 'Tlaxcala', 'Veracruz de Ignacio de la Llave', 'Yucatán', 'Zacatecas']\n",
            "-------------------------------------------DataFrame 2015-------------------------------------------\n",
            "['Aguascalientes', 'Baja California', 'Baja California Sur', 'Campeche', 'Chiapas', 'Chihuahua', 'Coahuila de Zaragoza', 'Colima', 'Distrito Federal', 'Durango', 'Guanajuato', 'Guerrero', 'Hidalgo', 'Jalisco', 'Michoacán de Ocampo', 'Morelos', 'México', 'Nayarit', 'Nuevo León', 'Oaxaca', 'Puebla', 'Querétaro', 'Quintana Roo', 'San Luis Potosí', 'Sinaloa', 'Sonora', 'Tabasco', 'Tamaulipas', 'Tlaxcala', 'Veracruz de Ignacio de la Llave', 'Yucatán', 'Zacatecas']\n",
            "-------------------------------------------DataFrame 2016-------------------------------------------\n",
            "['Aguascalientes', 'Baja California', 'Baja California Sur', 'Campeche', 'Chiapas', 'Chihuahua', 'Coahuila de Zaragoza', 'Colima', 'Distrito Federal', 'Durango', 'Guanajuato', 'Guerrero', 'Hidalgo', 'Jalisco', 'Michoacán de Ocampo', 'Morelos', 'México', 'Nayarit', 'Nuevo León', 'Oaxaca', 'Puebla', 'Querétaro', 'Quintana Roo', 'San Luis Potosí', 'Sinaloa', 'Sonora', 'Tabasco', 'Tamaulipas', 'Tlaxcala', 'Veracruz de Ignacio de la Llave', 'Yucatán', 'Zacatecas']\n",
            "-------------------------------------------DataFrame 2017-------------------------------------------\n",
            "['Aguascalientes', 'Baja California', 'Baja California Sur', 'Campeche', 'Chiapas', 'Chihuahua', 'Coahuila de Zaragoza', 'Colima', 'Distrito Federal', 'Durango', 'Guanajuato', 'Guerrero', 'Hidalgo', 'Jalisco', 'Michoacán de Ocampo', 'Morelos', 'México', 'Nayarit', 'Nuevo León', 'Oaxaca', 'Puebla', 'Querétaro', 'Quintana Roo', 'San Luis Potosí', 'Sinaloa', 'Sonora', 'Tabasco', 'Tamaulipas', 'Tlaxcala', 'Veracruz de Ignacio de la Llave', 'Yucatán', 'Zacatecas']\n",
            "-------------------------------------------DataFrame 2018-------------------------------------------\n",
            "['Aguascalientes', 'Baja California', 'Baja California Sur', 'Campeche', 'Chiapas', 'Chihuahua', 'Coahuila de Zaragoza', 'Colima', 'Distrito Federal', 'Durango', 'Guanajuato', 'Guerrero', 'Hidalgo', 'Jalisco', 'Michoacán de Ocampo', 'Morelos', 'México', 'Nayarit', 'Nuevo León', 'Oaxaca', 'Puebla', 'Querétaro', 'Quintana Roo', 'San Luis Potosí', 'Sinaloa', 'Sonora', 'Tabasco', 'Tamaulipas', 'Tlaxcala', 'Veracruz de Ignacio de la Llave', 'Yucatán', 'Zacatecas']\n",
            "-------------------------------------------DataFrame 2019-------------------------------------------\n",
            "['Aguascalientes', 'Baja California', 'Baja California Sur', 'Campeche', 'Chiapas', 'Chihuahua', 'Coahuila de Zaragoza', 'Colima', 'Distrito Federal', 'Durango', 'Guanajuato', 'Guerrero', 'Hidalgo', 'Jalisco', 'Michoacán de Ocampo', 'Morelos', 'México', 'Nayarit', 'Nuevo León', 'Oaxaca', 'Puebla', 'Querétaro', 'Quintana Roo', 'San Luis Potosí', 'Sinaloa', 'Sonora', 'Tabasco', 'Tamaulipas', 'Tlaxcala', 'Veracruz de Ignacio de la Llave', 'Yucatán', 'Zacatecas']\n"
          ]
        }
      ]
    },
    {
      "cell_type": "markdown",
      "source": [
        "## Limpieza por Empleo ---------------------------------------------------------------------------------------------------"
      ],
      "metadata": {
        "id": "fGeh1LIX7Cgu"
      }
    },
    {
      "cell_type": "markdown",
      "source": [
        "### Detectar Basura"
      ],
      "metadata": {
        "id": "o_112IPdjbxK"
      }
    },
    {
      "cell_type": "code",
      "source": [
        "# Definicion de la funcion que busca los registros basura\n",
        "def buscarLlavesRuido(df20xx, nombreLLave, nombreDesc):\n",
        "  dfRuido20xx = df20xx[df20xx[nombreDesc].isnull()] # Buscar los registros que tienen vacio el campo 'nombreDesc'\n",
        "  print(dfRuido20xx[nombreLLave].unique()) # Imprimir las llaves que no tienen descripcion en 'nombreDesc'\n",
        "\n",
        "  return dfRuido20xx\n",
        "\n",
        "# Mandar a llamar la funcion\n",
        "dfRuido2010 = buscarLlavesRuido(df2010, 'ocupacion', 'desc_ocupacion')\n",
        "dfRuido2011 = buscarLlavesRuido(df2011, 'ocupacion', 'desc_ocupacion')\n",
        "dfRuido2012 = buscarLlavesRuido(df2012, 'ocupacion', 'desc_ocupacion')\n",
        "dfRuido2013 = buscarLlavesRuido(df2013, 'ocupacion', 'desc_ocupacion')\n",
        "dfRuido2014 = buscarLlavesRuido(df2014, 'ocupacion', 'desc_ocupacion')\n",
        "dfRuido2015 = buscarLlavesRuido(df2015, 'ocupacion', 'desc_ocupacion')\n",
        "dfRuido2016 = buscarLlavesRuido(df2016, 'ocupacion', 'desc_ocupacion')\n",
        "dfRuido2017 = buscarLlavesRuido(df2017, 'ocupacion', 'desc_ocupacion')\n",
        "dfRuido2018 = buscarLlavesRuido(df2018, 'ocupacion', 'desc_ocupacion')\n",
        "dfRuido2019 = buscarLlavesRuido(df2019, 'ocupacion', 'desc_ocupacion')\n",
        "# Entonces solo hubo ruido en los años 2010 a 2012"
      ],
      "metadata": {
        "colab": {
          "base_uri": "https://localhost:8080/"
        },
        "id": "VElvCwNJcskx",
        "outputId": "2b497f53-aff0-414f-be4a-5dc2ebd85f63"
      },
      "execution_count": 96,
      "outputs": [
        {
          "output_type": "stream",
          "name": "stdout",
          "text": [
            "[9 6 4 7]\n",
            "[4 6 9 7 8 1]\n",
            "[ 8  1  6  4  9  7  5  3 10]\n",
            "[]\n",
            "[]\n",
            "[]\n",
            "[]\n",
            "[]\n",
            "[]\n",
            "[]\n"
          ]
        }
      ]
    },
    {
      "cell_type": "markdown",
      "source": [
        "### Contar la cantidad de basura"
      ],
      "metadata": {
        "id": "eKlhXmqJRPY-"
      }
    },
    {
      "cell_type": "code",
      "source": [
        "# Definicion de la funcion que contara la cantidad de registros basura\n",
        "def contarBasura(df20xx, dfRuido20xx, nombreDf, campoX):\n",
        "  listaRuido20xx = list(dfRuido20xx[campoX].unique())\n",
        "  condicion20xx = df20xx[campoX].isin(listaRuido20xx)\n",
        "  newDf20xx = df20xx.loc[condicion20xx]\n",
        "  print(f'Cantidad de basura en el dataframe {nombreDf}: {newDf20xx.shape[0]}')\n",
        "\n",
        "contarBasura(df2010, dfRuido2010, '2010', 'ocupacion')\n",
        "contarBasura(df2011, dfRuido2011, '2011', 'ocupacion')\n",
        "contarBasura(df2012, dfRuido2012, '2012', 'ocupacion')"
      ],
      "metadata": {
        "colab": {
          "base_uri": "https://localhost:8080/"
        },
        "id": "sJxaPb_uRR1C",
        "outputId": "10281c88-b215-43af-d2bf-e4dd7cd4ad56"
      },
      "execution_count": 97,
      "outputs": [
        {
          "output_type": "stream",
          "name": "stdout",
          "text": [
            "Cantidad de basura en el dataframe 2010: 14\n",
            "Cantidad de basura en el dataframe 2011: 31\n",
            "Cantidad de basura en el dataframe 2012: 480\n"
          ]
        }
      ]
    },
    {
      "cell_type": "markdown",
      "source": [
        "### Reemplazar Basura por la moda"
      ],
      "metadata": {
        "id": "5eT_OsMcsEMN"
      }
    },
    {
      "cell_type": "code",
      "source": [
        "\n",
        "def reemplazoBasura_x_Moda(df20xx, dfRuido20xx, nombreDf, campoX):\n",
        "  # Determinar cual fue el valor mas comun (Moda) en determinado fragmento en la columna 'campoX'\n",
        "  moda20xx = df20xx[campoX].mode()[0]\n",
        "  print(f\"DataFrame {nombreDf}. La moda en la columna '{campoX}' es: {moda20xx}\")\n",
        "\n",
        "  # Buscar los registros que tienen los datos basura y reemplazarlos por el valor de la moda de cada\n",
        "  # fragmento\n",
        "  listaRuido20xx = list(dfRuido20xx[campoX].unique())\n",
        "  condicion20xx = df20xx[campoX].isin(listaRuido20xx)\n",
        "  df20xx.loc[condicion20xx, campoX] = moda20xx\n",
        "\n",
        "  return df20xx\n",
        "\n",
        "# Mandar a llamar a la funcion\n",
        "df2010 = reemplazoBasura_x_Moda(df2010, dfRuido2010, '2010', 'ocupacion')\n",
        "df2011 = reemplazoBasura_x_Moda(df2011, dfRuido2011, '2011', 'ocupacion')\n",
        "df2012 = reemplazoBasura_x_Moda(df2012, dfRuido2012, '2012', 'ocupacion')"
      ],
      "metadata": {
        "colab": {
          "base_uri": "https://localhost:8080/"
        },
        "id": "OnKVdlOUsDxk",
        "outputId": "7992e19e-a694-4426-cb04-8c1847271b8f"
      },
      "execution_count": 98,
      "outputs": [
        {
          "output_type": "stream",
          "name": "stdout",
          "text": [
            "DataFrame 2010. La moda en la columna 'ocupacion' es: 2\n",
            "DataFrame 2011. La moda en la columna 'ocupacion' es: 2\n",
            "DataFrame 2012. La moda en la columna 'ocupacion' es: 2\n"
          ]
        }
      ]
    },
    {
      "cell_type": "markdown",
      "source": [
        "### Comprobacion de que se reemplazo los registros basura por la moda"
      ],
      "metadata": {
        "id": "UVR5TC-zOpJi"
      }
    },
    {
      "cell_type": "code",
      "source": [
        "def imprimirLlave_y_Descripcion(df20xx, nombreDf, campoLlave, campoDescripcion):\n",
        "  dfRuido20xx = df20xx[df20xx[campoDescripcion].isnull()]\n",
        "  titulo = f\"DataFrame {nombreDf}\".center(100, '-')\n",
        "  print(titulo)\n",
        "  print(dfRuido20xx[[campoLlave, campoDescripcion]])\n",
        "\n",
        "imprimirLlave_y_Descripcion(df2010, '2010', 'ocupacion', 'desc_ocupacion')\n",
        "imprimirLlave_y_Descripcion(df2011, '2011', 'ocupacion', 'desc_ocupacion')\n",
        "imprimirLlave_y_Descripcion(df2012, '2012', 'ocupacion', 'desc_ocupacion')\n"
      ],
      "metadata": {
        "colab": {
          "base_uri": "https://localhost:8080/"
        },
        "id": "kal8gPGFw_Qu",
        "outputId": "7bd6d1e7-14bb-4693-d2d8-0a9e97c159f3"
      },
      "execution_count": 99,
      "outputs": [
        {
          "output_type": "stream",
          "name": "stdout",
          "text": [
            "-------------------------------------------DataFrame 2010-------------------------------------------\n",
            "       ocupacion desc_ocupacion\n",
            "70167          2            NaN\n",
            "70169          2            NaN\n",
            "70173          2            NaN\n",
            "70176          2            NaN\n",
            "70187          2            NaN\n",
            "70189          2            NaN\n",
            "70190          2            NaN\n",
            "70194          2            NaN\n",
            "70206          2            NaN\n",
            "70209          2            NaN\n",
            "70213          2            NaN\n",
            "70229          2            NaN\n",
            "70230          2            NaN\n",
            "70240          2            NaN\n",
            "-------------------------------------------DataFrame 2011-------------------------------------------\n",
            "       ocupacion desc_ocupacion\n",
            "71113          2            NaN\n",
            "71126          2            NaN\n",
            "71127          2            NaN\n",
            "71129          2            NaN\n",
            "71130          2            NaN\n",
            "71131          2            NaN\n",
            "71136          2            NaN\n",
            "71139          2            NaN\n",
            "71141          2            NaN\n",
            "71146          2            NaN\n",
            "71147          2            NaN\n",
            "71159          2            NaN\n",
            "71165          2            NaN\n",
            "71166          2            NaN\n",
            "71169          2            NaN\n",
            "71170          2            NaN\n",
            "71171          2            NaN\n",
            "71172          2            NaN\n",
            "71175          2            NaN\n",
            "71177          2            NaN\n",
            "71180          2            NaN\n",
            "71190          2            NaN\n",
            "71194          2            NaN\n",
            "71198          2            NaN\n",
            "71199          2            NaN\n",
            "71202          2            NaN\n",
            "71208          2            NaN\n",
            "71209          2            NaN\n",
            "71216          2            NaN\n",
            "71220          2            NaN\n",
            "71224          2            NaN\n",
            "-------------------------------------------DataFrame 2012-------------------------------------------\n",
            "       ocupacion desc_ocupacion\n",
            "18606          2            NaN\n",
            "18608          2            NaN\n",
            "18609          2            NaN\n",
            "18610          2            NaN\n",
            "18611          2            NaN\n",
            "...          ...            ...\n",
            "72355          2            NaN\n",
            "72366          2            NaN\n",
            "72387          2            NaN\n",
            "72388          2            NaN\n",
            "73061          2            NaN\n",
            "\n",
            "[480 rows x 2 columns]\n"
          ]
        }
      ]
    },
    {
      "cell_type": "markdown",
      "source": [
        "### Mapear"
      ],
      "metadata": {
        "id": "jcxeOuFvjZKq"
      }
    },
    {
      "cell_type": "code",
      "source": [
        "\n",
        "def mapearEmpleo(df20xx, nombreDf):\n",
        "    df20xx = df20xx.drop(['desc_ocupacion'], axis=1) # Eliminar la descripcion de ocupacion de los dataset\n",
        "    df20xx['NuevaColEmpleo'] = 0 # Agregar una nueva columna y llenarla de puros 0, en esta columna se vaceara el mapeo\n",
        "\n",
        "    # Buscar cuales valores se deben mapear (actualizar)\n",
        "    condicion1 = (df20xx['ocupacion'] == 21)\n",
        "    condicion2 = (df20xx['ocupacion'] == 11) | (df20xx['ocupacion'] == 12) | (df20xx['ocupacion'] == 13)\n",
        "    condicion3 = (df20xx['ocupacion'] == 61) | (df20xx['ocupacion'] == 62)\n",
        "    condicion4 = (df20xx['ocupacion'] == 71) | (df20xx['ocupacion'] == 72)\n",
        "    condicion5 = (df20xx['ocupacion'] == 81) | (df20xx['ocupacion'] == 83)\n",
        "    condicion6 = (df20xx['ocupacion'] == 41)\n",
        "    condicion7 = (df20xx['ocupacion'] == 54)\n",
        "    condicion8 = (df20xx['ocupacion'] == 51) | (df20xx['ocupacion'] == 52) | (df20xx['ocupacion'] == 53) | (df20xx['ocupacion'] == 55)\n",
        "    condicion9 = (df20xx['ocupacion'] == 82)\n",
        "    condicion11 = (df20xx['ocupacion'] == 2)\n",
        "    condicion98 = (df20xx['ocupacion'] == 14)\n",
        "\n",
        "    # Actualizar los valores\n",
        "    df20xx.loc[condicion1, 'NuevaColEmpleo'] = 1\n",
        "    df20xx.loc[condicion2, 'NuevaColEmpleo'] = 2\n",
        "    df20xx.loc[condicion3, 'NuevaColEmpleo'] = 3\n",
        "    df20xx.loc[condicion4, 'NuevaColEmpleo'] = 4\n",
        "    df20xx.loc[condicion5, 'NuevaColEmpleo'] = 5\n",
        "    df20xx.loc[condicion6, 'NuevaColEmpleo'] = 6\n",
        "    df20xx.loc[condicion7, 'NuevaColEmpleo'] = 7\n",
        "    df20xx.loc[condicion8, 'NuevaColEmpleo'] = 8\n",
        "    df20xx.loc[condicion9, 'NuevaColEmpleo'] = 9\n",
        "    df20xx.loc[condicion11, 'NuevaColEmpleo'] = 11\n",
        "    df20xx.loc[condicion98, 'NuevaColEmpleo'] = 98\n",
        "\n",
        "    # Pasar estas llaves tal cual estan (no sufren mapeo porque estos si coinciden)\n",
        "    condicion97 = (df20xx['ocupacion'] == 97)\n",
        "    condicion98 = (df20xx['ocupacion'] == 98)\n",
        "    condicion99 = (df20xx['ocupacion'] == 99)\n",
        "\n",
        "    df20xx.loc[condicion97, 'NuevaColEmpleo'] = 97\n",
        "    df20xx.loc[condicion98, 'NuevaColEmpleo'] = 98\n",
        "    df20xx.loc[condicion99, 'NuevaColEmpleo'] = 99\n",
        "\n",
        "    # Imprimir resultados y validacion\n",
        "    condicion0 = (df20xx['NuevaColEmpleo'] == 0)\n",
        "    newDf = df20xx.loc[condicion0]\n",
        "    print(f'En el dataframe {nombreDf} la cantidad de registros con el valor 0 en la columna NuevaColEmpleo es: {newDf.shape[0]}')\n",
        "\n",
        "    return df20xx\n",
        "\n",
        "df2010 = mapearEmpleo(df2010, '2010')\n",
        "df2011 = mapearEmpleo(df2011, '2011')\n",
        "df2012 = mapearEmpleo(df2012, '2012')"
      ],
      "metadata": {
        "id": "Fdz55qPjjigQ",
        "colab": {
          "base_uri": "https://localhost:8080/"
        },
        "outputId": "2e5ba9e6-d1e5-47e2-ae0b-69e18e9e661c"
      },
      "execution_count": 100,
      "outputs": [
        {
          "output_type": "stream",
          "name": "stdout",
          "text": [
            "En el dataframe 2010 la cantidad de registros con el valor 0 en la columna NuevaColEmpleo es: 0\n",
            "En el dataframe 2011 la cantidad de registros con el valor 0 en la columna NuevaColEmpleo es: 0\n",
            "En el dataframe 2012 la cantidad de registros con el valor 0 en la columna NuevaColEmpleo es: 0\n"
          ]
        }
      ]
    },
    {
      "cell_type": "markdown",
      "source": [
        "### Realizar la integracion con el catalogo de empleo mas general"
      ],
      "metadata": {
        "id": "HXMR7SLhRR4j"
      }
    },
    {
      "cell_type": "code",
      "source": [
        "# Realizar nuevamente la integracion de las bases de datos 2010, 2011 y 2012 con los catalogos de empleo de los\n",
        "# años 2013 a 2019\n",
        "\n",
        "def reIntegracionDeDatos(df20xx, catalogoX, colIzq, colDer, nuevoNombre):\n",
        "  df20xx = pd.merge(df20xx, catalogoX, how='inner', left_on=colIzq, right_on=colDer)\n",
        "  df20xx = df20xx.rename(columns={\"DESCRIP\": nuevoNombre})\n",
        "  df20xx = df20xx.drop(['CVE'], axis=1)\n",
        "\n",
        "  return df20xx\n",
        "\n",
        "df2010 = reIntegracionDeDatos(df2010, dfEmpleo, 'NuevaColEmpleo', 'CVE', 'desc_ocupacion')\n",
        "df2011 = reIntegracionDeDatos(df2011, dfEmpleo, 'NuevaColEmpleo', 'CVE', 'desc_ocupacion')\n",
        "df2012 = reIntegracionDeDatos(df2012, dfEmpleo, 'NuevaColEmpleo', 'CVE', 'desc_ocupacion')"
      ],
      "metadata": {
        "id": "jR4e9ev3vKiM"
      },
      "execution_count": 101,
      "outputs": []
    },
    {
      "cell_type": "markdown",
      "source": [
        "## Limpieza por Educacion ---------------------------------------------------------------------------------------------------"
      ],
      "metadata": {
        "id": "cPy_ZsTr7DOp"
      }
    },
    {
      "cell_type": "markdown",
      "source": [
        "### Detectar basura"
      ],
      "metadata": {
        "id": "WABNGTUFVdkq"
      }
    },
    {
      "cell_type": "code",
      "source": [
        "# Mandar a llamar la funcion\n",
        "dfRuido2010 = buscarLlavesRuido(df2010, 'escolarida', 'desc_escolaridad')\n",
        "dfRuido2011 = buscarLlavesRuido(df2011, 'escolarida', 'desc_escolaridad')\n",
        "dfRuido2012 = buscarLlavesRuido(df2012, 'escolarida', 'desc_escolaridad')\n",
        "dfRuido2013 = buscarLlavesRuido(df2013, 'escolarida', 'desc_escolaridad')\n",
        "dfRuido2014 = buscarLlavesRuido(df2014, 'escolarida', 'desc_escolaridad')\n",
        "dfRuido2015 = buscarLlavesRuido(df2015, 'escolarida', 'desc_escolaridad')\n",
        "dfRuido2016 = buscarLlavesRuido(df2016, 'escolarida', 'desc_escolaridad')\n",
        "dfRuido2017 = buscarLlavesRuido(df2017, 'escolarida', 'desc_escolaridad')\n",
        "dfRuido2018 = buscarLlavesRuido(df2018, 'escolarida', 'desc_escolaridad')\n",
        "dfRuido2019 = buscarLlavesRuido(df2019, 'escolarida', 'desc_escolaridad')\n",
        "\n",
        "# Entonces solo hubo ruido en los años 2010 y 2011"
      ],
      "metadata": {
        "colab": {
          "base_uri": "https://localhost:8080/"
        },
        "id": "Lo-A-nlNKXTH",
        "outputId": "971eef25-840e-4fa3-b605-fba7bebbff35"
      },
      "execution_count": 102,
      "outputs": [
        {
          "output_type": "stream",
          "name": "stdout",
          "text": [
            "[99 88 10]\n",
            "[99 88 10]\n",
            "[]\n",
            "[]\n",
            "[]\n",
            "[]\n",
            "[]\n",
            "[]\n",
            "[]\n",
            "[]\n"
          ]
        }
      ]
    },
    {
      "cell_type": "markdown",
      "source": [
        "### Contar la cantidad de basura"
      ],
      "metadata": {
        "id": "DmYDyBbxWzil"
      }
    },
    {
      "cell_type": "code",
      "source": [
        "contarBasura(df2010, dfRuido2010, '2010', 'escolarida')\n",
        "contarBasura(df2011, dfRuido2011, '2011', 'escolarida')"
      ],
      "metadata": {
        "colab": {
          "base_uri": "https://localhost:8080/"
        },
        "id": "f4RLGXBHWxzD",
        "outputId": "8cc4e98f-9ff6-47c9-f018-54fb1eb8380c"
      },
      "execution_count": 103,
      "outputs": [
        {
          "output_type": "stream",
          "name": "stdout",
          "text": [
            "Cantidad de basura en el dataframe 2010: 42\n",
            "Cantidad de basura en el dataframe 2011: 102\n"
          ]
        }
      ]
    },
    {
      "cell_type": "markdown",
      "source": [
        "### Reemplazar basura por la moda"
      ],
      "metadata": {
        "id": "gsyI_ZP9YEuv"
      }
    },
    {
      "cell_type": "code",
      "source": [
        "df2010 = reemplazoBasura_x_Moda(df2010, dfRuido2010, '2010', 'escolarida')\n",
        "df2011 = reemplazoBasura_x_Moda(df2011, dfRuido2011, '2011', 'escolarida')"
      ],
      "metadata": {
        "colab": {
          "base_uri": "https://localhost:8080/"
        },
        "id": "DnpaoBjwWqDd",
        "outputId": "c93ed721-d23d-4bcd-ed39-75ef324e9fc6"
      },
      "execution_count": 104,
      "outputs": [
        {
          "output_type": "stream",
          "name": "stdout",
          "text": [
            "DataFrame 2010. La moda en la columna 'escolarida' es: 2\n",
            "DataFrame 2011. La moda en la columna 'escolarida' es: 2\n"
          ]
        }
      ]
    },
    {
      "cell_type": "markdown",
      "source": [
        "### Comprobacion de que se reemplazo los registros basura por la moda"
      ],
      "metadata": {
        "id": "x9qb8bUEbRjf"
      }
    },
    {
      "cell_type": "code",
      "source": [
        "imprimirLlave_y_Descripcion(df2010, '2010', 'escolarida', 'desc_escolaridad')\n",
        "imprimirLlave_y_Descripcion(df2011, '2011', 'escolarida', 'desc_escolaridad')"
      ],
      "metadata": {
        "colab": {
          "base_uri": "https://localhost:8080/"
        },
        "id": "E4ifk0EFXtNk",
        "outputId": "d2636286-2033-48e9-d825-9a52094611ac"
      },
      "execution_count": 105,
      "outputs": [
        {
          "output_type": "stream",
          "name": "stdout",
          "text": [
            "-------------------------------------------DataFrame 2010-------------------------------------------\n",
            "       escolarida desc_escolaridad\n",
            "49936           2              NaN\n",
            "49939           2              NaN\n",
            "49943           2              NaN\n",
            "49944           2              NaN\n",
            "49956           2              NaN\n",
            "59276           2              NaN\n",
            "59278           2              NaN\n",
            "62537           2              NaN\n",
            "62552           2              NaN\n",
            "68068           2              NaN\n",
            "68342           2              NaN\n",
            "68344           2              NaN\n",
            "69873           2              NaN\n",
            "69877           2              NaN\n",
            "69878           2              NaN\n",
            "69880           2              NaN\n",
            "69881           2              NaN\n",
            "69882           2              NaN\n",
            "69883           2              NaN\n",
            "69886           2              NaN\n",
            "69887           2              NaN\n",
            "69888           2              NaN\n",
            "69889           2              NaN\n",
            "69890           2              NaN\n",
            "69891           2              NaN\n",
            "69892           2              NaN\n",
            "69893           2              NaN\n",
            "69894           2              NaN\n",
            "69896           2              NaN\n",
            "69897           2              NaN\n",
            "69899           2              NaN\n",
            "69900           2              NaN\n",
            "69901           2              NaN\n",
            "69903           2              NaN\n",
            "69904           2              NaN\n",
            "69905           2              NaN\n",
            "69907           2              NaN\n",
            "69908           2              NaN\n",
            "69909           2              NaN\n",
            "69911           2              NaN\n",
            "69912           2              NaN\n",
            "69913           2              NaN\n",
            "-------------------------------------------DataFrame 2011-------------------------------------------\n",
            "       escolarida desc_escolaridad\n",
            "41054           2              NaN\n",
            "41059           2              NaN\n",
            "41060           2              NaN\n",
            "41077           2              NaN\n",
            "41093           2              NaN\n",
            "...           ...              ...\n",
            "70504           2              NaN\n",
            "70534           2              NaN\n",
            "70536           2              NaN\n",
            "70569           2              NaN\n",
            "70576           2              NaN\n",
            "\n",
            "[102 rows x 2 columns]\n"
          ]
        }
      ]
    },
    {
      "cell_type": "markdown",
      "source": [
        "### Mapear"
      ],
      "metadata": {
        "id": "tnDDcRqJcZt7"
      }
    },
    {
      "cell_type": "code",
      "source": [
        "# Definicion de la funcion que se encargara de mapear los fragmentos 2010 y 2011\n",
        "def mapearEducacion2010(df20xx, nombreDf):\n",
        "    df20xx = df20xx.drop(['desc_escolaridad'], axis=1) # Eliminar la descripcion de escolarida de los dataset\n",
        "    df20xx['NuevaColEducacion'] = 0 # Agregar una nueva columna y llenarla de puros 0, en esta columna se vaceara el mapeo\n",
        "\n",
        "    # Buscar cuales valores se deben mapear (actualizar)\n",
        "    condicion10 = (df20xx['escolarida'] == 2)\n",
        "\n",
        "    # Actualizar los valores\n",
        "    df20xx.loc[condicion10, 'NuevaColEducacion'] = 10\n",
        "\n",
        "    # Pasar estas llaves tal cual estan (no sufren mapeo porque estos si coinciden)\n",
        "    condicion1 = (df20xx['escolarida'] == 1)\n",
        "    condicion3 = (df20xx['escolarida'] == 3)\n",
        "    condicion4 = (df20xx['escolarida'] == 4)\n",
        "    condicion5 = (df20xx['escolarida'] == 5)\n",
        "    condicion6 = (df20xx['escolarida'] == 6)\n",
        "    condicion7 = (df20xx['escolarida'] == 7)\n",
        "    condicion8 = (df20xx['escolarida'] == 8)\n",
        "    condicion9 = (df20xx['escolarida'] == 9)\n",
        "\n",
        "    df20xx.loc[condicion1, 'NuevaColEducacion'] = 1\n",
        "    df20xx.loc[condicion3, 'NuevaColEducacion'] = 3\n",
        "    df20xx.loc[condicion4, 'NuevaColEducacion'] = 4\n",
        "    df20xx.loc[condicion5, 'NuevaColEducacion'] = 5\n",
        "    df20xx.loc[condicion6, 'NuevaColEducacion'] = 6\n",
        "    df20xx.loc[condicion7, 'NuevaColEducacion'] = 7\n",
        "    df20xx.loc[condicion8, 'NuevaColEducacion'] = 8\n",
        "    df20xx.loc[condicion9, 'NuevaColEducacion'] = 9\n",
        "\n",
        "    # Imprimir resultados y validacion\n",
        "    condicion0 = (df20xx['NuevaColEducacion'] == 0)\n",
        "    newDf = df20xx.loc[condicion0]\n",
        "    print(f'En el dataframe {nombreDf} la cantidad de registros con el valor 0 en la columna NuevaColEducacion es: {newDf.shape[0]}')\n",
        "\n",
        "    return df20xx\n",
        "\n",
        "\n",
        "# Definicion de la funcion que se encargara de mapear los fragmentos 2012 a 2019\n",
        "def mapearEducacion2012(df20xx, nombreDf):\n",
        "    df20xx = df20xx.drop(['desc_escolaridad'], axis=1) # Eliminar la descripcion de escolarida de los dataset\n",
        "    df20xx['NuevaColEducacion'] = 0 # Agregar una nueva columna y llenarla de puros 0, en esta columna se vaceara el mapeo\n",
        "\n",
        "    # Buscar cuales valores se deben mapear (actualizar)\n",
        "    condicion3 = (df20xx['escolarida'] == 4)\n",
        "    condicion4 = (df20xx['escolarida'] == 5)\n",
        "    condicion5 = (df20xx['escolarida'] == 6)\n",
        "    condicion6 = (df20xx['escolarida'] == 7) | (df20xx['escolarida'] == 8)\n",
        "    condicion7 = (df20xx['escolarida'] == 9)\n",
        "    condicion8 = (df20xx['escolarida'] == 88)\n",
        "    condicion9 = (df20xx['escolarida'] == 99)\n",
        "    condicion10 = (df20xx['escolarida'] == 2) | (df20xx['escolarida'] == 3)\n",
        "    condicion11 = (df20xx['escolarida'] == 10)\n",
        "\n",
        "    # Actualizar los valores\n",
        "    df20xx.loc[condicion3, 'NuevaColEducacion'] = 3\n",
        "    df20xx.loc[condicion4, 'NuevaColEducacion'] = 4\n",
        "    df20xx.loc[condicion5, 'NuevaColEducacion'] = 5\n",
        "    df20xx.loc[condicion6, 'NuevaColEducacion'] = 6\n",
        "    df20xx.loc[condicion7, 'NuevaColEducacion'] = 7\n",
        "    df20xx.loc[condicion8, 'NuevaColEducacion'] = 8\n",
        "    df20xx.loc[condicion9, 'NuevaColEducacion'] = 9\n",
        "    df20xx.loc[condicion10, 'NuevaColEducacion'] = 10\n",
        "    df20xx.loc[condicion11, 'NuevaColEducacion'] = 11\n",
        "\n",
        "    # Pasar estas llaves tal cual estan (no sufren mapeo porque estos si coinciden)\n",
        "    condicion1 = (df20xx['escolarida'] == 1)\n",
        "\n",
        "    df20xx.loc[condicion1, 'NuevaColEducacion'] = 1\n",
        "\n",
        "    # Creacion de las nuevas descripciones para las nuevas llaves\n",
        "    # df20xx.loc[condicion10, 'NuevaColEducacion'] = 1\n",
        "\n",
        "    # Imprimir resultados y validacion\n",
        "    condicion0 = (df20xx['NuevaColEducacion'] == 0)\n",
        "    newDf = df20xx.loc[condicion0]\n",
        "    print(f'En el dataframe {nombreDf} la cantidad de registros con el valor 0 en la columna NuevaColEducacion es: {newDf.shape[0]}')\n",
        "\n",
        "    return df20xx\n",
        "\n",
        "# Mandar a llamar la funcion 'mapearEducacion2010' para los fragmentos 2010 y 2011\n",
        "df2010 = mapearEducacion2010(df2010, '2010')\n",
        "df2011 = mapearEducacion2010(df2011, '2011')\n",
        "\n",
        "# Mandar a llamar la funcion 'mapearEducacion2012' para los fragmentos 2012 - 2019\n",
        "df2012 = mapearEducacion2012(df2012, '2012')\n",
        "df2013 = mapearEducacion2012(df2013, '2013')\n",
        "df2014 = mapearEducacion2012(df2014, '2014')\n",
        "df2015 = mapearEducacion2012(df2015, '2015')\n",
        "df2016 = mapearEducacion2012(df2016, '2016')\n",
        "df2017 = mapearEducacion2012(df2017, '2017')\n",
        "df2018 = mapearEducacion2012(df2018, '2018')\n",
        "df2019 = mapearEducacion2012(df2019, '2019')\n"
      ],
      "metadata": {
        "colab": {
          "base_uri": "https://localhost:8080/"
        },
        "id": "jPzL8AlvcbI5",
        "outputId": "bf34e279-5996-4b95-ab16-b0ed06159b0f"
      },
      "execution_count": 106,
      "outputs": [
        {
          "output_type": "stream",
          "name": "stdout",
          "text": [
            "En el dataframe 2010 la cantidad de registros con el valor 0 en la columna NuevaColEducacion es: 0\n",
            "En el dataframe 2011 la cantidad de registros con el valor 0 en la columna NuevaColEducacion es: 0\n",
            "En el dataframe 2012 la cantidad de registros con el valor 0 en la columna NuevaColEducacion es: 0\n",
            "En el dataframe 2013 la cantidad de registros con el valor 0 en la columna NuevaColEducacion es: 0\n",
            "En el dataframe 2014 la cantidad de registros con el valor 0 en la columna NuevaColEducacion es: 0\n",
            "En el dataframe 2015 la cantidad de registros con el valor 0 en la columna NuevaColEducacion es: 0\n",
            "En el dataframe 2016 la cantidad de registros con el valor 0 en la columna NuevaColEducacion es: 0\n",
            "En el dataframe 2017 la cantidad de registros con el valor 0 en la columna NuevaColEducacion es: 0\n",
            "En el dataframe 2018 la cantidad de registros con el valor 0 en la columna NuevaColEducacion es: 0\n",
            "En el dataframe 2019 la cantidad de registros con el valor 0 en la columna NuevaColEducacion es: 0\n"
          ]
        }
      ]
    },
    {
      "cell_type": "markdown",
      "source": [
        "### Realizar la integracion con el catalogo de educacion mas general"
      ],
      "metadata": {
        "id": "74lBl2P_kxqc"
      }
    },
    {
      "cell_type": "code",
      "source": [
        "# Realizar nuevamente la integracion de las bases de datos 2012 - 2019 con los catalogos de educacion mas\n",
        "# generales (años 2010 y 2011)\n",
        "df2010 = reIntegracionDeDatos(df2010, dfEscolaridad, 'NuevaColEducacion', 'CVE', 'desc_escolaridad')\n",
        "df2011 = reIntegracionDeDatos(df2011, dfEscolaridad, 'NuevaColEducacion', 'CVE', 'desc_escolaridad')\n",
        "\n",
        "df2012 = reIntegracionDeDatos(df2012, dfEscolaridad, 'NuevaColEducacion', 'CVE', 'desc_escolaridad')\n",
        "df2013 = reIntegracionDeDatos(df2013, dfEscolaridad, 'NuevaColEducacion', 'CVE', 'desc_escolaridad')\n",
        "df2014 = reIntegracionDeDatos(df2014, dfEscolaridad, 'NuevaColEducacion', 'CVE', 'desc_escolaridad')\n",
        "df2015 = reIntegracionDeDatos(df2015, dfEscolaridad, 'NuevaColEducacion', 'CVE', 'desc_escolaridad')\n",
        "df2016 = reIntegracionDeDatos(df2016, dfEscolaridad, 'NuevaColEducacion', 'CVE', 'desc_escolaridad')\n",
        "df2017 = reIntegracionDeDatos(df2017, dfEscolaridad, 'NuevaColEducacion', 'CVE', 'desc_escolaridad')\n",
        "df2018 = reIntegracionDeDatos(df2018, dfEscolaridad, 'NuevaColEducacion', 'CVE', 'desc_escolaridad')\n",
        "df2019 = reIntegracionDeDatos(df2019, dfEscolaridad, 'NuevaColEducacion', 'CVE', 'desc_escolaridad')"
      ],
      "metadata": {
        "id": "Qf-wHqU_Y3Yz"
      },
      "execution_count": 107,
      "outputs": []
    },
    {
      "cell_type": "code",
      "source": [
        "condicion10 = (df2010['NuevaColEducacion'] == 10) | (df2010['NuevaColEducacion'] == 11)\n",
        "newDf = df2010.loc[condicion10]\n",
        "newDf"
      ],
      "metadata": {
        "colab": {
          "base_uri": "https://localhost:8080/",
          "height": 73
        },
        "id": "UYVuz1B_BrAc",
        "outputId": "59dc4efe-b9e2-43fd-a60f-28b4bbccc80d"
      },
      "execution_count": 108,
      "outputs": [
        {
          "output_type": "execute_result",
          "data": {
            "text/plain": [
              "Empty DataFrame\n",
              "Columns: [ent_resid, ent_resid_nm, ICD, Organ, ocupacion, escolarida, NuevaColEmpleo, desc_ocupacion, NuevaColEducacion, DESC]\n",
              "Index: []"
            ],
            "text/html": [
              "\n",
              "  <div id=\"df-18c83ae0-e4d9-4886-90ef-dc85eed43c16\" class=\"colab-df-container\">\n",
              "    <div>\n",
              "<style scoped>\n",
              "    .dataframe tbody tr th:only-of-type {\n",
              "        vertical-align: middle;\n",
              "    }\n",
              "\n",
              "    .dataframe tbody tr th {\n",
              "        vertical-align: top;\n",
              "    }\n",
              "\n",
              "    .dataframe thead th {\n",
              "        text-align: right;\n",
              "    }\n",
              "</style>\n",
              "<table border=\"1\" class=\"dataframe\">\n",
              "  <thead>\n",
              "    <tr style=\"text-align: right;\">\n",
              "      <th></th>\n",
              "      <th>ent_resid</th>\n",
              "      <th>ent_resid_nm</th>\n",
              "      <th>ICD</th>\n",
              "      <th>Organ</th>\n",
              "      <th>ocupacion</th>\n",
              "      <th>escolarida</th>\n",
              "      <th>NuevaColEmpleo</th>\n",
              "      <th>desc_ocupacion</th>\n",
              "      <th>NuevaColEducacion</th>\n",
              "      <th>DESC</th>\n",
              "    </tr>\n",
              "  </thead>\n",
              "  <tbody>\n",
              "  </tbody>\n",
              "</table>\n",
              "</div>\n",
              "    <div class=\"colab-df-buttons\">\n",
              "\n",
              "  <div class=\"colab-df-container\">\n",
              "    <button class=\"colab-df-convert\" onclick=\"convertToInteractive('df-18c83ae0-e4d9-4886-90ef-dc85eed43c16')\"\n",
              "            title=\"Convert this dataframe to an interactive table.\"\n",
              "            style=\"display:none;\">\n",
              "\n",
              "  <svg xmlns=\"http://www.w3.org/2000/svg\" height=\"24px\" viewBox=\"0 -960 960 960\">\n",
              "    <path d=\"M120-120v-720h720v720H120Zm60-500h600v-160H180v160Zm220 220h160v-160H400v160Zm0 220h160v-160H400v160ZM180-400h160v-160H180v160Zm440 0h160v-160H620v160ZM180-180h160v-160H180v160Zm440 0h160v-160H620v160Z\"/>\n",
              "  </svg>\n",
              "    </button>\n",
              "\n",
              "  <style>\n",
              "    .colab-df-container {\n",
              "      display:flex;\n",
              "      gap: 12px;\n",
              "    }\n",
              "\n",
              "    .colab-df-convert {\n",
              "      background-color: #E8F0FE;\n",
              "      border: none;\n",
              "      border-radius: 50%;\n",
              "      cursor: pointer;\n",
              "      display: none;\n",
              "      fill: #1967D2;\n",
              "      height: 32px;\n",
              "      padding: 0 0 0 0;\n",
              "      width: 32px;\n",
              "    }\n",
              "\n",
              "    .colab-df-convert:hover {\n",
              "      background-color: #E2EBFA;\n",
              "      box-shadow: 0px 1px 2px rgba(60, 64, 67, 0.3), 0px 1px 3px 1px rgba(60, 64, 67, 0.15);\n",
              "      fill: #174EA6;\n",
              "    }\n",
              "\n",
              "    .colab-df-buttons div {\n",
              "      margin-bottom: 4px;\n",
              "    }\n",
              "\n",
              "    [theme=dark] .colab-df-convert {\n",
              "      background-color: #3B4455;\n",
              "      fill: #D2E3FC;\n",
              "    }\n",
              "\n",
              "    [theme=dark] .colab-df-convert:hover {\n",
              "      background-color: #434B5C;\n",
              "      box-shadow: 0px 1px 3px 1px rgba(0, 0, 0, 0.15);\n",
              "      filter: drop-shadow(0px 1px 2px rgba(0, 0, 0, 0.3));\n",
              "      fill: #FFFFFF;\n",
              "    }\n",
              "  </style>\n",
              "\n",
              "    <script>\n",
              "      const buttonEl =\n",
              "        document.querySelector('#df-18c83ae0-e4d9-4886-90ef-dc85eed43c16 button.colab-df-convert');\n",
              "      buttonEl.style.display =\n",
              "        google.colab.kernel.accessAllowed ? 'block' : 'none';\n",
              "\n",
              "      async function convertToInteractive(key) {\n",
              "        const element = document.querySelector('#df-18c83ae0-e4d9-4886-90ef-dc85eed43c16');\n",
              "        const dataTable =\n",
              "          await google.colab.kernel.invokeFunction('convertToInteractive',\n",
              "                                                    [key], {});\n",
              "        if (!dataTable) return;\n",
              "\n",
              "        const docLinkHtml = 'Like what you see? Visit the ' +\n",
              "          '<a target=\"_blank\" href=https://colab.research.google.com/notebooks/data_table.ipynb>data table notebook</a>'\n",
              "          + ' to learn more about interactive tables.';\n",
              "        element.innerHTML = '';\n",
              "        dataTable['output_type'] = 'display_data';\n",
              "        await google.colab.output.renderOutput(dataTable, element);\n",
              "        const docLink = document.createElement('div');\n",
              "        docLink.innerHTML = docLinkHtml;\n",
              "        element.appendChild(docLink);\n",
              "      }\n",
              "    </script>\n",
              "  </div>\n",
              "\n",
              "    </div>\n",
              "  </div>\n"
            ]
          },
          "metadata": {},
          "execution_count": 108
        }
      ]
    },
    {
      "cell_type": "code",
      "source": [
        "condicion10 = (df2012['NuevaColEducacion'] == 10) | (df2012['NuevaColEducacion'] == 11)\n",
        "newDf = df2012.loc[condicion10]\n",
        "newDf"
      ],
      "metadata": {
        "colab": {
          "base_uri": "https://localhost:8080/",
          "height": 73
        },
        "id": "PkV6OqQjAAXc",
        "outputId": "d0f10755-5807-4d4f-bd4f-e31f5184146f"
      },
      "execution_count": 87,
      "outputs": [
        {
          "output_type": "execute_result",
          "data": {
            "text/plain": [
              "Empty DataFrame\n",
              "Columns: [ent_resid, ent_resid_nm, ICD, Organ, ocupacion, escolarida, NuevaColEmpleo, desc_ocupacion, NuevaColEducacion, DESC]\n",
              "Index: []"
            ],
            "text/html": [
              "\n",
              "  <div id=\"df-851085dc-7e6a-43f1-8ecc-dfa885853b81\" class=\"colab-df-container\">\n",
              "    <div>\n",
              "<style scoped>\n",
              "    .dataframe tbody tr th:only-of-type {\n",
              "        vertical-align: middle;\n",
              "    }\n",
              "\n",
              "    .dataframe tbody tr th {\n",
              "        vertical-align: top;\n",
              "    }\n",
              "\n",
              "    .dataframe thead th {\n",
              "        text-align: right;\n",
              "    }\n",
              "</style>\n",
              "<table border=\"1\" class=\"dataframe\">\n",
              "  <thead>\n",
              "    <tr style=\"text-align: right;\">\n",
              "      <th></th>\n",
              "      <th>ent_resid</th>\n",
              "      <th>ent_resid_nm</th>\n",
              "      <th>ICD</th>\n",
              "      <th>Organ</th>\n",
              "      <th>ocupacion</th>\n",
              "      <th>escolarida</th>\n",
              "      <th>NuevaColEmpleo</th>\n",
              "      <th>desc_ocupacion</th>\n",
              "      <th>NuevaColEducacion</th>\n",
              "      <th>DESC</th>\n",
              "    </tr>\n",
              "  </thead>\n",
              "  <tbody>\n",
              "  </tbody>\n",
              "</table>\n",
              "</div>\n",
              "    <div class=\"colab-df-buttons\">\n",
              "\n",
              "  <div class=\"colab-df-container\">\n",
              "    <button class=\"colab-df-convert\" onclick=\"convertToInteractive('df-851085dc-7e6a-43f1-8ecc-dfa885853b81')\"\n",
              "            title=\"Convert this dataframe to an interactive table.\"\n",
              "            style=\"display:none;\">\n",
              "\n",
              "  <svg xmlns=\"http://www.w3.org/2000/svg\" height=\"24px\" viewBox=\"0 -960 960 960\">\n",
              "    <path d=\"M120-120v-720h720v720H120Zm60-500h600v-160H180v160Zm220 220h160v-160H400v160Zm0 220h160v-160H400v160ZM180-400h160v-160H180v160Zm440 0h160v-160H620v160ZM180-180h160v-160H180v160Zm440 0h160v-160H620v160Z\"/>\n",
              "  </svg>\n",
              "    </button>\n",
              "\n",
              "  <style>\n",
              "    .colab-df-container {\n",
              "      display:flex;\n",
              "      gap: 12px;\n",
              "    }\n",
              "\n",
              "    .colab-df-convert {\n",
              "      background-color: #E8F0FE;\n",
              "      border: none;\n",
              "      border-radius: 50%;\n",
              "      cursor: pointer;\n",
              "      display: none;\n",
              "      fill: #1967D2;\n",
              "      height: 32px;\n",
              "      padding: 0 0 0 0;\n",
              "      width: 32px;\n",
              "    }\n",
              "\n",
              "    .colab-df-convert:hover {\n",
              "      background-color: #E2EBFA;\n",
              "      box-shadow: 0px 1px 2px rgba(60, 64, 67, 0.3), 0px 1px 3px 1px rgba(60, 64, 67, 0.15);\n",
              "      fill: #174EA6;\n",
              "    }\n",
              "\n",
              "    .colab-df-buttons div {\n",
              "      margin-bottom: 4px;\n",
              "    }\n",
              "\n",
              "    [theme=dark] .colab-df-convert {\n",
              "      background-color: #3B4455;\n",
              "      fill: #D2E3FC;\n",
              "    }\n",
              "\n",
              "    [theme=dark] .colab-df-convert:hover {\n",
              "      background-color: #434B5C;\n",
              "      box-shadow: 0px 1px 3px 1px rgba(0, 0, 0, 0.15);\n",
              "      filter: drop-shadow(0px 1px 2px rgba(0, 0, 0, 0.3));\n",
              "      fill: #FFFFFF;\n",
              "    }\n",
              "  </style>\n",
              "\n",
              "    <script>\n",
              "      const buttonEl =\n",
              "        document.querySelector('#df-851085dc-7e6a-43f1-8ecc-dfa885853b81 button.colab-df-convert');\n",
              "      buttonEl.style.display =\n",
              "        google.colab.kernel.accessAllowed ? 'block' : 'none';\n",
              "\n",
              "      async function convertToInteractive(key) {\n",
              "        const element = document.querySelector('#df-851085dc-7e6a-43f1-8ecc-dfa885853b81');\n",
              "        const dataTable =\n",
              "          await google.colab.kernel.invokeFunction('convertToInteractive',\n",
              "                                                    [key], {});\n",
              "        if (!dataTable) return;\n",
              "\n",
              "        const docLinkHtml = 'Like what you see? Visit the ' +\n",
              "          '<a target=\"_blank\" href=https://colab.research.google.com/notebooks/data_table.ipynb>data table notebook</a>'\n",
              "          + ' to learn more about interactive tables.';\n",
              "        element.innerHTML = '';\n",
              "        dataTable['output_type'] = 'display_data';\n",
              "        await google.colab.output.renderOutput(dataTable, element);\n",
              "        const docLink = document.createElement('div');\n",
              "        docLink.innerHTML = docLinkHtml;\n",
              "        element.appendChild(docLink);\n",
              "      }\n",
              "    </script>\n",
              "  </div>\n",
              "\n",
              "    </div>\n",
              "  </div>\n"
            ]
          },
          "metadata": {},
          "execution_count": 87
        }
      ]
    },
    {
      "cell_type": "markdown",
      "source": [
        "## Conclusión de la Limpieza ---------------------------------------------------------------------------------------------------"
      ],
      "metadata": {
        "id": "zoKYObHpQ1kx"
      }
    },
    {
      "cell_type": "markdown",
      "source": [
        "### Selección de las columnas"
      ],
      "metadata": {
        "id": "WQKxpxuXQ-vo"
      }
    },
    {
      "cell_type": "code",
      "source": [
        "df2010 = df2010[['ent_resid_nm', 'Organ', 'desc_ocupacion', 'desc_escolaridad']]\n",
        "df2011 = df2011[['ent_resid_nm', 'Organ', 'desc_ocupacion', 'desc_escolaridad']]\n",
        "df2012 = df2012[['ent_resid_nm', 'Organ', 'desc_ocupacion', 'desc_escolaridad']]\n",
        "df2013 = df2013[['ent_resid_nm', 'Organ', 'desc_ocupacion', 'desc_escolaridad']]\n",
        "df2014 = df2014[['ent_resid_nm', 'Organ', 'desc_ocupacion', 'desc_escolaridad']]\n",
        "df2015 = df2015[['ent_resid_nm', 'Organ', 'desc_ocupacion', 'desc_escolaridad']]\n",
        "df2016 = df2016[['ent_resid_nm', 'Organ', 'desc_ocupacion', 'desc_escolaridad']]\n",
        "df2017 = df2017[['ent_resid_nm', 'Organ', 'desc_ocupacion', 'desc_escolaridad']]\n",
        "df2018 = df2018[['ent_resid_nm', 'Organ', 'desc_ocupacion', 'desc_escolaridad']]\n",
        "df2019 = df2019[['ent_resid_nm', 'Organ', 'desc_ocupacion', 'desc_escolaridad']]"
      ],
      "metadata": {
        "id": "TQA0psrYQ565"
      },
      "execution_count": null,
      "outputs": []
    },
    {
      "cell_type": "markdown",
      "source": [
        "### Almacenar nueva base de datos"
      ],
      "metadata": {
        "id": "OJm9lKDUTB3D"
      }
    },
    {
      "cell_type": "code",
      "source": [
        "nuevaMortalidadLimpia = '/content/drive/MyDrive/Pt2/Primeras Actividades/0 Bases de Datos/Nueva Mortalidad Limpia/'\n",
        "\n",
        "df2010.to_csv(nuevaMortalidadLimpia + '2010.csv', index=False)\n",
        "df2011.to_csv(nuevaMortalidadLimpia + '2011.csv', index=False)\n",
        "df2012.to_csv(nuevaMortalidadLimpia + '2012.csv', index=False)\n",
        "df2013.to_csv(nuevaMortalidadLimpia + '2013.csv', index=False)\n",
        "df2014.to_csv(nuevaMortalidadLimpia + '2014.csv', index=False)\n",
        "df2015.to_csv(nuevaMortalidadLimpia + '2015.csv', index=False)\n",
        "df2016.to_csv(nuevaMortalidadLimpia + '2016.csv', index=False)\n",
        "df2017.to_csv(nuevaMortalidadLimpia + '2017.csv', index=False)\n",
        "df2018.to_csv(nuevaMortalidadLimpia + '2018.csv', index=False)\n",
        "df2019.to_csv(nuevaMortalidadLimpia + '2019.csv', index=False)"
      ],
      "metadata": {
        "id": "XlFCAviMS8mc"
      },
      "execution_count": null,
      "outputs": []
    }
  ]
}