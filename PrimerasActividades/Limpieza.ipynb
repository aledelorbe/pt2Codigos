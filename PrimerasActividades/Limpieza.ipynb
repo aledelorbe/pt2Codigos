{
  "nbformat": 4,
  "nbformat_minor": 0,
  "metadata": {
    "colab": {
      "provenance": [],
      "mount_file_id": "1X36SSGRCWi0k2c-HzEOQlg9-Vvv8nP26",
      "authorship_tag": "ABX9TyM4O9SXrN1lFxdeGs4E5RTB",
      "include_colab_link": true
    },
    "kernelspec": {
      "name": "python3",
      "display_name": "Python 3"
    },
    "language_info": {
      "name": "python"
    }
  },
  "cells": [
    {
      "cell_type": "markdown",
      "metadata": {
        "id": "view-in-github",
        "colab_type": "text"
      },
      "source": [
        "<a href=\"https://colab.research.google.com/github/aledelorbe/pt2Codigos/blob/main/PrimerasActividades/Limpieza.ipynb\" target=\"_parent\"><img src=\"https://colab.research.google.com/assets/colab-badge.svg\" alt=\"Open In Colab\"/></a>"
      ]
    },
    {
      "cell_type": "markdown",
      "source": [
        "### Cargar librerias"
      ],
      "metadata": {
        "id": "TfLRvAuPFeqe"
      }
    },
    {
      "cell_type": "code",
      "source": [
        "import pandas as pd\n",
        "import matplotlib.pyplot as plt\n",
        "from sklearn.impute import SimpleImputer"
      ],
      "metadata": {
        "id": "AO4KKD9XEpzI"
      },
      "execution_count": 132,
      "outputs": []
    },
    {
      "cell_type": "markdown",
      "source": [
        "### Cargar los dataFrame"
      ],
      "metadata": {
        "id": "r7EfovT3UImO"
      }
    },
    {
      "cell_type": "code",
      "source": [
        "nuevaMortalidad = '/content/drive/MyDrive/Pt2/Primeras Actividades/0 Bases de Datos/Nueva Mortalidad/'\n",
        "\n",
        "df2010 = pd.read_csv(nuevaMortalidad + '2010.csv')\n",
        "df2011 = pd.read_csv(nuevaMortalidad + '2011.csv')\n",
        "df2012 = pd.read_csv(nuevaMortalidad + '2012.csv')\n",
        "df2013 = pd.read_csv(nuevaMortalidad + '2013.csv')\n",
        "df2014 = pd.read_csv(nuevaMortalidad + '2014.csv')\n",
        "df2015 = pd.read_csv(nuevaMortalidad + '2015.csv')\n",
        "df2016 = pd.read_csv(nuevaMortalidad + '2016.csv')\n",
        "df2017 = pd.read_csv(nuevaMortalidad + '2017.csv')\n",
        "df2018 = pd.read_csv(nuevaMortalidad + '2018.csv')\n",
        "df2019 = pd.read_csv(nuevaMortalidad + '2019.csv')"
      ],
      "metadata": {
        "id": "y1JW32OLUImP"
      },
      "execution_count": 133,
      "outputs": []
    },
    {
      "cell_type": "markdown",
      "source": [
        "### Cargar el catalogoa de empleo y educacion (\"Recientes\")\n"
      ],
      "metadata": {
        "id": "FNvKUPMc6Aw1"
      }
    },
    {
      "cell_type": "code",
      "source": [
        "catalogos = '/content/drive/MyDrive/Pt2/Primeras Actividades/0 Bases de Datos/Catalogos/'\n",
        "\n",
        "dfEscolaridad = pd.read_csv(catalogos + 'escolaridad2012_2019.csv', encoding='latin-1')\n",
        "dfEmpleo = pd.read_csv(catalogos + 'ocupacion2013_2019.csv', encoding='latin-1')"
      ],
      "metadata": {
        "id": "vv1q08Sx6HEd"
      },
      "execution_count": 134,
      "outputs": []
    },
    {
      "cell_type": "markdown",
      "source": [
        "### Seleccionar las columnas relevantes para cumplir con los objetivos del proyecto"
      ],
      "metadata": {
        "id": "uZVjRcabq1-H"
      }
    },
    {
      "cell_type": "code",
      "source": [
        "df2010 = df2010[['ent_resid', 'ent_resid_nm', 'ICD', 'detailCaus', 'ocupacion', 'desc_ocupacion', 'escolarida', 'desc_escolaridad']]\n",
        "df2011 = df2011[['ent_resid', 'ent_resid_nm', 'ICD', 'detailCaus', 'ocupacion', 'desc_ocupacion', 'escolarida', 'desc_escolaridad']]\n",
        "df2012 = df2012[['ent_resid', 'ent_resid_nm', 'ICD', 'detailCaus', 'ocupacion', 'desc_ocupacion', 'escolarida', 'desc_escolaridad']]\n",
        "df2013 = df2013[['ent_resid', 'ent_resid_nm', 'ICD', 'detailCaus', 'ocupacion', 'desc_ocupacion', 'escolarida', 'desc_escolaridad']]\n",
        "df2014 = df2014[['ent_resid', 'ent_resid_nm', 'ICD', 'detailCaus', 'ocupacion', 'desc_ocupacion', 'escolarida', 'desc_escolaridad']]\n",
        "df2015 = df2015[['ent_resid', 'ent_resid_nm', 'ICD', 'detailCaus', 'ocupacion', 'desc_ocupacion', 'escolarida', 'desc_escolaridad']]\n",
        "df2016 = df2016[['ent_resid', 'ent_resid_nm', 'ICD', 'detailCaus', 'ocupacion', 'desc_ocupacion', 'escolarida', 'desc_escolaridad']]\n",
        "df2017 = df2017[['ent_resid', 'ent_resid_nm', 'ICD', 'detailCaus', 'ocupacion', 'desc_ocupacion', 'escolarida', 'desc_escolaridad']]\n",
        "df2018 = df2018[['ent_resid', 'ent_resid_nm', 'ICD', 'detailCaus', 'ocupacion', 'desc_ocupacion', 'escolarida', 'desc_escolaridad']]\n",
        "df2019 = df2019[['ent_resid', 'ent_resid_nm', 'ICD', 'detailCaus', 'ocupacion', 'desc_ocupacion', 'escolarida', 'desc_escolaridad']]\n"
      ],
      "metadata": {
        "id": "qEx8420cq1DL"
      },
      "execution_count": 135,
      "outputs": []
    },
    {
      "cell_type": "markdown",
      "source": [
        "# LIMPIEZA"
      ],
      "metadata": {
        "id": "4QbO23WDgQbo"
      }
    },
    {
      "cell_type": "markdown",
      "source": [
        "## Limpieza por Estado ---------------------------------------------------------------------------------------------------"
      ],
      "metadata": {
        "id": "clpIHElC66QN"
      }
    },
    {
      "cell_type": "markdown",
      "source": [
        "### Detectar los valores de EUA"
      ],
      "metadata": {
        "id": "mlG5G8j0abh8"
      }
    },
    {
      "cell_type": "code",
      "source": [
        "condicion2010 = (df2010['ent_resid_nm'] == 'Estados unidos de America')\n",
        "condicion2011 = (df2011['ent_resid_nm'] == 'Estados unidos de America')\n",
        "condicion2012 = (df2012['ent_resid_nm'] == 'Estados unidos de America')\n",
        "condicion2013 = (df2013['ent_resid_nm'] == 'Estados unidos de America')\n",
        "condicion2014 = (df2014['ent_resid_nm'] == 'Estados unidos de America')\n",
        "condicion2015 = (df2015['ent_resid_nm'] == 'Estados unidos de America')\n",
        "condicion2016 = (df2016['ent_resid_nm'] == 'Estados unidos de America')\n",
        "condicion2017 = (df2017['ent_resid_nm'] == 'Estados unidos de America')\n",
        "condicion2018 = (df2018['ent_resid_nm'] == 'Estados unidos de America')\n",
        "condicion2019 = (df2019['ent_resid_nm'] == 'Estados unidos de America')"
      ],
      "metadata": {
        "id": "QoAmYsI-agIw"
      },
      "execution_count": 136,
      "outputs": []
    },
    {
      "cell_type": "markdown",
      "source": [
        "### Contar la cantidad de registros por cada fragmento con el valor de EUA"
      ],
      "metadata": {
        "id": "H-GRW9O8a4Dh"
      }
    },
    {
      "cell_type": "code",
      "source": [
        "print('Cantidad de basura en el dataframe 2010: ', df2010.loc[condicion2010].shape[0])\n",
        "print('Cantidad de basura en el dataframe 2011: ', df2011.loc[condicion2011].shape[0])\n",
        "print('Cantidad de basura en el dataframe 2012: ', df2012.loc[condicion2012].shape[0])\n",
        "print('Cantidad de basura en el dataframe 2013: ', df2013.loc[condicion2013].shape[0])\n",
        "print('Cantidad de basura en el dataframe 2014: ', df2014.loc[condicion2014].shape[0])\n",
        "print('Cantidad de basura en el dataframe 2015: ', df2015.loc[condicion2015].shape[0])\n",
        "print('Cantidad de basura en el dataframe 2016: ', df2016.loc[condicion2016].shape[0])\n",
        "print('Cantidad de basura en el dataframe 2017: ', df2017.loc[condicion2017].shape[0])\n",
        "print('Cantidad de basura en el dataframe 2018: ', df2018.loc[condicion2018].shape[0])\n",
        "print('Cantidad de basura en el dataframe 2019: ', df2019.loc[condicion2019].shape[0])"
      ],
      "metadata": {
        "colab": {
          "base_uri": "https://localhost:8080/"
        },
        "id": "uMOJ2vOSa-WM",
        "outputId": "2c26462d-b020-44ec-bd5f-f5fd36f50375"
      },
      "execution_count": 137,
      "outputs": [
        {
          "output_type": "stream",
          "name": "stdout",
          "text": [
            "Cantidad de basura en el dataframe 2010:  99\n",
            "Cantidad de basura en el dataframe 2011:  96\n",
            "Cantidad de basura en el dataframe 2012:  77\n",
            "Cantidad de basura en el dataframe 2013:  94\n",
            "Cantidad de basura en el dataframe 2014:  86\n",
            "Cantidad de basura en el dataframe 2015:  77\n",
            "Cantidad de basura en el dataframe 2016:  117\n",
            "Cantidad de basura en el dataframe 2017:  121\n",
            "Cantidad de basura en el dataframe 2018:  88\n",
            "Cantidad de basura en el dataframe 2019:  87\n"
          ]
        }
      ]
    },
    {
      "cell_type": "markdown",
      "source": [
        "### Eliminacion de registros\n",
        "\n"
      ],
      "metadata": {
        "id": "B6arG1bM7RXi"
      }
    },
    {
      "cell_type": "code",
      "source": [
        "# Como el proyecto tiene como objetivo analizar datos de personas en Mexico, se considera necesario eliminar los datos de personas\n",
        "# las cuales pertenezcan a EUA\n",
        "\n",
        "df2010 = df2010.drop(df2010[condicion2010].index)\n",
        "df2011 = df2011.drop(df2011[condicion2011].index)\n",
        "df2012 = df2012.drop(df2012[condicion2012].index)\n",
        "df2013 = df2013.drop(df2013[condicion2013].index)\n",
        "df2014 = df2014.drop(df2014[condicion2014].index)\n",
        "df2015 = df2015.drop(df2015[condicion2015].index)\n",
        "df2016 = df2016.drop(df2016[condicion2016].index)\n",
        "df2017 = df2017.drop(df2017[condicion2017].index)\n",
        "df2018 = df2018.drop(df2018[condicion2018].index)\n",
        "df2019 = df2019.drop(df2019[condicion2019].index)"
      ],
      "metadata": {
        "id": "MqOYnVsc7IoI"
      },
      "execution_count": 138,
      "outputs": []
    },
    {
      "cell_type": "markdown",
      "source": [
        "### Comprobar de la inexistencia del valor de EUA"
      ],
      "metadata": {
        "id": "Oes3Zx4_RMFT"
      }
    },
    {
      "cell_type": "code",
      "source": [
        "def ordenarLista(lista):\n",
        "  listaSinNan = [valor for valor in lista if type(valor) != float]\n",
        "  listaOrdenada = sorted(listaSinNan)\n",
        "  listaOrdenada.append('NaN')\n",
        "\n",
        "  return listaOrdenada\n",
        "\n",
        "lista2010 = list(df2010['ent_resid_nm'].unique())\n",
        "lista2011 = list(df2011['ent_resid_nm'].unique())\n",
        "lista2012 = list(df2012['ent_resid_nm'].unique())\n",
        "lista2013 = list(df2013['ent_resid_nm'].unique())\n",
        "lista2014 = list(df2014['ent_resid_nm'].unique())\n",
        "lista2015 = list(df2015['ent_resid_nm'].unique())\n",
        "lista2016 = list(df2016['ent_resid_nm'].unique())\n",
        "lista2017 = list(df2017['ent_resid_nm'].unique())\n",
        "lista2018 = list(df2018['ent_resid_nm'].unique())\n",
        "lista2019 = list(df2019['ent_resid_nm'].unique())\n",
        "\n",
        "print(\"DataFrame 2010\".center(100, '-'))\n",
        "print(ordenarLista(lista2010))\n",
        "print(\"DataFrame 2011\".center(100, '-'))\n",
        "print(ordenarLista(lista2011))\n",
        "print(\"DataFrame 2012\".center(100, '-'))\n",
        "print(ordenarLista(lista2012))\n",
        "print(\"DataFrame 2013\".center(100, '-'))\n",
        "print(ordenarLista(lista2013))\n",
        "print(\"DataFrame 2014\".center(100, '-'))\n",
        "print(ordenarLista(lista2014))\n",
        "print(\"DataFrame 2015\".center(100, '-'))\n",
        "print(ordenarLista(lista2015))\n",
        "print(\"DataFrame 2016\".center(100, '-'))\n",
        "print(ordenarLista(lista2016))\n",
        "print(\"DataFrame 2017\".center(100, '-'))\n",
        "print(ordenarLista(lista2017))\n",
        "print(\"DataFrame 2018\".center(100, '-'))\n",
        "print(ordenarLista(lista2018))\n",
        "print(\"DataFrame 2019\".center(100, '-'))\n",
        "print(ordenarLista(lista2019))"
      ],
      "metadata": {
        "colab": {
          "base_uri": "https://localhost:8080/"
        },
        "id": "F-hQzeGo976F",
        "outputId": "aef937f4-2c0d-4013-9012-b64b99d6d63b"
      },
      "execution_count": 139,
      "outputs": [
        {
          "output_type": "stream",
          "name": "stdout",
          "text": [
            "-------------------------------------------DataFrame 2010-------------------------------------------\n",
            "['Aguascalientes', 'Baja California', 'Baja California Sur', 'Campeche', 'Chiapas', 'Chihuahua', 'Coahuila de Zaragoza', 'Colima', 'Distrito Federal', 'Durango', 'Guanajuato', 'Guerrero', 'Hidalgo', 'Jalisco', 'Michoacán de Ocampo', 'Morelos', 'México', 'Nayarit', 'Nuevo León', 'Oaxaca', 'Puebla', 'Querétaro', 'Quintana Roo', 'San Luis Potosí', 'Sinaloa', 'Sonora', 'Tabasco', 'Tamaulipas', 'Tlaxcala', 'Veracruz de Ignacio de la Llave', 'Yucatán', 'Zacatecas', 'NaN']\n",
            "-------------------------------------------DataFrame 2011-------------------------------------------\n",
            "['Aguascalientes', 'Baja California', 'Baja California Sur', 'Campeche', 'Chiapas', 'Chihuahua', 'Coahuila de Zaragoza', 'Colima', 'Distrito Federal', 'Durango', 'Guanajuato', 'Guerrero', 'Hidalgo', 'Jalisco', 'Michoacán de Ocampo', 'Morelos', 'México', 'Nayarit', 'Nuevo León', 'Oaxaca', 'Puebla', 'Querétaro', 'Quintana Roo', 'San Luis Potosí', 'Sinaloa', 'Sonora', 'Tabasco', 'Tamaulipas', 'Tlaxcala', 'Veracruz de Ignacio de la Llave', 'Yucatán', 'Zacatecas', 'NaN']\n",
            "-------------------------------------------DataFrame 2012-------------------------------------------\n",
            "['Aguascalientes', 'Baja California', 'Baja California Sur', 'Campeche', 'Chiapas', 'Chihuahua', 'Coahuila de Zaragoza', 'Colima', 'Distrito Federal', 'Durango', 'Guanajuato', 'Guerrero', 'Hidalgo', 'Jalisco', 'Michoacán de Ocampo', 'Morelos', 'México', 'Nayarit', 'Nuevo León', 'Oaxaca', 'Puebla', 'Querétaro', 'Quintana Roo', 'San Luis Potosí', 'Sinaloa', 'Sonora', 'Tabasco', 'Tamaulipas', 'Tlaxcala', 'Veracruz de Ignacio de la Llave', 'Yucatán', 'Zacatecas', 'NaN']\n",
            "-------------------------------------------DataFrame 2013-------------------------------------------\n",
            "['Aguascalientes', 'Baja California', 'Baja California Sur', 'Campeche', 'Chiapas', 'Chihuahua', 'Coahuila de Zaragoza', 'Colima', 'Distrito Federal', 'Durango', 'Guanajuato', 'Guerrero', 'Hidalgo', 'Jalisco', 'Michoacán de Ocampo', 'Morelos', 'México', 'Nayarit', 'Nuevo León', 'Oaxaca', 'Puebla', 'Querétaro', 'Quintana Roo', 'San Luis Potosí', 'Sinaloa', 'Sonora', 'Tabasco', 'Tamaulipas', 'Tlaxcala', 'Veracruz de Ignacio de la Llave', 'Yucatán', 'Zacatecas', 'NaN']\n",
            "-------------------------------------------DataFrame 2014-------------------------------------------\n",
            "['Aguascalientes', 'Baja California', 'Baja California Sur', 'Campeche', 'Chiapas', 'Chihuahua', 'Coahuila de Zaragoza', 'Colima', 'Distrito Federal', 'Durango', 'Guanajuato', 'Guerrero', 'Hidalgo', 'Jalisco', 'Michoacán de Ocampo', 'Morelos', 'México', 'Nayarit', 'Nuevo León', 'Oaxaca', 'Puebla', 'Querétaro', 'Quintana Roo', 'San Luis Potosí', 'Sinaloa', 'Sonora', 'Tabasco', 'Tamaulipas', 'Tlaxcala', 'Veracruz de Ignacio de la Llave', 'Yucatán', 'Zacatecas', 'NaN']\n",
            "-------------------------------------------DataFrame 2015-------------------------------------------\n",
            "['Aguascalientes', 'Baja California', 'Baja California Sur', 'Campeche', 'Chiapas', 'Chihuahua', 'Coahuila de Zaragoza', 'Colima', 'Distrito Federal', 'Durango', 'Guanajuato', 'Guerrero', 'Hidalgo', 'Jalisco', 'Michoacán de Ocampo', 'Morelos', 'México', 'Nayarit', 'Nuevo León', 'Oaxaca', 'Puebla', 'Querétaro', 'Quintana Roo', 'San Luis Potosí', 'Sinaloa', 'Sonora', 'Tabasco', 'Tamaulipas', 'Tlaxcala', 'Veracruz de Ignacio de la Llave', 'Yucatán', 'Zacatecas', 'NaN']\n",
            "-------------------------------------------DataFrame 2016-------------------------------------------\n",
            "['Aguascalientes', 'Baja California', 'Baja California Sur', 'Campeche', 'Chiapas', 'Chihuahua', 'Coahuila de Zaragoza', 'Colima', 'Distrito Federal', 'Durango', 'Guanajuato', 'Guerrero', 'Hidalgo', 'Jalisco', 'Michoacán de Ocampo', 'Morelos', 'México', 'Nayarit', 'Nuevo León', 'Oaxaca', 'Puebla', 'Querétaro', 'Quintana Roo', 'San Luis Potosí', 'Sinaloa', 'Sonora', 'Tabasco', 'Tamaulipas', 'Tlaxcala', 'Veracruz de Ignacio de la Llave', 'Yucatán', 'Zacatecas', 'NaN']\n",
            "-------------------------------------------DataFrame 2017-------------------------------------------\n",
            "['Aguascalientes', 'Baja California', 'Baja California Sur', 'Campeche', 'Chiapas', 'Chihuahua', 'Coahuila de Zaragoza', 'Colima', 'Distrito Federal', 'Durango', 'Guanajuato', 'Guerrero', 'Hidalgo', 'Jalisco', 'Michoacán de Ocampo', 'Morelos', 'México', 'Nayarit', 'Nuevo León', 'Oaxaca', 'Puebla', 'Querétaro', 'Quintana Roo', 'San Luis Potosí', 'Sinaloa', 'Sonora', 'Tabasco', 'Tamaulipas', 'Tlaxcala', 'Veracruz de Ignacio de la Llave', 'Yucatán', 'Zacatecas', 'NaN']\n",
            "-------------------------------------------DataFrame 2018-------------------------------------------\n",
            "['Aguascalientes', 'Baja California', 'Baja California Sur', 'Campeche', 'Chiapas', 'Chihuahua', 'Coahuila de Zaragoza', 'Colima', 'Distrito Federal', 'Durango', 'Guanajuato', 'Guerrero', 'Hidalgo', 'Jalisco', 'Michoacán de Ocampo', 'Morelos', 'México', 'Nayarit', 'Nuevo León', 'Oaxaca', 'Puebla', 'Querétaro', 'Quintana Roo', 'San Luis Potosí', 'Sinaloa', 'Sonora', 'Tabasco', 'Tamaulipas', 'Tlaxcala', 'Veracruz de Ignacio de la Llave', 'Yucatán', 'Zacatecas', 'NaN']\n",
            "-------------------------------------------DataFrame 2019-------------------------------------------\n",
            "['Aguascalientes', 'Baja California', 'Baja California Sur', 'Campeche', 'Chiapas', 'Chihuahua', 'Coahuila de Zaragoza', 'Colima', 'Distrito Federal', 'Durango', 'Guanajuato', 'Guerrero', 'Hidalgo', 'Jalisco', 'Michoacán de Ocampo', 'Morelos', 'México', 'Nayarit', 'Nuevo León', 'Oaxaca', 'Puebla', 'Querétaro', 'Quintana Roo', 'San Luis Potosí', 'Sinaloa', 'Sonora', 'Tabasco', 'Tamaulipas', 'Tlaxcala', 'Veracruz de Ignacio de la Llave', 'Yucatán', 'Zacatecas', 'NaN']\n"
          ]
        }
      ]
    },
    {
      "cell_type": "markdown",
      "source": [
        "### Tratamiento de valores nulos"
      ],
      "metadata": {
        "id": "gAsAe00J7UlS"
      }
    },
    {
      "cell_type": "code",
      "source": [
        "# En teoria este deberia hacerse para la categoria del cancer, empelo y educacion, pero esas 3 columnas no presentaron valores nulos\n",
        "spImputer = SimpleImputer(strategy='most_frequent')\n",
        "\n",
        "spImputer.fit(df2010[['ent_resid_nm']])\n",
        "df2010[['ent_resid_nm']] = spImputer.transform(df2010[['ent_resid_nm']])\n",
        "spImputer.fit(df2011[['ent_resid_nm']])\n",
        "df2011[['ent_resid_nm']] = spImputer.transform(df2011[['ent_resid_nm']])\n",
        "spImputer.fit(df2012[['ent_resid_nm']])\n",
        "df2012[['ent_resid_nm']] = spImputer.transform(df2012[['ent_resid_nm']])\n",
        "spImputer.fit(df2013[['ent_resid_nm']])\n",
        "df2013[['ent_resid_nm']] = spImputer.transform(df2013[['ent_resid_nm']])\n",
        "spImputer.fit(df2014[['ent_resid_nm']])\n",
        "df2014[['ent_resid_nm']] = spImputer.transform(df2014[['ent_resid_nm']])\n",
        "spImputer.fit(df2015[['ent_resid_nm']])\n",
        "df2015[['ent_resid_nm']] = spImputer.transform(df2015[['ent_resid_nm']])\n",
        "spImputer.fit(df2016[['ent_resid_nm']])\n",
        "df2016[['ent_resid_nm']] = spImputer.transform(df2016[['ent_resid_nm']])\n",
        "spImputer.fit(df2017[['ent_resid_nm']])\n",
        "df2017[['ent_resid_nm']] = spImputer.transform(df2017[['ent_resid_nm']])\n",
        "spImputer.fit(df2018[['ent_resid_nm']])\n",
        "df2018[['ent_resid_nm']] = spImputer.transform(df2018[['ent_resid_nm']])\n",
        "spImputer.fit(df2019[['ent_resid_nm']])\n",
        "df2019[['ent_resid_nm']] = spImputer.transform(df2019[['ent_resid_nm']])\n"
      ],
      "metadata": {
        "id": "I-BhHHF6UDiS"
      },
      "execution_count": 140,
      "outputs": []
    },
    {
      "cell_type": "markdown",
      "source": [
        "### Comprobacion de la inexistencia de valores nulos"
      ],
      "metadata": {
        "id": "0sTvT4Z4T_zS"
      }
    },
    {
      "cell_type": "code",
      "source": [
        "print(\"DataFrame 2010\".center(100, '-'))\n",
        "print(list(df2010['ent_resid_nm'].unique()))\n",
        "print(\"DataFrame 2011\".center(100, '-'))\n",
        "print(list(df2011['ent_resid_nm'].unique()))\n",
        "print(\"DataFrame 2012\".center(100, '-'))\n",
        "print(list(df2012['ent_resid_nm'].unique()))\n",
        "print(\"DataFrame 2013\".center(100, '-'))\n",
        "print(list(df2013['ent_resid_nm'].unique()))\n",
        "print(\"DataFrame 2014\".center(100, '-'))\n",
        "print(list(df2014['ent_resid_nm'].unique()))\n",
        "print(\"DataFrame 2015\".center(100, '-'))\n",
        "print(list(df2015['ent_resid_nm'].unique()))\n",
        "print(\"DataFrame 2016\".center(100, '-'))\n",
        "print(list(df2016['ent_resid_nm'].unique()))\n",
        "print(\"DataFrame 2017\".center(100, '-'))\n",
        "print(list(df2017['ent_resid_nm'].unique()))\n",
        "print(\"DataFrame 2018\".center(100, '-'))\n",
        "print(list(df2018['ent_resid_nm'].unique()))\n",
        "print(\"DataFrame 2019\".center(100, '-'))\n",
        "print(list(df2019['ent_resid_nm'].unique()))\n"
      ],
      "metadata": {
        "colab": {
          "base_uri": "https://localhost:8080/"
        },
        "id": "9y5-hciZael0",
        "outputId": "82cdef63-cde5-47db-b282-adcc3686c81b"
      },
      "execution_count": 141,
      "outputs": [
        {
          "output_type": "stream",
          "name": "stdout",
          "text": [
            "-------------------------------------------DataFrame 2010-------------------------------------------\n",
            "['Aguascalientes', 'Jalisco', 'Querétaro', 'Michoacán de Ocampo', 'Zacatecas', 'Distrito Federal', 'México', 'Oaxaca', 'Guanajuato', 'Baja California', 'Sonora', 'Baja California Sur', 'Sinaloa', 'Morelos', 'Colima', 'Campeche', 'Yucatán', 'Chiapas', 'Veracruz de Ignacio de la Llave', 'Coahuila de Zaragoza', 'Tabasco', 'Quintana Roo', 'Chihuahua', 'Durango', 'Nuevo León', 'Puebla', 'San Luis Potosí', 'Guerrero', 'Tlaxcala', 'Hidalgo', 'Tamaulipas', 'Nayarit']\n",
            "-------------------------------------------DataFrame 2011-------------------------------------------\n",
            "['Aguascalientes', 'Jalisco', 'Zacatecas', 'Veracruz de Ignacio de la Llave', 'México', 'San Luis Potosí', 'Baja California', 'Michoacán de Ocampo', 'Sonora', 'Durango', 'Guerrero', 'Sinaloa', 'Baja California Sur', 'Distrito Federal', 'Querétaro', 'Campeche', 'Nuevo León', 'Coahuila de Zaragoza', 'Chihuahua', 'Tabasco', 'Tamaulipas', 'Colima', 'Chiapas', 'Oaxaca', 'Hidalgo', 'Puebla', 'Tlaxcala', 'Morelos', 'Guanajuato', 'Nayarit', 'Quintana Roo', 'Yucatán']\n",
            "-------------------------------------------DataFrame 2012-------------------------------------------\n",
            "['Aguascalientes', 'Zacatecas', 'Jalisco', 'Baja California', 'Nayarit', 'Sonora', 'Sinaloa', 'Baja California Sur', 'Tamaulipas', 'Campeche', 'Coahuila de Zaragoza', 'Quintana Roo', 'Tabasco', 'Durango', 'Nuevo León', 'Colima', 'Michoacán de Ocampo', 'Chiapas', 'Oaxaca', 'Veracruz de Ignacio de la Llave', 'Chihuahua', 'México', 'Distrito Federal', 'Morelos', 'Guerrero', 'Puebla', 'Hidalgo', 'Querétaro', 'Guanajuato', 'Tlaxcala', 'San Luis Potosí', 'Yucatán']\n",
            "-------------------------------------------DataFrame 2013-------------------------------------------\n",
            "['Aguascalientes', 'Jalisco', 'Baja California', 'Baja California Sur', 'Campeche', 'Quintana Roo', 'Coahuila de Zaragoza', 'Durango', 'Colima', 'Chiapas', 'Chihuahua', 'Morelos', 'México', 'Oaxaca', 'Tlaxcala', 'Distrito Federal', 'Hidalgo', 'Guerrero', 'Veracruz de Ignacio de la Llave', 'Puebla', 'Querétaro', 'Zacatecas', 'Guanajuato', 'Nayarit', 'Michoacán de Ocampo', 'Sinaloa', 'Nuevo León', 'Tamaulipas', 'Yucatán', 'San Luis Potosí', 'Sonora', 'Tabasco']\n",
            "-------------------------------------------DataFrame 2014-------------------------------------------\n",
            "['Aguascalientes', 'Baja California', 'Michoacán de Ocampo', 'Campeche', 'Quintana Roo', 'Coahuila de Zaragoza', 'Zacatecas', 'Colima', 'Chiapas', 'Chihuahua', 'México', 'Guerrero', 'Distrito Federal', 'Puebla', 'Veracruz de Ignacio de la Llave', 'Hidalgo', 'Guanajuato', 'Durango', 'Jalisco', 'Sinaloa', 'Nayarit', 'Tamaulipas', 'Nuevo León', 'Oaxaca', 'Querétaro', 'San Luis Potosí', 'Sonora', 'Tabasco', 'Tlaxcala', 'Yucatán', 'Morelos', 'Baja California Sur']\n",
            "-------------------------------------------DataFrame 2015-------------------------------------------\n",
            "['Aguascalientes', 'Jalisco', 'Coahuila de Zaragoza', 'Zacatecas', 'Baja California', 'Sonora', 'Querétaro', 'Baja California Sur', 'Campeche', 'Quintana Roo', 'Oaxaca', 'Durango', 'Chihuahua', 'Nuevo León', 'Colima', 'Chiapas', 'San Luis Potosí', 'Distrito Federal', 'Hidalgo', 'México', 'Sinaloa', 'Michoacán de Ocampo', 'Tamaulipas', 'Guanajuato', 'Veracruz de Ignacio de la Llave', 'Puebla', 'Guerrero', 'Morelos', 'Tabasco', 'Nayarit', 'Tlaxcala', 'Yucatán']\n",
            "-------------------------------------------DataFrame 2016-------------------------------------------\n",
            "['Aguascalientes', 'Sonora', 'Baja California', 'Coahuila de Zaragoza', 'México', 'Baja California Sur', 'Campeche', 'Durango', 'Nuevo León', 'Tamaulipas', 'Chihuahua', 'Colima', 'Jalisco', 'Michoacán de Ocampo', 'Chiapas', 'Querétaro', 'Distrito Federal', 'Guanajuato', 'Hidalgo', 'Veracruz de Ignacio de la Llave', 'Oaxaca', 'Tabasco', 'Quintana Roo', 'Guerrero', 'Puebla', 'Morelos', 'Tlaxcala', 'San Luis Potosí', 'Nayarit', 'Zacatecas', 'Sinaloa', 'Yucatán']\n",
            "-------------------------------------------DataFrame 2017-------------------------------------------\n",
            "['Aguascalientes', 'Baja California', 'México', 'Campeche', 'Durango', 'Coahuila de Zaragoza', 'Colima', 'Chiapas', 'Chihuahua', 'Tabasco', 'Distrito Federal', 'Querétaro', 'Sinaloa', 'Morelos', 'Guerrero', 'Nuevo León', 'Tamaulipas', 'Michoacán de Ocampo', 'Guanajuato', 'Hidalgo', 'Jalisco', 'Nayarit', 'Sonora', 'Oaxaca', 'Puebla', 'Veracruz de Ignacio de la Llave', 'Quintana Roo', 'San Luis Potosí', 'Tlaxcala', 'Yucatán', 'Zacatecas', 'Baja California Sur']\n",
            "-------------------------------------------DataFrame 2018-------------------------------------------\n",
            "['Aguascalientes', 'Baja California', 'Baja California Sur', 'Campeche', 'Coahuila de Zaragoza', 'Colima', 'Chiapas', 'Chihuahua', 'Durango', 'Distrito Federal', 'México', 'Guanajuato', 'Guerrero', 'Hidalgo', 'Jalisco', 'Sinaloa', 'Michoacán de Ocampo', 'Morelos', 'Nayarit', 'Nuevo León', 'Oaxaca', 'Puebla', 'Querétaro', 'Quintana Roo', 'San Luis Potosí', 'Sonora', 'Tabasco', 'Veracruz de Ignacio de la Llave', 'Tamaulipas', 'Tlaxcala', 'Yucatán', 'Zacatecas']\n",
            "-------------------------------------------DataFrame 2019-------------------------------------------\n",
            "['Aguascalientes', 'Guanajuato', 'Zacatecas', 'Baja California', 'Sonora', 'Chiapas', 'Chihuahua', 'Nayarit', 'Guerrero', 'Baja California Sur', 'Campeche', 'Quintana Roo', 'Yucatán', 'Veracruz de Ignacio de la Llave', 'Coahuila de Zaragoza', 'Durango', 'Nuevo León', 'México', 'Colima', 'Michoacán de Ocampo', 'Jalisco', 'Sinaloa', 'Distrito Federal', 'Hidalgo', 'Oaxaca', 'Tlaxcala', 'Querétaro', 'Morelos', 'Tabasco', 'Puebla', 'San Luis Potosí', 'Tamaulipas']\n"
          ]
        }
      ]
    },
    {
      "cell_type": "markdown",
      "source": [
        "## Limpieza por Empleo ---------------------------------------------------------------------------------------------------"
      ],
      "metadata": {
        "id": "fGeh1LIX7Cgu"
      }
    },
    {
      "cell_type": "markdown",
      "source": [
        "### Detectar Basura"
      ],
      "metadata": {
        "id": "o_112IPdjbxK"
      }
    },
    {
      "cell_type": "code",
      "source": [
        "\n",
        "dfRuido2010 = df2010[df2010['desc_ocupacion'].isnull()]\n",
        "dfRuido2011 = df2011[df2011['desc_ocupacion'].isnull()]\n",
        "dfRuido2012 = df2012[df2012['desc_ocupacion'].isnull()]\n",
        "dfRuido2013 = df2013[df2013['desc_ocupacion'].isnull()]\n",
        "dfRuido2014 = df2014[df2014['desc_ocupacion'].isnull()]\n",
        "dfRuido2015 = df2015[df2015['desc_ocupacion'].isnull()]\n",
        "dfRuido2016 = df2016[df2016['desc_ocupacion'].isnull()]\n",
        "dfRuido2017 = df2017[df2017['desc_ocupacion'].isnull()]\n",
        "dfRuido2018 = df2018[df2018['desc_ocupacion'].isnull()]\n",
        "dfRuido2019 = df2019[df2019['desc_ocupacion'].isnull()]\n",
        "\n",
        "print(dfRuido2010['ocupacion'].unique())\n",
        "print(dfRuido2011['ocupacion'].unique())\n",
        "print(dfRuido2012['ocupacion'].unique())\n",
        "print(dfRuido2013['ocupacion'].unique())\n",
        "print(dfRuido2014['ocupacion'].unique())\n",
        "print(dfRuido2015['ocupacion'].unique())\n",
        "print(dfRuido2016['ocupacion'].unique())\n",
        "print(dfRuido2017['ocupacion'].unique())\n",
        "print(dfRuido2018['ocupacion'].unique())\n",
        "print(dfRuido2019['ocupacion'].unique())\n",
        "# Entonces solo hubo ruido en los años 2010 a 2012"
      ],
      "metadata": {
        "colab": {
          "base_uri": "https://localhost:8080/"
        },
        "id": "VElvCwNJcskx",
        "outputId": "2576d9a0-75e9-4416-8e9e-edcf963e86f4"
      },
      "execution_count": 142,
      "outputs": [
        {
          "output_type": "stream",
          "name": "stdout",
          "text": [
            "[9 6 4 7]\n",
            "[4 6 9 7 8 1]\n",
            "[ 8  1  6  4  9  7  5  3 10]\n",
            "[]\n",
            "[]\n",
            "[]\n",
            "[]\n",
            "[]\n",
            "[]\n",
            "[]\n"
          ]
        }
      ]
    },
    {
      "cell_type": "markdown",
      "source": [
        "### Contar la cantidad de basura"
      ],
      "metadata": {
        "id": "eKlhXmqJRPY-"
      }
    },
    {
      "cell_type": "code",
      "source": [
        "listaRuido2010 = list(dfRuido2010['ocupacion'].unique())\n",
        "listaRuido2011 = list(dfRuido2011['ocupacion'].unique())\n",
        "listaRuido2012 = list(dfRuido2012['ocupacion'].unique())\n",
        "\n",
        "condicion2010 = df2010['ocupacion'].isin(listaRuido2010)\n",
        "condicion2011 = df2011['ocupacion'].isin(listaRuido2011)\n",
        "condicion2012 = df2012['ocupacion'].isin(listaRuido2012)\n",
        "\n",
        "newDf2010 = df2010.loc[condicion2010]\n",
        "newDf2011 = df2011.loc[condicion2011]\n",
        "newDf2012 = df2012.loc[condicion2012]\n",
        "\n",
        "print('Cantidad de basura en el dataframe 2010: ', newDf2010.shape[0])\n",
        "print('Cantidad de basura en el dataframe 2011: ', newDf2011.shape[0])\n",
        "print('Cantidad de basura en el dataframe 2012: ', newDf2012.shape[0])"
      ],
      "metadata": {
        "colab": {
          "base_uri": "https://localhost:8080/"
        },
        "id": "sJxaPb_uRR1C",
        "outputId": "6a52f232-0673-4f92-d896-e66d0bc830cd"
      },
      "execution_count": 143,
      "outputs": [
        {
          "output_type": "stream",
          "name": "stdout",
          "text": [
            "Cantidad de basura en el dataframe 2010:  14\n",
            "Cantidad de basura en el dataframe 2011:  31\n",
            "Cantidad de basura en el dataframe 2012:  480\n"
          ]
        }
      ]
    },
    {
      "cell_type": "markdown",
      "source": [
        "### Reemplazar Basura por la moda"
      ],
      "metadata": {
        "id": "5eT_OsMcsEMN"
      }
    },
    {
      "cell_type": "code",
      "source": [
        "# Determinar cual fue el valor mas comun en los años 2010 a 2012 en la columna ocupacion\n",
        "moda2010 = df2010['ocupacion'].mode()[0]\n",
        "moda2011 = df2011['ocupacion'].mode()[0]\n",
        "moda2012 = df2012['ocupacion'].mode()[0]\n",
        "\n",
        "print(\"DataFrame 2010. La moda en la columna 'ocupacion' es:\", moda2010)\n",
        "print(\"DataFrame 2011. La moda en la columna 'ocupacion' es:\", moda2011)\n",
        "print(\"DataFrame 2012. La moda en la columna 'ocupacion' es:\", moda2012)\n",
        "# Para los 3 años fue el valor: 2\n",
        "\n",
        "# Buscar los registros que tienen los datos basura y reemplazarlos por el valor de la moda de cada\n",
        "# fragmento\n",
        "condicion2010 = df2010['ocupacion'].isin(listaRuido2010)\n",
        "condicion2011 = df2011['ocupacion'].isin(listaRuido2011)\n",
        "condicion2012 = df2012['ocupacion'].isin(listaRuido2012)\n",
        "\n",
        "df2010.loc[condicion2010, 'ocupacion'] = 2\n",
        "df2011.loc[condicion2011, 'ocupacion'] = 2\n",
        "df2012.loc[condicion2012, 'ocupacion'] = 2"
      ],
      "metadata": {
        "colab": {
          "base_uri": "https://localhost:8080/"
        },
        "id": "OnKVdlOUsDxk",
        "outputId": "5f25dab7-49e0-4f9f-e6e7-499a96c3f9f5"
      },
      "execution_count": 144,
      "outputs": [
        {
          "output_type": "stream",
          "name": "stdout",
          "text": [
            "DataFrame 2010. La moda en la columna 'ocupacion' es: 2\n",
            "DataFrame 2011. La moda en la columna 'ocupacion' es: 2\n",
            "DataFrame 2012. La moda en la columna 'ocupacion' es: 2\n"
          ]
        }
      ]
    },
    {
      "cell_type": "markdown",
      "source": [
        "### Comprobacion de que se elmino la basura"
      ],
      "metadata": {
        "id": "UVR5TC-zOpJi"
      }
    },
    {
      "cell_type": "code",
      "source": [
        "\n",
        "dfRuido2010 = df2010[df2010['desc_ocupacion'].isnull()]\n",
        "dfRuido2011 = df2011[df2011['desc_ocupacion'].isnull()]\n",
        "dfRuido2012 = df2012[df2012['desc_ocupacion'].isnull()]\n",
        "\n",
        "print(\"DataFrame 2010\".center(100, '-'))\n",
        "print(dfRuido2010[['ocupacion', 'desc_ocupacion']])\n",
        "print(\"DataFrame 2011\".center(100, '-'))\n",
        "print(dfRuido2011[['ocupacion', 'desc_ocupacion']])\n",
        "print(\"DataFrame 2012\".center(100, '-'))\n",
        "print(dfRuido2012[['ocupacion', 'desc_ocupacion']])\n"
      ],
      "metadata": {
        "colab": {
          "base_uri": "https://localhost:8080/"
        },
        "id": "kal8gPGFw_Qu",
        "outputId": "baf1653c-08dc-4cb6-9011-a03c08fc4217"
      },
      "execution_count": 145,
      "outputs": [
        {
          "output_type": "stream",
          "name": "stdout",
          "text": [
            "-------------------------------------------DataFrame 2010-------------------------------------------\n",
            "       ocupacion desc_ocupacion\n",
            "70167          2            NaN\n",
            "70169          2            NaN\n",
            "70173          2            NaN\n",
            "70176          2            NaN\n",
            "70187          2            NaN\n",
            "70189          2            NaN\n",
            "70190          2            NaN\n",
            "70194          2            NaN\n",
            "70206          2            NaN\n",
            "70209          2            NaN\n",
            "70213          2            NaN\n",
            "70229          2            NaN\n",
            "70230          2            NaN\n",
            "70240          2            NaN\n",
            "-------------------------------------------DataFrame 2011-------------------------------------------\n",
            "       ocupacion desc_ocupacion\n",
            "71113          2            NaN\n",
            "71126          2            NaN\n",
            "71127          2            NaN\n",
            "71129          2            NaN\n",
            "71130          2            NaN\n",
            "71131          2            NaN\n",
            "71136          2            NaN\n",
            "71139          2            NaN\n",
            "71141          2            NaN\n",
            "71146          2            NaN\n",
            "71147          2            NaN\n",
            "71159          2            NaN\n",
            "71165          2            NaN\n",
            "71166          2            NaN\n",
            "71169          2            NaN\n",
            "71170          2            NaN\n",
            "71171          2            NaN\n",
            "71172          2            NaN\n",
            "71175          2            NaN\n",
            "71177          2            NaN\n",
            "71180          2            NaN\n",
            "71190          2            NaN\n",
            "71194          2            NaN\n",
            "71198          2            NaN\n",
            "71199          2            NaN\n",
            "71202          2            NaN\n",
            "71208          2            NaN\n",
            "71209          2            NaN\n",
            "71216          2            NaN\n",
            "71220          2            NaN\n",
            "71224          2            NaN\n",
            "-------------------------------------------DataFrame 2012-------------------------------------------\n",
            "       ocupacion desc_ocupacion\n",
            "18606          2            NaN\n",
            "18608          2            NaN\n",
            "18609          2            NaN\n",
            "18610          2            NaN\n",
            "18611          2            NaN\n",
            "...          ...            ...\n",
            "72355          2            NaN\n",
            "72366          2            NaN\n",
            "72387          2            NaN\n",
            "72388          2            NaN\n",
            "73061          2            NaN\n",
            "\n",
            "[480 rows x 2 columns]\n"
          ]
        }
      ]
    },
    {
      "cell_type": "markdown",
      "source": [
        "### Mapear"
      ],
      "metadata": {
        "id": "jcxeOuFvjZKq"
      }
    },
    {
      "cell_type": "code",
      "source": [
        "# Eliminar la descripcion de ocupacion de los dataset\n",
        "df2010 = df2010.drop(['desc_ocupacion'], axis=1)\n",
        "df2011 = df2011.drop(['desc_ocupacion'], axis=1)\n",
        "df2012 = df2012.drop(['desc_ocupacion'], axis=1)\n",
        "\n",
        "# Hacer mapeo en fragmento 2010, 2011 y 2012\n",
        "df2010['NuevaColEmpleo'] = 0\n",
        "df2011['NuevaColEmpleo'] = 0\n",
        "df2012['NuevaColEmpleo'] = 0"
      ],
      "metadata": {
        "id": "Fdz55qPjjigQ"
      },
      "execution_count": 146,
      "outputs": []
    },
    {
      "cell_type": "markdown",
      "source": [
        "##### 2010\n"
      ],
      "metadata": {
        "id": "jVsdHfUbGoPr"
      }
    },
    {
      "cell_type": "code",
      "source": [
        "condicion1 = (df2010['ocupacion'] == 21)\n",
        "condicion2 = (df2010['ocupacion'] == 11) | (df2010['ocupacion'] == 12) | (df2010['ocupacion'] == 13)\n",
        "condicion3 = (df2010['ocupacion'] == 61) | (df2010['ocupacion'] == 62)\n",
        "condicion4 = (df2010['ocupacion'] == 71)\n",
        "condicion5 = (df2010['ocupacion'] == 81) | (df2010['ocupacion'] == 83)\n",
        "condicion6 = (df2010['ocupacion'] == 41)\n",
        "condicion7 = (df2010['ocupacion'] == 54)\n",
        "condicion8 = (df2010['ocupacion'] == 51) | (df2010['ocupacion'] == 52) | (df2010['ocupacion'] == 53) | (df2010['ocupacion'] == 55)\n",
        "condicion9 = (df2010['ocupacion'] == 82)\n",
        "condicion11 = (df2010['ocupacion'] == 2) | (df2010['ocupacion'] == 72)\n",
        "condicion98 = (df2010['ocupacion'] == 14)\n",
        "\n",
        "df2010.loc[condicion1, 'NuevaColEmpleo'] = 1\n",
        "df2010.loc[condicion2, 'NuevaColEmpleo'] = 2\n",
        "df2010.loc[condicion3, 'NuevaColEmpleo'] = 3\n",
        "df2010.loc[condicion4, 'NuevaColEmpleo'] = 4\n",
        "df2010.loc[condicion5, 'NuevaColEmpleo'] = 5\n",
        "df2010.loc[condicion6, 'NuevaColEmpleo'] = 6\n",
        "df2010.loc[condicion7, 'NuevaColEmpleo'] = 7\n",
        "df2010.loc[condicion8, 'NuevaColEmpleo'] = 8\n",
        "df2010.loc[condicion9, 'NuevaColEmpleo'] = 9\n",
        "df2010.loc[condicion11, 'NuevaColEmpleo'] = 11\n",
        "df2010.loc[condicion98, 'NuevaColEmpleo'] = 98\n",
        "\n",
        "# Pasar estas llaves tal cual estan (no sufren mapeo porque estos si coinciden)\n",
        "condicion97 = (df2010['ocupacion'] == 97)\n",
        "condicion98 = (df2010['ocupacion'] == 98)\n",
        "condicion99 = (df2010['ocupacion'] == 99)\n",
        "\n",
        "df2010.loc[condicion97, 'NuevaColEmpleo'] = 97\n",
        "df2010.loc[condicion98, 'NuevaColEmpleo'] = 98\n",
        "df2010.loc[condicion99, 'NuevaColEmpleo'] = 99\n",
        "\n",
        "# Imprimir resultados y validacion\n",
        "condicion0 = (df2010['NuevaColEmpleo'] == 0)\n",
        "newDf = df2010.loc[condicion0]\n",
        "print(f'Cantidad de registros con el valor 0 en la columna NuevaColEmpleo es: {newDf.shape[0]}')\n",
        "\n",
        "df2010"
      ],
      "metadata": {
        "colab": {
          "base_uri": "https://localhost:8080/",
          "height": 441
        },
        "id": "znuwU_RQGqpY",
        "outputId": "669b214c-893b-435b-80a8-6267cc07b82d"
      },
      "execution_count": 147,
      "outputs": [
        {
          "output_type": "stream",
          "name": "stdout",
          "text": [
            "Cantidad de registros con el valor 0 en la columna NuevaColEmpleo es: 0\n"
          ]
        },
        {
          "output_type": "execute_result",
          "data": {
            "text/plain": [
              "       ent_resid    ent_resid_nm  ICD  \\\n",
              "0              1  Aguascalientes  C25   \n",
              "1              1  Aguascalientes  C22   \n",
              "2              1  Aguascalientes  C34   \n",
              "3              1  Aguascalientes  C49   \n",
              "4              1  Aguascalientes  C20   \n",
              "...          ...             ...  ...   \n",
              "70237         10         Durango  C22   \n",
              "70238         18         Nayarit  C23   \n",
              "70239         25         Sinaloa  C50   \n",
              "70240         28      Tamaulipas  C34   \n",
              "70241         28      Tamaulipas  C22   \n",
              "\n",
              "                                              detailCaus  ocupacion  \\\n",
              "0                Tumor maligno de la cabeza del páncreas         41   \n",
              "1              Tumor maligno del hígado, no especificado          2   \n",
              "2      Tumor maligno de los bronquios o del pulmón, p...          2   \n",
              "3      Tumor maligno de parte especificada del peritoneo          2   \n",
              "4         Tumor maligno del colon, parte no especificada         55   \n",
              "...                                                  ...        ...   \n",
              "70237          Tumor maligno del hígado, no especificado         99   \n",
              "70238  Tumor maligno de las vías biliares extrahepáticas         99   \n",
              "70239    Tumor maligno de la mama, parte no especificada         98   \n",
              "70240  Tumor maligno de los bronquios o del pulmón, p...          2   \n",
              "70241          Tumor maligno del hígado, no especificado         11   \n",
              "\n",
              "       escolarida             desc_escolaridad  NuevaColEmpleo  \n",
              "0               1              Sin escolaridad               6  \n",
              "1               1              Sin escolaridad              11  \n",
              "2               3            Primaria completa              11  \n",
              "3               1              Sin escolaridad              11  \n",
              "4               5          Secundaria completa               8  \n",
              "...           ...                          ...             ...  \n",
              "70237          99                          NaN              99  \n",
              "70238          99                          NaN              99  \n",
              "70239          10                          NaN              98  \n",
              "70240           3            Primaria completa              11  \n",
              "70241           6  Bachillerato o preparatoria               2  \n",
              "\n",
              "[70143 rows x 8 columns]"
            ],
            "text/html": [
              "\n",
              "  <div id=\"df-3797cb42-88f3-4e4e-9735-a41104fb1c5e\" class=\"colab-df-container\">\n",
              "    <div>\n",
              "<style scoped>\n",
              "    .dataframe tbody tr th:only-of-type {\n",
              "        vertical-align: middle;\n",
              "    }\n",
              "\n",
              "    .dataframe tbody tr th {\n",
              "        vertical-align: top;\n",
              "    }\n",
              "\n",
              "    .dataframe thead th {\n",
              "        text-align: right;\n",
              "    }\n",
              "</style>\n",
              "<table border=\"1\" class=\"dataframe\">\n",
              "  <thead>\n",
              "    <tr style=\"text-align: right;\">\n",
              "      <th></th>\n",
              "      <th>ent_resid</th>\n",
              "      <th>ent_resid_nm</th>\n",
              "      <th>ICD</th>\n",
              "      <th>detailCaus</th>\n",
              "      <th>ocupacion</th>\n",
              "      <th>escolarida</th>\n",
              "      <th>desc_escolaridad</th>\n",
              "      <th>NuevaColEmpleo</th>\n",
              "    </tr>\n",
              "  </thead>\n",
              "  <tbody>\n",
              "    <tr>\n",
              "      <th>0</th>\n",
              "      <td>1</td>\n",
              "      <td>Aguascalientes</td>\n",
              "      <td>C25</td>\n",
              "      <td>Tumor maligno de la cabeza del páncreas</td>\n",
              "      <td>41</td>\n",
              "      <td>1</td>\n",
              "      <td>Sin escolaridad</td>\n",
              "      <td>6</td>\n",
              "    </tr>\n",
              "    <tr>\n",
              "      <th>1</th>\n",
              "      <td>1</td>\n",
              "      <td>Aguascalientes</td>\n",
              "      <td>C22</td>\n",
              "      <td>Tumor maligno del hígado, no especificado</td>\n",
              "      <td>2</td>\n",
              "      <td>1</td>\n",
              "      <td>Sin escolaridad</td>\n",
              "      <td>11</td>\n",
              "    </tr>\n",
              "    <tr>\n",
              "      <th>2</th>\n",
              "      <td>1</td>\n",
              "      <td>Aguascalientes</td>\n",
              "      <td>C34</td>\n",
              "      <td>Tumor maligno de los bronquios o del pulmón, p...</td>\n",
              "      <td>2</td>\n",
              "      <td>3</td>\n",
              "      <td>Primaria completa</td>\n",
              "      <td>11</td>\n",
              "    </tr>\n",
              "    <tr>\n",
              "      <th>3</th>\n",
              "      <td>1</td>\n",
              "      <td>Aguascalientes</td>\n",
              "      <td>C49</td>\n",
              "      <td>Tumor maligno de parte especificada del peritoneo</td>\n",
              "      <td>2</td>\n",
              "      <td>1</td>\n",
              "      <td>Sin escolaridad</td>\n",
              "      <td>11</td>\n",
              "    </tr>\n",
              "    <tr>\n",
              "      <th>4</th>\n",
              "      <td>1</td>\n",
              "      <td>Aguascalientes</td>\n",
              "      <td>C20</td>\n",
              "      <td>Tumor maligno del colon, parte no especificada</td>\n",
              "      <td>55</td>\n",
              "      <td>5</td>\n",
              "      <td>Secundaria completa</td>\n",
              "      <td>8</td>\n",
              "    </tr>\n",
              "    <tr>\n",
              "      <th>...</th>\n",
              "      <td>...</td>\n",
              "      <td>...</td>\n",
              "      <td>...</td>\n",
              "      <td>...</td>\n",
              "      <td>...</td>\n",
              "      <td>...</td>\n",
              "      <td>...</td>\n",
              "      <td>...</td>\n",
              "    </tr>\n",
              "    <tr>\n",
              "      <th>70237</th>\n",
              "      <td>10</td>\n",
              "      <td>Durango</td>\n",
              "      <td>C22</td>\n",
              "      <td>Tumor maligno del hígado, no especificado</td>\n",
              "      <td>99</td>\n",
              "      <td>99</td>\n",
              "      <td>NaN</td>\n",
              "      <td>99</td>\n",
              "    </tr>\n",
              "    <tr>\n",
              "      <th>70238</th>\n",
              "      <td>18</td>\n",
              "      <td>Nayarit</td>\n",
              "      <td>C23</td>\n",
              "      <td>Tumor maligno de las vías biliares extrahepáticas</td>\n",
              "      <td>99</td>\n",
              "      <td>99</td>\n",
              "      <td>NaN</td>\n",
              "      <td>99</td>\n",
              "    </tr>\n",
              "    <tr>\n",
              "      <th>70239</th>\n",
              "      <td>25</td>\n",
              "      <td>Sinaloa</td>\n",
              "      <td>C50</td>\n",
              "      <td>Tumor maligno de la mama, parte no especificada</td>\n",
              "      <td>98</td>\n",
              "      <td>10</td>\n",
              "      <td>NaN</td>\n",
              "      <td>98</td>\n",
              "    </tr>\n",
              "    <tr>\n",
              "      <th>70240</th>\n",
              "      <td>28</td>\n",
              "      <td>Tamaulipas</td>\n",
              "      <td>C34</td>\n",
              "      <td>Tumor maligno de los bronquios o del pulmón, p...</td>\n",
              "      <td>2</td>\n",
              "      <td>3</td>\n",
              "      <td>Primaria completa</td>\n",
              "      <td>11</td>\n",
              "    </tr>\n",
              "    <tr>\n",
              "      <th>70241</th>\n",
              "      <td>28</td>\n",
              "      <td>Tamaulipas</td>\n",
              "      <td>C22</td>\n",
              "      <td>Tumor maligno del hígado, no especificado</td>\n",
              "      <td>11</td>\n",
              "      <td>6</td>\n",
              "      <td>Bachillerato o preparatoria</td>\n",
              "      <td>2</td>\n",
              "    </tr>\n",
              "  </tbody>\n",
              "</table>\n",
              "<p>70143 rows × 8 columns</p>\n",
              "</div>\n",
              "    <div class=\"colab-df-buttons\">\n",
              "\n",
              "  <div class=\"colab-df-container\">\n",
              "    <button class=\"colab-df-convert\" onclick=\"convertToInteractive('df-3797cb42-88f3-4e4e-9735-a41104fb1c5e')\"\n",
              "            title=\"Convert this dataframe to an interactive table.\"\n",
              "            style=\"display:none;\">\n",
              "\n",
              "  <svg xmlns=\"http://www.w3.org/2000/svg\" height=\"24px\" viewBox=\"0 -960 960 960\">\n",
              "    <path d=\"M120-120v-720h720v720H120Zm60-500h600v-160H180v160Zm220 220h160v-160H400v160Zm0 220h160v-160H400v160ZM180-400h160v-160H180v160Zm440 0h160v-160H620v160ZM180-180h160v-160H180v160Zm440 0h160v-160H620v160Z\"/>\n",
              "  </svg>\n",
              "    </button>\n",
              "\n",
              "  <style>\n",
              "    .colab-df-container {\n",
              "      display:flex;\n",
              "      gap: 12px;\n",
              "    }\n",
              "\n",
              "    .colab-df-convert {\n",
              "      background-color: #E8F0FE;\n",
              "      border: none;\n",
              "      border-radius: 50%;\n",
              "      cursor: pointer;\n",
              "      display: none;\n",
              "      fill: #1967D2;\n",
              "      height: 32px;\n",
              "      padding: 0 0 0 0;\n",
              "      width: 32px;\n",
              "    }\n",
              "\n",
              "    .colab-df-convert:hover {\n",
              "      background-color: #E2EBFA;\n",
              "      box-shadow: 0px 1px 2px rgba(60, 64, 67, 0.3), 0px 1px 3px 1px rgba(60, 64, 67, 0.15);\n",
              "      fill: #174EA6;\n",
              "    }\n",
              "\n",
              "    .colab-df-buttons div {\n",
              "      margin-bottom: 4px;\n",
              "    }\n",
              "\n",
              "    [theme=dark] .colab-df-convert {\n",
              "      background-color: #3B4455;\n",
              "      fill: #D2E3FC;\n",
              "    }\n",
              "\n",
              "    [theme=dark] .colab-df-convert:hover {\n",
              "      background-color: #434B5C;\n",
              "      box-shadow: 0px 1px 3px 1px rgba(0, 0, 0, 0.15);\n",
              "      filter: drop-shadow(0px 1px 2px rgba(0, 0, 0, 0.3));\n",
              "      fill: #FFFFFF;\n",
              "    }\n",
              "  </style>\n",
              "\n",
              "    <script>\n",
              "      const buttonEl =\n",
              "        document.querySelector('#df-3797cb42-88f3-4e4e-9735-a41104fb1c5e button.colab-df-convert');\n",
              "      buttonEl.style.display =\n",
              "        google.colab.kernel.accessAllowed ? 'block' : 'none';\n",
              "\n",
              "      async function convertToInteractive(key) {\n",
              "        const element = document.querySelector('#df-3797cb42-88f3-4e4e-9735-a41104fb1c5e');\n",
              "        const dataTable =\n",
              "          await google.colab.kernel.invokeFunction('convertToInteractive',\n",
              "                                                    [key], {});\n",
              "        if (!dataTable) return;\n",
              "\n",
              "        const docLinkHtml = 'Like what you see? Visit the ' +\n",
              "          '<a target=\"_blank\" href=https://colab.research.google.com/notebooks/data_table.ipynb>data table notebook</a>'\n",
              "          + ' to learn more about interactive tables.';\n",
              "        element.innerHTML = '';\n",
              "        dataTable['output_type'] = 'display_data';\n",
              "        await google.colab.output.renderOutput(dataTable, element);\n",
              "        const docLink = document.createElement('div');\n",
              "        docLink.innerHTML = docLinkHtml;\n",
              "        element.appendChild(docLink);\n",
              "      }\n",
              "    </script>\n",
              "  </div>\n",
              "\n",
              "\n",
              "<div id=\"df-00891742-281d-4efd-bbf9-582245c617b6\">\n",
              "  <button class=\"colab-df-quickchart\" onclick=\"quickchart('df-00891742-281d-4efd-bbf9-582245c617b6')\"\n",
              "            title=\"Suggest charts.\"\n",
              "            style=\"display:none;\">\n",
              "\n",
              "<svg xmlns=\"http://www.w3.org/2000/svg\" height=\"24px\"viewBox=\"0 0 24 24\"\n",
              "     width=\"24px\">\n",
              "    <g>\n",
              "        <path d=\"M19 3H5c-1.1 0-2 .9-2 2v14c0 1.1.9 2 2 2h14c1.1 0 2-.9 2-2V5c0-1.1-.9-2-2-2zM9 17H7v-7h2v7zm4 0h-2V7h2v10zm4 0h-2v-4h2v4z\"/>\n",
              "    </g>\n",
              "</svg>\n",
              "  </button>\n",
              "\n",
              "<style>\n",
              "  .colab-df-quickchart {\n",
              "      --bg-color: #E8F0FE;\n",
              "      --fill-color: #1967D2;\n",
              "      --hover-bg-color: #E2EBFA;\n",
              "      --hover-fill-color: #174EA6;\n",
              "      --disabled-fill-color: #AAA;\n",
              "      --disabled-bg-color: #DDD;\n",
              "  }\n",
              "\n",
              "  [theme=dark] .colab-df-quickchart {\n",
              "      --bg-color: #3B4455;\n",
              "      --fill-color: #D2E3FC;\n",
              "      --hover-bg-color: #434B5C;\n",
              "      --hover-fill-color: #FFFFFF;\n",
              "      --disabled-bg-color: #3B4455;\n",
              "      --disabled-fill-color: #666;\n",
              "  }\n",
              "\n",
              "  .colab-df-quickchart {\n",
              "    background-color: var(--bg-color);\n",
              "    border: none;\n",
              "    border-radius: 50%;\n",
              "    cursor: pointer;\n",
              "    display: none;\n",
              "    fill: var(--fill-color);\n",
              "    height: 32px;\n",
              "    padding: 0;\n",
              "    width: 32px;\n",
              "  }\n",
              "\n",
              "  .colab-df-quickchart:hover {\n",
              "    background-color: var(--hover-bg-color);\n",
              "    box-shadow: 0 1px 2px rgba(60, 64, 67, 0.3), 0 1px 3px 1px rgba(60, 64, 67, 0.15);\n",
              "    fill: var(--button-hover-fill-color);\n",
              "  }\n",
              "\n",
              "  .colab-df-quickchart-complete:disabled,\n",
              "  .colab-df-quickchart-complete:disabled:hover {\n",
              "    background-color: var(--disabled-bg-color);\n",
              "    fill: var(--disabled-fill-color);\n",
              "    box-shadow: none;\n",
              "  }\n",
              "\n",
              "  .colab-df-spinner {\n",
              "    border: 2px solid var(--fill-color);\n",
              "    border-color: transparent;\n",
              "    border-bottom-color: var(--fill-color);\n",
              "    animation:\n",
              "      spin 1s steps(1) infinite;\n",
              "  }\n",
              "\n",
              "  @keyframes spin {\n",
              "    0% {\n",
              "      border-color: transparent;\n",
              "      border-bottom-color: var(--fill-color);\n",
              "      border-left-color: var(--fill-color);\n",
              "    }\n",
              "    20% {\n",
              "      border-color: transparent;\n",
              "      border-left-color: var(--fill-color);\n",
              "      border-top-color: var(--fill-color);\n",
              "    }\n",
              "    30% {\n",
              "      border-color: transparent;\n",
              "      border-left-color: var(--fill-color);\n",
              "      border-top-color: var(--fill-color);\n",
              "      border-right-color: var(--fill-color);\n",
              "    }\n",
              "    40% {\n",
              "      border-color: transparent;\n",
              "      border-right-color: var(--fill-color);\n",
              "      border-top-color: var(--fill-color);\n",
              "    }\n",
              "    60% {\n",
              "      border-color: transparent;\n",
              "      border-right-color: var(--fill-color);\n",
              "    }\n",
              "    80% {\n",
              "      border-color: transparent;\n",
              "      border-right-color: var(--fill-color);\n",
              "      border-bottom-color: var(--fill-color);\n",
              "    }\n",
              "    90% {\n",
              "      border-color: transparent;\n",
              "      border-bottom-color: var(--fill-color);\n",
              "    }\n",
              "  }\n",
              "</style>\n",
              "\n",
              "  <script>\n",
              "    async function quickchart(key) {\n",
              "      const quickchartButtonEl =\n",
              "        document.querySelector('#' + key + ' button');\n",
              "      quickchartButtonEl.disabled = true;  // To prevent multiple clicks.\n",
              "      quickchartButtonEl.classList.add('colab-df-spinner');\n",
              "      try {\n",
              "        const charts = await google.colab.kernel.invokeFunction(\n",
              "            'suggestCharts', [key], {});\n",
              "      } catch (error) {\n",
              "        console.error('Error during call to suggestCharts:', error);\n",
              "      }\n",
              "      quickchartButtonEl.classList.remove('colab-df-spinner');\n",
              "      quickchartButtonEl.classList.add('colab-df-quickchart-complete');\n",
              "    }\n",
              "    (() => {\n",
              "      let quickchartButtonEl =\n",
              "        document.querySelector('#df-00891742-281d-4efd-bbf9-582245c617b6 button');\n",
              "      quickchartButtonEl.style.display =\n",
              "        google.colab.kernel.accessAllowed ? 'block' : 'none';\n",
              "    })();\n",
              "  </script>\n",
              "</div>\n",
              "    </div>\n",
              "  </div>\n"
            ]
          },
          "metadata": {},
          "execution_count": 147
        }
      ]
    },
    {
      "cell_type": "code",
      "source": [
        "\n",
        "# Realizar nuevamente la integracion de las bases de datos 2010, 2011 y 2012 con\n",
        "# los catalogos de empleo de los años 2013 a 2019\n",
        "df2010 = pd.merge(dfEmpleo, how='inner', left_on='ocupacion', right_on='CVE')\n",
        "df2011 = pd.merge(dfEmpleo, how='inner', left_on='ocupacion', right_on='CVE')\n",
        "df2012 = pd.merge(dfEmpleo, how='inner', left_on='ocupacion', right_on='CVE')"
      ],
      "metadata": {
        "colab": {
          "base_uri": "https://localhost:8080/",
          "height": 245
        },
        "id": "jR4e9ev3vKiM",
        "outputId": "2aa9ef64-33df-45f6-d8c0-4c19d0471c7a"
      },
      "execution_count": 148,
      "outputs": [
        {
          "output_type": "error",
          "ename": "TypeError",
          "evalue": "ignored",
          "traceback": [
            "\u001b[0;31m---------------------------------------------------------------------------\u001b[0m",
            "\u001b[0;31mTypeError\u001b[0m                                 Traceback (most recent call last)",
            "\u001b[0;32m<ipython-input-148-a9a5608b7702>\u001b[0m in \u001b[0;36m<cell line: 3>\u001b[0;34m()\u001b[0m\n\u001b[1;32m      1\u001b[0m \u001b[0;31m# Realizar nuevamente la integracion de las bases de datos 2010, 2011 y 2012 con\u001b[0m\u001b[0;34m\u001b[0m\u001b[0;34m\u001b[0m\u001b[0m\n\u001b[1;32m      2\u001b[0m \u001b[0;31m# los catalogos de empleo de los años 2013 a 2019\u001b[0m\u001b[0;34m\u001b[0m\u001b[0;34m\u001b[0m\u001b[0m\n\u001b[0;32m----> 3\u001b[0;31m \u001b[0mdf2010\u001b[0m \u001b[0;34m=\u001b[0m \u001b[0mpd\u001b[0m\u001b[0;34m.\u001b[0m\u001b[0mmerge\u001b[0m\u001b[0;34m(\u001b[0m\u001b[0mdfEmpleo\u001b[0m\u001b[0;34m,\u001b[0m \u001b[0mhow\u001b[0m\u001b[0;34m=\u001b[0m\u001b[0;34m'inner'\u001b[0m\u001b[0;34m,\u001b[0m \u001b[0mleft_on\u001b[0m\u001b[0;34m=\u001b[0m\u001b[0;34m'ocupacion'\u001b[0m\u001b[0;34m,\u001b[0m \u001b[0mright_on\u001b[0m\u001b[0;34m=\u001b[0m\u001b[0;34m'CVE'\u001b[0m\u001b[0;34m)\u001b[0m\u001b[0;34m\u001b[0m\u001b[0;34m\u001b[0m\u001b[0m\n\u001b[0m\u001b[1;32m      4\u001b[0m \u001b[0mdf2011\u001b[0m \u001b[0;34m=\u001b[0m \u001b[0mpd\u001b[0m\u001b[0;34m.\u001b[0m\u001b[0mmerge\u001b[0m\u001b[0;34m(\u001b[0m\u001b[0mdfEmpleo\u001b[0m\u001b[0;34m,\u001b[0m \u001b[0mhow\u001b[0m\u001b[0;34m=\u001b[0m\u001b[0;34m'inner'\u001b[0m\u001b[0;34m,\u001b[0m \u001b[0mleft_on\u001b[0m\u001b[0;34m=\u001b[0m\u001b[0;34m'ocupacion'\u001b[0m\u001b[0;34m,\u001b[0m \u001b[0mright_on\u001b[0m\u001b[0;34m=\u001b[0m\u001b[0;34m'CVE'\u001b[0m\u001b[0;34m)\u001b[0m\u001b[0;34m\u001b[0m\u001b[0;34m\u001b[0m\u001b[0m\n\u001b[1;32m      5\u001b[0m \u001b[0mdf2012\u001b[0m \u001b[0;34m=\u001b[0m \u001b[0mpd\u001b[0m\u001b[0;34m.\u001b[0m\u001b[0mmerge\u001b[0m\u001b[0;34m(\u001b[0m\u001b[0mdfEmpleo\u001b[0m\u001b[0;34m,\u001b[0m \u001b[0mhow\u001b[0m\u001b[0;34m=\u001b[0m\u001b[0;34m'inner'\u001b[0m\u001b[0;34m,\u001b[0m \u001b[0mleft_on\u001b[0m\u001b[0;34m=\u001b[0m\u001b[0;34m'ocupacion'\u001b[0m\u001b[0;34m,\u001b[0m \u001b[0mright_on\u001b[0m\u001b[0;34m=\u001b[0m\u001b[0;34m'CVE'\u001b[0m\u001b[0;34m)\u001b[0m\u001b[0;34m\u001b[0m\u001b[0;34m\u001b[0m\u001b[0m\n",
            "\u001b[0;31mTypeError\u001b[0m: merge() missing 1 required positional argument: 'right'"
          ]
        }
      ]
    },
    {
      "cell_type": "markdown",
      "source": [
        "## Limpieza por Educacion ---------------------------------------------------------------------------------------------------"
      ],
      "metadata": {
        "id": "cPy_ZsTr7DOp"
      }
    },
    {
      "cell_type": "code",
      "source": [],
      "metadata": {
        "id": "j3ddNGXn5S2Q"
      },
      "execution_count": null,
      "outputs": []
    },
    {
      "cell_type": "markdown",
      "source": [
        "## Conclusión de la Limpieza ---------------------------------------------------------------------------------------------------"
      ],
      "metadata": {
        "id": "zoKYObHpQ1kx"
      }
    },
    {
      "cell_type": "markdown",
      "source": [
        "### Selección de las columnas"
      ],
      "metadata": {
        "id": "WQKxpxuXQ-vo"
      }
    },
    {
      "cell_type": "code",
      "source": [
        "df2010 = df2010[['ent_resid_nm', 'detailCaus', 'desc_ocupacion', 'desc_escolaridad']]\n",
        "df2011 = df2011[['ent_resid_nm', 'detailCaus', 'desc_ocupacion', 'desc_escolaridad']]\n",
        "df2012 = df2012[['ent_resid_nm', 'detailCaus', 'desc_ocupacion', 'desc_escolaridad']]\n",
        "df2013 = df2013[['ent_resid_nm', 'detailCaus', 'desc_ocupacion', 'desc_escolaridad']]\n",
        "df2014 = df2014[['ent_resid_nm', 'detailCaus', 'desc_ocupacion', 'desc_escolaridad']]\n",
        "df2015 = df2015[['ent_resid_nm', 'detailCaus', 'desc_ocupacion', 'desc_escolaridad']]\n",
        "df2016 = df2016[['ent_resid_nm', 'detailCaus', 'desc_ocupacion', 'desc_escolaridad']]\n",
        "df2017 = df2017[['ent_resid_nm', 'detailCaus', 'desc_ocupacion', 'desc_escolaridad']]\n",
        "df2018 = df2018[['ent_resid_nm', 'detailCaus', 'desc_ocupacion', 'desc_escolaridad']]\n",
        "df2019 = df2019[['ent_resid_nm', 'detailCaus', 'desc_ocupacion', 'desc_escolaridad']]"
      ],
      "metadata": {
        "id": "TQA0psrYQ565"
      },
      "execution_count": null,
      "outputs": []
    },
    {
      "cell_type": "markdown",
      "source": [
        "### Almacenar nueva base de datos"
      ],
      "metadata": {
        "id": "OJm9lKDUTB3D"
      }
    },
    {
      "cell_type": "code",
      "source": [
        "nuevaMortalidadLimpia = '/content/drive/MyDrive/Pt2/Primeras Actividades/0 Bases de Datos/Nueva Mortalidad Limpia/'\n",
        "\n",
        "df2010.to_csv(nuevaMortalidadLimpia + '2010.csv')\n",
        "df2011.to_csv(nuevaMortalidadLimpia + '2011.csv')\n",
        "df2012.to_csv(nuevaMortalidadLimpia + '2012.csv')\n",
        "df2013.to_csv(nuevaMortalidadLimpia + '2013.csv')\n",
        "df2014.to_csv(nuevaMortalidadLimpia + '2014.csv')\n",
        "df2015.to_csv(nuevaMortalidadLimpia + '2015.csv')\n",
        "df2016.to_csv(nuevaMortalidadLimpia + '2016.csv')\n",
        "df2017.to_csv(nuevaMortalidadLimpia + '2017.csv')\n",
        "df2018.to_csv(nuevaMortalidadLimpia + '2018.csv')\n",
        "df2019.to_csv(nuevaMortalidadLimpia + '2019.csv')\n"
      ],
      "metadata": {
        "id": "XlFCAviMS8mc"
      },
      "execution_count": null,
      "outputs": []
    }
  ]
}