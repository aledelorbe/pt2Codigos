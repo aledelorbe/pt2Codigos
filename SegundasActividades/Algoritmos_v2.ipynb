{
  "nbformat": 4,
  "nbformat_minor": 0,
  "metadata": {
    "colab": {
      "provenance": [],
      "mount_file_id": "1oZxN0Qv7zoVhyD7ZijNdmYwJTyj4Gyec",
      "authorship_tag": "ABX9TyM3+ll8Cbf8OaOiRKUymhJI",
      "include_colab_link": true
    },
    "kernelspec": {
      "name": "python3",
      "display_name": "Python 3"
    },
    "language_info": {
      "name": "python"
    }
  },
  "cells": [
    {
      "cell_type": "markdown",
      "metadata": {
        "id": "view-in-github",
        "colab_type": "text"
      },
      "source": [
        "<a href=\"https://colab.research.google.com/github/aledelorbe/pt2Codigos/blob/main/SegundasActividades/Algoritmos_v2.ipynb\" target=\"_parent\"><img src=\"https://colab.research.google.com/assets/colab-badge.svg\" alt=\"Open In Colab\"/></a>"
      ]
    },
    {
      "cell_type": "markdown",
      "source": [
        "### Cargar librerias"
      ],
      "metadata": {
        "id": "TfLRvAuPFeqe"
      }
    },
    {
      "cell_type": "code",
      "source": [
        "import pandas as pd\n",
        "import matplotlib.pyplot as plt\n",
        "from sklearn.compose import ColumnTransformer\n",
        "from sklearn.preprocessing import OneHotEncoder\n",
        "from sklearn.preprocessing import OrdinalEncoder\n",
        "import numpy as np\n",
        "from sklearn.cluster import KMeans"
      ],
      "metadata": {
        "id": "AO4KKD9XEpzI"
      },
      "execution_count": 1,
      "outputs": []
    },
    {
      "cell_type": "markdown",
      "source": [
        "### Cargar los dataFrame"
      ],
      "metadata": {
        "id": "r7EfovT3UImO"
      }
    },
    {
      "cell_type": "code",
      "source": [
        "nuevaMortalidadLimpia = '/content/drive/MyDrive/Pt2/Primeras Actividades/0 Bases de Datos/Nueva Mortalidad Limpia/'\n",
        "\n",
        "df2010 = pd.read_csv(nuevaMortalidadLimpia + '2010.csv')\n",
        "df2011 = pd.read_csv(nuevaMortalidadLimpia + '2011.csv')\n",
        "df2012 = pd.read_csv(nuevaMortalidadLimpia + '2012.csv')\n",
        "df2013 = pd.read_csv(nuevaMortalidadLimpia + '2013.csv')\n",
        "df2014 = pd.read_csv(nuevaMortalidadLimpia + '2014.csv')\n",
        "df2015 = pd.read_csv(nuevaMortalidadLimpia + '2015.csv')\n",
        "df2016 = pd.read_csv(nuevaMortalidadLimpia + '2016.csv')\n",
        "df2017 = pd.read_csv(nuevaMortalidadLimpia + '2017.csv')\n",
        "df2018 = pd.read_csv(nuevaMortalidadLimpia + '2018.csv')\n",
        "df2019 = pd.read_csv(nuevaMortalidadLimpia + '2019.csv')"
      ],
      "metadata": {
        "id": "y1JW32OLUImP"
      },
      "execution_count": 2,
      "outputs": []
    },
    {
      "cell_type": "markdown",
      "source": [
        "### Unir todos los fragmentos"
      ],
      "metadata": {
        "id": "G84wwQTELXxl"
      }
    },
    {
      "cell_type": "code",
      "source": [
        "dfDefinitivo = pd.concat([df2010, df2011, df2012, df2013, df2014, df2015, df2016, df2017, df2018, df2019], ignore_index=True)"
      ],
      "metadata": {
        "id": "nNIfr2c5LbJ2"
      },
      "execution_count": 3,
      "outputs": []
    },
    {
      "cell_type": "markdown",
      "source": [
        "### Almacenamiento de valores distintos en cada columna"
      ],
      "metadata": {
        "id": "lVAEmiRcOsMq"
      }
    },
    {
      "cell_type": "code",
      "source": [
        "# Definicion de la funcion que imprimira los valores distintos de determinada columna en orden alfabetico\n",
        "def imprimirValoresDistintos(df20xx, nombreColumna):\n",
        "  titulo = f\"Columna {nombreColumna}\".center(100, '-')\n",
        "  valoresDistintos = list(df2010[nombreColumna].unique())\n",
        "  valoresDistintos.sort()\n",
        "  print(titulo)\n",
        "  print(valoresDistintos)\n",
        "  print(f'Cantidad de elementos: {len(valoresDistintos)}')\n",
        "\n",
        "  return valoresDistintos\n",
        "\n",
        "estados = imprimirValoresDistintos(dfDefinitivo, 'ent_resid_nm')\n",
        "canceres = imprimirValoresDistintos(dfDefinitivo, 'Organ')\n",
        "trabajos = imprimirValoresDistintos(dfDefinitivo, 'desc_ocupacion')"
      ],
      "metadata": {
        "colab": {
          "base_uri": "https://localhost:8080/"
        },
        "id": "cT-LMWjUOxvI",
        "outputId": "ee111c26-c54c-44c0-cb69-a141150a46c6"
      },
      "execution_count": 4,
      "outputs": [
        {
          "output_type": "stream",
          "name": "stdout",
          "text": [
            "----------------------------------------Columna ent_resid_nm----------------------------------------\n",
            "['Aguascalientes', 'Baja California', 'Baja California Sur', 'Campeche', 'Chiapas', 'Chihuahua', 'Coahuila de Zaragoza', 'Colima', 'Distrito Federal', 'Durango', 'Guanajuato', 'Guerrero', 'Hidalgo', 'Jalisco', 'Michoacán de Ocampo', 'Morelos', 'México', 'Nayarit', 'Nuevo León', 'Oaxaca', 'Puebla', 'Querétaro', 'Quintana Roo', 'San Luis Potosí', 'Sinaloa', 'Sonora', 'Tabasco', 'Tamaulipas', 'Tlaxcala', 'Veracruz de Ignacio de la Llave', 'Yucatán', 'Zacatecas']\n",
            "Cantidad de elementos: 32\n",
            "-------------------------------------------Columna Organ--------------------------------------------\n",
            "['Bladder', 'Bone', 'Brain', 'Breast', 'Cervix Uteri', 'Colon and Rectum', 'Esophagus', 'Eyes', 'Female Genitals', 'Gallbladder', 'Heart', \"Hodgkin's Lymphoma\", 'Kidney', 'Larynx', 'Leukemia', 'Liver ', 'Lungs', 'Lymphoma', 'Male Genitales', 'Melanoma', 'Mesothelioma', 'Mylenoma', 'Nervous', 'Oral Cavity and Pharynx', 'Outter Respiratory', 'Ovary', 'Pancreas', 'Prostate', 'Skin non Melanoma ', 'Soft Tissue', 'Stomach', 'Testis', 'Thyroid', 'Trachea', 'Ureter', 'Urinary Tract Other']\n",
            "Cantidad de elementos: 36\n",
            "---------------------------------------Columna desc_ocupacion---------------------------------------\n",
            "['Comerciantes, empleados en ventas y agentes de ventas', 'Funcionarios, directores y jefes', 'Insuficientemente especificada', 'No aplica a menores de 5 años', 'No especificada', 'No trabaja', 'Operadores de maquinaria industrial, ensambladores, choferes y conductores de transporte', 'Profesionistas y técnicos', 'Trabajadores artesanales', 'Trabajadores auxiliares en actividades administrativas', 'Trabajadores en actividades agrícolas, ganaderas, forestales, caza y pesca', 'Trabajadores en actividades elementales y de apoyo', 'Trabajadores en servicios personales y vigilancia']\n",
            "Cantidad de elementos: 13\n"
          ]
        }
      ]
    },
    {
      "cell_type": "code",
      "source": [
        "# Para este caso se hace distinto ya que se desea crear una jerarquia (de menor a mayor jerarquia)\n",
        "nivelesEscolares = [\n",
        "    'No especificada ',\n",
        "    'No aplica a menores de 3 años',\n",
        "    'Sin escolaridad',\n",
        "    'Preescolar',\n",
        "    'Primaria completa',\n",
        "    'Secundaria incompleta',\n",
        "    'Secundaria completa',\n",
        "    'Bachillerato o preparatoria',\n",
        "    'Profesional',\n",
        "    'Posgrado',\n",
        "]\n",
        "titulo = f\"Columna desc_escolaridad\".center(100, '-')\n",
        "print(titulo)\n",
        "print(nivelesEscolares)\n",
        "print(f'Cantidad de elementos: {len(nivelesEscolares)}')"
      ],
      "metadata": {
        "id": "MyoiQj3OHWKb",
        "colab": {
          "base_uri": "https://localhost:8080/"
        },
        "outputId": "fc7deecc-8da2-4236-b2c8-cfb3352e334b"
      },
      "execution_count": 5,
      "outputs": [
        {
          "output_type": "stream",
          "name": "stdout",
          "text": [
            "--------------------------------------Columna desc_escolaridad--------------------------------------\n",
            "['No especificada ', 'No aplica a menores de 3 años', 'Sin escolaridad', 'Preescolar', 'Primaria completa', 'Secundaria incompleta', 'Secundaria completa', 'Bachillerato o preparatoria', 'Profesional', 'Posgrado']\n",
            "Cantidad de elementos: 10\n"
          ]
        }
      ]
    },
    {
      "cell_type": "markdown",
      "source": [
        "### Transformaciones"
      ],
      "metadata": {
        "id": "IYraN5eQ3GDU"
      }
    },
    {
      "cell_type": "code",
      "source": [
        "# Definicion de la funcion que dumizara distintas variables\n",
        "def duminizador(df20xx, nombreDf, nombreVariable):\n",
        "  print(df20xx)\n",
        "\n",
        "  # Dumizar variable\n",
        "  dummies = pd.get_dummies(df20xx[nombreVariable], drop_first = True)\n",
        "  # drop_first = True -> es para que nos agregue solo k-1 categorias distintas y no se agregue la categoria k la cual solo provoca redundancia\n",
        "  df20xx = pd.concat([df20xx, dummies], axis = 1) # Añadimos las variables binarias al DataFrame\n",
        "\n",
        "  # Solicitud de las categorias que se encuentran en la variable: 'desc_ocupacion'\n",
        "  nombresCategoriasX = dummies.columns.tolist()\n",
        "\n",
        "  # Imprimir resultado\n",
        "  titulo = f\"DataFrame {nombreDf}\".center(100, '-')\n",
        "  print(titulo)\n",
        "  print(df20xx.to_string())\n",
        "\n",
        "  return df20xx"
      ],
      "metadata": {
        "id": "qDDHP9Eha2-K"
      },
      "execution_count": 6,
      "outputs": []
    },
    {
      "cell_type": "markdown",
      "source": [
        "#### Entidad Federativa"
      ],
      "metadata": {
        "id": "2djLe774Zxhe"
      }
    },
    {
      "cell_type": "code",
      "source": [
        "# Crear df con las entidades federativas\n",
        "dfEstadosSinCod = pd.DataFrame({'ent_resid_nm': estados})\n",
        "\n",
        "# Mandar a llamar a la funcion dumizadora de la variable 'trabajos'\n",
        "dfEstadosCod = duminizador(dfEstadosSinCod, 'Estados codificados', 'ent_resid_nm')"
      ],
      "metadata": {
        "id": "JVkrWqcZZ2F4",
        "colab": {
          "base_uri": "https://localhost:8080/"
        },
        "outputId": "f2f332b2-3d57-420a-de7e-939d1019ecb2"
      },
      "execution_count": 7,
      "outputs": [
        {
          "output_type": "stream",
          "name": "stdout",
          "text": [
            "                       ent_resid_nm\n",
            "0                    Aguascalientes\n",
            "1                   Baja California\n",
            "2               Baja California Sur\n",
            "3                          Campeche\n",
            "4                           Chiapas\n",
            "5                         Chihuahua\n",
            "6              Coahuila de Zaragoza\n",
            "7                            Colima\n",
            "8                  Distrito Federal\n",
            "9                           Durango\n",
            "10                       Guanajuato\n",
            "11                         Guerrero\n",
            "12                          Hidalgo\n",
            "13                          Jalisco\n",
            "14              Michoacán de Ocampo\n",
            "15                          Morelos\n",
            "16                           México\n",
            "17                          Nayarit\n",
            "18                       Nuevo León\n",
            "19                           Oaxaca\n",
            "20                           Puebla\n",
            "21                        Querétaro\n",
            "22                     Quintana Roo\n",
            "23                  San Luis Potosí\n",
            "24                          Sinaloa\n",
            "25                           Sonora\n",
            "26                          Tabasco\n",
            "27                       Tamaulipas\n",
            "28                         Tlaxcala\n",
            "29  Veracruz de Ignacio de la Llave\n",
            "30                          Yucatán\n",
            "31                        Zacatecas\n",
            "-----------------------------------DataFrame Estados codificados------------------------------------\n",
            "                       ent_resid_nm  Baja California  Baja California Sur  Campeche  Chiapas  Chihuahua  Coahuila de Zaragoza  Colima  Distrito Federal  Durango  Guanajuato  Guerrero  Hidalgo  Jalisco  Michoacán de Ocampo  Morelos  México  Nayarit  Nuevo León  Oaxaca  Puebla  Querétaro  Quintana Roo  San Luis Potosí  Sinaloa  Sonora  Tabasco  Tamaulipas  Tlaxcala  Veracruz de Ignacio de la Llave  Yucatán  Zacatecas\n",
            "0                    Aguascalientes                0                    0         0        0          0                     0       0                 0        0           0         0        0        0                    0        0       0        0           0       0       0          0             0                0        0       0        0           0         0                                0        0          0\n",
            "1                   Baja California                1                    0         0        0          0                     0       0                 0        0           0         0        0        0                    0        0       0        0           0       0       0          0             0                0        0       0        0           0         0                                0        0          0\n",
            "2               Baja California Sur                0                    1         0        0          0                     0       0                 0        0           0         0        0        0                    0        0       0        0           0       0       0          0             0                0        0       0        0           0         0                                0        0          0\n",
            "3                          Campeche                0                    0         1        0          0                     0       0                 0        0           0         0        0        0                    0        0       0        0           0       0       0          0             0                0        0       0        0           0         0                                0        0          0\n",
            "4                           Chiapas                0                    0         0        1          0                     0       0                 0        0           0         0        0        0                    0        0       0        0           0       0       0          0             0                0        0       0        0           0         0                                0        0          0\n",
            "5                         Chihuahua                0                    0         0        0          1                     0       0                 0        0           0         0        0        0                    0        0       0        0           0       0       0          0             0                0        0       0        0           0         0                                0        0          0\n",
            "6              Coahuila de Zaragoza                0                    0         0        0          0                     1       0                 0        0           0         0        0        0                    0        0       0        0           0       0       0          0             0                0        0       0        0           0         0                                0        0          0\n",
            "7                            Colima                0                    0         0        0          0                     0       1                 0        0           0         0        0        0                    0        0       0        0           0       0       0          0             0                0        0       0        0           0         0                                0        0          0\n",
            "8                  Distrito Federal                0                    0         0        0          0                     0       0                 1        0           0         0        0        0                    0        0       0        0           0       0       0          0             0                0        0       0        0           0         0                                0        0          0\n",
            "9                           Durango                0                    0         0        0          0                     0       0                 0        1           0         0        0        0                    0        0       0        0           0       0       0          0             0                0        0       0        0           0         0                                0        0          0\n",
            "10                       Guanajuato                0                    0         0        0          0                     0       0                 0        0           1         0        0        0                    0        0       0        0           0       0       0          0             0                0        0       0        0           0         0                                0        0          0\n",
            "11                         Guerrero                0                    0         0        0          0                     0       0                 0        0           0         1        0        0                    0        0       0        0           0       0       0          0             0                0        0       0        0           0         0                                0        0          0\n",
            "12                          Hidalgo                0                    0         0        0          0                     0       0                 0        0           0         0        1        0                    0        0       0        0           0       0       0          0             0                0        0       0        0           0         0                                0        0          0\n",
            "13                          Jalisco                0                    0         0        0          0                     0       0                 0        0           0         0        0        1                    0        0       0        0           0       0       0          0             0                0        0       0        0           0         0                                0        0          0\n",
            "14              Michoacán de Ocampo                0                    0         0        0          0                     0       0                 0        0           0         0        0        0                    1        0       0        0           0       0       0          0             0                0        0       0        0           0         0                                0        0          0\n",
            "15                          Morelos                0                    0         0        0          0                     0       0                 0        0           0         0        0        0                    0        1       0        0           0       0       0          0             0                0        0       0        0           0         0                                0        0          0\n",
            "16                           México                0                    0         0        0          0                     0       0                 0        0           0         0        0        0                    0        0       1        0           0       0       0          0             0                0        0       0        0           0         0                                0        0          0\n",
            "17                          Nayarit                0                    0         0        0          0                     0       0                 0        0           0         0        0        0                    0        0       0        1           0       0       0          0             0                0        0       0        0           0         0                                0        0          0\n",
            "18                       Nuevo León                0                    0         0        0          0                     0       0                 0        0           0         0        0        0                    0        0       0        0           1       0       0          0             0                0        0       0        0           0         0                                0        0          0\n",
            "19                           Oaxaca                0                    0         0        0          0                     0       0                 0        0           0         0        0        0                    0        0       0        0           0       1       0          0             0                0        0       0        0           0         0                                0        0          0\n",
            "20                           Puebla                0                    0         0        0          0                     0       0                 0        0           0         0        0        0                    0        0       0        0           0       0       1          0             0                0        0       0        0           0         0                                0        0          0\n",
            "21                        Querétaro                0                    0         0        0          0                     0       0                 0        0           0         0        0        0                    0        0       0        0           0       0       0          1             0                0        0       0        0           0         0                                0        0          0\n",
            "22                     Quintana Roo                0                    0         0        0          0                     0       0                 0        0           0         0        0        0                    0        0       0        0           0       0       0          0             1                0        0       0        0           0         0                                0        0          0\n",
            "23                  San Luis Potosí                0                    0         0        0          0                     0       0                 0        0           0         0        0        0                    0        0       0        0           0       0       0          0             0                1        0       0        0           0         0                                0        0          0\n",
            "24                          Sinaloa                0                    0         0        0          0                     0       0                 0        0           0         0        0        0                    0        0       0        0           0       0       0          0             0                0        1       0        0           0         0                                0        0          0\n",
            "25                           Sonora                0                    0         0        0          0                     0       0                 0        0           0         0        0        0                    0        0       0        0           0       0       0          0             0                0        0       1        0           0         0                                0        0          0\n",
            "26                          Tabasco                0                    0         0        0          0                     0       0                 0        0           0         0        0        0                    0        0       0        0           0       0       0          0             0                0        0       0        1           0         0                                0        0          0\n",
            "27                       Tamaulipas                0                    0         0        0          0                     0       0                 0        0           0         0        0        0                    0        0       0        0           0       0       0          0             0                0        0       0        0           1         0                                0        0          0\n",
            "28                         Tlaxcala                0                    0         0        0          0                     0       0                 0        0           0         0        0        0                    0        0       0        0           0       0       0          0             0                0        0       0        0           0         1                                0        0          0\n",
            "29  Veracruz de Ignacio de la Llave                0                    0         0        0          0                     0       0                 0        0           0         0        0        0                    0        0       0        0           0       0       0          0             0                0        0       0        0           0         0                                1        0          0\n",
            "30                          Yucatán                0                    0         0        0          0                     0       0                 0        0           0         0        0        0                    0        0       0        0           0       0       0          0             0                0        0       0        0           0         0                                0        1          0\n",
            "31                        Zacatecas                0                    0         0        0          0                     0       0                 0        0           0         0        0        0                    0        0       0        0           0       0       0          0             0                0        0       0        0           0         0                                0        0          1\n"
          ]
        }
      ]
    },
    {
      "cell_type": "markdown",
      "source": [
        "#### Aplicar transformaciones y armado de matrices de datos"
      ],
      "metadata": {
        "id": "PUKm6KB-e003"
      }
    },
    {
      "cell_type": "markdown",
      "source": [
        "##### Estados - Educaciones - Canceres"
      ],
      "metadata": {
        "id": "VcEeI7YuRWLX"
      }
    },
    {
      "cell_type": "code",
      "source": [
        "def asociador(lista, df20xx, columnaX, parametro, anio):\n",
        "\n",
        "  # Crear el df que almacenara todos los datos de estados-educaciones-canceres\n",
        "  dfEstadosDefinitivoCanceres20xx = pd.DataFrame()\n",
        "\n",
        "  for indice, estado in enumerate(estados):\n",
        "    # Almacenar el estado X\n",
        "    dfEstadosParametroCanceres20xx = dfEstadosCod.iloc[indice:indice+1, 1:]\n",
        "\n",
        "    # Crear una nueva columna por cada valor distinto (nivel educativo ó categoria de ocupacion)\n",
        "    # y colocarle la frecuencia del valor distinto respectivamente\n",
        "    for etiqueta in lista:\n",
        "      # Determinar cuantas personas hay por cada nivel educativo y por cada estado\n",
        "      condicion = (df20xx[columnaX] == etiqueta) & (df20xx['ent_resid_nm'] == estado)\n",
        "      cantidad = df20xx.loc[condicion].shape[0]\n",
        "\n",
        "      # Si la frecuancia de esa etiqueta es 0 igualemente crea la columna con ese nombre y colocale 0\n",
        "      if cantidad == 0:\n",
        "        dfEstadosParametroCanceres20xx[etiqueta] = 0\n",
        "      else:\n",
        "        dfEstadosParametroCanceres20xx[etiqueta] = cantidad\n",
        "\n",
        "    # Crear una nueva columna por cada valor distinto (tipo de cancer)\n",
        "    # y colocarle la frecuencia del valor distinto respectivamente\n",
        "    for cancer in canceres:\n",
        "      # Determinar cuantas personas hay por cada nivel educativo y por cada estado\n",
        "      condicion = (df20xx['Organ'] == cancer) & (df20xx['ent_resid_nm'] == estado)\n",
        "      cantidad = df20xx.loc[condicion].shape[0]\n",
        "\n",
        "      # Si la frecuancia de esa etiqueta es 0 igualemente crea la columna con ese nombre y colocale 0\n",
        "      if cantidad == 0:\n",
        "        dfEstadosParametroCanceres20xx[cancer] = 0\n",
        "      else:\n",
        "        dfEstadosParametroCanceres20xx[cancer] = cantidad\n",
        "\n",
        "    dfEstadosDefinitivoCanceres20xx = pd.concat([dfEstadosDefinitivoCanceres20xx, dfEstadosParametroCanceres20xx], ignore_index=True)\n",
        "\n",
        "  # Imprimir resultado\n",
        "  titulo = f\"Asociacion de datos por estado, por {parametro} y por tipo de cancer en el año: {anio}\".center(100, '-')\n",
        "  print(titulo)\n",
        "  print(dfEstadosDefinitivoCanceres20xx.to_string())\n",
        "\n",
        "  return dfEstadosDefinitivoCanceres20xx\n",
        "\n",
        "dfEstadosEducacionesCanceres2010 = asociador(nivelesEscolares, df2010, 'desc_escolaridad')\n",
        "\n",
        "# (32 - 1) estados + 10 niveles escolares + 36 tipos de canceres = 77 cols\n"
      ],
      "metadata": {
        "colab": {
          "base_uri": "https://localhost:8080/"
        },
        "id": "EBLGKZdpje7g",
        "outputId": "f23d438a-1535-4cd7-d9f1-ce8ef673deae"
      },
      "execution_count": 31,
      "outputs": [
        {
          "output_type": "stream",
          "name": "stdout",
          "text": [
            "    Baja California  Baja California Sur  Campeche  Chiapas  Chihuahua  \\\n",
            "0                 0                    0         0        0          0   \n",
            "1                 1                    0         0        0          0   \n",
            "2                 0                    1         0        0          0   \n",
            "3                 0                    0         1        0          0   \n",
            "4                 0                    0         0        1          0   \n",
            "5                 0                    0         0        0          1   \n",
            "6                 0                    0         0        0          0   \n",
            "7                 0                    0         0        0          0   \n",
            "8                 0                    0         0        0          0   \n",
            "9                 0                    0         0        0          0   \n",
            "10                0                    0         0        0          0   \n",
            "11                0                    0         0        0          0   \n",
            "12                0                    0         0        0          0   \n",
            "13                0                    0         0        0          0   \n",
            "14                0                    0         0        0          0   \n",
            "15                0                    0         0        0          0   \n",
            "16                0                    0         0        0          0   \n",
            "17                0                    0         0        0          0   \n",
            "18                0                    0         0        0          0   \n",
            "19                0                    0         0        0          0   \n",
            "20                0                    0         0        0          0   \n",
            "21                0                    0         0        0          0   \n",
            "22                0                    0         0        0          0   \n",
            "23                0                    0         0        0          0   \n",
            "24                0                    0         0        0          0   \n",
            "25                0                    0         0        0          0   \n",
            "26                0                    0         0        0          0   \n",
            "27                0                    0         0        0          0   \n",
            "28                0                    0         0        0          0   \n",
            "29                0                    0         0        0          0   \n",
            "30                0                    0         0        0          0   \n",
            "31                0                    0         0        0          0   \n",
            "\n",
            "    Coahuila de Zaragoza  Colima  Distrito Federal  Durango  Guanajuato  ...  \\\n",
            "0                      0       0                 0        0           0  ...   \n",
            "1                      0       0                 0        0           0  ...   \n",
            "2                      0       0                 0        0           0  ...   \n",
            "3                      0       0                 0        0           0  ...   \n",
            "4                      0       0                 0        0           0  ...   \n",
            "5                      0       0                 0        0           0  ...   \n",
            "6                      1       0                 0        0           0  ...   \n",
            "7                      0       1                 0        0           0  ...   \n",
            "8                      0       0                 1        0           0  ...   \n",
            "9                      0       0                 0        1           0  ...   \n",
            "10                     0       0                 0        0           1  ...   \n",
            "11                     0       0                 0        0           0  ...   \n",
            "12                     0       0                 0        0           0  ...   \n",
            "13                     0       0                 0        0           0  ...   \n",
            "14                     0       0                 0        0           0  ...   \n",
            "15                     0       0                 0        0           0  ...   \n",
            "16                     0       0                 0        0           0  ...   \n",
            "17                     0       0                 0        0           0  ...   \n",
            "18                     0       0                 0        0           0  ...   \n",
            "19                     0       0                 0        0           0  ...   \n",
            "20                     0       0                 0        0           0  ...   \n",
            "21                     0       0                 0        0           0  ...   \n",
            "22                     0       0                 0        0           0  ...   \n",
            "23                     0       0                 0        0           0  ...   \n",
            "24                     0       0                 0        0           0  ...   \n",
            "25                     0       0                 0        0           0  ...   \n",
            "26                     0       0                 0        0           0  ...   \n",
            "27                     0       0                 0        0           0  ...   \n",
            "28                     0       0                 0        0           0  ...   \n",
            "29                     0       0                 0        0           0  ...   \n",
            "30                     0       0                 0        0           0  ...   \n",
            "31                     0       0                 0        0           0  ...   \n",
            "\n",
            "    Pancreas  Prostate  Skin non Melanoma   Soft Tissue  Stomach  Testis  \\\n",
            "0         60        44                  14            6       41       3   \n",
            "1        219       118                  29           22      125       8   \n",
            "2         36        31                  10            3       24       3   \n",
            "3         24        47                  11            7       61       2   \n",
            "4        213       186                  58           35      354      12   \n",
            "5        197       200                  46           26      175      23   \n",
            "6        126       115                  28           22      102       4   \n",
            "7         46        34                  15            6       26       2   \n",
            "8        667       502                 118          111      618      41   \n",
            "9         82        81                  21            7       71       3   \n",
            "10       246       281                  72           36      261      10   \n",
            "11       130       165                  36           13      222       6   \n",
            "12       121       131                  39           16      153      14   \n",
            "13       452       489                  97           71      370      32   \n",
            "14       253       311                  71           27      217      10   \n",
            "15        92        90                  26           10      122       3   \n",
            "16       665       508                 183          105      727      77   \n",
            "17        62        77                  20            7       58       4   \n",
            "18       330       213                  37           35      149      11   \n",
            "19       148       145                  53           35      291      12   \n",
            "20       235       218                  85           54      304      28   \n",
            "21        76        72                  25           15       60      11   \n",
            "22        33        34                  15            5       55       4   \n",
            "23       129       129                  33           23      121       9   \n",
            "24       152       186                  40           15      135       4   \n",
            "25       174       171                  41           23      169       9   \n",
            "26        73       117                  24           20      111       9   \n",
            "27       173       171                  39           25      140      10   \n",
            "28        56        35                  18           14       59       5   \n",
            "29       398       431                  97           74      425      42   \n",
            "30        69        89                  39           24      132       2   \n",
            "31        90        94                  19            9       82       5   \n",
            "\n",
            "    Thyroid  Trachea  Ureter  Urinary Tract Other  \n",
            "0        12        0       0                    0  \n",
            "1        10        0       0                    0  \n",
            "2         3        0       0                    0  \n",
            "3         5        1       0                    0  \n",
            "4        24        0       0                    0  \n",
            "5        16        1       1                    2  \n",
            "6        11        3       0                    0  \n",
            "7         4        0       0                    0  \n",
            "8        68        5       5                    2  \n",
            "9        11        0       0                    0  \n",
            "10       39        0       0                    0  \n",
            "11       11        1       0                    1  \n",
            "12       18        1       1                    0  \n",
            "13       37        0       0                    1  \n",
            "14       34        0       0                    1  \n",
            "15       18        0       0                    0  \n",
            "16       97        0       1                    1  \n",
            "17        6        0       0                    0  \n",
            "18       19        0       1                    0  \n",
            "19       16        0       0                    0  \n",
            "20       31        3       0                    0  \n",
            "21        9        0       0                    0  \n",
            "22        7        0       0                    1  \n",
            "23       18        0       0                    0  \n",
            "24       11        0       0                    1  \n",
            "25       19        1       0                    0  \n",
            "26        7        0       0                    0  \n",
            "27       11        2       2                    2  \n",
            "28        8        0       0                    0  \n",
            "29       38        0       0                    1  \n",
            "30        9        0       1                    0  \n",
            "31       15        0       0                    1  \n",
            "\n",
            "[32 rows x 77 columns]\n",
            "    Baja California  Baja California Sur  Campeche  Chiapas  Chihuahua  Coahuila de Zaragoza  Colima  Distrito Federal  Durango  Guanajuato  Guerrero  Hidalgo  Jalisco  Michoacán de Ocampo  Morelos  México  Nayarit  Nuevo León  Oaxaca  Puebla  Querétaro  Quintana Roo  San Luis Potosí  Sinaloa  Sonora  Tabasco  Tamaulipas  Tlaxcala  Veracruz de Ignacio de la Llave  Yucatán  Zacatecas  No especificada   No aplica a menores de 3 años  Sin escolaridad  Preescolar  Primaria completa  Secundaria incompleta  Secundaria completa  Bachillerato o preparatoria  Profesional  Posgrado  Bladder  Bone  Brain  Breast  Cervix Uteri  Colon and Rectum  Esophagus  Eyes  Female Genitals  Gallbladder  Heart  Hodgkin's Lymphoma  Kidney  Larynx  Leukemia  Liver   Lungs  Lymphoma  Male Genitales  Melanoma  Mesothelioma  Mylenoma  Nervous  Oral Cavity and Pharynx  Outter Respiratory  Ovary  Pancreas  Prostate  Skin non Melanoma   Soft Tissue  Stomach  Testis  Thyroid  Trachea  Ureter  Urinary Tract Other\n",
            "0                 0                    0         0        0          0                     0       0                 0        0           0         0        0        0                    0        0       0        0           0       0       0          0             0                0        0       0        0           0         0                                0        0          0                20                             15               91         213                156                     16                   67                           45           54         0       10     6     26      45            47                51          6     2                3           16      0                   3      20       6        59      36     85        31               2         7             1         8        1                        6                   0     20        60        44                  14            6       41       3       12        0       0                    0\n",
            "1                 1                    0         0        0          0                     0       0                 0        0           0         0        0        0                    0        0       0        0           0       0       0          0             0                0        0       0        0           0         0                                0        0          0               142                             16              201         405                435                     79                  216                          155          213         0       33    23     44     165           125               149         21     2                3           51      0                  12      63      21        92     109    233        78               1         5             4        28        2                       24                   0     43       219       118                  29           22      125       8       10        0       0                    0\n",
            "2                 0                    1         0        0          0                     0       0                 0        0           0         0        0        0                    0        0       0        0           0       0       0          0             0                0        0       0        0           0         0                                0        0          0                13                              5               35          91                 93                      9                   46                           36           40         0        7     5     19      31            21                26          5     1                1            6      0                   2       4       7        18      15     52        14               4         2             1         4        0                        1                   0     12        36        31                  10            3       24       3        3        0       0                    0\n",
            "3                 0                    0         1        0          0                     0       0                 0        0           0         0        0        0                    0        0       0        0           0       0       0          0             0                0        0       0        0           0         0                                0        0          0                21                              5              100         146                 76                      8                   44                           27           45         0        1     6     14      27            32                35          5     0                0           15      0                   4      19       7        38      36     28        21               2         4             0         2        0                       10                   1      7        24        47                  11            7       61       2        5        1       0                    0\n",
            "4                 0                    0         0        1          0                     0       0                 0        0           0         0        0        0                    0        0       0        0           0       0       0          0             0                0        0       0        0           0         0                                0        0          0                23                             35              897         808                390                     57                  139                           84          147         0       25    51     63     128           232               140         21     8                9           72      0                  23      44      18       208     288    159        98               3        12             2        25        2                       36                   0     31       213       186                  58           35      354      12       24        0       0                    0\n",
            "5                 0                    0         0        0          1                     0       0                 0        0           0         0        0        0                    0        0       0        0           0       0       0          0             0                0        0       0        0           0         0                                0        0          0               122                             16              192         738                647                     65                  267                          160          176         0       28    40     77     185           154               187         34     3               10           51      0                  17      64      26       105     110    371        87               2        19            23        26        5                       22                   1     49       197       200                  46           26      175      23       16        1       1                    2\n",
            "6                 0                    0         0        0          0                     1       0                 0        0           0         0        0        0                    0        0       0        0           0       0       0          0             0                0        0       0        0           0         0                                0        0          0               117                             15              148         417                444                     44                  204                          137          201         0       32    33     59     161           119               130         19     3                1           42      0                  11      61      26        85     127    206        80               8        12             3        14        1                       23                   0     60       126       115                  28           22      102       4       11        3       0                    0\n",
            "7                 0                    0         0        0          0                     0       1                 0        0           0         0        0        0                    0        0       0        0           0       0       0          0             0                0        0       0        0           0         0                                0        0          0                16                              2               99         152                 89                      8                   41                           28           48         0        6     3     16      38            36                34          5     0                0            8      0                   6       8      11        27      36     52        32               0         3             2         5        0                        8                   0     14        46        34                  15            6       26       2        4        0       0                    0\n",
            "8                 0                    0         0        0          0                     0       0                 1        0           0         0        0        0                    0        0       0        0           0       0       0          0             0                0        0       0        0           0         0                                0        0          0                88                             38              491        1408               1763                    229                  968                         1090         1337         0      117    83    235     667           403               595         78     7               22          212      1                  57     267      52       386     500    651       358              13        78            37       109        8                       99                   3    237       667       502                 118          111      618      41       68        5       5                    2\n",
            "9                 0                    0         0        0          0                     0       0                 0        1           0         0        0        0                    0        0       0        0           0       0       0          0             0                0        0       0        0           0         0                                0        0          0                56                              8               92         355                175                     17                   94                           64           87         0       21    20     22      58            59                54         15     0                2           30      1                   5      22      15        50      63    123        42               5         5             1        21        1                       13                   0     24        82        81                  21            7       71       3       11        0       0                    0\n",
            "10                0                    0         0        0          0                     0       0                 0        0           1         0        0        0                    0        0       0        0           0       0       0          0             0                0        0       0        0           0         0                                0        0          0               102                             37              824         830                572                     78                  203                          132          188         0       44    59     91     191           186               173         38     3                7          107      0                  23      80      29       185     177    279       125              10        41             7        30        6                       44                   4     82       246       281                  72           36      261      10       39        0       0                    0\n",
            "11                0                    0         0        0          0                     0       0                 0        0           0         1        0        0                    0        0       0        0           0       0       0          0             0                0        0       0        0           0         0                                0        0          0                57                             17              629         456                276                     36                   97                           94          133         0       19    38     58     108           154                98         26     1                4           57      1                  12      31      22        88     179    156        63               3         7             3        10        1                       34                   2     35       130       165                  36           13      222       6       11        1       0                    1\n",
            "12                0                    0         0        0          0                     0       0                 0        0           0         0        1        0                    0        0       0        0           0       0       0          0             0                0        0       0        0           0         0                                0        0          0                23                             22              338         500                296                     28                  154                           88           82         0       18    22     46      79            86                94         37     2                4           54      0                  21      45      20        89     145    110        61               0        12             6        13        1                       41                   0     31       121       131                  39           16      153      14       18        1       1                    0\n",
            "13                0                    0         0        0          0                     0       0                 0        0           0         0        0        1                    0        0       0        0           0       0       0          0             0                0        0       0        0           0         0                                0        0          0               190                             37              733        1601               1033                    110                  480                          325          457         0       68    76    154     410           268               361         58     3               17          119      0                  41     100      50       274     269    590       211              13        43            10        64       10                       62                   0    146       452       489                  97           71      370      32       37        0       0                    1\n",
            "14                0                    0         0        0          0                     0       0                 0        0           0         0        0        0                    1        0       0        0           0       0       0          0             0                0        0       0        0           0         0                                0        0          0                61                             22              846         991                408                     52                  159                          135          187         0       38    54     72     190           202               209         31     5                5           85      0                  22      70      29       148     191    289       122               8        15             3        36        6                       39                   0     68       253       311                  71           27      217      10       34        0       0                    1\n",
            "15                0                    0         0        0          0                     0       0                 0        0           0         0        0        0                    0        1       0        0           0       0       0          0             0                0        0       0        0           0         0                                0        0          0                17                              5              217         355                225                     38                  123                          110          136         0       18    18     37      88            96                79         16     2                4           34      1                   7      29      11        64      83    111        77               2        14             4        13        0                       18                   1     38        92        90                  26           10      122       3       18        0       0                    0\n",
            "16                0                    0         0        0          0                     0       0                 0        0           0         0        0        0                    0        0       1        0           0       0       0          0             0                0        0       0        0           0         0                                0        0          0                98                             95             1135        2170               1725                    233                 1036                          702          714         0       94   120    264     625           515               514         96    13               17          235      0                  50     274      48       461     528    615       427              18        81            64       106       21                       90                   4    264       665       508                 183          105      727      77       97        0       1                    1\n",
            "17                0                    0         0        0          0                     0       0                 0        0           0         0        0        0                    0        0       0        1           0       0       0          0             0                0        0       0        0           0         0                                0        0          0                39                              4              144         281                117                     13                   70                           34           58         0       10    21     26      45            54                30          9     1                2           24      0                   9      11       9        38      62     94        29               6         8             1        10        3                        7                   0     17        62        77                  20            7       58       4        6        0       0                    0\n",
            "18                0                    0         0        0          0                     0       0                 0        0           0         0        0        0                    0        0       0        0           1       0       0          0             0                0        0       0        0           0         0                                0        0          0               154                             29              244         896                693                     60                  425                          335          360         0       61    34     94     306           175               230         54     1                6           66      1                  17     124      52       179     239    410       141               5        28             7        41        4                       41                   2     83       330       213                  37           35      149      11       19        0       1                    0\n",
            "19                0                    0         0        0          0                     0       0                 0        0           0         0        0        0                    0        0       0        0           0       1       0          0             0                0        0       0        0           0         0                                0        0          0                45                             20              760         751                340                     48                  137                           71          108         0       15    45     65      88           231               115         47     4                9           85      1                  16      44      21       154     229    137       123              12        12             3        29        3                       40                   1     51       148       145                  53           35      291      12       16        0       0                    0\n",
            "20                0                    0         0        0          0                     0       0                 0        0           0         0        0        0                    0        0       0        0           0       0       1          0             0                0        0       0        0           0         0                                0        0          0                87                             37              652         880                603                     65                  249                          184          268         0       35    49     85     178           245               157         33     7                6          121      1                  16      85      27       206     246    189       157               6        31             5        40        1                       54                   1     86       235       218                  85           54      304      28       31        3       0                    0\n",
            "21                0                    0         0        0          0                     0       0                 0        0           0         0        0        0                    0        0       0        0           0       0       0          1             0                0        0       0        0           0         0                                0        0          0                21                              9              200         212                166                     22                  118                           83          106         0       21    12     49      79            60                58         13     1                1           25      0                   8      22      13        65      55     58        42               4        10             3        17        2                       14                   1     36        76        72                  25           15       60      11        9        0       0                    0\n",
            "22                0                    0         0        0          0                     0       0                 0        0           0         0        0        0                    0        0       0        0           0       0       0          0             1                0        0       0        0           0         0                                0        0          0                23                              1               87         140                 88                     14                   52                           44           52         0        4     8     18      26            39                24         10     0                2           18      0                   3      18      15        39      29     41        28               2         3             0         4        0                        7                   0      9        33        34                  15            5       55       4        7        0       0                    1\n",
            "23                0                    0         0        0          0                     0       0                 0        0           0         0        0        0                    0        0       0        0           0       0       0          0             0                1        0       0        0           0         0                                0        0          0                72                             11              344         520                290                     30                  131                           89          134         0       14    29     47     111           108                83         27     2                5           57      1                  15      41      18        88     170    177        67               6         8             1        18        1                       23                   0     42       129       129                  33           23      121       9       18        0       0                    0\n",
            "24                0                    0         0        0          0                     0       0                 0        0           0         0        0        0                    0        0       0        0           0       0       0          0             0                0        1       0        0           0         0                                0        0          0               134                             21              302         659                394                     43                  125                          141          176         0       25    40     48     138           120               115         23     3                4           43      0                  15      50      39        95     114    362        82               3        14             6        34        4                       30                   2     42       152       186                  40           15      135       4       11        0       0                    1\n",
            "25                0                    0         0        0          0                     0       0                 0        0           0         0        0        0                    0        0       0        0           0       0       0          0             0                0        0       1        0           0         0                                0        0          0                21                             20              208         644                488                     68                  282                          147          184         0       24    29     58     166           120               138         32     2                4           48      1                   9      63      39       101     114    282        83               7         8             2        29        1                       42                   2     51       174       171                  41           23      169       9       19        1       0                    0\n",
            "26                0                    0         0        0          0                     0       0                 0        0           0         0        0        0                    0        0       0        0           0       0       0          0             0                0        0       0        1           0         0                                0        0          0                24                             11              202         468                220                     36                  122                           71          100         0       10    23     38      82            94                85         13     0                3           35      0                   9      36      14        79     115    106        66               4         8             0        22        1                       24                   1     25        73       117                  24           20      111       9        7        0       0                    0\n",
            "27                0                    0         0        0          0                     0       0                 0        0           0         0        0        0                    0        0       0        0           0       0       0          0             0                0        0       0        0           1         0                                0        0          0                84                             20              256         682                499                     47                  242                          181          233         0       32    38     53     176           148               165         30     3                7           36      0                  14      58      45       106     259    248        83               5         9             5        26        5                       44                   0     74       173       171                  39           25      140      10       11        2       2                    2\n",
            "28                0                    0         0        0          0                     0       0                 0        0           0         0        0        0                    0        0       0        0           0       0       0          0             0                0        0       0        0           0         1                                0        0          0                 4                              7               76         199                149                     15                   57                           25           43         0        7    13     18      35            35                29         12     1                1           16      0                   3      18       4        23      43     40        33               6         5             3        12        1                        6                   1     15        56        35                  18           14       59       5        8        0       0                    0\n",
            "29                0                    0         0        0          0                     0       0                 0        0           0         0        0        0                    0        0       0        0           0       0       0          0             0                0        0       0        0           0         0                                1        0          0               142                             48             1248        1655               1064                    138                  403                          297          362         0       64    96    150     322           406               310        107    11               14          153      0                  35     151      69       315     670    397       241              18        28             9        56        4                       94                   2    129       398       431                  97           74      425      42       38        0       0                    1\n",
            "30                0                    0         0        0          0                     0       0                 0        0           0         0        0        0                    0        0       0        0           0       0       0          0             0                0        0       0        0           0         0                                0        1          0                43                              5              234         415                205                     27                  110                           60          116         0       17    19     29      59           102                65         19     4                4           50      0                   6      39      21        68     127     99        62               6         3             1         8        0                       25                   1     16        69        89                  39           24      132       2        9        0       1                    0\n",
            "31                0                    0         0        0          0                     0       0                 0        0           0         0        0        0                    0        0       0        0           0       0       0          0             0                0        0       0        0           0         0                                0        0          1                18                              8              161         455                170                     12                   54                           31           47         0       14    12     28      65            53                70          7     3                1           18      0                   8      20       8        51      62    125        43               4         8             1         6        0                       13                   0     21        90        94                  19            9       82       5       15        0       0                    1\n"
          ]
        }
      ]
    },
    {
      "cell_type": "code",
      "source": [
        "# Crear el df que almacenara todos los datos de estados-educaciones-canceres\n",
        "dfEstadosEducacionesCanceres2010 = pd.DataFrame()\n",
        "\n",
        "# Almacenar el estado X\n",
        "dfEstadosEducacionesCanceres2010 = dfEstadosCod.iloc[0:0+1, 1:]\n",
        "\n",
        "# Crear una nueva columna por cada valor distinto (nivel educativo) y colocarle la frecuencia del valor\n",
        "# distinto respectivamente\n",
        "for etiqueta in nivelesEscolares:\n",
        "  condicion = (df2010['desc_escolaridad'] == etiqueta) # Determinar cuantas personas con cada nivel educativo hay\n",
        "  cantidad = df2010.loc[condicion].shape[0]\n",
        "\n",
        "  # Si la frecuancia de esa etiqueta es 0 igualemente crea la columna con ese nombre y colocale 0\n",
        "  if cantidad == 0:\n",
        "    dfEstadosEducacionesCanceres2010[etiqueta] = 0\n",
        "  else:\n",
        "    dfEstadosEducacionesCanceres2010[etiqueta] = cantidad\n",
        "\n",
        "print(dfEstadosEducacionesCanceres2010.to_string())\n",
        "# (32 - 1) estados + 10 niveles escolares + 36 tipos de canceres = 77 cols\n"
      ],
      "metadata": {
        "colab": {
          "base_uri": "https://localhost:8080/"
        },
        "id": "OyCpFvLcgl1u",
        "outputId": "528130f6-510f-4a90-8f00-49a29ee4f6f3"
      },
      "execution_count": 21,
      "outputs": [
        {
          "output_type": "stream",
          "name": "stdout",
          "text": [
            "   Baja California  Baja California Sur  Campeche  Chiapas  Chihuahua  Coahuila de Zaragoza  Colima  Distrito Federal  Durango  Guanajuato  Guerrero  Hidalgo  Jalisco  Michoacán de Ocampo  Morelos  México  Nayarit  Nuevo León  Oaxaca  Puebla  Querétaro  Quintana Roo  San Luis Potosí  Sinaloa  Sonora  Tabasco  Tamaulipas  Tlaxcala  Veracruz de Ignacio de la Llave  Yucatán  Zacatecas  No especificada   No aplica a menores de 3 años  Sin escolaridad  Preescolar  Primaria completa  Secundaria incompleta  Secundaria completa  Bachillerato o preparatoria  Profesional  Posgrado\n",
            "0                0                    0         0        0          0                     0       0                 0        0           0         0        0        0                    0        0       0        0           0       0       0          0             0                0        0       0        0           0         0                                0        0          0              2077                            641            12186       20493              14289                   1745                 6915                         5205         6592         0\n"
          ]
        }
      ]
    },
    {
      "cell_type": "code",
      "source": [
        "# Crear el df que almacenara todos los datos de estados-educaciones-canceres\n",
        "dfEstadosEducacionesCanceres = pd.DataFrame()\n",
        "\n",
        "for j in range(0, 32):\n",
        "\n",
        "\n",
        "  # Extraer las transformaciones de un estado\n",
        "  dfEstadoCancer = dfEstadosCod.iloc[j:j + 1, 1:]\n",
        "\n",
        "  # Un solo estadoCancer (una sola fila) debe tener: 31 cols de estados + 1260 cols de cancer vect + 36 cols de 'OrganNCant' =  1327 cols\n",
        "  for i in range(0, 36):\n",
        "    df1 = dfEstadoCancer\n",
        "    df2 = dfCanceresCodVect.iloc[0:1, 0 + (35*i):35 + (35*i)]\n",
        "    df3 = dfEstados.iloc[j:j + 1, i*2 + 2]\n",
        "\n",
        "    # De esta forma una fila queda con los siguientes datos: estado + tipoCancer1 + cantCancer1 + tipoCancer2 + cantCancer2 + ... y asi sucesivamente\n",
        "    dfEstadoCancer = pd.concat([df1.reset_index(drop=True), df2.reset_index(drop=True), df3.reset_index(drop=True)], axis=1)\n",
        "\n",
        "  # Juntar un nuevo estadoCancer con todos los estadosCanceres (agregar la nueva fila al df mas gral.)\n",
        "  dfEstadosCanceres = pd.concat([dfEstadosCanceres, dfEstadoCancer], ignore_index=True)\n",
        "\n",
        "# Imprimir el resultado final\n",
        "print('dfEstadosCanceres')\n",
        "print(dfEstadosCanceres)\n",
        "print(dfEstadosCanceres.to_string())"
      ],
      "metadata": {
        "id": "6W_1cnFFH2oX"
      },
      "execution_count": null,
      "outputs": []
    },
    {
      "cell_type": "markdown",
      "source": [
        "##### Estados - Empleos"
      ],
      "metadata": {
        "id": "i3x_pko9RgEd"
      }
    },
    {
      "cell_type": "code",
      "source": [
        "# Crear el df que almacenara todos los datos de estados-trabajos\n",
        "dfEstadosEmpleos = pd.DataFrame()\n",
        "\n",
        "for j in range(0, 32):\n",
        "  # Extraer las transformaciones de un estado\n",
        "  dfEstadoEmpleo = dfEstadosCod.iloc[j:j + 1, 1:]\n",
        "\n",
        "  # Un solo estadoEmpleo (una sola fila) debe tener: 31 cols de estados + 156 cols de cancer vect + 13 cols de 'desc_ocupacionNCant' =  200 cols\n",
        "  for i in range(0, 13):\n",
        "    df1 = dfEstadoEmpleo\n",
        "    df2 = dfTrabajosCodVect.iloc[0:1, 0 + (12*i):12 + (12*i)]\n",
        "    df3 = dfEstados.iloc[j:j + 1, i*2 + 74]\n",
        "\n",
        "    # De esta forma una fila queda con los siguientes datos: estado + tipoEmpleo1 + cantEmpleo1 + tipoEmpleo2 + cantEmpleo2 + ... y asi sucesivamente\n",
        "    dfEstadoEmpleo = pd.concat([df1.reset_index(drop=True), df2.reset_index(drop=True), df3.reset_index(drop=True)], axis=1)\n",
        "\n",
        "  # Juntar un nuevo estadoEmpleo con todos los estadosEmpleos (agregar la nueva fila al df mas gral.)\n",
        "  dfEstadosEmpleos = pd.concat([dfEstadosEmpleos, dfEstadoEmpleo], ignore_index=True)\n",
        "\n",
        "# Imprimir el resultado final\n",
        "print('dfEstadosEmpleos')\n",
        "print(dfEstadosEmpleos)\n",
        "print(dfEstadosEmpleos.to_string())"
      ],
      "metadata": {
        "id": "BGCc8IptVZDK"
      },
      "execution_count": null,
      "outputs": []
    },
    {
      "cell_type": "markdown",
      "source": [
        "##### Estados - Niveles Educativos"
      ],
      "metadata": {
        "id": "9gDZhapwRiJS"
      }
    },
    {
      "cell_type": "code",
      "source": [
        "# Crear el df que almacenara todos los datos de estados-Educaciones\n",
        "dfEstadosEducaciones = pd.DataFrame()\n",
        "\n",
        "for j in range(0, 32):\n",
        "  # Extraer las transformaciones de un estado\n",
        "  dfEstadoEducacion = dfEstadosCod.iloc[j:j + 1, 1:]\n",
        "\n",
        "  # Un solo estadoEducacion (una sola fila) debe tener: 31 cols de estados + 100 cols de cancer vect + 10 cols de 'desc_escolaridadNCant' =  141 cols\n",
        "  for i in range(0, 10):\n",
        "    df1 = dfEstadoEducacion\n",
        "    df2 = dfEducacionCodVect.iloc[0:1, 0 + (10*i):10 + (10*i)]\n",
        "    df3 = dfEstados.iloc[j:j + 1, i*2 + 100]\n",
        "\n",
        "    # De esta forma una fila queda con los siguientes datos: estado + tipoEducacion1 + cantEducacion1 + tipoEducacion2 + cantEducacion2 + ... y asi sucesivamente\n",
        "    dfEstadoEducacion = pd.concat([df1.reset_index(drop=True), df2.reset_index(drop=True), df3.reset_index(drop=True)], axis=1)\n",
        "\n",
        "  # Juntar un nuevo estadoEducacion con todos los estadosEducaciones (agregar la nueva fila al df mas gral.)\n",
        "  dfEstadosEducaciones = pd.concat([dfEstadosEducaciones, dfEstadoEducacion], ignore_index=True)\n",
        "\n",
        "# Imprimir el resultado final\n",
        "print('dfEstadosEducaciones')\n",
        "print(dfEstadosEducaciones)\n",
        "print(dfEstadosEducaciones.to_string())"
      ],
      "metadata": {
        "id": "ieC0dpUmyGT2"
      },
      "execution_count": null,
      "outputs": []
    },
    {
      "cell_type": "markdown",
      "source": [
        "### Escalado de Datos"
      ],
      "metadata": {
        "id": "0nTB2SjZ9Ri2"
      }
    },
    {
      "cell_type": "code",
      "source": [
        "from sklearn.preprocessing import StandardScaler\n",
        "\n",
        "# Definicion de la funcion que realiza el escalado de datos\n",
        "def escalador(df, nombreDf):\n",
        "  titulo = f\"Dataframe {nombreDf}\".center(100, '-')\n",
        "  print(titulo)\n",
        "  titulo2 = f\"Antes del escalado\".ljust(50, '-')\n",
        "  print(titulo2)\n",
        "  print(df.to_string())\n",
        "\n",
        "  columnas = df.columns.tolist() # Determinar el nombre de las col's\n",
        "  estadoVariableEscalador = StandardScaler()\n",
        "  df = estadoVariableEscalador.fit_transform(df) # Escala los datos\n",
        "  df = pd.DataFrame(df, columns=columnas) # Esto devolvera un numpy por eso se castea a df conservando el\n",
        "  # nombre de las col's\n",
        "\n",
        "  titulo3 = f\"Despues del escalado\".ljust(50, '-')\n",
        "  print(titulo3)\n",
        "  print(df.to_string())\n",
        "\n",
        "  return df\n",
        "\n",
        "# Definicion de la funcion que se encargara de\n",
        "def escaladorDatos(df, caso, nombreDf):\n",
        "  # Recopilar las columnas que se necesitan normalizar y almacenarlas en 'dfAnormal'\n",
        "  dfAnormal = pd.DataFrame()\n",
        "\n",
        "  if caso == 'Cancer':\n",
        "    for i in range(0, 36):\n",
        "      nombreColumna = df.columns[66 + (36*i)]  #Como hay 36 cols de 'OrganNCant' cada 36 cols habra\n",
        "      dfAnormal[nombreColumna] = df.iloc[:, 66 + (36*i)] # coincidencia a partir de la 1er coicidencia\n",
        "\n",
        "  elif caso == 'Empleo':\n",
        "    for i in range(0, 13):\n",
        "      nombreColumna = df.columns[43 + (13*i)]  #Como hay 13 cols de 'desc_ocupacionNCant' cada 13 cols habra\n",
        "      dfAnormal[nombreColumna] = df.iloc[:, 43 + (13*i)] # coincidencia a partir de la 1er coicidencia\n",
        "\n",
        "  elif caso == 'Educacion':\n",
        "    for i in range(0, 10):\n",
        "      nombreColumna = df.columns[41 + (11*i)]  #Como hay 10 cols de 'desc_escolaridadNCant' cada 10 cols habra\n",
        "      dfAnormal[nombreColumna] = df.iloc[:, 41 + (11*i)] # coincidencia a partir de la 1er coicidencia\n",
        "\n",
        "  # Mandar a llamar la funcion que Escala Datos\n",
        "  dfNormal = escalador(dfAnormal, nombreDf)\n",
        "\n",
        "  # Reemplazar los nuevos datos escalados en los df originales\n",
        "  columnas = dfNormal.columns.to_list()\n",
        "\n",
        "  for i in range(0, len(columnas)):\n",
        "    df[columnas[i]] = dfNormal.iloc[:, i]\n",
        "\n",
        "  titulo = f\"DataFrame\".ljust(50, '-')\n",
        "  print(titulo)\n",
        "  print(df.to_string())\n",
        "\n",
        "  return df"
      ],
      "metadata": {
        "id": "mwuOjEeFbLlK"
      },
      "execution_count": null,
      "outputs": []
    },
    {
      "cell_type": "markdown",
      "source": [
        "#### Estados - Canceres"
      ],
      "metadata": {
        "id": "rotziKI6EB_c"
      }
    },
    {
      "cell_type": "code",
      "source": [
        "# Mandar a llamar la funcion que escalara los datos sobre el df: 'dfEstadosCanceres'\n",
        "dfEstadosCanceres = escaladorDatos(dfEstadosCanceres, 'Cancer', 'Estados Canceres')"
      ],
      "metadata": {
        "id": "Blv2kQLcEOJi"
      },
      "execution_count": null,
      "outputs": []
    },
    {
      "cell_type": "markdown",
      "source": [
        "#### Estados - Empleos"
      ],
      "metadata": {
        "id": "0sk8kh2yEFWT"
      }
    },
    {
      "cell_type": "code",
      "source": [
        "# Mandar a llamar la funcion que escalara los datos sobre el df: 'dfEstadosEmpleos'\n",
        "dfEstadosEmpleos = escaladorDatos(dfEstadosEmpleos, 'Empleo', 'Estados Empleos')"
      ],
      "metadata": {
        "id": "xSc6fhG6bkWy"
      },
      "execution_count": null,
      "outputs": []
    },
    {
      "cell_type": "markdown",
      "source": [
        "#### Estados - Niveles Educativos"
      ],
      "metadata": {
        "id": "fn6nZniUEF9J"
      }
    },
    {
      "cell_type": "code",
      "source": [
        "# Mandar a llamar la funcion que escalara los datos sobre el df: 'dfEstadosEducaciones'\n",
        "dfEstadosEducaciones = escaladorDatos(dfEstadosEducaciones, 'Educacion', 'Estados Educaciones')"
      ],
      "metadata": {
        "id": "jRz_MEk9-tm5"
      },
      "execution_count": null,
      "outputs": []
    },
    {
      "cell_type": "markdown",
      "source": [
        "### Algoritmos/Modelos"
      ],
      "metadata": {
        "id": "5Nnl1rb7OYtH"
      }
    },
    {
      "cell_type": "code",
      "source": [
        "# Agregar librerias para utilizar el algoritmo e implementar metricas\n",
        "from sklearn.cluster import KMeans\n",
        "from sklearn import metrics"
      ],
      "metadata": {
        "id": "roKY3Nvs891x"
      },
      "execution_count": null,
      "outputs": []
    },
    {
      "cell_type": "markdown",
      "source": [
        "#### Metodo del Codo"
      ],
      "metadata": {
        "id": "OUotJOWfgtK_"
      }
    },
    {
      "cell_type": "code",
      "source": [
        "# Definicion del metodo del codo para que cualquier modelo lo pueda utilizar.\n",
        "def metodoCodo(df, titulo, color):\n",
        "  X = df\n",
        "  wcss = []\n",
        "  cantidadClusters = 15\n",
        "  # Crear modelos pero con diferentes cantidades de clusters: de 1 a 15 y agregar los valores de inercia\n",
        "  # resultantes de cada modelo.\n",
        "  for i in range(1, cantidadClusters):\n",
        "      algoritmoKmeans = KMeans(n_clusters = i, n_init=10, init = 'k-means++', max_iter = 100, random_state = 0)\n",
        "      algoritmoKmeans.fit(X)\n",
        "      wcss.append(algoritmoKmeans.inertia_)\n",
        "\n",
        "  # Graficar la cantidad de clusters con el valor de inercia obtenido en ese modelo\n",
        "  plt.figure(figsize=(10, 6))\n",
        "  plt.title(titulo)\n",
        "  plt.plot(range(1, cantidadClusters), wcss, c=color)\n",
        "  plt.scatter(range(1, cantidadClusters), wcss, s = 20, c=color)\n",
        "  plt.xticks(range(1, cantidadClusters), range(1, cantidadClusters))\n",
        "  plt.ylabel('WCSS')\n",
        "  plt.xlabel('Numero de clusters')\n",
        "  plt.grid()\n",
        "  plt.show()"
      ],
      "metadata": {
        "id": "IYBEFOUJru9g"
      },
      "execution_count": null,
      "outputs": []
    },
    {
      "cell_type": "code",
      "source": [
        "# Llamar el metodo del codo y aplicarlo sobre los datos de estados y educaciones\n",
        "metodoCodo(dfEstadosEducaciones, 'Estados - Educaciones', 'g') # 6"
      ],
      "metadata": {
        "id": "BmG5vPB08VMs"
      },
      "execution_count": null,
      "outputs": []
    },
    {
      "cell_type": "code",
      "source": [
        "# Llamar el metodo del codo y aplicarlo sobre los datos de estados y empleos\n",
        "metodoCodo(dfEstadosEmpleos, 'Estados - Empleos', 'purple') # 5"
      ],
      "metadata": {
        "id": "7P37FvpR8h-e"
      },
      "execution_count": null,
      "outputs": []
    },
    {
      "cell_type": "code",
      "source": [
        "# Llamar el metodo del codo y aplicarlo sobre los datos de estados y tipos de cancer\n",
        "metodoCodo(dfEstadosCanceres, 'Estados - Canceres', 'b') # 5"
      ],
      "metadata": {
        "id": "Jtneru-3feYk"
      },
      "execution_count": null,
      "outputs": []
    },
    {
      "cell_type": "markdown",
      "source": [
        "#### Creacion y evaluacion de modelos"
      ],
      "metadata": {
        "id": "-VOnVMDcgzZa"
      }
    },
    {
      "cell_type": "code",
      "source": [
        "# Definicion del metodo que creara cierto modelo con el numero de cluster optimo y a su vez\n",
        "# determinara el coeficiente de shilloutte obtenido con ese modelo.\n",
        "def crearEvaluarModelo(df, numerClusters, nombreModelo):\n",
        "  # Creacion del modelo con cierta cantidad de clusters\n",
        "  algoritmoKmeans = KMeans(n_clusters = numerClusters, n_init=10, init = 'k-means++', max_iter = 100, random_state = 0)\n",
        "  algoritmoKmeans.fit(df)\n",
        "  grupos = algoritmoKmeans.fit_predict(df)\n",
        "\n",
        "  # Obtener el coeficiente de shilloutte\n",
        "  coef = metrics.silhouette_score(df, grupos)\n",
        "\n",
        "  # Imprimir los resultados\n",
        "  print(grupos)\n",
        "  print(f'El coeficiente de shilloute para el modelo de {nombreModelo} es: {coef}')\n",
        "  serie = pd.Series(grupos)\n",
        "  df = pd.DataFrame({nombreModelo: serie})\n",
        "  return df"
      ],
      "metadata": {
        "id": "bSm9ScnOg-SR"
      },
      "execution_count": null,
      "outputs": []
    },
    {
      "cell_type": "code",
      "source": [
        "# Aplicar el metodo que creara el modelo a la matriz de datos de estados con educaciones con cierta\n",
        "# cantidad de clusters.\n",
        "gruposEducaciones = crearEvaluarModelo(dfEstadosEducaciones, 6, 'Educacion')"
      ],
      "metadata": {
        "id": "FUgtOvjJpLkN"
      },
      "execution_count": null,
      "outputs": []
    },
    {
      "cell_type": "code",
      "source": [
        "# Aplicar el metodo que creara el modelo a la matriz de datos de estados con empleos con cierta\n",
        "# cantidad de clusters.\n",
        "gruposEmpleos = crearEvaluarModelo(dfEstadosEmpleos, 5, 'Empleo')"
      ],
      "metadata": {
        "id": "tdhbtYFB1fvm"
      },
      "execution_count": null,
      "outputs": []
    },
    {
      "cell_type": "code",
      "source": [
        "# Aplicar el metodo que creara el modelo a la matriz de datos de estados con tipos de cancer con cierta\n",
        "# cantidad de clusters.\n",
        "gruposCanceres = crearEvaluarModelo(dfEstadosCanceres, 5, 'Cancer')"
      ],
      "metadata": {
        "id": "EM256Esm1gP-"
      },
      "execution_count": null,
      "outputs": []
    },
    {
      "cell_type": "markdown",
      "source": [
        "### Guardar Resultados"
      ],
      "metadata": {
        "id": "h2FkhYr_gz9J"
      }
    },
    {
      "cell_type": "code",
      "source": [
        "modelosResultados = '/content/drive/MyDrive/Pt2/Primeras Actividades/0 Bases de Datos/Modelos Resultados/'\n",
        "\n",
        "dfEstados.to_csv(modelosResultados + 'df.csv', index=False)\n",
        "gruposEducaciones.to_csv(modelosResultados + 'gruposEducaciones.csv', index=False)\n",
        "gruposEmpleos.to_csv(modelosResultados + 'gruposEmpleos.csv', index=False)\n",
        "gruposCanceres.to_csv(modelosResultados + 'gruposCanceres.csv', index=False)"
      ],
      "metadata": {
        "id": "eRC8GbwHiumm"
      },
      "execution_count": null,
      "outputs": []
    }
  ]
}