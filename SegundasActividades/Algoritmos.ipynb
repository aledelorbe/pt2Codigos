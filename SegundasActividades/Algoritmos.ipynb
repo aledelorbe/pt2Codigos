{
  "nbformat": 4,
  "nbformat_minor": 0,
  "metadata": {
    "colab": {
      "provenance": [],
      "mount_file_id": "1XOhgc7wNeEVx1uS_8S2zYr_L-vO5YwhZ",
      "authorship_tag": "ABX9TyNykPo0SPSWHC643Zvn06iJ",
      "include_colab_link": true
    },
    "kernelspec": {
      "name": "python3",
      "display_name": "Python 3"
    },
    "language_info": {
      "name": "python"
    }
  },
  "cells": [
    {
      "cell_type": "markdown",
      "metadata": {
        "id": "view-in-github",
        "colab_type": "text"
      },
      "source": [
        "<a href=\"https://colab.research.google.com/github/aledelorbe/pt2Codigos/blob/main/SegundasActividades/Algoritmos.ipynb\" target=\"_parent\"><img src=\"https://colab.research.google.com/assets/colab-badge.svg\" alt=\"Open In Colab\"/></a>"
      ]
    },
    {
      "cell_type": "markdown",
      "source": [
        "### Cargar librerias"
      ],
      "metadata": {
        "id": "TfLRvAuPFeqe"
      }
    },
    {
      "cell_type": "code",
      "source": [
        "import pandas as pd\n",
        "import matplotlib.pyplot as plt\n",
        "from sklearn.compose import ColumnTransformer\n",
        "from sklearn.preprocessing import OneHotEncoder\n",
        "from sklearn.preprocessing import OrdinalEncoder\n",
        "import numpy as np\n",
        "from sklearn.cluster import KMeans"
      ],
      "metadata": {
        "id": "AO4KKD9XEpzI"
      },
      "execution_count": 6,
      "outputs": []
    },
    {
      "cell_type": "markdown",
      "source": [
        "### Cargar los dataFrame"
      ],
      "metadata": {
        "id": "r7EfovT3UImO"
      }
    },
    {
      "cell_type": "code",
      "source": [
        "nuevaMortalidadLimpia = '/content/drive/MyDrive/Pt2/Primeras Actividades/0 Bases de Datos/Nueva Mortalidad Limpia/'\n",
        "\n",
        "df2010 = pd.read_csv(nuevaMortalidadLimpia + '2010.csv')\n",
        "df2011 = pd.read_csv(nuevaMortalidadLimpia + '2011.csv')\n",
        "df2012 = pd.read_csv(nuevaMortalidadLimpia + '2012.csv')\n",
        "df2013 = pd.read_csv(nuevaMortalidadLimpia + '2013.csv')\n",
        "df2014 = pd.read_csv(nuevaMortalidadLimpia + '2014.csv')\n",
        "df2015 = pd.read_csv(nuevaMortalidadLimpia + '2015.csv')\n",
        "df2016 = pd.read_csv(nuevaMortalidadLimpia + '2016.csv')\n",
        "df2017 = pd.read_csv(nuevaMortalidadLimpia + '2017.csv')\n",
        "df2018 = pd.read_csv(nuevaMortalidadLimpia + '2018.csv')\n",
        "df2019 = pd.read_csv(nuevaMortalidadLimpia + '2019.csv')"
      ],
      "metadata": {
        "id": "y1JW32OLUImP"
      },
      "execution_count": 7,
      "outputs": []
    },
    {
      "cell_type": "markdown",
      "source": [
        "### Unir todos los fragmentos"
      ],
      "metadata": {
        "id": "G84wwQTELXxl"
      }
    },
    {
      "cell_type": "code",
      "source": [
        "dfDefinitivo = pd.concat([df2010, df2011, df2012, df2013, df2014, df2015, df2016, df2017, df2018, df2019], ignore_index=True)"
      ],
      "metadata": {
        "id": "nNIfr2c5LbJ2"
      },
      "execution_count": 8,
      "outputs": []
    },
    {
      "cell_type": "markdown",
      "source": [
        "### Determinacion de valores distintos en cada columna"
      ],
      "metadata": {
        "id": "lVAEmiRcOsMq"
      }
    },
    {
      "cell_type": "code",
      "source": [
        "# Definicion de la funcion que imprimira los valores distintos de determinada columna en orden alfabetico\n",
        "def imprimirValoresDistintos(df20xx, nombreColumna):\n",
        "  titulo = f\"Columna {nombreColumna}\".center(100, '-')\n",
        "  valoresDistintos = list(df2010[nombreColumna].unique())\n",
        "  valoresDistintos.sort()\n",
        "  print(titulo)\n",
        "  print(valoresDistintos)\n",
        "  print(f'Cantidad de elementos: {len(valoresDistintos)}')\n",
        "\n",
        "  return valoresDistintos\n",
        "\n",
        "estados = imprimirValoresDistintos(dfDefinitivo, 'ent_resid_nm')\n",
        "canceres = imprimirValoresDistintos(dfDefinitivo, 'Organ')\n",
        "trabajos = imprimirValoresDistintos(dfDefinitivo, 'desc_ocupacion')"
      ],
      "metadata": {
        "colab": {
          "base_uri": "https://localhost:8080/"
        },
        "id": "cT-LMWjUOxvI",
        "outputId": "c998d842-6238-4589-c2d5-964f0bca1373"
      },
      "execution_count": 9,
      "outputs": [
        {
          "output_type": "stream",
          "name": "stdout",
          "text": [
            "----------------------------------------Columna ent_resid_nm----------------------------------------\n",
            "['Aguascalientes', 'Baja California', 'Baja California Sur', 'Campeche', 'Chiapas', 'Chihuahua', 'Coahuila de Zaragoza', 'Colima', 'Distrito Federal', 'Durango', 'Guanajuato', 'Guerrero', 'Hidalgo', 'Jalisco', 'Michoacán de Ocampo', 'Morelos', 'México', 'Nayarit', 'Nuevo León', 'Oaxaca', 'Puebla', 'Querétaro', 'Quintana Roo', 'San Luis Potosí', 'Sinaloa', 'Sonora', 'Tabasco', 'Tamaulipas', 'Tlaxcala', 'Veracruz de Ignacio de la Llave', 'Yucatán', 'Zacatecas']\n",
            "Cantidad de elementos: 32\n",
            "-------------------------------------------Columna Organ--------------------------------------------\n",
            "['Bladder', 'Bone', 'Brain', 'Breast', 'Cervix Uteri', 'Colon and Rectum', 'Esophagus', 'Eyes', 'Female Genitals', 'Gallbladder', 'Heart', \"Hodgkin's Lymphoma\", 'Kidney', 'Larynx', 'Leukemia', 'Liver ', 'Lungs', 'Lymphoma', 'Male Genitales', 'Melanoma', 'Mesothelioma', 'Mylenoma', 'Nervous', 'Oral Cavity and Pharynx', 'Outter Respiratory', 'Ovary', 'Pancreas', 'Prostate', 'Skin non Melanoma ', 'Soft Tissue', 'Stomach', 'Testis', 'Thyroid', 'Trachea', 'Ureter', 'Urinary Tract Other']\n",
            "Cantidad de elementos: 36\n",
            "---------------------------------------Columna desc_ocupacion---------------------------------------\n",
            "['Comerciantes, empleados en ventas y agentes de ventas', 'Funcionarios, directores y jefes', 'Insuficientemente especificada', 'No aplica a menores de 5 años', 'No especificada', 'No trabaja', 'Operadores de maquinaria industrial, ensambladores, choferes y conductores de transporte', 'Profesionistas y técnicos', 'Trabajadores artesanales', 'Trabajadores auxiliares en actividades administrativas', 'Trabajadores en actividades agrícolas, ganaderas, forestales, caza y pesca', 'Trabajadores en actividades elementales y de apoyo', 'Trabajadores en servicios personales y vigilancia']\n",
            "Cantidad de elementos: 13\n"
          ]
        }
      ]
    },
    {
      "cell_type": "code",
      "source": [
        "# Para este caso se hace distinto ya que se desea crear una jerarquia (de menor a mayor jerarquia)\n",
        "nivelesEscolares = [\n",
        "    'No especificada ',\n",
        "    'No aplica a menores de 3 años',\n",
        "    'Sin escolaridad',\n",
        "    'Preescolar',\n",
        "    'Primaria completa',\n",
        "    'Secundaria incompleta',\n",
        "    'Secundaria completa',\n",
        "    'Bachillerato o preparatoria',\n",
        "    'Profesional',\n",
        "    'Posgrado',\n",
        "]"
      ],
      "metadata": {
        "id": "MyoiQj3OHWKb"
      },
      "execution_count": 10,
      "outputs": []
    },
    {
      "cell_type": "code",
      "source": [
        "# Para contar cuantas personas hay con cada tipo de cancer en cierto estado\n",
        "# contemplando que puede haber 0 personas con cierto tipo de cancer en cierto estado\n",
        "def contadorFrecuencias(df, estado, variable, catalogoX):\n",
        "  result = None\n",
        "  for elemento in catalogoX:\n",
        "    condicionX = (df['ent_resid_nm'] == estado) & (df[variable] == elemento)\n",
        "    resultAux = df[condicionX].groupby(variable).size().reset_index(name='Frecuencia')\n",
        "\n",
        "    if len(resultAux) == 0:\n",
        "      dfAux = pd.DataFrame({variable: [elemento], 'Frecuencia': [0]})\n",
        "      result = pd.concat([result, resultAux, dfAux], ignore_index=True)\n",
        "    else:\n",
        "      result = pd.concat([result, resultAux], ignore_index=True)\n",
        "  print(result)\n",
        "\n",
        "  return result\n",
        "\n",
        "# Realizar una especie de transpuesta para pasar de tener filas asi: 'tipoCancer1', 'frecuencia1'; tipoCancer2', 'frecuencia2';\n",
        "# tener columnas asi: 'tipoCancer1', 'frecuencia1', tipoCancer2', 'frecuencia2',\n",
        "def transpuesta(df, variable):\n",
        "  dfTranspuesta = pd.DataFrame({\"vacio\": [0]})\n",
        "  for index, row in df.iterrows():\n",
        "    dfTranspuesta[variable + str(index)] = row[variable]\n",
        "    dfTranspuesta['cant' + str(index)] = row[\"Frecuencia\"]\n",
        "  dfTranspuesta = dfTranspuesta.drop(['vacio'], axis=1)\n",
        "  print(dfTranspuesta)\n",
        "\n",
        "  return dfTranspuesta\n",
        "\n",
        "# Para unir dos dataframe (uno a lado del otro).\n",
        "def unirDataframes(df1, df2):\n",
        "    # Crear columnas 'id' en ambos dataframes\n",
        "    df1['id1'] = 1\n",
        "    df2['id2'] = 1\n",
        "\n",
        "    # Realizar union y eliminar las columnas 'id' de ambos dataframes\n",
        "    df_union = pd.merge(df1, df2, left_on='id1', right_on='id2')\n",
        "    df_union = df_union.drop(['id1', 'id2'], axis=1)\n",
        "\n",
        "    return df_union\n",
        "\n",
        "def asociador(estado, canceres, trabajos, nivelesEscolares):\n",
        "  titulo = f\"Estado {estado}\".center(100, '-')\n",
        "  print(titulo)\n",
        "\n",
        "  dfEstadoX = pd.DataFrame({'estado': [estado]})\n",
        "\n",
        "  # Asociar los tipos de canceres al estadoX\n",
        "  dfFrec = contadorFrecuencias(dfDefinitivo, estado, 'Organ', canceres)\n",
        "  dfCancer = transpuesta(dfFrec, 'Organ')\n",
        "\n",
        "  # Asociar los diferentes trabajos al estadoX\n",
        "  dfFrec = contadorFrecuencias(dfDefinitivo, estado, 'desc_ocupacion', trabajos)\n",
        "  dfTrabajo = transpuesta(dfFrec, 'desc_ocupacion')\n",
        "\n",
        "  # Asociar los diferentes niveles academicos al estadoX\n",
        "  dfFrec = contadorFrecuencias(dfDefinitivo, estado, 'desc_escolaridad', nivelesEscolares)\n",
        "  dfEducacion = transpuesta(dfFrec, 'desc_escolaridad')\n",
        "\n",
        "  # Aqui hace falta unir los df's: cancer, trabajo y educacion\n",
        "  #dfEstadoX = unirDataframes(dfEstadoX, dfCancer)\n",
        "\n",
        "\n",
        "\n",
        "#estadosCancer = []\n",
        "#for estado in estados:\n",
        " # asociador(estado, 'Organ')\n",
        "\n",
        "asociador('Aguascalientes', canceres, trabajos, nivelesEscolares)\n"
      ],
      "metadata": {
        "colab": {
          "base_uri": "https://localhost:8080/"
        },
        "id": "8vvbbme_lKop",
        "outputId": "76d2a52e-9844-4135-ef51-563694b904fc"
      },
      "execution_count": 11,
      "outputs": [
        {
          "output_type": "stream",
          "name": "stdout",
          "text": [
            "---------------------------------------Estado Aguascalientes----------------------------------------\n",
            "                      Organ  Frecuencia\n",
            "0                   Bladder         123\n",
            "1                      Bone         130\n",
            "2                     Brain         276\n",
            "3                    Breast         710\n",
            "4              Cervix Uteri         410\n",
            "5          Colon and Rectum         564\n",
            "6                 Esophagus          97\n",
            "7                      Eyes           7\n",
            "8           Female Genitals          16\n",
            "9               Gallbladder         250\n",
            "10                    Heart           2\n",
            "11       Hodgkin's Lymphoma          51\n",
            "12                   Kidney         219\n",
            "13                   Larynx          61\n",
            "14                 Leukemia         473\n",
            "15                   Liver          366\n",
            "16                    Lungs         865\n",
            "17                 Lymphoma         303\n",
            "18           Male Genitales          14\n",
            "19                 Melanoma          75\n",
            "20             Mesothelioma          23\n",
            "21                 Mylenoma          97\n",
            "22                  Nervous           8\n",
            "23  Oral Cavity and Pharynx          97\n",
            "24       Outter Respiratory           3\n",
            "25                    Ovary         243\n",
            "26                 Pancreas         681\n",
            "27                 Prostate         640\n",
            "28       Skin non Melanoma          151\n",
            "29              Soft Tissue         130\n",
            "30                  Stomach         414\n",
            "31                   Testis          52\n",
            "32                  Thyroid          83\n",
            "33                  Trachea           2\n",
            "34                   Ureter           4\n",
            "35      Urinary Tract Other           4\n",
            "    Organ0  cant0 Organ1  cant1 Organ2  cant2  Organ3  cant3        Organ4  \\\n",
            "0  Bladder    123   Bone    130  Brain    276  Breast    710  Cervix Uteri   \n",
            "\n",
            "   cant4  ... Organ31  cant31  Organ32  cant32  Organ33  cant33 Organ34  \\\n",
            "0    410  ...  Testis      52  Thyroid      83  Trachea       2  Ureter   \n",
            "\n",
            "   cant34              Organ35  cant35  \n",
            "0       4  Urinary Tract Other       4  \n",
            "\n",
            "[1 rows x 72 columns]\n",
            "                                       desc_ocupacion  Frecuencia\n",
            "0   Comerciantes, empleados en ventas y agentes de...         457\n",
            "1                    Funcionarios, directores y jefes          43\n",
            "2                      Insuficientemente especificada         303\n",
            "3                       No aplica a menores de 5 años          78\n",
            "4                                     No especificada          68\n",
            "5                                          No trabaja        4468\n",
            "6   Operadores de maquinaria industrial, ensamblad...         287\n",
            "7                           Profesionistas y técnicos         551\n",
            "8                            Trabajadores artesanales         333\n",
            "9   Trabajadores auxiliares en actividades adminis...         189\n",
            "10  Trabajadores en actividades agrícolas, ganader...         541\n",
            "11  Trabajadores en actividades elementales y de a...         219\n",
            "12  Trabajadores en servicios personales y vigilancia         106\n",
            "                                     desc_ocupacion0  cant0  \\\n",
            "0  Comerciantes, empleados en ventas y agentes de...    457   \n",
            "\n",
            "                    desc_ocupacion1  cant1                 desc_ocupacion2  \\\n",
            "0  Funcionarios, directores y jefes     43  Insuficientemente especificada   \n",
            "\n",
            "   cant2                desc_ocupacion3  cant3  desc_ocupacion4  cant4  ...  \\\n",
            "0    303  No aplica a menores de 5 años     78  No especificada     68  ...   \n",
            "\n",
            "            desc_ocupacion8  cant8  \\\n",
            "0  Trabajadores artesanales    333   \n",
            "\n",
            "                                     desc_ocupacion9  cant9  \\\n",
            "0  Trabajadores auxiliares en actividades adminis...    189   \n",
            "\n",
            "                                    desc_ocupacion10  cant10  \\\n",
            "0  Trabajadores en actividades agrícolas, ganader...     541   \n",
            "\n",
            "                                    desc_ocupacion11  cant11  \\\n",
            "0  Trabajadores en actividades elementales y de a...     219   \n",
            "\n",
            "                                    desc_ocupacion12  cant12  \n",
            "0  Trabajadores en servicios personales y vigilancia     106  \n",
            "\n",
            "[1 rows x 26 columns]\n",
            "                desc_escolaridad  Frecuencia\n",
            "0               No especificada          247\n",
            "1  No aplica a menores de 3 años          39\n",
            "2                Sin escolaridad         767\n",
            "3                     Preescolar        1835\n",
            "4              Primaria completa        1942\n",
            "5          Secundaria incompleta         166\n",
            "6            Secundaria completa         993\n",
            "7    Bachillerato o preparatoria         671\n",
            "8                    Profesional         902\n",
            "9                       Posgrado          82\n",
            "  desc_escolaridad0  cant0              desc_escolaridad1  cant1  \\\n",
            "0  No especificada     247  No aplica a menores de 3 años     39   \n",
            "\n",
            "  desc_escolaridad2  cant2 desc_escolaridad3  cant3  desc_escolaridad4  cant4  \\\n",
            "0   Sin escolaridad    767        Preescolar   1835  Primaria completa   1942   \n",
            "\n",
            "       desc_escolaridad5  cant5    desc_escolaridad6  cant6  \\\n",
            "0  Secundaria incompleta    166  Secundaria completa    993   \n",
            "\n",
            "             desc_escolaridad7  cant7 desc_escolaridad8  cant8  \\\n",
            "0  Bachillerato o preparatoria    671       Profesional    902   \n",
            "\n",
            "  desc_escolaridad9  cant9  \n",
            "0          Posgrado     82  \n"
          ]
        }
      ]
    },
    {
      "cell_type": "markdown",
      "source": [
        "\n",
        "\n",
        "### Transformaciones"
      ],
      "metadata": {
        "id": "IYraN5eQ3GDU"
      }
    },
    {
      "cell_type": "markdown",
      "source": [
        "#### Educación"
      ],
      "metadata": {
        "id": "Gax5eDsMF14l"
      }
    },
    {
      "cell_type": "code",
      "source": [
        "# Definicion de la funcion que codificara a la variable 'desc_escolaridad'\n",
        "def codificadorOrdinalEducacion(df20xx, nombreDf, educaciones):\n",
        "  print(df20xx)\n",
        "\n",
        "  # Crear cada elemento de 'educaciones' como una columna y rellenarla con puros 0's\n",
        "  for elemento in educaciones:\n",
        "    df20xx[elemento] = 0\n",
        "\n",
        "  # Hacer que: si un registro tiene cierta categoria, todas las categorias de menor jerarquia a esa, se les coloque\n",
        "  # un uno. Pe si un registro tiene la categoria primaria completa a esa columna colocarle un uno, pero tambien\n",
        "  # en 'preescolar', en 'No aplica a menores de 3 años' y en 'No especificada ' ó si una persona tiene el valor de\n",
        "  # posgrado tendra un uno en esa columna y en todas las demas (porque es el de mayor jerarquia).\n",
        "  condicion1 = (df20xx['desc_escolaridad'] == 'No especificada ')\n",
        "  df20xx.loc[condicion1, educaciones[0]] = 1\n",
        "\n",
        "  condicion2 = (df20xx['desc_escolaridad'] == 'No aplica a menores de 3 años')\n",
        "  df20xx.loc[condicion2, educaciones[0:2]] = 1\n",
        "\n",
        "  condicion3 = (df20xx['desc_escolaridad'] == 'Sin escolaridad')\n",
        "  df20xx.loc[condicion3, educaciones[0:3]] = 1\n",
        "\n",
        "  condicion4 = (df20xx['desc_escolaridad'] == 'Preescolar')\n",
        "  df20xx.loc[condicion4, educaciones[0:4]] = 1\n",
        "\n",
        "  condicion5 = (df20xx['desc_escolaridad'] == 'Primaria completa')\n",
        "  df20xx.loc[condicion5, educaciones[0:5]] = 1\n",
        "\n",
        "  condicion6 = (df20xx['desc_escolaridad'] == 'Secundaria incompleta')\n",
        "  df20xx.loc[condicion6, educaciones[0:6]] = 1\n",
        "\n",
        "  condicion7 = (df20xx['desc_escolaridad'] == 'Secundaria completa')\n",
        "  df20xx.loc[condicion7, educaciones[0:7]] = 1\n",
        "\n",
        "  condicion8 = (df20xx['desc_escolaridad'] == 'Bachillerato o preparatoria')\n",
        "  df20xx.loc[condicion8, educaciones[0:8]] = 1\n",
        "\n",
        "  condicion9 = (df20xx['desc_escolaridad'] == 'Profesional')\n",
        "  df20xx.loc[condicion9, educaciones[0:9]] = 1\n",
        "\n",
        "  condicion10 = (df20xx['desc_escolaridad'] == 'Posgrado')\n",
        "  df20xx.loc[condicion10, educaciones[0:10]] = 1\n",
        "\n",
        "  # Imprimir resultado\n",
        "  titulo = f\"DataFrame {nombreDf}\".center(100, '-')\n",
        "  print(titulo)\n",
        "  print(df20xx.to_string())\n",
        "\n",
        "  return df20xx\n",
        "\n",
        "# Crear df con los niveles escolares\n",
        "dfEducacionSinCod = pd.DataFrame({'desc_escolaridad': nivelesEscolares})\n",
        "\n",
        "# Mandar a llamar a la funcion dumizadora de la variable 'escolaridad'\n",
        "dfEducacionCod = codificadorOrdinalEducacion(dfEducacionSinCod, 'Niveles escolares codificados', nivelesEscolares)"
      ],
      "metadata": {
        "id": "VvniJgjBGlsk",
        "colab": {
          "base_uri": "https://localhost:8080/"
        },
        "outputId": "832512bb-799b-4a5b-b199-bc73ca9cc402"
      },
      "execution_count": 18,
      "outputs": [
        {
          "output_type": "stream",
          "name": "stdout",
          "text": [
            "                desc_escolaridad\n",
            "0               No especificada \n",
            "1  No aplica a menores de 3 años\n",
            "2                Sin escolaridad\n",
            "3                     Preescolar\n",
            "4              Primaria completa\n",
            "5          Secundaria incompleta\n",
            "6            Secundaria completa\n",
            "7    Bachillerato o preparatoria\n",
            "8                    Profesional\n",
            "9                       Posgrado\n",
            "------------------------------DataFrame Niveles escolares codificados-------------------------------\n",
            "                desc_escolaridad  No especificada   No aplica a menores de 3 años  Sin escolaridad  Preescolar  Primaria completa  Secundaria incompleta  Secundaria completa  Bachillerato o preparatoria  Profesional  Posgrado\n",
            "0               No especificada                  1                              0                0           0                  0                      0                    0                            0            0         0\n",
            "1  No aplica a menores de 3 años                 1                              1                0           0                  0                      0                    0                            0            0         0\n",
            "2                Sin escolaridad                 1                              1                1           0                  0                      0                    0                            0            0         0\n",
            "3                     Preescolar                 1                              1                1           1                  0                      0                    0                            0            0         0\n",
            "4              Primaria completa                 1                              1                1           1                  1                      0                    0                            0            0         0\n",
            "5          Secundaria incompleta                 1                              1                1           1                  1                      1                    0                            0            0         0\n",
            "6            Secundaria completa                 1                              1                1           1                  1                      1                    1                            0            0         0\n",
            "7    Bachillerato o preparatoria                 1                              1                1           1                  1                      1                    1                            1            0         0\n",
            "8                    Profesional                 1                              1                1           1                  1                      1                    1                            1            1         0\n",
            "9                       Posgrado                 1                              1                1           1                  1                      1                    1                            1            1         1\n"
          ]
        }
      ]
    },
    {
      "cell_type": "markdown",
      "source": [
        "#### Empleo"
      ],
      "metadata": {
        "id": "XMOoaUS1Zs4A"
      }
    },
    {
      "cell_type": "code",
      "source": [
        "# Definicion de la funcion que dumizara distintas variables en cada fragmento\n",
        "def duminizador(df20xx, nombreDf, nombreVariable):\n",
        "  print(df20xx)\n",
        "\n",
        "  # Dumizar variable\n",
        "  dummies = pd.get_dummies(df20xx[nombreVariable], drop_first = True)\n",
        "  # drop_first = True -> es para que nos agregue solo k-1 categorias distintas y no se agregue la categoria k la cual solo provoca redundancia\n",
        "  df20xx = pd.concat([df20xx, dummies], axis = 1) # Añadimos las variables binarias al DataFrame\n",
        "\n",
        "  # Solicitud de las categorias que se encuentran en la variable: 'desc_ocupacion'\n",
        "  nombresCategoriasX = dummies.columns.tolist()\n",
        "\n",
        "  # Imprimir resultado\n",
        "  titulo = f\"DataFrame {nombreDf}\".center(100, '-')\n",
        "  print(titulo)\n",
        "  print(df20xx.to_string())\n",
        "\n",
        "  return df20xx\n",
        "\n",
        "# Crear df con los tipos de trabajo\n",
        "dfTrabajosSinCod = pd.DataFrame({'desc_ocupacion': trabajos})\n",
        "\n",
        "# Mandar a llamar a la funcion dumizadora de la variable 'trabajos'\n",
        "dfTrabajosCod = duminizador(dfTrabajosSinCod, 'Trabajos codificados', 'desc_ocupacion')"
      ],
      "metadata": {
        "colab": {
          "base_uri": "https://localhost:8080/"
        },
        "id": "p1LNz5L_Rpef",
        "outputId": "d8418b61-709f-41fe-ac64-0002ced7473c"
      },
      "execution_count": 21,
      "outputs": [
        {
          "output_type": "stream",
          "name": "stdout",
          "text": [
            "                                       desc_ocupacion\n",
            "0   Comerciantes, empleados en ventas y agentes de...\n",
            "1                    Funcionarios, directores y jefes\n",
            "2                      Insuficientemente especificada\n",
            "3                       No aplica a menores de 5 años\n",
            "4                                     No especificada\n",
            "5                                          No trabaja\n",
            "6   Operadores de maquinaria industrial, ensamblad...\n",
            "7                           Profesionistas y técnicos\n",
            "8                            Trabajadores artesanales\n",
            "9   Trabajadores auxiliares en actividades adminis...\n",
            "10  Trabajadores en actividades agrícolas, ganader...\n",
            "11  Trabajadores en actividades elementales y de a...\n",
            "12  Trabajadores en servicios personales y vigilancia\n",
            "-----------------------------------DataFrame Trabajos codificados-----------------------------------\n",
            "                                                                              desc_ocupacion  Funcionarios, directores y jefes  Insuficientemente especificada  No aplica a menores de 5 años  No especificada  No trabaja  Operadores de maquinaria industrial, ensambladores, choferes y conductores de transporte  Profesionistas y técnicos  Trabajadores artesanales  Trabajadores auxiliares en actividades administrativas  Trabajadores en actividades agrícolas, ganaderas, forestales, caza y pesca  Trabajadores en actividades elementales y de apoyo  Trabajadores en servicios personales y vigilancia\n",
            "0                                      Comerciantes, empleados en ventas y agentes de ventas                                 0                               0                              0                0           0                                                                                         0                          0                         0                                                       0                                                                           0                                                   0                                                  0\n",
            "1                                                           Funcionarios, directores y jefes                                 1                               0                              0                0           0                                                                                         0                          0                         0                                                       0                                                                           0                                                   0                                                  0\n",
            "2                                                             Insuficientemente especificada                                 0                               1                              0                0           0                                                                                         0                          0                         0                                                       0                                                                           0                                                   0                                                  0\n",
            "3                                                              No aplica a menores de 5 años                                 0                               0                              1                0           0                                                                                         0                          0                         0                                                       0                                                                           0                                                   0                                                  0\n",
            "4                                                                            No especificada                                 0                               0                              0                1           0                                                                                         0                          0                         0                                                       0                                                                           0                                                   0                                                  0\n",
            "5                                                                                 No trabaja                                 0                               0                              0                0           1                                                                                         0                          0                         0                                                       0                                                                           0                                                   0                                                  0\n",
            "6   Operadores de maquinaria industrial, ensambladores, choferes y conductores de transporte                                 0                               0                              0                0           0                                                                                         1                          0                         0                                                       0                                                                           0                                                   0                                                  0\n",
            "7                                                                  Profesionistas y técnicos                                 0                               0                              0                0           0                                                                                         0                          1                         0                                                       0                                                                           0                                                   0                                                  0\n",
            "8                                                                   Trabajadores artesanales                                 0                               0                              0                0           0                                                                                         0                          0                         1                                                       0                                                                           0                                                   0                                                  0\n",
            "9                                     Trabajadores auxiliares en actividades administrativas                                 0                               0                              0                0           0                                                                                         0                          0                         0                                                       1                                                                           0                                                   0                                                  0\n",
            "10                Trabajadores en actividades agrícolas, ganaderas, forestales, caza y pesca                                 0                               0                              0                0           0                                                                                         0                          0                         0                                                       0                                                                           1                                                   0                                                  0\n",
            "11                                        Trabajadores en actividades elementales y de apoyo                                 0                               0                              0                0           0                                                                                         0                          0                         0                                                       0                                                                           0                                                   1                                                  0\n",
            "12                                         Trabajadores en servicios personales y vigilancia                                 0                               0                              0                0           0                                                                                         0                          0                         0                                                       0                                                                           0                                                   0                                                  1\n"
          ]
        }
      ]
    },
    {
      "cell_type": "markdown",
      "source": [
        "#### Cancer"
      ],
      "metadata": {
        "id": "5Wi0oLUCZvZA"
      }
    },
    {
      "cell_type": "code",
      "source": [
        "# Crear df con los tipos de cancer\n",
        "dfCanceresSinCod = pd.DataFrame({'Organ': canceres})\n",
        "\n",
        "# Mandar a llamar a la funcion dumizadora de la variable 'trabajos'\n",
        "dfCanceresCod = duminizador(dfCanceresSinCod, 'Canceres codificados', 'Organ')"
      ],
      "metadata": {
        "id": "_Ip5N8RfZ2ci",
        "colab": {
          "base_uri": "https://localhost:8080/"
        },
        "outputId": "cc2e3e42-8746-4164-c240-611219e10e69"
      },
      "execution_count": 23,
      "outputs": [
        {
          "output_type": "stream",
          "name": "stdout",
          "text": [
            "                      Organ\n",
            "0                   Bladder\n",
            "1                      Bone\n",
            "2                     Brain\n",
            "3                    Breast\n",
            "4              Cervix Uteri\n",
            "5          Colon and Rectum\n",
            "6                 Esophagus\n",
            "7                      Eyes\n",
            "8           Female Genitals\n",
            "9               Gallbladder\n",
            "10                    Heart\n",
            "11       Hodgkin's Lymphoma\n",
            "12                   Kidney\n",
            "13                   Larynx\n",
            "14                 Leukemia\n",
            "15                   Liver \n",
            "16                    Lungs\n",
            "17                 Lymphoma\n",
            "18           Male Genitales\n",
            "19                 Melanoma\n",
            "20             Mesothelioma\n",
            "21                 Mylenoma\n",
            "22                  Nervous\n",
            "23  Oral Cavity and Pharynx\n",
            "24       Outter Respiratory\n",
            "25                    Ovary\n",
            "26                 Pancreas\n",
            "27                 Prostate\n",
            "28       Skin non Melanoma \n",
            "29              Soft Tissue\n",
            "30                  Stomach\n",
            "31                   Testis\n",
            "32                  Thyroid\n",
            "33                  Trachea\n",
            "34                   Ureter\n",
            "35      Urinary Tract Other\n",
            "-----------------------------------DataFrame Canceres codificados-----------------------------------\n",
            "                      Organ  Bone  Brain  Breast  Cervix Uteri  Colon and Rectum  Esophagus  Eyes  Female Genitals  Gallbladder  Heart  Hodgkin's Lymphoma  Kidney  Larynx  Leukemia  Liver   Lungs  Lymphoma  Male Genitales  Melanoma  Mesothelioma  Mylenoma  Nervous  Oral Cavity and Pharynx  Outter Respiratory  Ovary  Pancreas  Prostate  Skin non Melanoma   Soft Tissue  Stomach  Testis  Thyroid  Trachea  Ureter  Urinary Tract Other\n",
            "0                   Bladder     0      0       0             0                 0          0     0                0            0      0                   0       0       0         0       0      0         0               0         0             0         0        0                        0                   0      0         0         0                   0            0        0       0        0        0       0                    0\n",
            "1                      Bone     1      0       0             0                 0          0     0                0            0      0                   0       0       0         0       0      0         0               0         0             0         0        0                        0                   0      0         0         0                   0            0        0       0        0        0       0                    0\n",
            "2                     Brain     0      1       0             0                 0          0     0                0            0      0                   0       0       0         0       0      0         0               0         0             0         0        0                        0                   0      0         0         0                   0            0        0       0        0        0       0                    0\n",
            "3                    Breast     0      0       1             0                 0          0     0                0            0      0                   0       0       0         0       0      0         0               0         0             0         0        0                        0                   0      0         0         0                   0            0        0       0        0        0       0                    0\n",
            "4              Cervix Uteri     0      0       0             1                 0          0     0                0            0      0                   0       0       0         0       0      0         0               0         0             0         0        0                        0                   0      0         0         0                   0            0        0       0        0        0       0                    0\n",
            "5          Colon and Rectum     0      0       0             0                 1          0     0                0            0      0                   0       0       0         0       0      0         0               0         0             0         0        0                        0                   0      0         0         0                   0            0        0       0        0        0       0                    0\n",
            "6                 Esophagus     0      0       0             0                 0          1     0                0            0      0                   0       0       0         0       0      0         0               0         0             0         0        0                        0                   0      0         0         0                   0            0        0       0        0        0       0                    0\n",
            "7                      Eyes     0      0       0             0                 0          0     1                0            0      0                   0       0       0         0       0      0         0               0         0             0         0        0                        0                   0      0         0         0                   0            0        0       0        0        0       0                    0\n",
            "8           Female Genitals     0      0       0             0                 0          0     0                1            0      0                   0       0       0         0       0      0         0               0         0             0         0        0                        0                   0      0         0         0                   0            0        0       0        0        0       0                    0\n",
            "9               Gallbladder     0      0       0             0                 0          0     0                0            1      0                   0       0       0         0       0      0         0               0         0             0         0        0                        0                   0      0         0         0                   0            0        0       0        0        0       0                    0\n",
            "10                    Heart     0      0       0             0                 0          0     0                0            0      1                   0       0       0         0       0      0         0               0         0             0         0        0                        0                   0      0         0         0                   0            0        0       0        0        0       0                    0\n",
            "11       Hodgkin's Lymphoma     0      0       0             0                 0          0     0                0            0      0                   1       0       0         0       0      0         0               0         0             0         0        0                        0                   0      0         0         0                   0            0        0       0        0        0       0                    0\n",
            "12                   Kidney     0      0       0             0                 0          0     0                0            0      0                   0       1       0         0       0      0         0               0         0             0         0        0                        0                   0      0         0         0                   0            0        0       0        0        0       0                    0\n",
            "13                   Larynx     0      0       0             0                 0          0     0                0            0      0                   0       0       1         0       0      0         0               0         0             0         0        0                        0                   0      0         0         0                   0            0        0       0        0        0       0                    0\n",
            "14                 Leukemia     0      0       0             0                 0          0     0                0            0      0                   0       0       0         1       0      0         0               0         0             0         0        0                        0                   0      0         0         0                   0            0        0       0        0        0       0                    0\n",
            "15                   Liver      0      0       0             0                 0          0     0                0            0      0                   0       0       0         0       1      0         0               0         0             0         0        0                        0                   0      0         0         0                   0            0        0       0        0        0       0                    0\n",
            "16                    Lungs     0      0       0             0                 0          0     0                0            0      0                   0       0       0         0       0      1         0               0         0             0         0        0                        0                   0      0         0         0                   0            0        0       0        0        0       0                    0\n",
            "17                 Lymphoma     0      0       0             0                 0          0     0                0            0      0                   0       0       0         0       0      0         1               0         0             0         0        0                        0                   0      0         0         0                   0            0        0       0        0        0       0                    0\n",
            "18           Male Genitales     0      0       0             0                 0          0     0                0            0      0                   0       0       0         0       0      0         0               1         0             0         0        0                        0                   0      0         0         0                   0            0        0       0        0        0       0                    0\n",
            "19                 Melanoma     0      0       0             0                 0          0     0                0            0      0                   0       0       0         0       0      0         0               0         1             0         0        0                        0                   0      0         0         0                   0            0        0       0        0        0       0                    0\n",
            "20             Mesothelioma     0      0       0             0                 0          0     0                0            0      0                   0       0       0         0       0      0         0               0         0             1         0        0                        0                   0      0         0         0                   0            0        0       0        0        0       0                    0\n",
            "21                 Mylenoma     0      0       0             0                 0          0     0                0            0      0                   0       0       0         0       0      0         0               0         0             0         1        0                        0                   0      0         0         0                   0            0        0       0        0        0       0                    0\n",
            "22                  Nervous     0      0       0             0                 0          0     0                0            0      0                   0       0       0         0       0      0         0               0         0             0         0        1                        0                   0      0         0         0                   0            0        0       0        0        0       0                    0\n",
            "23  Oral Cavity and Pharynx     0      0       0             0                 0          0     0                0            0      0                   0       0       0         0       0      0         0               0         0             0         0        0                        1                   0      0         0         0                   0            0        0       0        0        0       0                    0\n",
            "24       Outter Respiratory     0      0       0             0                 0          0     0                0            0      0                   0       0       0         0       0      0         0               0         0             0         0        0                        0                   1      0         0         0                   0            0        0       0        0        0       0                    0\n",
            "25                    Ovary     0      0       0             0                 0          0     0                0            0      0                   0       0       0         0       0      0         0               0         0             0         0        0                        0                   0      1         0         0                   0            0        0       0        0        0       0                    0\n",
            "26                 Pancreas     0      0       0             0                 0          0     0                0            0      0                   0       0       0         0       0      0         0               0         0             0         0        0                        0                   0      0         1         0                   0            0        0       0        0        0       0                    0\n",
            "27                 Prostate     0      0       0             0                 0          0     0                0            0      0                   0       0       0         0       0      0         0               0         0             0         0        0                        0                   0      0         0         1                   0            0        0       0        0        0       0                    0\n",
            "28       Skin non Melanoma      0      0       0             0                 0          0     0                0            0      0                   0       0       0         0       0      0         0               0         0             0         0        0                        0                   0      0         0         0                   1            0        0       0        0        0       0                    0\n",
            "29              Soft Tissue     0      0       0             0                 0          0     0                0            0      0                   0       0       0         0       0      0         0               0         0             0         0        0                        0                   0      0         0         0                   0            1        0       0        0        0       0                    0\n",
            "30                  Stomach     0      0       0             0                 0          0     0                0            0      0                   0       0       0         0       0      0         0               0         0             0         0        0                        0                   0      0         0         0                   0            0        1       0        0        0       0                    0\n",
            "31                   Testis     0      0       0             0                 0          0     0                0            0      0                   0       0       0         0       0      0         0               0         0             0         0        0                        0                   0      0         0         0                   0            0        0       1        0        0       0                    0\n",
            "32                  Thyroid     0      0       0             0                 0          0     0                0            0      0                   0       0       0         0       0      0         0               0         0             0         0        0                        0                   0      0         0         0                   0            0        0       0        1        0       0                    0\n",
            "33                  Trachea     0      0       0             0                 0          0     0                0            0      0                   0       0       0         0       0      0         0               0         0             0         0        0                        0                   0      0         0         0                   0            0        0       0        0        1       0                    0\n",
            "34                   Ureter     0      0       0             0                 0          0     0                0            0      0                   0       0       0         0       0      0         0               0         0             0         0        0                        0                   0      0         0         0                   0            0        0       0        0        0       1                    0\n",
            "35      Urinary Tract Other     0      0       0             0                 0          0     0                0            0      0                   0       0       0         0       0      0         0               0         0             0         0        0                        0                   0      0         0         0                   0            0        0       0        0        0       0                    1\n"
          ]
        }
      ]
    },
    {
      "cell_type": "markdown",
      "source": [
        "#### Entidad Federativa"
      ],
      "metadata": {
        "id": "2djLe774Zxhe"
      }
    },
    {
      "cell_type": "code",
      "source": [
        "# Crear df con los tipos de cancer\n",
        "dfEstadosSinCod = pd.DataFrame({'ent_resid_nm': estados})\n",
        "\n",
        "# Mandar a llamar a la funcion dumizadora de la variable 'trabajos'\n",
        "dfEstadosCod = duminizador(dfEstadosSinCod, 'Estados codificados', 'ent_resid_nm')"
      ],
      "metadata": {
        "id": "JVkrWqcZZ2F4",
        "colab": {
          "base_uri": "https://localhost:8080/"
        },
        "outputId": "8181bafe-d9f3-49e5-b540-4514ebdde52e"
      },
      "execution_count": 24,
      "outputs": [
        {
          "output_type": "stream",
          "name": "stdout",
          "text": [
            "                       ent_resid_nm\n",
            "0                    Aguascalientes\n",
            "1                   Baja California\n",
            "2               Baja California Sur\n",
            "3                          Campeche\n",
            "4                           Chiapas\n",
            "5                         Chihuahua\n",
            "6              Coahuila de Zaragoza\n",
            "7                            Colima\n",
            "8                  Distrito Federal\n",
            "9                           Durango\n",
            "10                       Guanajuato\n",
            "11                         Guerrero\n",
            "12                          Hidalgo\n",
            "13                          Jalisco\n",
            "14              Michoacán de Ocampo\n",
            "15                          Morelos\n",
            "16                           México\n",
            "17                          Nayarit\n",
            "18                       Nuevo León\n",
            "19                           Oaxaca\n",
            "20                           Puebla\n",
            "21                        Querétaro\n",
            "22                     Quintana Roo\n",
            "23                  San Luis Potosí\n",
            "24                          Sinaloa\n",
            "25                           Sonora\n",
            "26                          Tabasco\n",
            "27                       Tamaulipas\n",
            "28                         Tlaxcala\n",
            "29  Veracruz de Ignacio de la Llave\n",
            "30                          Yucatán\n",
            "31                        Zacatecas\n",
            "-----------------------------------DataFrame Estados codificados------------------------------------\n",
            "                       ent_resid_nm  Baja California  Baja California Sur  Campeche  Chiapas  Chihuahua  Coahuila de Zaragoza  Colima  Distrito Federal  Durango  Guanajuato  Guerrero  Hidalgo  Jalisco  Michoacán de Ocampo  Morelos  México  Nayarit  Nuevo León  Oaxaca  Puebla  Querétaro  Quintana Roo  San Luis Potosí  Sinaloa  Sonora  Tabasco  Tamaulipas  Tlaxcala  Veracruz de Ignacio de la Llave  Yucatán  Zacatecas\n",
            "0                    Aguascalientes                0                    0         0        0          0                     0       0                 0        0           0         0        0        0                    0        0       0        0           0       0       0          0             0                0        0       0        0           0         0                                0        0          0\n",
            "1                   Baja California                1                    0         0        0          0                     0       0                 0        0           0         0        0        0                    0        0       0        0           0       0       0          0             0                0        0       0        0           0         0                                0        0          0\n",
            "2               Baja California Sur                0                    1         0        0          0                     0       0                 0        0           0         0        0        0                    0        0       0        0           0       0       0          0             0                0        0       0        0           0         0                                0        0          0\n",
            "3                          Campeche                0                    0         1        0          0                     0       0                 0        0           0         0        0        0                    0        0       0        0           0       0       0          0             0                0        0       0        0           0         0                                0        0          0\n",
            "4                           Chiapas                0                    0         0        1          0                     0       0                 0        0           0         0        0        0                    0        0       0        0           0       0       0          0             0                0        0       0        0           0         0                                0        0          0\n",
            "5                         Chihuahua                0                    0         0        0          1                     0       0                 0        0           0         0        0        0                    0        0       0        0           0       0       0          0             0                0        0       0        0           0         0                                0        0          0\n",
            "6              Coahuila de Zaragoza                0                    0         0        0          0                     1       0                 0        0           0         0        0        0                    0        0       0        0           0       0       0          0             0                0        0       0        0           0         0                                0        0          0\n",
            "7                            Colima                0                    0         0        0          0                     0       1                 0        0           0         0        0        0                    0        0       0        0           0       0       0          0             0                0        0       0        0           0         0                                0        0          0\n",
            "8                  Distrito Federal                0                    0         0        0          0                     0       0                 1        0           0         0        0        0                    0        0       0        0           0       0       0          0             0                0        0       0        0           0         0                                0        0          0\n",
            "9                           Durango                0                    0         0        0          0                     0       0                 0        1           0         0        0        0                    0        0       0        0           0       0       0          0             0                0        0       0        0           0         0                                0        0          0\n",
            "10                       Guanajuato                0                    0         0        0          0                     0       0                 0        0           1         0        0        0                    0        0       0        0           0       0       0          0             0                0        0       0        0           0         0                                0        0          0\n",
            "11                         Guerrero                0                    0         0        0          0                     0       0                 0        0           0         1        0        0                    0        0       0        0           0       0       0          0             0                0        0       0        0           0         0                                0        0          0\n",
            "12                          Hidalgo                0                    0         0        0          0                     0       0                 0        0           0         0        1        0                    0        0       0        0           0       0       0          0             0                0        0       0        0           0         0                                0        0          0\n",
            "13                          Jalisco                0                    0         0        0          0                     0       0                 0        0           0         0        0        1                    0        0       0        0           0       0       0          0             0                0        0       0        0           0         0                                0        0          0\n",
            "14              Michoacán de Ocampo                0                    0         0        0          0                     0       0                 0        0           0         0        0        0                    1        0       0        0           0       0       0          0             0                0        0       0        0           0         0                                0        0          0\n",
            "15                          Morelos                0                    0         0        0          0                     0       0                 0        0           0         0        0        0                    0        1       0        0           0       0       0          0             0                0        0       0        0           0         0                                0        0          0\n",
            "16                           México                0                    0         0        0          0                     0       0                 0        0           0         0        0        0                    0        0       1        0           0       0       0          0             0                0        0       0        0           0         0                                0        0          0\n",
            "17                          Nayarit                0                    0         0        0          0                     0       0                 0        0           0         0        0        0                    0        0       0        1           0       0       0          0             0                0        0       0        0           0         0                                0        0          0\n",
            "18                       Nuevo León                0                    0         0        0          0                     0       0                 0        0           0         0        0        0                    0        0       0        0           1       0       0          0             0                0        0       0        0           0         0                                0        0          0\n",
            "19                           Oaxaca                0                    0         0        0          0                     0       0                 0        0           0         0        0        0                    0        0       0        0           0       1       0          0             0                0        0       0        0           0         0                                0        0          0\n",
            "20                           Puebla                0                    0         0        0          0                     0       0                 0        0           0         0        0        0                    0        0       0        0           0       0       1          0             0                0        0       0        0           0         0                                0        0          0\n",
            "21                        Querétaro                0                    0         0        0          0                     0       0                 0        0           0         0        0        0                    0        0       0        0           0       0       0          1             0                0        0       0        0           0         0                                0        0          0\n",
            "22                     Quintana Roo                0                    0         0        0          0                     0       0                 0        0           0         0        0        0                    0        0       0        0           0       0       0          0             1                0        0       0        0           0         0                                0        0          0\n",
            "23                  San Luis Potosí                0                    0         0        0          0                     0       0                 0        0           0         0        0        0                    0        0       0        0           0       0       0          0             0                1        0       0        0           0         0                                0        0          0\n",
            "24                          Sinaloa                0                    0         0        0          0                     0       0                 0        0           0         0        0        0                    0        0       0        0           0       0       0          0             0                0        1       0        0           0         0                                0        0          0\n",
            "25                           Sonora                0                    0         0        0          0                     0       0                 0        0           0         0        0        0                    0        0       0        0           0       0       0          0             0                0        0       1        0           0         0                                0        0          0\n",
            "26                          Tabasco                0                    0         0        0          0                     0       0                 0        0           0         0        0        0                    0        0       0        0           0       0       0          0             0                0        0       0        1           0         0                                0        0          0\n",
            "27                       Tamaulipas                0                    0         0        0          0                     0       0                 0        0           0         0        0        0                    0        0       0        0           0       0       0          0             0                0        0       0        0           1         0                                0        0          0\n",
            "28                         Tlaxcala                0                    0         0        0          0                     0       0                 0        0           0         0        0        0                    0        0       0        0           0       0       0          0             0                0        0       0        0           0         1                                0        0          0\n",
            "29  Veracruz de Ignacio de la Llave                0                    0         0        0          0                     0       0                 0        0           0         0        0        0                    0        0       0        0           0       0       0          0             0                0        0       0        0           0         0                                1        0          0\n",
            "30                          Yucatán                0                    0         0        0          0                     0       0                 0        0           0         0        0        0                    0        0       0        0           0       0       0          0             0                0        0       0        0           0         0                                0        1          0\n",
            "31                        Zacatecas                0                    0         0        0          0                     0       0                 0        0           0         0        0        0                    0        0       0        0           0       0       0          0             0                0        0       0        0           0         0                                0        0          1\n"
          ]
        }
      ]
    },
    {
      "cell_type": "markdown",
      "source": [
        "### Algoritmos/Modelos"
      ],
      "metadata": {
        "id": "5Nnl1rb7OYtH"
      }
    },
    {
      "cell_type": "code",
      "source": [],
      "metadata": {
        "id": "p7yuu1vmOhj4"
      },
      "execution_count": null,
      "outputs": []
    }
  ]
}