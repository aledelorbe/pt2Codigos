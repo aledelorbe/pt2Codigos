{
  "nbformat": 4,
  "nbformat_minor": 0,
  "metadata": {
    "colab": {
      "provenance": [],
      "mount_file_id": "1XOhgc7wNeEVx1uS_8S2zYr_L-vO5YwhZ",
      "authorship_tag": "ABX9TyNryxvQnHvSt1+1Jwrwraa5",
      "include_colab_link": true
    },
    "kernelspec": {
      "name": "python3",
      "display_name": "Python 3"
    },
    "language_info": {
      "name": "python"
    }
  },
  "cells": [
    {
      "cell_type": "markdown",
      "metadata": {
        "id": "view-in-github",
        "colab_type": "text"
      },
      "source": [
        "<a href=\"https://colab.research.google.com/github/aledelorbe/pt2Codigos/blob/main/SegundasActividades/Algoritmos.ipynb\" target=\"_parent\"><img src=\"https://colab.research.google.com/assets/colab-badge.svg\" alt=\"Open In Colab\"/></a>"
      ]
    },
    {
      "cell_type": "markdown",
      "source": [
        "### Cargar librerias"
      ],
      "metadata": {
        "id": "TfLRvAuPFeqe"
      }
    },
    {
      "cell_type": "code",
      "source": [
        "# VERSION 1\n",
        "# X1 = df2010[['ent_resid_nm', 'Organ']]\n",
        "# one_hot_encoder = OneHotEncoder(sparse_output=False)\n",
        "\n",
        "# # Ajustar y transformar las columnas seleccionadas\n",
        "# X1_encoded = one_hot_encoder.fit_transform(X1)\n",
        "\n",
        "\n",
        "# VERSION 2. Manteien las columnas originales y les pone un nombre a las\n",
        "# columnas\n",
        "# # Obtener las columnas categóricas\n",
        "# columns_to_encode = df2010.columns[:2]\n",
        "\n",
        "# # Realizar la codificación one-hot de esas columnas\n",
        "# X1 = pd.get_dummies(df2010, columns=columns_to_encode)"
      ],
      "metadata": {
        "id": "TK5ukCw710dF"
      },
      "execution_count": null,
      "outputs": []
    },
    {
      "cell_type": "code",
      "source": [
        "import pandas as pd\n",
        "import matplotlib.pyplot as plt\n",
        "from sklearn.compose import ColumnTransformer\n",
        "from sklearn.preprocessing import OneHotEncoder\n",
        "import numpy as np"
      ],
      "metadata": {
        "id": "AO4KKD9XEpzI"
      },
      "execution_count": 23,
      "outputs": []
    },
    {
      "cell_type": "markdown",
      "source": [
        "### Cargar los dataFrame"
      ],
      "metadata": {
        "id": "r7EfovT3UImO"
      }
    },
    {
      "cell_type": "code",
      "source": [
        "nuevaMortalidadLimpia = '/content/drive/MyDrive/Pt2/Primeras Actividades/0 Bases de Datos/Nueva Mortalidad Limpia/'\n",
        "\n",
        "df2010 = pd.read_csv(nuevaMortalidadLimpia + '2010.csv')\n",
        "df2011 = pd.read_csv(nuevaMortalidadLimpia + '2011.csv')\n",
        "df2012 = pd.read_csv(nuevaMortalidadLimpia + '2012.csv')\n",
        "df2013 = pd.read_csv(nuevaMortalidadLimpia + '2013.csv')\n",
        "df2014 = pd.read_csv(nuevaMortalidadLimpia + '2014.csv')\n",
        "df2015 = pd.read_csv(nuevaMortalidadLimpia + '2015.csv')\n",
        "df2016 = pd.read_csv(nuevaMortalidadLimpia + '2016.csv')\n",
        "df2017 = pd.read_csv(nuevaMortalidadLimpia + '2017.csv')\n",
        "df2018 = pd.read_csv(nuevaMortalidadLimpia + '2018.csv')\n",
        "df2019 = pd.read_csv(nuevaMortalidadLimpia + '2019.csv')"
      ],
      "metadata": {
        "id": "y1JW32OLUImP"
      },
      "execution_count": 24,
      "outputs": []
    },
    {
      "cell_type": "code",
      "source": [
        "df2010"
      ],
      "metadata": {
        "colab": {
          "base_uri": "https://localhost:8080/",
          "height": 424
        },
        "id": "ezbkkK_8AJ9K",
        "outputId": "5adb0df3-1a04-4244-a66a-c90b29b3e320"
      },
      "execution_count": 25,
      "outputs": [
        {
          "output_type": "execute_result",
          "data": {
            "text/plain": [
              "         ent_resid_nm     Organ  \\\n",
              "0      Aguascalientes  Pancreas   \n",
              "1      Aguascalientes   Bladder   \n",
              "2      Aguascalientes     Lungs   \n",
              "3             Jalisco     Lungs   \n",
              "4      Aguascalientes    Kidney   \n",
              "...               ...       ...   \n",
              "64292       Zacatecas     Ovary   \n",
              "64293         Sinaloa  Pancreas   \n",
              "64294         Tabasco  Mylenoma   \n",
              "64295          Puebla  Pancreas   \n",
              "64296         Tabasco   Thyroid   \n",
              "\n",
              "                                          desc_ocupacion  \\\n",
              "0      Trabajadores en actividades agrícolas, ganader...   \n",
              "1      Trabajadores en actividades agrícolas, ganader...   \n",
              "2      Trabajadores en actividades agrícolas, ganader...   \n",
              "3      Trabajadores en actividades agrícolas, ganader...   \n",
              "4      Trabajadores en actividades agrícolas, ganader...   \n",
              "...                                                  ...   \n",
              "64292                                    No especificada   \n",
              "64293                                    No especificada   \n",
              "64294                           Trabajadores artesanales   \n",
              "64295  Trabajadores en actividades elementales y de a...   \n",
              "64296  Trabajadores en actividades elementales y de a...   \n",
              "\n",
              "                                        desc_escolaridad  \n",
              "0                       Funcionarios, directores y jefes  \n",
              "1                       Funcionarios, directores y jefes  \n",
              "2                       Funcionarios, directores y jefes  \n",
              "3                       Funcionarios, directores y jefes  \n",
              "4                       Funcionarios, directores y jefes  \n",
              "...                                                  ...  \n",
              "64292  Trabajadores en actividades elementales y de a...  \n",
              "64293  Trabajadores en actividades elementales y de a...  \n",
              "64294  Trabajadores en actividades elementales y de a...  \n",
              "64295  Trabajadores en actividades elementales y de a...  \n",
              "64296  Trabajadores en actividades elementales y de a...  \n",
              "\n",
              "[64297 rows x 4 columns]"
            ],
            "text/html": [
              "\n",
              "  <div id=\"df-8b7ddbd4-eba8-4a89-8617-8cd69aa87a4d\" class=\"colab-df-container\">\n",
              "    <div>\n",
              "<style scoped>\n",
              "    .dataframe tbody tr th:only-of-type {\n",
              "        vertical-align: middle;\n",
              "    }\n",
              "\n",
              "    .dataframe tbody tr th {\n",
              "        vertical-align: top;\n",
              "    }\n",
              "\n",
              "    .dataframe thead th {\n",
              "        text-align: right;\n",
              "    }\n",
              "</style>\n",
              "<table border=\"1\" class=\"dataframe\">\n",
              "  <thead>\n",
              "    <tr style=\"text-align: right;\">\n",
              "      <th></th>\n",
              "      <th>ent_resid_nm</th>\n",
              "      <th>Organ</th>\n",
              "      <th>desc_ocupacion</th>\n",
              "      <th>desc_escolaridad</th>\n",
              "    </tr>\n",
              "  </thead>\n",
              "  <tbody>\n",
              "    <tr>\n",
              "      <th>0</th>\n",
              "      <td>Aguascalientes</td>\n",
              "      <td>Pancreas</td>\n",
              "      <td>Trabajadores en actividades agrícolas, ganader...</td>\n",
              "      <td>Funcionarios, directores y jefes</td>\n",
              "    </tr>\n",
              "    <tr>\n",
              "      <th>1</th>\n",
              "      <td>Aguascalientes</td>\n",
              "      <td>Bladder</td>\n",
              "      <td>Trabajadores en actividades agrícolas, ganader...</td>\n",
              "      <td>Funcionarios, directores y jefes</td>\n",
              "    </tr>\n",
              "    <tr>\n",
              "      <th>2</th>\n",
              "      <td>Aguascalientes</td>\n",
              "      <td>Lungs</td>\n",
              "      <td>Trabajadores en actividades agrícolas, ganader...</td>\n",
              "      <td>Funcionarios, directores y jefes</td>\n",
              "    </tr>\n",
              "    <tr>\n",
              "      <th>3</th>\n",
              "      <td>Jalisco</td>\n",
              "      <td>Lungs</td>\n",
              "      <td>Trabajadores en actividades agrícolas, ganader...</td>\n",
              "      <td>Funcionarios, directores y jefes</td>\n",
              "    </tr>\n",
              "    <tr>\n",
              "      <th>4</th>\n",
              "      <td>Aguascalientes</td>\n",
              "      <td>Kidney</td>\n",
              "      <td>Trabajadores en actividades agrícolas, ganader...</td>\n",
              "      <td>Funcionarios, directores y jefes</td>\n",
              "    </tr>\n",
              "    <tr>\n",
              "      <th>...</th>\n",
              "      <td>...</td>\n",
              "      <td>...</td>\n",
              "      <td>...</td>\n",
              "      <td>...</td>\n",
              "    </tr>\n",
              "    <tr>\n",
              "      <th>64292</th>\n",
              "      <td>Zacatecas</td>\n",
              "      <td>Ovary</td>\n",
              "      <td>No especificada</td>\n",
              "      <td>Trabajadores en actividades elementales y de a...</td>\n",
              "    </tr>\n",
              "    <tr>\n",
              "      <th>64293</th>\n",
              "      <td>Sinaloa</td>\n",
              "      <td>Pancreas</td>\n",
              "      <td>No especificada</td>\n",
              "      <td>Trabajadores en actividades elementales y de a...</td>\n",
              "    </tr>\n",
              "    <tr>\n",
              "      <th>64294</th>\n",
              "      <td>Tabasco</td>\n",
              "      <td>Mylenoma</td>\n",
              "      <td>Trabajadores artesanales</td>\n",
              "      <td>Trabajadores en actividades elementales y de a...</td>\n",
              "    </tr>\n",
              "    <tr>\n",
              "      <th>64295</th>\n",
              "      <td>Puebla</td>\n",
              "      <td>Pancreas</td>\n",
              "      <td>Trabajadores en actividades elementales y de a...</td>\n",
              "      <td>Trabajadores en actividades elementales y de a...</td>\n",
              "    </tr>\n",
              "    <tr>\n",
              "      <th>64296</th>\n",
              "      <td>Tabasco</td>\n",
              "      <td>Thyroid</td>\n",
              "      <td>Trabajadores en actividades elementales y de a...</td>\n",
              "      <td>Trabajadores en actividades elementales y de a...</td>\n",
              "    </tr>\n",
              "  </tbody>\n",
              "</table>\n",
              "<p>64297 rows × 4 columns</p>\n",
              "</div>\n",
              "    <div class=\"colab-df-buttons\">\n",
              "\n",
              "  <div class=\"colab-df-container\">\n",
              "    <button class=\"colab-df-convert\" onclick=\"convertToInteractive('df-8b7ddbd4-eba8-4a89-8617-8cd69aa87a4d')\"\n",
              "            title=\"Convert this dataframe to an interactive table.\"\n",
              "            style=\"display:none;\">\n",
              "\n",
              "  <svg xmlns=\"http://www.w3.org/2000/svg\" height=\"24px\" viewBox=\"0 -960 960 960\">\n",
              "    <path d=\"M120-120v-720h720v720H120Zm60-500h600v-160H180v160Zm220 220h160v-160H400v160Zm0 220h160v-160H400v160ZM180-400h160v-160H180v160Zm440 0h160v-160H620v160ZM180-180h160v-160H180v160Zm440 0h160v-160H620v160Z\"/>\n",
              "  </svg>\n",
              "    </button>\n",
              "\n",
              "  <style>\n",
              "    .colab-df-container {\n",
              "      display:flex;\n",
              "      gap: 12px;\n",
              "    }\n",
              "\n",
              "    .colab-df-convert {\n",
              "      background-color: #E8F0FE;\n",
              "      border: none;\n",
              "      border-radius: 50%;\n",
              "      cursor: pointer;\n",
              "      display: none;\n",
              "      fill: #1967D2;\n",
              "      height: 32px;\n",
              "      padding: 0 0 0 0;\n",
              "      width: 32px;\n",
              "    }\n",
              "\n",
              "    .colab-df-convert:hover {\n",
              "      background-color: #E2EBFA;\n",
              "      box-shadow: 0px 1px 2px rgba(60, 64, 67, 0.3), 0px 1px 3px 1px rgba(60, 64, 67, 0.15);\n",
              "      fill: #174EA6;\n",
              "    }\n",
              "\n",
              "    .colab-df-buttons div {\n",
              "      margin-bottom: 4px;\n",
              "    }\n",
              "\n",
              "    [theme=dark] .colab-df-convert {\n",
              "      background-color: #3B4455;\n",
              "      fill: #D2E3FC;\n",
              "    }\n",
              "\n",
              "    [theme=dark] .colab-df-convert:hover {\n",
              "      background-color: #434B5C;\n",
              "      box-shadow: 0px 1px 3px 1px rgba(0, 0, 0, 0.15);\n",
              "      filter: drop-shadow(0px 1px 2px rgba(0, 0, 0, 0.3));\n",
              "      fill: #FFFFFF;\n",
              "    }\n",
              "  </style>\n",
              "\n",
              "    <script>\n",
              "      const buttonEl =\n",
              "        document.querySelector('#df-8b7ddbd4-eba8-4a89-8617-8cd69aa87a4d button.colab-df-convert');\n",
              "      buttonEl.style.display =\n",
              "        google.colab.kernel.accessAllowed ? 'block' : 'none';\n",
              "\n",
              "      async function convertToInteractive(key) {\n",
              "        const element = document.querySelector('#df-8b7ddbd4-eba8-4a89-8617-8cd69aa87a4d');\n",
              "        const dataTable =\n",
              "          await google.colab.kernel.invokeFunction('convertToInteractive',\n",
              "                                                    [key], {});\n",
              "        if (!dataTable) return;\n",
              "\n",
              "        const docLinkHtml = 'Like what you see? Visit the ' +\n",
              "          '<a target=\"_blank\" href=https://colab.research.google.com/notebooks/data_table.ipynb>data table notebook</a>'\n",
              "          + ' to learn more about interactive tables.';\n",
              "        element.innerHTML = '';\n",
              "        dataTable['output_type'] = 'display_data';\n",
              "        await google.colab.output.renderOutput(dataTable, element);\n",
              "        const docLink = document.createElement('div');\n",
              "        docLink.innerHTML = docLinkHtml;\n",
              "        element.appendChild(docLink);\n",
              "      }\n",
              "    </script>\n",
              "  </div>\n",
              "\n",
              "\n",
              "<div id=\"df-56f7f8ae-088b-4e2f-bf5e-d26d802e35ef\">\n",
              "  <button class=\"colab-df-quickchart\" onclick=\"quickchart('df-56f7f8ae-088b-4e2f-bf5e-d26d802e35ef')\"\n",
              "            title=\"Suggest charts\"\n",
              "            style=\"display:none;\">\n",
              "\n",
              "<svg xmlns=\"http://www.w3.org/2000/svg\" height=\"24px\"viewBox=\"0 0 24 24\"\n",
              "     width=\"24px\">\n",
              "    <g>\n",
              "        <path d=\"M19 3H5c-1.1 0-2 .9-2 2v14c0 1.1.9 2 2 2h14c1.1 0 2-.9 2-2V5c0-1.1-.9-2-2-2zM9 17H7v-7h2v7zm4 0h-2V7h2v10zm4 0h-2v-4h2v4z\"/>\n",
              "    </g>\n",
              "</svg>\n",
              "  </button>\n",
              "\n",
              "<style>\n",
              "  .colab-df-quickchart {\n",
              "      --bg-color: #E8F0FE;\n",
              "      --fill-color: #1967D2;\n",
              "      --hover-bg-color: #E2EBFA;\n",
              "      --hover-fill-color: #174EA6;\n",
              "      --disabled-fill-color: #AAA;\n",
              "      --disabled-bg-color: #DDD;\n",
              "  }\n",
              "\n",
              "  [theme=dark] .colab-df-quickchart {\n",
              "      --bg-color: #3B4455;\n",
              "      --fill-color: #D2E3FC;\n",
              "      --hover-bg-color: #434B5C;\n",
              "      --hover-fill-color: #FFFFFF;\n",
              "      --disabled-bg-color: #3B4455;\n",
              "      --disabled-fill-color: #666;\n",
              "  }\n",
              "\n",
              "  .colab-df-quickchart {\n",
              "    background-color: var(--bg-color);\n",
              "    border: none;\n",
              "    border-radius: 50%;\n",
              "    cursor: pointer;\n",
              "    display: none;\n",
              "    fill: var(--fill-color);\n",
              "    height: 32px;\n",
              "    padding: 0;\n",
              "    width: 32px;\n",
              "  }\n",
              "\n",
              "  .colab-df-quickchart:hover {\n",
              "    background-color: var(--hover-bg-color);\n",
              "    box-shadow: 0 1px 2px rgba(60, 64, 67, 0.3), 0 1px 3px 1px rgba(60, 64, 67, 0.15);\n",
              "    fill: var(--button-hover-fill-color);\n",
              "  }\n",
              "\n",
              "  .colab-df-quickchart-complete:disabled,\n",
              "  .colab-df-quickchart-complete:disabled:hover {\n",
              "    background-color: var(--disabled-bg-color);\n",
              "    fill: var(--disabled-fill-color);\n",
              "    box-shadow: none;\n",
              "  }\n",
              "\n",
              "  .colab-df-spinner {\n",
              "    border: 2px solid var(--fill-color);\n",
              "    border-color: transparent;\n",
              "    border-bottom-color: var(--fill-color);\n",
              "    animation:\n",
              "      spin 1s steps(1) infinite;\n",
              "  }\n",
              "\n",
              "  @keyframes spin {\n",
              "    0% {\n",
              "      border-color: transparent;\n",
              "      border-bottom-color: var(--fill-color);\n",
              "      border-left-color: var(--fill-color);\n",
              "    }\n",
              "    20% {\n",
              "      border-color: transparent;\n",
              "      border-left-color: var(--fill-color);\n",
              "      border-top-color: var(--fill-color);\n",
              "    }\n",
              "    30% {\n",
              "      border-color: transparent;\n",
              "      border-left-color: var(--fill-color);\n",
              "      border-top-color: var(--fill-color);\n",
              "      border-right-color: var(--fill-color);\n",
              "    }\n",
              "    40% {\n",
              "      border-color: transparent;\n",
              "      border-right-color: var(--fill-color);\n",
              "      border-top-color: var(--fill-color);\n",
              "    }\n",
              "    60% {\n",
              "      border-color: transparent;\n",
              "      border-right-color: var(--fill-color);\n",
              "    }\n",
              "    80% {\n",
              "      border-color: transparent;\n",
              "      border-right-color: var(--fill-color);\n",
              "      border-bottom-color: var(--fill-color);\n",
              "    }\n",
              "    90% {\n",
              "      border-color: transparent;\n",
              "      border-bottom-color: var(--fill-color);\n",
              "    }\n",
              "  }\n",
              "</style>\n",
              "\n",
              "  <script>\n",
              "    async function quickchart(key) {\n",
              "      const quickchartButtonEl =\n",
              "        document.querySelector('#' + key + ' button');\n",
              "      quickchartButtonEl.disabled = true;  // To prevent multiple clicks.\n",
              "      quickchartButtonEl.classList.add('colab-df-spinner');\n",
              "      try {\n",
              "        const charts = await google.colab.kernel.invokeFunction(\n",
              "            'suggestCharts', [key], {});\n",
              "      } catch (error) {\n",
              "        console.error('Error during call to suggestCharts:', error);\n",
              "      }\n",
              "      quickchartButtonEl.classList.remove('colab-df-spinner');\n",
              "      quickchartButtonEl.classList.add('colab-df-quickchart-complete');\n",
              "    }\n",
              "    (() => {\n",
              "      let quickchartButtonEl =\n",
              "        document.querySelector('#df-56f7f8ae-088b-4e2f-bf5e-d26d802e35ef button');\n",
              "      quickchartButtonEl.style.display =\n",
              "        google.colab.kernel.accessAllowed ? 'block' : 'none';\n",
              "    })();\n",
              "  </script>\n",
              "</div>\n",
              "    </div>\n",
              "  </div>\n"
            ]
          },
          "metadata": {},
          "execution_count": 25
        }
      ]
    },
    {
      "cell_type": "markdown",
      "source": [
        "\n",
        "\n",
        "### Transformaciones"
      ],
      "metadata": {
        "id": "IYraN5eQ3GDU"
      }
    },
    {
      "cell_type": "code",
      "source": [
        "X1 = df2010[['ent_resid_nm', 'Organ']]\n",
        "# X1 = df2010.iloc[:, [0, 1]].values"
      ],
      "metadata": {
        "id": "VvniJgjBGlsk"
      },
      "execution_count": 26,
      "outputs": []
    },
    {
      "cell_type": "code",
      "source": [
        "ct = ColumnTransformer(transformers=[('encoder', OneHotEncoder(), [0, 1])], remainder='passthrough')\n",
        "X1 = np.array(ct.fit_transform(X1)).astype('float64')\n",
        "X1"
      ],
      "metadata": {
        "colab": {
          "base_uri": "https://localhost:8080/",
          "height": 297
        },
        "id": "t7q4hxGaw2hh",
        "outputId": "4a1a34ad-bab4-4a0e-bee1-fbae256bac4c"
      },
      "execution_count": 27,
      "outputs": [
        {
          "output_type": "error",
          "ename": "ValueError",
          "evalue": "ignored",
          "traceback": [
            "\u001b[0;31m---------------------------------------------------------------------------\u001b[0m",
            "\u001b[0;31mTypeError\u001b[0m                                 Traceback (most recent call last)",
            "\u001b[0;31mTypeError\u001b[0m: float() argument must be a string or a real number, not 'csr_matrix'",
            "\nThe above exception was the direct cause of the following exception:\n",
            "\u001b[0;31mValueError\u001b[0m                                Traceback (most recent call last)",
            "\u001b[0;32m<ipython-input-27-7b2b72b326f3>\u001b[0m in \u001b[0;36m<cell line: 2>\u001b[0;34m()\u001b[0m\n\u001b[1;32m      1\u001b[0m \u001b[0mct\u001b[0m \u001b[0;34m=\u001b[0m \u001b[0mColumnTransformer\u001b[0m\u001b[0;34m(\u001b[0m\u001b[0mtransformers\u001b[0m\u001b[0;34m=\u001b[0m\u001b[0;34m[\u001b[0m\u001b[0;34m(\u001b[0m\u001b[0;34m'encoder'\u001b[0m\u001b[0;34m,\u001b[0m \u001b[0mOneHotEncoder\u001b[0m\u001b[0;34m(\u001b[0m\u001b[0;34m)\u001b[0m\u001b[0;34m,\u001b[0m \u001b[0;34m[\u001b[0m\u001b[0;36m0\u001b[0m\u001b[0;34m,\u001b[0m \u001b[0;36m1\u001b[0m\u001b[0;34m]\u001b[0m\u001b[0;34m)\u001b[0m\u001b[0;34m]\u001b[0m\u001b[0;34m,\u001b[0m \u001b[0mremainder\u001b[0m\u001b[0;34m=\u001b[0m\u001b[0;34m'passthrough'\u001b[0m\u001b[0;34m)\u001b[0m\u001b[0;34m\u001b[0m\u001b[0;34m\u001b[0m\u001b[0m\n\u001b[0;32m----> 2\u001b[0;31m \u001b[0mX1\u001b[0m \u001b[0;34m=\u001b[0m \u001b[0mnp\u001b[0m\u001b[0;34m.\u001b[0m\u001b[0marray\u001b[0m\u001b[0;34m(\u001b[0m\u001b[0mct\u001b[0m\u001b[0;34m.\u001b[0m\u001b[0mfit_transform\u001b[0m\u001b[0;34m(\u001b[0m\u001b[0mX1\u001b[0m\u001b[0;34m)\u001b[0m\u001b[0;34m)\u001b[0m\u001b[0;34m.\u001b[0m\u001b[0mastype\u001b[0m\u001b[0;34m(\u001b[0m\u001b[0;34m'float64'\u001b[0m\u001b[0;34m)\u001b[0m\u001b[0;34m\u001b[0m\u001b[0;34m\u001b[0m\u001b[0m\n\u001b[0m\u001b[1;32m      3\u001b[0m \u001b[0mX1\u001b[0m\u001b[0;34m\u001b[0m\u001b[0;34m\u001b[0m\u001b[0m\n",
            "\u001b[0;31mValueError\u001b[0m: setting an array element with a sequence."
          ]
        }
      ]
    },
    {
      "cell_type": "code",
      "source": [
        "print(X1)"
      ],
      "metadata": {
        "colab": {
          "base_uri": "https://localhost:8080/"
        },
        "id": "2QUML2nyxD4n",
        "outputId": "443c53e1-761d-4b83-df28-bf776aa3f8a0"
      },
      "execution_count": 21,
      "outputs": [
        {
          "output_type": "stream",
          "name": "stdout",
          "text": [
            "  (0, 0)\t1.0\n",
            "  (0, 58)\t1.0\n",
            "  (1, 0)\t1.0\n",
            "  (1, 32)\t1.0\n",
            "  (2, 0)\t1.0\n",
            "  (2, 48)\t1.0\n",
            "  (3, 13)\t1.0\n",
            "  (3, 48)\t1.0\n",
            "  (4, 0)\t1.0\n",
            "  (4, 44)\t1.0\n",
            "  (5, 0)\t1.0\n",
            "  (5, 48)\t1.0\n",
            "  (6, 0)\t1.0\n",
            "  (6, 59)\t1.0\n",
            "  (7, 0)\t1.0\n",
            "  (7, 38)\t1.0\n",
            "  (8, 0)\t1.0\n",
            "  (8, 58)\t1.0\n",
            "  (9, 0)\t1.0\n",
            "  (9, 59)\t1.0\n",
            "  (10, 31)\t1.0\n",
            "  (10, 46)\t1.0\n",
            "  (11, 13)\t1.0\n",
            "  (11, 48)\t1.0\n",
            "  (12, 0)\t1.0\n",
            "  :\t:\n",
            "  (64284, 59)\t1.0\n",
            "  (64285, 29)\t1.0\n",
            "  (64285, 32)\t1.0\n",
            "  (64286, 29)\t1.0\n",
            "  (64286, 46)\t1.0\n",
            "  (64287, 29)\t1.0\n",
            "  (64287, 48)\t1.0\n",
            "  (64288, 29)\t1.0\n",
            "  (64288, 59)\t1.0\n",
            "  (64289, 29)\t1.0\n",
            "  (64289, 34)\t1.0\n",
            "  (64290, 29)\t1.0\n",
            "  (64290, 43)\t1.0\n",
            "  (64291, 30)\t1.0\n",
            "  (64291, 60)\t1.0\n",
            "  (64292, 31)\t1.0\n",
            "  (64292, 57)\t1.0\n",
            "  (64293, 24)\t1.0\n",
            "  (64293, 58)\t1.0\n",
            "  (64294, 26)\t1.0\n",
            "  (64294, 53)\t1.0\n",
            "  (64295, 20)\t1.0\n",
            "  (64295, 58)\t1.0\n",
            "  (64296, 26)\t1.0\n",
            "  (64296, 64)\t1.0\n"
          ]
        }
      ]
    },
    {
      "cell_type": "code",
      "source": [
        "print(X1[:3])"
      ],
      "metadata": {
        "colab": {
          "base_uri": "https://localhost:8080/",
          "height": 175
        },
        "id": "CQNZisTVxSHV",
        "outputId": "8639da59-5eeb-4fbe-f873-0b4469f3b61c"
      },
      "execution_count": 22,
      "outputs": [
        {
          "output_type": "error",
          "ename": "IndexError",
          "evalue": "ignored",
          "traceback": [
            "\u001b[0;31m---------------------------------------------------------------------------\u001b[0m",
            "\u001b[0;31mIndexError\u001b[0m                                Traceback (most recent call last)",
            "\u001b[0;32m<ipython-input-22-f0828d9dcfa2>\u001b[0m in \u001b[0;36m<cell line: 1>\u001b[0;34m()\u001b[0m\n\u001b[0;32m----> 1\u001b[0;31m \u001b[0mprint\u001b[0m\u001b[0;34m(\u001b[0m\u001b[0mX1\u001b[0m\u001b[0;34m[\u001b[0m\u001b[0;34m:\u001b[0m\u001b[0;36m3\u001b[0m\u001b[0;34m]\u001b[0m\u001b[0;34m)\u001b[0m\u001b[0;34m\u001b[0m\u001b[0;34m\u001b[0m\u001b[0m\n\u001b[0m",
            "\u001b[0;31mIndexError\u001b[0m: too many indices for array: array is 0-dimensional, but 1 were indexed"
          ]
        }
      ]
    },
    {
      "cell_type": "code",
      "source": [
        "# Todas las variables son NO ordinales\n",
        "\n",
        "#varOneHotEnco = ColumnTransformer( [('one_hot_encoder', OneHotEncoder(categories = 'auto'), [0, 1])], remainder = 'passthrough')\n",
        "\n",
        "#X1 = np.array(varOneHotEnco.fit_transform(X1))\n"
      ],
      "metadata": {
        "id": "UM-5u-x13JIH"
      },
      "execution_count": 13,
      "outputs": []
    },
    {
      "cell_type": "code",
      "source": [
        "print(X1)\n"
      ],
      "metadata": {
        "colab": {
          "base_uri": "https://localhost:8080/"
        },
        "id": "r98z-gj2HZJH",
        "outputId": "fd3d1af9-daee-4899-d13e-76d0b800c4f0"
      },
      "execution_count": 14,
      "outputs": [
        {
          "output_type": "stream",
          "name": "stdout",
          "text": [
            "  (0, 0)\t1.0\n",
            "  (0, 58)\t1.0\n",
            "  (1, 0)\t1.0\n",
            "  (1, 32)\t1.0\n",
            "  (2, 0)\t1.0\n",
            "  (2, 48)\t1.0\n",
            "  (3, 13)\t1.0\n",
            "  (3, 48)\t1.0\n",
            "  (4, 0)\t1.0\n",
            "  (4, 44)\t1.0\n",
            "  (5, 0)\t1.0\n",
            "  (5, 48)\t1.0\n",
            "  (6, 0)\t1.0\n",
            "  (6, 59)\t1.0\n",
            "  (7, 0)\t1.0\n",
            "  (7, 38)\t1.0\n",
            "  (8, 0)\t1.0\n",
            "  (8, 58)\t1.0\n",
            "  (9, 0)\t1.0\n",
            "  (9, 59)\t1.0\n",
            "  (10, 31)\t1.0\n",
            "  (10, 46)\t1.0\n",
            "  (11, 13)\t1.0\n",
            "  (11, 48)\t1.0\n",
            "  (12, 0)\t1.0\n",
            "  :\t:\n",
            "  (64284, 59)\t1.0\n",
            "  (64285, 29)\t1.0\n",
            "  (64285, 32)\t1.0\n",
            "  (64286, 29)\t1.0\n",
            "  (64286, 46)\t1.0\n",
            "  (64287, 29)\t1.0\n",
            "  (64287, 48)\t1.0\n",
            "  (64288, 29)\t1.0\n",
            "  (64288, 59)\t1.0\n",
            "  (64289, 29)\t1.0\n",
            "  (64289, 34)\t1.0\n",
            "  (64290, 29)\t1.0\n",
            "  (64290, 43)\t1.0\n",
            "  (64291, 30)\t1.0\n",
            "  (64291, 60)\t1.0\n",
            "  (64292, 31)\t1.0\n",
            "  (64292, 57)\t1.0\n",
            "  (64293, 24)\t1.0\n",
            "  (64293, 58)\t1.0\n",
            "  (64294, 26)\t1.0\n",
            "  (64294, 53)\t1.0\n",
            "  (64295, 20)\t1.0\n",
            "  (64295, 58)\t1.0\n",
            "  (64296, 26)\t1.0\n",
            "  (64296, 64)\t1.0\n"
          ]
        }
      ]
    },
    {
      "cell_type": "code",
      "source": [
        "print(df2010[1:5])"
      ],
      "metadata": {
        "colab": {
          "base_uri": "https://localhost:8080/"
        },
        "id": "r1aP_oHBBBgi",
        "outputId": "c5bcb07b-4eec-424d-92d8-c30db9cbf722"
      },
      "execution_count": null,
      "outputs": [
        {
          "output_type": "stream",
          "name": "stdout",
          "text": [
            "     ent_resid_nm                                         detailCaus  \\\n",
            "1  Aguascalientes  Tumor maligno de la vejiga urinaria, parte no ...   \n",
            "2  Aguascalientes  Tumor maligno de los bronquios o del pulmón, p...   \n",
            "3         Jalisco  Tumor maligno de los bronquios o del pulmón, p...   \n",
            "4  Aguascalientes  Tumor maligno del riñón, excepto de la pelvis ...   \n",
            "\n",
            "                                      desc_ocupacion  \\\n",
            "1  Trabajadores en actividades agrícolas, ganader...   \n",
            "2  Trabajadores en actividades agrícolas, ganader...   \n",
            "3  Trabajadores en actividades agrícolas, ganader...   \n",
            "4  Trabajadores en actividades agrícolas, ganader...   \n",
            "\n",
            "                   desc_escolaridad  \n",
            "1  Funcionarios, directores y jefes  \n",
            "2  Funcionarios, directores y jefes  \n",
            "3  Funcionarios, directores y jefes  \n",
            "4  Funcionarios, directores y jefes  \n"
          ]
        }
      ]
    },
    {
      "cell_type": "code",
      "source": [
        "print(type(df2010))\n",
        "print(df2010.dtype)\n",
        "# print(df2010)"
      ],
      "metadata": {
        "colab": {
          "base_uri": "https://localhost:8080/",
          "height": 349
        },
        "id": "w1qIBigqAHZz",
        "outputId": "bbbeb1b1-f539-47fe-84a7-3693e9f3a571"
      },
      "execution_count": null,
      "outputs": [
        {
          "output_type": "stream",
          "name": "stdout",
          "text": [
            "<class 'pandas.core.frame.DataFrame'>\n"
          ]
        },
        {
          "output_type": "error",
          "ename": "AttributeError",
          "evalue": "ignored",
          "traceback": [
            "\u001b[0;31m---------------------------------------------------------------------------\u001b[0m",
            "\u001b[0;31mAttributeError\u001b[0m                            Traceback (most recent call last)",
            "\u001b[0;32m<ipython-input-135-102b3734df9e>\u001b[0m in \u001b[0;36m<cell line: 2>\u001b[0;34m()\u001b[0m\n\u001b[1;32m      1\u001b[0m \u001b[0mprint\u001b[0m\u001b[0;34m(\u001b[0m\u001b[0mtype\u001b[0m\u001b[0;34m(\u001b[0m\u001b[0mdf2010\u001b[0m\u001b[0;34m)\u001b[0m\u001b[0;34m)\u001b[0m\u001b[0;34m\u001b[0m\u001b[0;34m\u001b[0m\u001b[0m\n\u001b[0;32m----> 2\u001b[0;31m \u001b[0mprint\u001b[0m\u001b[0;34m(\u001b[0m\u001b[0mdf2010\u001b[0m\u001b[0;34m.\u001b[0m\u001b[0mdtype\u001b[0m\u001b[0;34m)\u001b[0m\u001b[0;34m\u001b[0m\u001b[0;34m\u001b[0m\u001b[0m\n\u001b[0m\u001b[1;32m      3\u001b[0m \u001b[0;31m# print(df2010)\u001b[0m\u001b[0;34m\u001b[0m\u001b[0;34m\u001b[0m\u001b[0m\n",
            "\u001b[0;32m/usr/local/lib/python3.10/dist-packages/pandas/core/generic.py\u001b[0m in \u001b[0;36m__getattr__\u001b[0;34m(self, name)\u001b[0m\n\u001b[1;32m   5900\u001b[0m         ):\n\u001b[1;32m   5901\u001b[0m             \u001b[0;32mreturn\u001b[0m \u001b[0mself\u001b[0m\u001b[0;34m[\u001b[0m\u001b[0mname\u001b[0m\u001b[0;34m]\u001b[0m\u001b[0;34m\u001b[0m\u001b[0;34m\u001b[0m\u001b[0m\n\u001b[0;32m-> 5902\u001b[0;31m         \u001b[0;32mreturn\u001b[0m \u001b[0mobject\u001b[0m\u001b[0;34m.\u001b[0m\u001b[0m__getattribute__\u001b[0m\u001b[0;34m(\u001b[0m\u001b[0mself\u001b[0m\u001b[0;34m,\u001b[0m \u001b[0mname\u001b[0m\u001b[0;34m)\u001b[0m\u001b[0;34m\u001b[0m\u001b[0;34m\u001b[0m\u001b[0m\n\u001b[0m\u001b[1;32m   5903\u001b[0m \u001b[0;34m\u001b[0m\u001b[0m\n\u001b[1;32m   5904\u001b[0m     \u001b[0;32mdef\u001b[0m \u001b[0m__setattr__\u001b[0m\u001b[0;34m(\u001b[0m\u001b[0mself\u001b[0m\u001b[0;34m,\u001b[0m \u001b[0mname\u001b[0m\u001b[0;34m:\u001b[0m \u001b[0mstr\u001b[0m\u001b[0;34m,\u001b[0m \u001b[0mvalue\u001b[0m\u001b[0;34m)\u001b[0m \u001b[0;34m->\u001b[0m \u001b[0;32mNone\u001b[0m\u001b[0;34m:\u001b[0m\u001b[0;34m\u001b[0m\u001b[0;34m\u001b[0m\u001b[0m\n",
            "\u001b[0;31mAttributeError\u001b[0m: 'DataFrame' object has no attribute 'dtype'"
          ]
        }
      ]
    },
    {
      "cell_type": "code",
      "source": [
        "df2010 = df2010.astype(np.float64)"
      ],
      "metadata": {
        "id": "M-ZdpwhWAYs8"
      },
      "execution_count": null,
      "outputs": []
    }
  ]
}