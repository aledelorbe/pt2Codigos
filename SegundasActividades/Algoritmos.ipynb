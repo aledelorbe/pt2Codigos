{
  "nbformat": 4,
  "nbformat_minor": 0,
  "metadata": {
    "colab": {
      "provenance": [],
      "mount_file_id": "1XOhgc7wNeEVx1uS_8S2zYr_L-vO5YwhZ",
      "authorship_tag": "ABX9TyONEneA6VnwtyP+G7YXxwNw",
      "include_colab_link": true
    },
    "kernelspec": {
      "name": "python3",
      "display_name": "Python 3"
    },
    "language_info": {
      "name": "python"
    }
  },
  "cells": [
    {
      "cell_type": "markdown",
      "metadata": {
        "id": "view-in-github",
        "colab_type": "text"
      },
      "source": [
        "<a href=\"https://colab.research.google.com/github/aledelorbe/pt2Codigos/blob/main/SegundasActividades/Algoritmos.ipynb\" target=\"_parent\"><img src=\"https://colab.research.google.com/assets/colab-badge.svg\" alt=\"Open In Colab\"/></a>"
      ]
    },
    {
      "cell_type": "markdown",
      "source": [
        "### Cargar librerias"
      ],
      "metadata": {
        "id": "TfLRvAuPFeqe"
      }
    },
    {
      "cell_type": "code",
      "source": [
        "import pandas as pd\n",
        "import matplotlib.pyplot as plt\n",
        "from sklearn.compose import ColumnTransformer\n",
        "from sklearn.preprocessing import OneHotEncoder\n",
        "import numpy as np"
      ],
      "metadata": {
        "id": "AO4KKD9XEpzI"
      },
      "execution_count": null,
      "outputs": []
    },
    {
      "cell_type": "markdown",
      "source": [
        "### Cargar los dataFrame"
      ],
      "metadata": {
        "id": "r7EfovT3UImO"
      }
    },
    {
      "cell_type": "code",
      "source": [
        "nuevaMortalidadLimpia = '/content/drive/MyDrive/Pt2/Primeras Actividades/0 Bases de Datos/Nueva Mortalidad Limpia/'\n",
        "\n",
        "df2010 = pd.read_csv(nuevaMortalidadLimpia + '2010.csv')\n",
        "df2011 = pd.read_csv(nuevaMortalidadLimpia + '2011.csv')\n",
        "df2012 = pd.read_csv(nuevaMortalidadLimpia + '2012.csv')\n",
        "df2013 = pd.read_csv(nuevaMortalidadLimpia + '2013.csv')\n",
        "df2014 = pd.read_csv(nuevaMortalidadLimpia + '2014.csv')\n",
        "df2015 = pd.read_csv(nuevaMortalidadLimpia + '2015.csv')\n",
        "df2016 = pd.read_csv(nuevaMortalidadLimpia + '2016.csv')\n",
        "df2017 = pd.read_csv(nuevaMortalidadLimpia + '2017.csv')\n",
        "df2018 = pd.read_csv(nuevaMortalidadLimpia + '2018.csv')\n",
        "df2019 = pd.read_csv(nuevaMortalidadLimpia + '2019.csv')"
      ],
      "metadata": {
        "id": "y1JW32OLUImP"
      },
      "execution_count": null,
      "outputs": []
    },
    {
      "cell_type": "code",
      "source": [
        "df2010"
      ],
      "metadata": {
        "colab": {
          "base_uri": "https://localhost:8080/",
          "height": 424
        },
        "id": "ezbkkK_8AJ9K",
        "outputId": "703b919b-22d7-4fc4-c5c8-2f8c1617186c"
      },
      "execution_count": null,
      "outputs": [
        {
          "output_type": "execute_result",
          "data": {
            "text/plain": [
              "         ent_resid_nm                                         detailCaus  \\\n",
              "0      Aguascalientes            Tumor maligno de la cabeza del páncreas   \n",
              "1      Aguascalientes  Tumor maligno de la vejiga urinaria, parte no ...   \n",
              "2      Aguascalientes  Tumor maligno de los bronquios o del pulmón, p...   \n",
              "3             Jalisco  Tumor maligno de los bronquios o del pulmón, p...   \n",
              "4      Aguascalientes  Tumor maligno del riñón, excepto de la pelvis ...   \n",
              "...               ...                                                ...   \n",
              "64292       Zacatecas                           Tumor maligno del ovario   \n",
              "64293         Sinaloa           Tumor maligno de sitios no especificados   \n",
              "64294         Tabasco                                   Mieloma múltiple   \n",
              "64295          Puebla           Tumor maligno de sitios no especificados   \n",
              "64296         Tabasco              Tumor maligno de la glándula tiroides   \n",
              "\n",
              "                                          desc_ocupacion  \\\n",
              "0      Trabajadores en actividades agrícolas, ganader...   \n",
              "1      Trabajadores en actividades agrícolas, ganader...   \n",
              "2      Trabajadores en actividades agrícolas, ganader...   \n",
              "3      Trabajadores en actividades agrícolas, ganader...   \n",
              "4      Trabajadores en actividades agrícolas, ganader...   \n",
              "...                                                  ...   \n",
              "64292                                    No especificada   \n",
              "64293                                    No especificada   \n",
              "64294                           Trabajadores artesanales   \n",
              "64295  Trabajadores en actividades elementales y de a...   \n",
              "64296  Trabajadores en actividades elementales y de a...   \n",
              "\n",
              "                                        desc_escolaridad  \n",
              "0                       Funcionarios, directores y jefes  \n",
              "1                       Funcionarios, directores y jefes  \n",
              "2                       Funcionarios, directores y jefes  \n",
              "3                       Funcionarios, directores y jefes  \n",
              "4                       Funcionarios, directores y jefes  \n",
              "...                                                  ...  \n",
              "64292  Trabajadores en actividades elementales y de a...  \n",
              "64293  Trabajadores en actividades elementales y de a...  \n",
              "64294  Trabajadores en actividades elementales y de a...  \n",
              "64295  Trabajadores en actividades elementales y de a...  \n",
              "64296  Trabajadores en actividades elementales y de a...  \n",
              "\n",
              "[64297 rows x 4 columns]"
            ],
            "text/html": [
              "\n",
              "  <div id=\"df-178f6d8e-f98e-4e5a-9089-e3f0e0a0c002\" class=\"colab-df-container\">\n",
              "    <div>\n",
              "<style scoped>\n",
              "    .dataframe tbody tr th:only-of-type {\n",
              "        vertical-align: middle;\n",
              "    }\n",
              "\n",
              "    .dataframe tbody tr th {\n",
              "        vertical-align: top;\n",
              "    }\n",
              "\n",
              "    .dataframe thead th {\n",
              "        text-align: right;\n",
              "    }\n",
              "</style>\n",
              "<table border=\"1\" class=\"dataframe\">\n",
              "  <thead>\n",
              "    <tr style=\"text-align: right;\">\n",
              "      <th></th>\n",
              "      <th>ent_resid_nm</th>\n",
              "      <th>detailCaus</th>\n",
              "      <th>desc_ocupacion</th>\n",
              "      <th>desc_escolaridad</th>\n",
              "    </tr>\n",
              "  </thead>\n",
              "  <tbody>\n",
              "    <tr>\n",
              "      <th>0</th>\n",
              "      <td>Aguascalientes</td>\n",
              "      <td>Tumor maligno de la cabeza del páncreas</td>\n",
              "      <td>Trabajadores en actividades agrícolas, ganader...</td>\n",
              "      <td>Funcionarios, directores y jefes</td>\n",
              "    </tr>\n",
              "    <tr>\n",
              "      <th>1</th>\n",
              "      <td>Aguascalientes</td>\n",
              "      <td>Tumor maligno de la vejiga urinaria, parte no ...</td>\n",
              "      <td>Trabajadores en actividades agrícolas, ganader...</td>\n",
              "      <td>Funcionarios, directores y jefes</td>\n",
              "    </tr>\n",
              "    <tr>\n",
              "      <th>2</th>\n",
              "      <td>Aguascalientes</td>\n",
              "      <td>Tumor maligno de los bronquios o del pulmón, p...</td>\n",
              "      <td>Trabajadores en actividades agrícolas, ganader...</td>\n",
              "      <td>Funcionarios, directores y jefes</td>\n",
              "    </tr>\n",
              "    <tr>\n",
              "      <th>3</th>\n",
              "      <td>Jalisco</td>\n",
              "      <td>Tumor maligno de los bronquios o del pulmón, p...</td>\n",
              "      <td>Trabajadores en actividades agrícolas, ganader...</td>\n",
              "      <td>Funcionarios, directores y jefes</td>\n",
              "    </tr>\n",
              "    <tr>\n",
              "      <th>4</th>\n",
              "      <td>Aguascalientes</td>\n",
              "      <td>Tumor maligno del riñón, excepto de la pelvis ...</td>\n",
              "      <td>Trabajadores en actividades agrícolas, ganader...</td>\n",
              "      <td>Funcionarios, directores y jefes</td>\n",
              "    </tr>\n",
              "    <tr>\n",
              "      <th>...</th>\n",
              "      <td>...</td>\n",
              "      <td>...</td>\n",
              "      <td>...</td>\n",
              "      <td>...</td>\n",
              "    </tr>\n",
              "    <tr>\n",
              "      <th>64292</th>\n",
              "      <td>Zacatecas</td>\n",
              "      <td>Tumor maligno del ovario</td>\n",
              "      <td>No especificada</td>\n",
              "      <td>Trabajadores en actividades elementales y de a...</td>\n",
              "    </tr>\n",
              "    <tr>\n",
              "      <th>64293</th>\n",
              "      <td>Sinaloa</td>\n",
              "      <td>Tumor maligno de sitios no especificados</td>\n",
              "      <td>No especificada</td>\n",
              "      <td>Trabajadores en actividades elementales y de a...</td>\n",
              "    </tr>\n",
              "    <tr>\n",
              "      <th>64294</th>\n",
              "      <td>Tabasco</td>\n",
              "      <td>Mieloma múltiple</td>\n",
              "      <td>Trabajadores artesanales</td>\n",
              "      <td>Trabajadores en actividades elementales y de a...</td>\n",
              "    </tr>\n",
              "    <tr>\n",
              "      <th>64295</th>\n",
              "      <td>Puebla</td>\n",
              "      <td>Tumor maligno de sitios no especificados</td>\n",
              "      <td>Trabajadores en actividades elementales y de a...</td>\n",
              "      <td>Trabajadores en actividades elementales y de a...</td>\n",
              "    </tr>\n",
              "    <tr>\n",
              "      <th>64296</th>\n",
              "      <td>Tabasco</td>\n",
              "      <td>Tumor maligno de la glándula tiroides</td>\n",
              "      <td>Trabajadores en actividades elementales y de a...</td>\n",
              "      <td>Trabajadores en actividades elementales y de a...</td>\n",
              "    </tr>\n",
              "  </tbody>\n",
              "</table>\n",
              "<p>64297 rows × 4 columns</p>\n",
              "</div>\n",
              "    <div class=\"colab-df-buttons\">\n",
              "\n",
              "  <div class=\"colab-df-container\">\n",
              "    <button class=\"colab-df-convert\" onclick=\"convertToInteractive('df-178f6d8e-f98e-4e5a-9089-e3f0e0a0c002')\"\n",
              "            title=\"Convert this dataframe to an interactive table.\"\n",
              "            style=\"display:none;\">\n",
              "\n",
              "  <svg xmlns=\"http://www.w3.org/2000/svg\" height=\"24px\" viewBox=\"0 -960 960 960\">\n",
              "    <path d=\"M120-120v-720h720v720H120Zm60-500h600v-160H180v160Zm220 220h160v-160H400v160Zm0 220h160v-160H400v160ZM180-400h160v-160H180v160Zm440 0h160v-160H620v160ZM180-180h160v-160H180v160Zm440 0h160v-160H620v160Z\"/>\n",
              "  </svg>\n",
              "    </button>\n",
              "\n",
              "  <style>\n",
              "    .colab-df-container {\n",
              "      display:flex;\n",
              "      gap: 12px;\n",
              "    }\n",
              "\n",
              "    .colab-df-convert {\n",
              "      background-color: #E8F0FE;\n",
              "      border: none;\n",
              "      border-radius: 50%;\n",
              "      cursor: pointer;\n",
              "      display: none;\n",
              "      fill: #1967D2;\n",
              "      height: 32px;\n",
              "      padding: 0 0 0 0;\n",
              "      width: 32px;\n",
              "    }\n",
              "\n",
              "    .colab-df-convert:hover {\n",
              "      background-color: #E2EBFA;\n",
              "      box-shadow: 0px 1px 2px rgba(60, 64, 67, 0.3), 0px 1px 3px 1px rgba(60, 64, 67, 0.15);\n",
              "      fill: #174EA6;\n",
              "    }\n",
              "\n",
              "    .colab-df-buttons div {\n",
              "      margin-bottom: 4px;\n",
              "    }\n",
              "\n",
              "    [theme=dark] .colab-df-convert {\n",
              "      background-color: #3B4455;\n",
              "      fill: #D2E3FC;\n",
              "    }\n",
              "\n",
              "    [theme=dark] .colab-df-convert:hover {\n",
              "      background-color: #434B5C;\n",
              "      box-shadow: 0px 1px 3px 1px rgba(0, 0, 0, 0.15);\n",
              "      filter: drop-shadow(0px 1px 2px rgba(0, 0, 0, 0.3));\n",
              "      fill: #FFFFFF;\n",
              "    }\n",
              "  </style>\n",
              "\n",
              "    <script>\n",
              "      const buttonEl =\n",
              "        document.querySelector('#df-178f6d8e-f98e-4e5a-9089-e3f0e0a0c002 button.colab-df-convert');\n",
              "      buttonEl.style.display =\n",
              "        google.colab.kernel.accessAllowed ? 'block' : 'none';\n",
              "\n",
              "      async function convertToInteractive(key) {\n",
              "        const element = document.querySelector('#df-178f6d8e-f98e-4e5a-9089-e3f0e0a0c002');\n",
              "        const dataTable =\n",
              "          await google.colab.kernel.invokeFunction('convertToInteractive',\n",
              "                                                    [key], {});\n",
              "        if (!dataTable) return;\n",
              "\n",
              "        const docLinkHtml = 'Like what you see? Visit the ' +\n",
              "          '<a target=\"_blank\" href=https://colab.research.google.com/notebooks/data_table.ipynb>data table notebook</a>'\n",
              "          + ' to learn more about interactive tables.';\n",
              "        element.innerHTML = '';\n",
              "        dataTable['output_type'] = 'display_data';\n",
              "        await google.colab.output.renderOutput(dataTable, element);\n",
              "        const docLink = document.createElement('div');\n",
              "        docLink.innerHTML = docLinkHtml;\n",
              "        element.appendChild(docLink);\n",
              "      }\n",
              "    </script>\n",
              "  </div>\n",
              "\n",
              "\n",
              "<div id=\"df-51a1ddeb-65a9-415c-8e89-790bc880f1c4\">\n",
              "  <button class=\"colab-df-quickchart\" onclick=\"quickchart('df-51a1ddeb-65a9-415c-8e89-790bc880f1c4')\"\n",
              "            title=\"Suggest charts\"\n",
              "            style=\"display:none;\">\n",
              "\n",
              "<svg xmlns=\"http://www.w3.org/2000/svg\" height=\"24px\"viewBox=\"0 0 24 24\"\n",
              "     width=\"24px\">\n",
              "    <g>\n",
              "        <path d=\"M19 3H5c-1.1 0-2 .9-2 2v14c0 1.1.9 2 2 2h14c1.1 0 2-.9 2-2V5c0-1.1-.9-2-2-2zM9 17H7v-7h2v7zm4 0h-2V7h2v10zm4 0h-2v-4h2v4z\"/>\n",
              "    </g>\n",
              "</svg>\n",
              "  </button>\n",
              "\n",
              "<style>\n",
              "  .colab-df-quickchart {\n",
              "      --bg-color: #E8F0FE;\n",
              "      --fill-color: #1967D2;\n",
              "      --hover-bg-color: #E2EBFA;\n",
              "      --hover-fill-color: #174EA6;\n",
              "      --disabled-fill-color: #AAA;\n",
              "      --disabled-bg-color: #DDD;\n",
              "  }\n",
              "\n",
              "  [theme=dark] .colab-df-quickchart {\n",
              "      --bg-color: #3B4455;\n",
              "      --fill-color: #D2E3FC;\n",
              "      --hover-bg-color: #434B5C;\n",
              "      --hover-fill-color: #FFFFFF;\n",
              "      --disabled-bg-color: #3B4455;\n",
              "      --disabled-fill-color: #666;\n",
              "  }\n",
              "\n",
              "  .colab-df-quickchart {\n",
              "    background-color: var(--bg-color);\n",
              "    border: none;\n",
              "    border-radius: 50%;\n",
              "    cursor: pointer;\n",
              "    display: none;\n",
              "    fill: var(--fill-color);\n",
              "    height: 32px;\n",
              "    padding: 0;\n",
              "    width: 32px;\n",
              "  }\n",
              "\n",
              "  .colab-df-quickchart:hover {\n",
              "    background-color: var(--hover-bg-color);\n",
              "    box-shadow: 0 1px 2px rgba(60, 64, 67, 0.3), 0 1px 3px 1px rgba(60, 64, 67, 0.15);\n",
              "    fill: var(--button-hover-fill-color);\n",
              "  }\n",
              "\n",
              "  .colab-df-quickchart-complete:disabled,\n",
              "  .colab-df-quickchart-complete:disabled:hover {\n",
              "    background-color: var(--disabled-bg-color);\n",
              "    fill: var(--disabled-fill-color);\n",
              "    box-shadow: none;\n",
              "  }\n",
              "\n",
              "  .colab-df-spinner {\n",
              "    border: 2px solid var(--fill-color);\n",
              "    border-color: transparent;\n",
              "    border-bottom-color: var(--fill-color);\n",
              "    animation:\n",
              "      spin 1s steps(1) infinite;\n",
              "  }\n",
              "\n",
              "  @keyframes spin {\n",
              "    0% {\n",
              "      border-color: transparent;\n",
              "      border-bottom-color: var(--fill-color);\n",
              "      border-left-color: var(--fill-color);\n",
              "    }\n",
              "    20% {\n",
              "      border-color: transparent;\n",
              "      border-left-color: var(--fill-color);\n",
              "      border-top-color: var(--fill-color);\n",
              "    }\n",
              "    30% {\n",
              "      border-color: transparent;\n",
              "      border-left-color: var(--fill-color);\n",
              "      border-top-color: var(--fill-color);\n",
              "      border-right-color: var(--fill-color);\n",
              "    }\n",
              "    40% {\n",
              "      border-color: transparent;\n",
              "      border-right-color: var(--fill-color);\n",
              "      border-top-color: var(--fill-color);\n",
              "    }\n",
              "    60% {\n",
              "      border-color: transparent;\n",
              "      border-right-color: var(--fill-color);\n",
              "    }\n",
              "    80% {\n",
              "      border-color: transparent;\n",
              "      border-right-color: var(--fill-color);\n",
              "      border-bottom-color: var(--fill-color);\n",
              "    }\n",
              "    90% {\n",
              "      border-color: transparent;\n",
              "      border-bottom-color: var(--fill-color);\n",
              "    }\n",
              "  }\n",
              "</style>\n",
              "\n",
              "  <script>\n",
              "    async function quickchart(key) {\n",
              "      const quickchartButtonEl =\n",
              "        document.querySelector('#' + key + ' button');\n",
              "      quickchartButtonEl.disabled = true;  // To prevent multiple clicks.\n",
              "      quickchartButtonEl.classList.add('colab-df-spinner');\n",
              "      try {\n",
              "        const charts = await google.colab.kernel.invokeFunction(\n",
              "            'suggestCharts', [key], {});\n",
              "      } catch (error) {\n",
              "        console.error('Error during call to suggestCharts:', error);\n",
              "      }\n",
              "      quickchartButtonEl.classList.remove('colab-df-spinner');\n",
              "      quickchartButtonEl.classList.add('colab-df-quickchart-complete');\n",
              "    }\n",
              "    (() => {\n",
              "      let quickchartButtonEl =\n",
              "        document.querySelector('#df-51a1ddeb-65a9-415c-8e89-790bc880f1c4 button');\n",
              "      quickchartButtonEl.style.display =\n",
              "        google.colab.kernel.accessAllowed ? 'block' : 'none';\n",
              "    })();\n",
              "  </script>\n",
              "</div>\n",
              "    </div>\n",
              "  </div>\n"
            ]
          },
          "metadata": {},
          "execution_count": 139
        }
      ]
    },
    {
      "cell_type": "code",
      "source": [
        "len(df2010['detailCaus'].unique())"
      ],
      "metadata": {
        "colab": {
          "base_uri": "https://localhost:8080/"
        },
        "id": "wTekk5pcUoV0",
        "outputId": "5f4ff1dd-075d-4e0e-870c-9e7339e32f5f"
      },
      "execution_count": null,
      "outputs": [
        {
          "output_type": "execute_result",
          "data": {
            "text/plain": [
              "313"
            ]
          },
          "metadata": {},
          "execution_count": 141
        }
      ]
    },
    {
      "cell_type": "markdown",
      "source": [
        "\n",
        "\n",
        "### Transformaciones"
      ],
      "metadata": {
        "id": "IYraN5eQ3GDU"
      }
    },
    {
      "cell_type": "code",
      "source": [
        "# X1 = df2010[['ent_resid_nm', 'detailCaus']]\n",
        "X1 = df2010.iloc[:, [0, 1]].values"
      ],
      "metadata": {
        "id": "VvniJgjBGlsk"
      },
      "execution_count": null,
      "outputs": []
    },
    {
      "cell_type": "code",
      "source": [
        "# Todas las variables son NO ordinales\n",
        "\n",
        "varOneHotEnco = ColumnTransformer( [('one_hot_encoder', OneHotEncoder(categories = 'auto'), [0, 1])], remainder = 'passthrough')\n",
        "\n",
        "X1 = np.array(varOneHotEnco.fit_transform(X1))\n"
      ],
      "metadata": {
        "id": "UM-5u-x13JIH"
      },
      "execution_count": null,
      "outputs": []
    },
    {
      "cell_type": "code",
      "source": [
        "print(X1)\n"
      ],
      "metadata": {
        "colab": {
          "base_uri": "https://localhost:8080/"
        },
        "id": "r98z-gj2HZJH",
        "outputId": "2abb4214-bbf1-4112-f848-91e7694b8478"
      },
      "execution_count": null,
      "outputs": [
        {
          "output_type": "stream",
          "name": "stdout",
          "text": [
            "  (0, 0)\t1.0\n",
            "  (0, 128)\t1.0\n",
            "  (1, 0)\t1.0\n",
            "  (1, 181)\t1.0\n",
            "  (2, 0)\t1.0\n",
            "  (2, 191)\t1.0\n",
            "  (3, 13)\t1.0\n",
            "  (3, 191)\t1.0\n",
            "  (4, 0)\t1.0\n",
            "  (4, 296)\t1.0\n",
            "  (5, 0)\t1.0\n",
            "  (5, 191)\t1.0\n",
            "  (6, 0)\t1.0\n",
            "  (6, 174)\t1.0\n",
            "  (7, 0)\t1.0\n",
            "  (7, 251)\t1.0\n",
            "  (8, 0)\t1.0\n",
            "  (8, 292)\t1.0\n",
            "  (9, 0)\t1.0\n",
            "  (9, 174)\t1.0\n",
            "  (10, 31)\t1.0\n",
            "  (10, 66)\t1.0\n",
            "  (11, 13)\t1.0\n",
            "  (11, 191)\t1.0\n",
            "  (12, 0)\t1.0\n",
            "  :\t:\n",
            "  (64284, 174)\t1.0\n",
            "  (64285, 29)\t1.0\n",
            "  (64285, 181)\t1.0\n",
            "  (64286, 29)\t1.0\n",
            "  (64286, 69)\t1.0\n",
            "  (64287, 29)\t1.0\n",
            "  (64287, 191)\t1.0\n",
            "  (64288, 29)\t1.0\n",
            "  (64288, 174)\t1.0\n",
            "  (64289, 29)\t1.0\n",
            "  (64289, 226)\t1.0\n",
            "  (64290, 29)\t1.0\n",
            "  (64290, 82)\t1.0\n",
            "  (64291, 30)\t1.0\n",
            "  (64291, 170)\t1.0\n",
            "  (64292, 31)\t1.0\n",
            "  (64292, 281)\t1.0\n",
            "  (64293, 24)\t1.0\n",
            "  (64293, 213)\t1.0\n",
            "  (64294, 26)\t1.0\n",
            "  (64294, 110)\t1.0\n",
            "  (64295, 20)\t1.0\n",
            "  (64295, 213)\t1.0\n",
            "  (64296, 26)\t1.0\n",
            "  (64296, 148)\t1.0\n"
          ]
        }
      ]
    },
    {
      "cell_type": "code",
      "source": [
        "print(df2010[1:5])"
      ],
      "metadata": {
        "colab": {
          "base_uri": "https://localhost:8080/"
        },
        "id": "r1aP_oHBBBgi",
        "outputId": "c5bcb07b-4eec-424d-92d8-c30db9cbf722"
      },
      "execution_count": null,
      "outputs": [
        {
          "output_type": "stream",
          "name": "stdout",
          "text": [
            "     ent_resid_nm                                         detailCaus  \\\n",
            "1  Aguascalientes  Tumor maligno de la vejiga urinaria, parte no ...   \n",
            "2  Aguascalientes  Tumor maligno de los bronquios o del pulmón, p...   \n",
            "3         Jalisco  Tumor maligno de los bronquios o del pulmón, p...   \n",
            "4  Aguascalientes  Tumor maligno del riñón, excepto de la pelvis ...   \n",
            "\n",
            "                                      desc_ocupacion  \\\n",
            "1  Trabajadores en actividades agrícolas, ganader...   \n",
            "2  Trabajadores en actividades agrícolas, ganader...   \n",
            "3  Trabajadores en actividades agrícolas, ganader...   \n",
            "4  Trabajadores en actividades agrícolas, ganader...   \n",
            "\n",
            "                   desc_escolaridad  \n",
            "1  Funcionarios, directores y jefes  \n",
            "2  Funcionarios, directores y jefes  \n",
            "3  Funcionarios, directores y jefes  \n",
            "4  Funcionarios, directores y jefes  \n"
          ]
        }
      ]
    },
    {
      "cell_type": "code",
      "source": [
        "print(type(df2010))\n",
        "print(df2010.dtype)\n",
        "# print(df2010)"
      ],
      "metadata": {
        "colab": {
          "base_uri": "https://localhost:8080/",
          "height": 349
        },
        "id": "w1qIBigqAHZz",
        "outputId": "bbbeb1b1-f539-47fe-84a7-3693e9f3a571"
      },
      "execution_count": null,
      "outputs": [
        {
          "output_type": "stream",
          "name": "stdout",
          "text": [
            "<class 'pandas.core.frame.DataFrame'>\n"
          ]
        },
        {
          "output_type": "error",
          "ename": "AttributeError",
          "evalue": "ignored",
          "traceback": [
            "\u001b[0;31m---------------------------------------------------------------------------\u001b[0m",
            "\u001b[0;31mAttributeError\u001b[0m                            Traceback (most recent call last)",
            "\u001b[0;32m<ipython-input-135-102b3734df9e>\u001b[0m in \u001b[0;36m<cell line: 2>\u001b[0;34m()\u001b[0m\n\u001b[1;32m      1\u001b[0m \u001b[0mprint\u001b[0m\u001b[0;34m(\u001b[0m\u001b[0mtype\u001b[0m\u001b[0;34m(\u001b[0m\u001b[0mdf2010\u001b[0m\u001b[0;34m)\u001b[0m\u001b[0;34m)\u001b[0m\u001b[0;34m\u001b[0m\u001b[0;34m\u001b[0m\u001b[0m\n\u001b[0;32m----> 2\u001b[0;31m \u001b[0mprint\u001b[0m\u001b[0;34m(\u001b[0m\u001b[0mdf2010\u001b[0m\u001b[0;34m.\u001b[0m\u001b[0mdtype\u001b[0m\u001b[0;34m)\u001b[0m\u001b[0;34m\u001b[0m\u001b[0;34m\u001b[0m\u001b[0m\n\u001b[0m\u001b[1;32m      3\u001b[0m \u001b[0;31m# print(df2010)\u001b[0m\u001b[0;34m\u001b[0m\u001b[0;34m\u001b[0m\u001b[0m\n",
            "\u001b[0;32m/usr/local/lib/python3.10/dist-packages/pandas/core/generic.py\u001b[0m in \u001b[0;36m__getattr__\u001b[0;34m(self, name)\u001b[0m\n\u001b[1;32m   5900\u001b[0m         ):\n\u001b[1;32m   5901\u001b[0m             \u001b[0;32mreturn\u001b[0m \u001b[0mself\u001b[0m\u001b[0;34m[\u001b[0m\u001b[0mname\u001b[0m\u001b[0;34m]\u001b[0m\u001b[0;34m\u001b[0m\u001b[0;34m\u001b[0m\u001b[0m\n\u001b[0;32m-> 5902\u001b[0;31m         \u001b[0;32mreturn\u001b[0m \u001b[0mobject\u001b[0m\u001b[0;34m.\u001b[0m\u001b[0m__getattribute__\u001b[0m\u001b[0;34m(\u001b[0m\u001b[0mself\u001b[0m\u001b[0;34m,\u001b[0m \u001b[0mname\u001b[0m\u001b[0;34m)\u001b[0m\u001b[0;34m\u001b[0m\u001b[0;34m\u001b[0m\u001b[0m\n\u001b[0m\u001b[1;32m   5903\u001b[0m \u001b[0;34m\u001b[0m\u001b[0m\n\u001b[1;32m   5904\u001b[0m     \u001b[0;32mdef\u001b[0m \u001b[0m__setattr__\u001b[0m\u001b[0;34m(\u001b[0m\u001b[0mself\u001b[0m\u001b[0;34m,\u001b[0m \u001b[0mname\u001b[0m\u001b[0;34m:\u001b[0m \u001b[0mstr\u001b[0m\u001b[0;34m,\u001b[0m \u001b[0mvalue\u001b[0m\u001b[0;34m)\u001b[0m \u001b[0;34m->\u001b[0m \u001b[0;32mNone\u001b[0m\u001b[0;34m:\u001b[0m\u001b[0;34m\u001b[0m\u001b[0;34m\u001b[0m\u001b[0m\n",
            "\u001b[0;31mAttributeError\u001b[0m: 'DataFrame' object has no attribute 'dtype'"
          ]
        }
      ]
    },
    {
      "cell_type": "code",
      "source": [
        "df2010 = df2010.astype(np.float64)"
      ],
      "metadata": {
        "id": "M-ZdpwhWAYs8"
      },
      "execution_count": null,
      "outputs": []
    }
  ]
}