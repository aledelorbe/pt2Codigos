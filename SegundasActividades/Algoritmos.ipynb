{
  "nbformat": 4,
  "nbformat_minor": 0,
  "metadata": {
    "colab": {
      "provenance": [],
      "toc_visible": true,
      "mount_file_id": "1XOhgc7wNeEVx1uS_8S2zYr_L-vO5YwhZ",
      "authorship_tag": "ABX9TyOSRQ5jX2Kq6OxQSRbDxc22",
      "include_colab_link": true
    },
    "kernelspec": {
      "name": "python3",
      "display_name": "Python 3"
    },
    "language_info": {
      "name": "python"
    }
  },
  "cells": [
    {
      "cell_type": "markdown",
      "metadata": {
        "id": "view-in-github",
        "colab_type": "text"
      },
      "source": [
        "<a href=\"https://colab.research.google.com/github/aledelorbe/pt2Codigos/blob/main/SegundasActividades/Algoritmos.ipynb\" target=\"_parent\"><img src=\"https://colab.research.google.com/assets/colab-badge.svg\" alt=\"Open In Colab\"/></a>"
      ]
    },
    {
      "cell_type": "markdown",
      "source": [
        "### Cargar librerias"
      ],
      "metadata": {
        "id": "TfLRvAuPFeqe"
      }
    },
    {
      "cell_type": "code",
      "source": [
        "import pandas as pd\n",
        "import matplotlib.pyplot as plt\n",
        "from sklearn.compose import ColumnTransformer\n",
        "from sklearn.preprocessing import OneHotEncoder\n",
        "from sklearn.preprocessing import OrdinalEncoder\n",
        "import numpy as np\n",
        "from sklearn.cluster import KMeans"
      ],
      "metadata": {
        "id": "AO4KKD9XEpzI"
      },
      "execution_count": 149,
      "outputs": []
    },
    {
      "cell_type": "markdown",
      "source": [
        "### Cargar los dataFrame"
      ],
      "metadata": {
        "id": "r7EfovT3UImO"
      }
    },
    {
      "cell_type": "code",
      "source": [
        "nuevaMortalidadLimpia = '/content/drive/MyDrive/Pt2/Primeras Actividades/0 Bases de Datos/Nueva Mortalidad Limpia/'\n",
        "\n",
        "df2010 = pd.read_csv(nuevaMortalidadLimpia + '2010.csv')\n",
        "df2011 = pd.read_csv(nuevaMortalidadLimpia + '2011.csv')\n",
        "df2012 = pd.read_csv(nuevaMortalidadLimpia + '2012.csv')\n",
        "df2013 = pd.read_csv(nuevaMortalidadLimpia + '2013.csv')\n",
        "df2014 = pd.read_csv(nuevaMortalidadLimpia + '2014.csv')\n",
        "df2015 = pd.read_csv(nuevaMortalidadLimpia + '2015.csv')\n",
        "df2016 = pd.read_csv(nuevaMortalidadLimpia + '2016.csv')\n",
        "df2017 = pd.read_csv(nuevaMortalidadLimpia + '2017.csv')\n",
        "df2018 = pd.read_csv(nuevaMortalidadLimpia + '2018.csv')\n",
        "df2019 = pd.read_csv(nuevaMortalidadLimpia + '2019.csv')"
      ],
      "metadata": {
        "id": "y1JW32OLUImP"
      },
      "execution_count": 150,
      "outputs": []
    },
    {
      "cell_type": "markdown",
      "source": [
        "### Unir todos los fragmentos"
      ],
      "metadata": {
        "id": "G84wwQTELXxl"
      }
    },
    {
      "cell_type": "code",
      "source": [
        "dfDefinitivo = pd.concat([df2010, df2011, df2012, df2013, df2014, df2015, df2016, df2017, df2018, df2019], ignore_index=True)"
      ],
      "metadata": {
        "id": "nNIfr2c5LbJ2"
      },
      "execution_count": 151,
      "outputs": []
    },
    {
      "cell_type": "markdown",
      "source": [
        "### Determinacion de valores distintos en cada columna"
      ],
      "metadata": {
        "id": "lVAEmiRcOsMq"
      }
    },
    {
      "cell_type": "code",
      "source": [
        "# Definicion de la funcion que imprimira los valores distintos de determinada columna en orden alfabetico\n",
        "def imprimirValoresDistintos(df20xx, nombreColumna):\n",
        "  titulo = f\"Columna {nombreColumna}\".center(100, '-')\n",
        "  valoresDistintos = list(df2010[nombreColumna].unique())\n",
        "  valoresDistintos.sort()\n",
        "  print(titulo)\n",
        "  print(valoresDistintos)\n",
        "  print(f'Cantidad de elementos: {len(valoresDistintos)}')\n",
        "\n",
        "  return valoresDistintos\n",
        "\n",
        "estados = imprimirValoresDistintos(dfDefinitivo, 'ent_resid_nm')\n",
        "canceres = imprimirValoresDistintos(dfDefinitivo, 'Organ')\n",
        "trabajos = imprimirValoresDistintos(dfDefinitivo, 'desc_ocupacion')"
      ],
      "metadata": {
        "colab": {
          "base_uri": "https://localhost:8080/"
        },
        "id": "cT-LMWjUOxvI",
        "outputId": "1c50257d-edb9-48b6-e70d-1c86dee994db"
      },
      "execution_count": 152,
      "outputs": [
        {
          "output_type": "stream",
          "name": "stdout",
          "text": [
            "----------------------------------------Columna ent_resid_nm----------------------------------------\n",
            "['Aguascalientes', 'Baja California', 'Baja California Sur', 'Campeche', 'Chiapas', 'Chihuahua', 'Coahuila de Zaragoza', 'Colima', 'Distrito Federal', 'Durango', 'Guanajuato', 'Guerrero', 'Hidalgo', 'Jalisco', 'Michoacán de Ocampo', 'Morelos', 'México', 'Nayarit', 'Nuevo León', 'Oaxaca', 'Puebla', 'Querétaro', 'Quintana Roo', 'San Luis Potosí', 'Sinaloa', 'Sonora', 'Tabasco', 'Tamaulipas', 'Tlaxcala', 'Veracruz de Ignacio de la Llave', 'Yucatán', 'Zacatecas']\n",
            "Cantidad de elementos: 32\n",
            "-------------------------------------------Columna Organ--------------------------------------------\n",
            "['Bladder', 'Bone', 'Brain', 'Breast', 'Cervix Uteri', 'Colon and Rectum', 'Esophagus', 'Eyes', 'Female Genitals', 'Gallbladder', 'Heart', \"Hodgkin's Lymphoma\", 'Kidney', 'Larynx', 'Leukemia', 'Liver ', 'Lungs', 'Lymphoma', 'Male Genitales', 'Melanoma', 'Mesothelioma', 'Mylenoma', 'Nervous', 'Oral Cavity and Pharynx', 'Outter Respiratory', 'Ovary', 'Pancreas', 'Prostate', 'Skin non Melanoma ', 'Soft Tissue', 'Stomach', 'Testis', 'Thyroid', 'Trachea', 'Ureter', 'Urinary Tract Other']\n",
            "Cantidad de elementos: 36\n",
            "---------------------------------------Columna desc_ocupacion---------------------------------------\n",
            "['Comerciantes, empleados en ventas y agentes de ventas', 'Funcionarios, directores y jefes', 'Insuficientemente especificada', 'No aplica a menores de 5 años', 'No especificada', 'No trabaja', 'Operadores de maquinaria industrial, ensambladores, choferes y conductores de transporte', 'Profesionistas y técnicos', 'Trabajadores artesanales', 'Trabajadores auxiliares en actividades administrativas', 'Trabajadores en actividades agrícolas, ganaderas, forestales, caza y pesca', 'Trabajadores en actividades elementales y de apoyo', 'Trabajadores en servicios personales y vigilancia']\n",
            "Cantidad de elementos: 13\n"
          ]
        }
      ]
    },
    {
      "cell_type": "code",
      "source": [
        "# Para este caso se hace distinto ya que se desea crear una jerarquia (de menor a mayor jerarquia)\n",
        "nivelesEscolares = [\n",
        "    'No especificada ',\n",
        "    'No aplica a menores de 3 años',\n",
        "    'Sin escolaridad',\n",
        "    'Preescolar',\n",
        "    'Primaria completa',\n",
        "    'Secundaria incompleta',\n",
        "    'Secundaria completa',\n",
        "    'Bachillerato o preparatoria',\n",
        "    'Profesional',\n",
        "    'Posgrado',\n",
        "]\n",
        "print(f'Cantidad de elementos: {len(nivelesEscolares)}')"
      ],
      "metadata": {
        "id": "MyoiQj3OHWKb",
        "colab": {
          "base_uri": "https://localhost:8080/"
        },
        "outputId": "a238acb8-4faa-4097-b201-d74ea142d6a1"
      },
      "execution_count": 153,
      "outputs": [
        {
          "output_type": "stream",
          "name": "stdout",
          "text": [
            "Cantidad de elementos: 10\n"
          ]
        }
      ]
    },
    {
      "cell_type": "markdown",
      "source": [
        "### Asociar variables y metricas por cada estado"
      ],
      "metadata": {
        "id": "n6XpXQPegwjG"
      }
    },
    {
      "cell_type": "code",
      "source": [
        "# Para contar cuantas personas hay con cada tipo de cancer en cierto estado\n",
        "# contemplando que puede haber 0 personas con cierto tipo de cancer en cierto estado\n",
        "def contadorFrecuencias(df, estado, variable, catalogoX):\n",
        "  result = None\n",
        "  for elemento in catalogoX:\n",
        "    condicionX = (df['ent_resid_nm'] == estado) & (df[variable] == elemento)\n",
        "    resultAux = df[condicionX].groupby(variable).size().reset_index(name='Frecuencia')\n",
        "\n",
        "    if len(resultAux) == 0:\n",
        "      dfAux = pd.DataFrame({variable: [elemento], 'Frecuencia': [0]})\n",
        "      result = pd.concat([result, resultAux, dfAux], ignore_index=True)\n",
        "    else:\n",
        "      result = pd.concat([result, resultAux], ignore_index=True)\n",
        "  #print(result)\n",
        "\n",
        "  return result\n",
        "\n",
        "# Realizar una especie de transpuesta para pasar de tener filas asi: 'tipoCancer1', 'frecuencia1'; tipoCancer2', 'frecuencia2';\n",
        "# tener columnas asi: 'tipoCancer1', 'frecuencia1', tipoCancer2', 'frecuencia2',\n",
        "def transpuesta(df, variable):\n",
        "  dfTranspuesta = pd.DataFrame({\"vacio\": [0]})\n",
        "  for index, row in df.iterrows():\n",
        "    dfTranspuesta[variable + str(index)] = row[variable]\n",
        "    dfTranspuesta[variable + str(index) + 'Cant'] = row[\"Frecuencia\"]\n",
        "  dfTranspuesta = dfTranspuesta.drop(['vacio'], axis=1)\n",
        "  #print(dfTranspuesta)\n",
        "\n",
        "  return dfTranspuesta\n",
        "\n",
        "# Para unir dos dataframe (uno a lado del otro).\n",
        "def unirDataframes(df1, df2):\n",
        "    # Crear columnas 'id' en ambos dataframes\n",
        "    df1['id1'] = 1\n",
        "    df2['id2'] = 1\n",
        "\n",
        "    # Realizar union y eliminar las columnas 'id' de ambos dataframes\n",
        "    df_union = pd.merge(df1, df2, left_on='id1', right_on='id2')\n",
        "    df_union = df_union.drop(['id1', 'id2'], axis=1)\n",
        "\n",
        "    return df_union\n",
        "\n",
        "def asociador(estado, canceres, trabajos, nivelesEscolares):\n",
        "  titulo = f\"Estado {estado}\".center(100, '-')\n",
        "  print(titulo)\n",
        "\n",
        "  dfEstadoX = pd.DataFrame({'estado': [estado]}) # 1\n",
        "\n",
        "  # Asociar los tipos de canceres al estadoX. 36 x 2 = 72\n",
        "  dfFrec = contadorFrecuencias(dfDefinitivo, estado, 'Organ', canceres)\n",
        "  dfCancer = transpuesta(dfFrec, 'Organ')\n",
        "\n",
        "  # Asociar los diferentes trabajos al estadoX. 13 x 2 = 26\n",
        "  dfFrec = contadorFrecuencias(dfDefinitivo, estado, 'desc_ocupacion', trabajos)\n",
        "  dfTrabajo = transpuesta(dfFrec, 'desc_ocupacion')\n",
        "\n",
        "  # Asociar los diferentes niveles academicos al estadoX. 10 x 2 = 20\n",
        "  dfFrec = contadorFrecuencias(dfDefinitivo, estado, 'desc_escolaridad', nivelesEscolares)\n",
        "  dfEducacion = transpuesta(dfFrec, 'desc_escolaridad')\n",
        "\n",
        "  # Unir todos estos dataframe (uno a lado del otro). Total 119\n",
        "  dfEstadoX = unirDataframes(dfEstadoX, dfCancer)\n",
        "  dfEstadoX = unirDataframes(dfEstadoX, dfTrabajo)\n",
        "  dfEstadoX = unirDataframes(dfEstadoX, dfEducacion)\n",
        "\n",
        "  print(dfEstadoX)\n",
        "  print(dfEstadoX.to_string())\n",
        "  return dfEstadoX\n",
        "\n",
        "\n",
        "dfEstados = pd.DataFrame()\n",
        "\n",
        "#for estado in estados: # 4:27\n",
        " # dfEstadoSingular = asociador(estado, canceres, trabajos, nivelesEscolares)\n",
        "  #dfEstados = pd.concat([dfEstados, dfEstadoSingular], ignore_index=True)\n",
        "\n",
        "dfEstadoSingular = asociador('Aguascalientes', canceres, trabajos, nivelesEscolares)\n",
        "dfEstados = pd.concat([dfEstados, dfEstadoSingular], ignore_index=True)"
      ],
      "metadata": {
        "colab": {
          "base_uri": "https://localhost:8080/"
        },
        "id": "8vvbbme_lKop",
        "outputId": "3be2931e-59c9-48fc-df47-153588c7ed9f"
      },
      "execution_count": 154,
      "outputs": [
        {
          "output_type": "stream",
          "name": "stdout",
          "text": [
            "---------------------------------------Estado Aguascalientes----------------------------------------\n",
            "           estado   Organ0  Organ0Cant Organ1  Organ1Cant Organ2  Organ2Cant  \\\n",
            "0  Aguascalientes  Bladder         123   Bone         130  Brain         276   \n",
            "\n",
            "   Organ3  Organ3Cant        Organ4  ...      desc_escolaridad5  \\\n",
            "0  Breast         710  Cervix Uteri  ...  Secundaria incompleta   \n",
            "\n",
            "  desc_escolaridad5Cant    desc_escolaridad6 desc_escolaridad6Cant  \\\n",
            "0                   166  Secundaria completa                   993   \n",
            "\n",
            "             desc_escolaridad7 desc_escolaridad7Cant  desc_escolaridad8  \\\n",
            "0  Bachillerato o preparatoria                   671        Profesional   \n",
            "\n",
            "  desc_escolaridad8Cant  desc_escolaridad9 desc_escolaridad9Cant  \n",
            "0                   902           Posgrado                    82  \n",
            "\n",
            "[1 rows x 119 columns]\n",
            "           estado   Organ0  Organ0Cant Organ1  Organ1Cant Organ2  Organ2Cant  Organ3  Organ3Cant        Organ4  Organ4Cant            Organ5  Organ5Cant     Organ6  Organ6Cant Organ7  Organ7Cant           Organ8  Organ8Cant       Organ9  Organ9Cant Organ10  Organ10Cant             Organ11  Organ11Cant Organ12  Organ12Cant Organ13  Organ13Cant   Organ14  Organ14Cant Organ15  Organ15Cant Organ16  Organ16Cant   Organ17  Organ17Cant         Organ18  Organ18Cant   Organ19  Organ19Cant       Organ20  Organ20Cant   Organ21  Organ21Cant  Organ22  Organ22Cant                  Organ23  Organ23Cant             Organ24  Organ24Cant Organ25  Organ25Cant   Organ26  Organ26Cant   Organ27  Organ27Cant             Organ28  Organ28Cant      Organ29  Organ29Cant  Organ30  Organ30Cant Organ31  Organ31Cant  Organ32  Organ32Cant  Organ33  Organ33Cant Organ34  Organ34Cant              Organ35  Organ35Cant                                        desc_ocupacion0  desc_ocupacion0Cant                   desc_ocupacion1  desc_ocupacion1Cant                 desc_ocupacion2  desc_ocupacion2Cant                desc_ocupacion3  desc_ocupacion3Cant  desc_ocupacion4  desc_ocupacion4Cant desc_ocupacion5  desc_ocupacion5Cant                                                                           desc_ocupacion6  desc_ocupacion6Cant            desc_ocupacion7  desc_ocupacion7Cant           desc_ocupacion8  desc_ocupacion8Cant                                         desc_ocupacion9  desc_ocupacion9Cant                                                            desc_ocupacion10  desc_ocupacion10Cant                                    desc_ocupacion11  desc_ocupacion11Cant                                   desc_ocupacion12  desc_ocupacion12Cant desc_escolaridad0  desc_escolaridad0Cant              desc_escolaridad1  desc_escolaridad1Cant desc_escolaridad2  desc_escolaridad2Cant desc_escolaridad3  desc_escolaridad3Cant  desc_escolaridad4  desc_escolaridad4Cant      desc_escolaridad5  desc_escolaridad5Cant    desc_escolaridad6  desc_escolaridad6Cant            desc_escolaridad7  desc_escolaridad7Cant desc_escolaridad8  desc_escolaridad8Cant desc_escolaridad9  desc_escolaridad9Cant\n",
            "0  Aguascalientes  Bladder         123   Bone         130  Brain         276  Breast         710  Cervix Uteri         410  Colon and Rectum         564  Esophagus          97   Eyes           7  Female Genitals          16  Gallbladder         250   Heart            2  Hodgkin's Lymphoma           51  Kidney          219  Larynx           61  Leukemia          473  Liver           366   Lungs          865  Lymphoma          303  Male Genitales           14  Melanoma           75  Mesothelioma           23  Mylenoma           97  Nervous            8  Oral Cavity and Pharynx           97  Outter Respiratory            3   Ovary          243  Pancreas          681  Prostate          640  Skin non Melanoma           151  Soft Tissue          130  Stomach          414  Testis           52  Thyroid           83  Trachea            2  Ureter            4  Urinary Tract Other            4  Comerciantes, empleados en ventas y agentes de ventas                  457  Funcionarios, directores y jefes                   43  Insuficientemente especificada                  303  No aplica a menores de 5 años                   78  No especificada                   68      No trabaja                 4468  Operadores de maquinaria industrial, ensambladores, choferes y conductores de transporte                  287  Profesionistas y técnicos                  551  Trabajadores artesanales                  333  Trabajadores auxiliares en actividades administrativas                  189  Trabajadores en actividades agrícolas, ganaderas, forestales, caza y pesca                   541  Trabajadores en actividades elementales y de apoyo                   219  Trabajadores en servicios personales y vigilancia                   106  No especificada                     247  No aplica a menores de 3 años                     39   Sin escolaridad                    767        Preescolar                   1835  Primaria completa                   1942  Secundaria incompleta                    166  Secundaria completa                    993  Bachillerato o preparatoria                    671       Profesional                    902          Posgrado                     82\n"
          ]
        }
      ]
    },
    {
      "cell_type": "markdown",
      "source": [
        "\n",
        "\n",
        "### Transformaciones"
      ],
      "metadata": {
        "id": "IYraN5eQ3GDU"
      }
    },
    {
      "cell_type": "markdown",
      "source": [
        "#### Educación"
      ],
      "metadata": {
        "id": "Gax5eDsMF14l"
      }
    },
    {
      "cell_type": "code",
      "source": [
        "# Definicion de la funcion que codificara a la variable 'desc_escolaridad'\n",
        "def codificadorOrdinalEducacion(df20xx, nombreDf, educaciones):\n",
        "  print(df20xx)\n",
        "\n",
        "  # Crear cada elemento de 'educaciones' como una columna y rellenarla con puros 0's\n",
        "  for elemento in educaciones:\n",
        "    df20xx[elemento] = 0\n",
        "\n",
        "  # Hacer que: si un registro tiene cierta categoria, todas las categorias de menor jerarquia a esa, se les coloque\n",
        "  # un uno. Pe si un registro tiene la categoria primaria completa a esa columna colocarle un uno, pero tambien\n",
        "  # en 'preescolar', en 'No aplica a menores de 3 años' y en 'No especificada ' ó si una persona tiene el valor de\n",
        "  # posgrado tendra un uno en esa columna y en todas las demas (porque es el de mayor jerarquia).\n",
        "  condicion1 = (df20xx['desc_escolaridad'] == 'No especificada ')\n",
        "  df20xx.loc[condicion1, educaciones[0]] = 1\n",
        "\n",
        "  condicion2 = (df20xx['desc_escolaridad'] == 'No aplica a menores de 3 años')\n",
        "  df20xx.loc[condicion2, educaciones[0:2]] = 1\n",
        "\n",
        "  condicion3 = (df20xx['desc_escolaridad'] == 'Sin escolaridad')\n",
        "  df20xx.loc[condicion3, educaciones[0:3]] = 1\n",
        "\n",
        "  condicion4 = (df20xx['desc_escolaridad'] == 'Preescolar')\n",
        "  df20xx.loc[condicion4, educaciones[0:4]] = 1\n",
        "\n",
        "  condicion5 = (df20xx['desc_escolaridad'] == 'Primaria completa')\n",
        "  df20xx.loc[condicion5, educaciones[0:5]] = 1\n",
        "\n",
        "  condicion6 = (df20xx['desc_escolaridad'] == 'Secundaria incompleta')\n",
        "  df20xx.loc[condicion6, educaciones[0:6]] = 1\n",
        "\n",
        "  condicion7 = (df20xx['desc_escolaridad'] == 'Secundaria completa')\n",
        "  df20xx.loc[condicion7, educaciones[0:7]] = 1\n",
        "\n",
        "  condicion8 = (df20xx['desc_escolaridad'] == 'Bachillerato o preparatoria')\n",
        "  df20xx.loc[condicion8, educaciones[0:8]] = 1\n",
        "\n",
        "  condicion9 = (df20xx['desc_escolaridad'] == 'Profesional')\n",
        "  df20xx.loc[condicion9, educaciones[0:9]] = 1\n",
        "\n",
        "  condicion10 = (df20xx['desc_escolaridad'] == 'Posgrado')\n",
        "  df20xx.loc[condicion10, educaciones[0:10]] = 1\n",
        "\n",
        "  # Imprimir resultado\n",
        "  titulo = f\"DataFrame {nombreDf}\".center(100, '-')\n",
        "  print(titulo)\n",
        "  print(df20xx.to_string())\n",
        "\n",
        "  return df20xx\n",
        "\n",
        "# Crear df con los niveles escolares\n",
        "dfEducacionSinCod = pd.DataFrame({'desc_escolaridad': nivelesEscolares})\n",
        "\n",
        "# Mandar a llamar a la funcion dumizadora de la variable 'escolaridad'\n",
        "dfEducacionCod = codificadorOrdinalEducacion(dfEducacionSinCod, 'Niveles escolares codificados', nivelesEscolares)"
      ],
      "metadata": {
        "id": "VvniJgjBGlsk",
        "colab": {
          "base_uri": "https://localhost:8080/"
        },
        "outputId": "50956e2c-dd50-4953-ac56-86cfcb8fde39"
      },
      "execution_count": 155,
      "outputs": [
        {
          "output_type": "stream",
          "name": "stdout",
          "text": [
            "                desc_escolaridad\n",
            "0               No especificada \n",
            "1  No aplica a menores de 3 años\n",
            "2                Sin escolaridad\n",
            "3                     Preescolar\n",
            "4              Primaria completa\n",
            "5          Secundaria incompleta\n",
            "6            Secundaria completa\n",
            "7    Bachillerato o preparatoria\n",
            "8                    Profesional\n",
            "9                       Posgrado\n",
            "------------------------------DataFrame Niveles escolares codificados-------------------------------\n",
            "                desc_escolaridad  No especificada   No aplica a menores de 3 años  Sin escolaridad  Preescolar  Primaria completa  Secundaria incompleta  Secundaria completa  Bachillerato o preparatoria  Profesional  Posgrado\n",
            "0               No especificada                  1                              0                0           0                  0                      0                    0                            0            0         0\n",
            "1  No aplica a menores de 3 años                 1                              1                0           0                  0                      0                    0                            0            0         0\n",
            "2                Sin escolaridad                 1                              1                1           0                  0                      0                    0                            0            0         0\n",
            "3                     Preescolar                 1                              1                1           1                  0                      0                    0                            0            0         0\n",
            "4              Primaria completa                 1                              1                1           1                  1                      0                    0                            0            0         0\n",
            "5          Secundaria incompleta                 1                              1                1           1                  1                      1                    0                            0            0         0\n",
            "6            Secundaria completa                 1                              1                1           1                  1                      1                    1                            0            0         0\n",
            "7    Bachillerato o preparatoria                 1                              1                1           1                  1                      1                    1                            1            0         0\n",
            "8                    Profesional                 1                              1                1           1                  1                      1                    1                            1            1         0\n",
            "9                       Posgrado                 1                              1                1           1                  1                      1                    1                            1            1         1\n"
          ]
        }
      ]
    },
    {
      "cell_type": "markdown",
      "source": [
        "#### Educacion. Poner toda la matriz en una sola fila"
      ],
      "metadata": {
        "id": "4FKbiRe7limV"
      }
    },
    {
      "cell_type": "code",
      "source": [
        "# Definicion de la funcion que se encarga de poner todo el contenido de una matriz en una sola fila\n",
        "def vectorizar(df, caso):\n",
        "  columnas = df.columns.tolist()\n",
        "  columnas = columnas[1:]\n",
        "  #print(len(columnas))\n",
        "\n",
        "  dfCodVect = pd.DataFrame({\"vacio\": [0]})\n",
        "  for index, row in df.iterrows():\n",
        "    if caso == 'Educacion':\n",
        "      dfAux = pd.DataFrame({columnas[0] + str(index): [row[columnas[0]]],\n",
        "                            columnas[1] + str(index): [row[columnas[1]]],\n",
        "                            columnas[2] + str(index): [row[columnas[2]]],\n",
        "                            columnas[3] + str(index): [row[columnas[3]]],\n",
        "                            columnas[4] + str(index): [row[columnas[4]]],\n",
        "                            columnas[5] + str(index): [row[columnas[5]]],\n",
        "                            columnas[6] + str(index): [row[columnas[6]]],\n",
        "                            columnas[7] + str(index): [row[columnas[7]]],\n",
        "                            columnas[8] + str(index): [row[columnas[8]]],\n",
        "                            columnas[9] + str(index): [row[columnas[9]]]})\n",
        "      dfCodVect = pd.concat([dfCodVect, dfAux], axis=1) # 10r x 10col = 100\n",
        "    elif caso == 'Empleo':\n",
        "      dfAux = pd.DataFrame({columnas[0] + str(index): [row[columnas[0]]],\n",
        "                            columnas[1] + str(index): [row[columnas[1]]],\n",
        "                            columnas[2] + str(index): [row[columnas[2]]],\n",
        "                            columnas[3] + str(index): [row[columnas[3]]],\n",
        "                            columnas[4] + str(index): [row[columnas[4]]],\n",
        "                            columnas[5] + str(index): [row[columnas[5]]],\n",
        "                            columnas[6] + str(index): [row[columnas[6]]],\n",
        "                            columnas[7] + str(index): [row[columnas[7]]],\n",
        "                            columnas[8] + str(index): [row[columnas[8]]],\n",
        "                            columnas[9] + str(index): [row[columnas[9]]],\n",
        "                            columnas[10] + str(index): [row[columnas[10]]],\n",
        "                            columnas[11] + str(index): [row[columnas[11]]]}) # Un elemento menos por la ausencia de una columna (por la redundancia)\n",
        "      dfCodVect = pd.concat([dfCodVect, dfAux], axis=1) # 13r x 12col = 156\n",
        "    elif caso == 'Cancer':\n",
        "      dfAux = pd.DataFrame({columnas[0] + str(index): [row[columnas[0]]],\n",
        "                            columnas[1] + str(index): [row[columnas[1]]],\n",
        "                            columnas[2] + str(index): [row[columnas[2]]],\n",
        "                            columnas[3] + str(index): [row[columnas[3]]],\n",
        "                            columnas[4] + str(index): [row[columnas[4]]],\n",
        "                            columnas[5] + str(index): [row[columnas[5]]],\n",
        "                            columnas[6] + str(index): [row[columnas[6]]],\n",
        "                            columnas[7] + str(index): [row[columnas[7]]],\n",
        "                            columnas[8] + str(index): [row[columnas[8]]],\n",
        "                            columnas[9] + str(index): [row[columnas[9]]],\n",
        "                            columnas[10] + str(index): [row[columnas[10]]],\n",
        "                            columnas[11] + str(index): [row[columnas[11]]],\n",
        "                            columnas[12] + str(index): [row[columnas[12]]],\n",
        "                            columnas[13] + str(index): [row[columnas[13]]],\n",
        "                            columnas[14] + str(index): [row[columnas[14]]],\n",
        "                            columnas[15] + str(index): [row[columnas[15]]],\n",
        "                            columnas[16] + str(index): [row[columnas[16]]],\n",
        "                            columnas[17] + str(index): [row[columnas[17]]],\n",
        "                            columnas[18] + str(index): [row[columnas[18]]],\n",
        "                            columnas[19] + str(index): [row[columnas[19]]],\n",
        "                            columnas[20] + str(index): [row[columnas[20]]],\n",
        "                            columnas[21] + str(index): [row[columnas[21]]],\n",
        "                            columnas[22] + str(index): [row[columnas[22]]],\n",
        "                            columnas[23] + str(index): [row[columnas[23]]],\n",
        "                            columnas[24] + str(index): [row[columnas[24]]],\n",
        "                            columnas[25] + str(index): [row[columnas[25]]],\n",
        "                            columnas[26] + str(index): [row[columnas[26]]],\n",
        "                            columnas[27] + str(index): [row[columnas[27]]],\n",
        "                            columnas[28] + str(index): [row[columnas[28]]],\n",
        "                            columnas[29] + str(index): [row[columnas[29]]],\n",
        "                            columnas[30] + str(index): [row[columnas[30]]],\n",
        "                            columnas[31] + str(index): [row[columnas[31]]],\n",
        "                            columnas[32] + str(index): [row[columnas[32]]],\n",
        "                            columnas[33] + str(index): [row[columnas[33]]],\n",
        "                            columnas[34] + str(index): [row[columnas[34]]]}) # Un elemento menos por la ausencia de una columna (por la redundancia)\n",
        "      dfCodVect = pd.concat([dfCodVect, dfAux], axis=1) # 36r x 35col = 1260\n",
        "\n",
        "  dfCodVect = dfCodVect.drop(['vacio'], axis=1)\n",
        "  print(dfCodVect)\n",
        "  print(dfCodVect.to_string())\n",
        "\n",
        "  return dfCodVect\n",
        "\n",
        "# Mandar a llamar la funcion vectorizar para aplicarla sobre el df de: 'Educacion'\n",
        "dfEducacionCodVect = vectorizar(dfEducacionCod, 'Educacion')"
      ],
      "metadata": {
        "colab": {
          "base_uri": "https://localhost:8080/"
        },
        "id": "kiGsEyUYlqL0",
        "outputId": "9d74d4d9-cef6-45d8-ca64-94a0357849c5"
      },
      "execution_count": 156,
      "outputs": [
        {
          "output_type": "stream",
          "name": "stdout",
          "text": [
            "   No especificada 0  No aplica a menores de 3 años0  Sin escolaridad0  \\\n",
            "0                  1                               0                 0   \n",
            "\n",
            "   Preescolar0  Primaria completa0  Secundaria incompleta0  \\\n",
            "0            0                   0                       0   \n",
            "\n",
            "   Secundaria completa0  Bachillerato o preparatoria0  Profesional0  \\\n",
            "0                     0                             0             0   \n",
            "\n",
            "   Posgrado0  ...  No especificada 9  No aplica a menores de 3 años9  \\\n",
            "0          0  ...                  1                               1   \n",
            "\n",
            "   Sin escolaridad9  Preescolar9  Primaria completa9  Secundaria incompleta9  \\\n",
            "0                 1            1                   1                       1   \n",
            "\n",
            "   Secundaria completa9  Bachillerato o preparatoria9  Profesional9  Posgrado9  \n",
            "0                     1                             1             1          1  \n",
            "\n",
            "[1 rows x 100 columns]\n",
            "   No especificada 0  No aplica a menores de 3 años0  Sin escolaridad0  Preescolar0  Primaria completa0  Secundaria incompleta0  Secundaria completa0  Bachillerato o preparatoria0  Profesional0  Posgrado0  No especificada 1  No aplica a menores de 3 años1  Sin escolaridad1  Preescolar1  Primaria completa1  Secundaria incompleta1  Secundaria completa1  Bachillerato o preparatoria1  Profesional1  Posgrado1  No especificada 2  No aplica a menores de 3 años2  Sin escolaridad2  Preescolar2  Primaria completa2  Secundaria incompleta2  Secundaria completa2  Bachillerato o preparatoria2  Profesional2  Posgrado2  No especificada 3  No aplica a menores de 3 años3  Sin escolaridad3  Preescolar3  Primaria completa3  Secundaria incompleta3  Secundaria completa3  Bachillerato o preparatoria3  Profesional3  Posgrado3  No especificada 4  No aplica a menores de 3 años4  Sin escolaridad4  Preescolar4  Primaria completa4  Secundaria incompleta4  Secundaria completa4  Bachillerato o preparatoria4  Profesional4  Posgrado4  No especificada 5  No aplica a menores de 3 años5  Sin escolaridad5  Preescolar5  Primaria completa5  Secundaria incompleta5  Secundaria completa5  Bachillerato o preparatoria5  Profesional5  Posgrado5  No especificada 6  No aplica a menores de 3 años6  Sin escolaridad6  Preescolar6  Primaria completa6  Secundaria incompleta6  Secundaria completa6  Bachillerato o preparatoria6  Profesional6  Posgrado6  No especificada 7  No aplica a menores de 3 años7  Sin escolaridad7  Preescolar7  Primaria completa7  Secundaria incompleta7  Secundaria completa7  Bachillerato o preparatoria7  Profesional7  Posgrado7  No especificada 8  No aplica a menores de 3 años8  Sin escolaridad8  Preescolar8  Primaria completa8  Secundaria incompleta8  Secundaria completa8  Bachillerato o preparatoria8  Profesional8  Posgrado8  No especificada 9  No aplica a menores de 3 años9  Sin escolaridad9  Preescolar9  Primaria completa9  Secundaria incompleta9  Secundaria completa9  Bachillerato o preparatoria9  Profesional9  Posgrado9\n",
            "0                  1                               0                 0            0                   0                       0                     0                             0             0          0                  1                               1                 0            0                   0                       0                     0                             0             0          0                  1                               1                 1            0                   0                       0                     0                             0             0          0                  1                               1                 1            1                   0                       0                     0                             0             0          0                  1                               1                 1            1                   1                       0                     0                             0             0          0                  1                               1                 1            1                   1                       1                     0                             0             0          0                  1                               1                 1            1                   1                       1                     1                             0             0          0                  1                               1                 1            1                   1                       1                     1                             1             0          0                  1                               1                 1            1                   1                       1                     1                             1             1          0                  1                               1                 1            1                   1                       1                     1                             1             1          1\n"
          ]
        }
      ]
    },
    {
      "cell_type": "markdown",
      "source": [
        "#### Empleo"
      ],
      "metadata": {
        "id": "XMOoaUS1Zs4A"
      }
    },
    {
      "cell_type": "code",
      "source": [
        "# Definicion de la funcion que dumizara distintas variables en cada fragmento\n",
        "def duminizador(df20xx, nombreDf, nombreVariable):\n",
        "  print(df20xx)\n",
        "\n",
        "  # Dumizar variable\n",
        "  dummies = pd.get_dummies(df20xx[nombreVariable], drop_first = True)\n",
        "  # drop_first = True -> es para que nos agregue solo k-1 categorias distintas y no se agregue la categoria k la cual solo provoca redundancia\n",
        "  df20xx = pd.concat([df20xx, dummies], axis = 1) # Añadimos las variables binarias al DataFrame\n",
        "\n",
        "  # Solicitud de las categorias que se encuentran en la variable: 'desc_ocupacion'\n",
        "  nombresCategoriasX = dummies.columns.tolist()\n",
        "\n",
        "  # Imprimir resultado\n",
        "  titulo = f\"DataFrame {nombreDf}\".center(100, '-')\n",
        "  print(titulo)\n",
        "  print(df20xx.to_string())\n",
        "\n",
        "  return df20xx\n",
        "\n",
        "# Crear df con los tipos de trabajo\n",
        "dfTrabajosSinCod = pd.DataFrame({'desc_ocupacion': trabajos})\n",
        "\n",
        "# Mandar a llamar a la funcion dumizadora de la variable 'trabajos'\n",
        "dfTrabajosCod = duminizador(dfTrabajosSinCod, 'Trabajos codificados', 'desc_ocupacion')"
      ],
      "metadata": {
        "colab": {
          "base_uri": "https://localhost:8080/"
        },
        "id": "p1LNz5L_Rpef",
        "outputId": "a499a676-5e49-4e63-ae4a-23cfbf117935"
      },
      "execution_count": 157,
      "outputs": [
        {
          "output_type": "stream",
          "name": "stdout",
          "text": [
            "                                       desc_ocupacion\n",
            "0   Comerciantes, empleados en ventas y agentes de...\n",
            "1                    Funcionarios, directores y jefes\n",
            "2                      Insuficientemente especificada\n",
            "3                       No aplica a menores de 5 años\n",
            "4                                     No especificada\n",
            "5                                          No trabaja\n",
            "6   Operadores de maquinaria industrial, ensamblad...\n",
            "7                           Profesionistas y técnicos\n",
            "8                            Trabajadores artesanales\n",
            "9   Trabajadores auxiliares en actividades adminis...\n",
            "10  Trabajadores en actividades agrícolas, ganader...\n",
            "11  Trabajadores en actividades elementales y de a...\n",
            "12  Trabajadores en servicios personales y vigilancia\n",
            "-----------------------------------DataFrame Trabajos codificados-----------------------------------\n",
            "                                                                              desc_ocupacion  Funcionarios, directores y jefes  Insuficientemente especificada  No aplica a menores de 5 años  No especificada  No trabaja  Operadores de maquinaria industrial, ensambladores, choferes y conductores de transporte  Profesionistas y técnicos  Trabajadores artesanales  Trabajadores auxiliares en actividades administrativas  Trabajadores en actividades agrícolas, ganaderas, forestales, caza y pesca  Trabajadores en actividades elementales y de apoyo  Trabajadores en servicios personales y vigilancia\n",
            "0                                      Comerciantes, empleados en ventas y agentes de ventas                                 0                               0                              0                0           0                                                                                         0                          0                         0                                                       0                                                                           0                                                   0                                                  0\n",
            "1                                                           Funcionarios, directores y jefes                                 1                               0                              0                0           0                                                                                         0                          0                         0                                                       0                                                                           0                                                   0                                                  0\n",
            "2                                                             Insuficientemente especificada                                 0                               1                              0                0           0                                                                                         0                          0                         0                                                       0                                                                           0                                                   0                                                  0\n",
            "3                                                              No aplica a menores de 5 años                                 0                               0                              1                0           0                                                                                         0                          0                         0                                                       0                                                                           0                                                   0                                                  0\n",
            "4                                                                            No especificada                                 0                               0                              0                1           0                                                                                         0                          0                         0                                                       0                                                                           0                                                   0                                                  0\n",
            "5                                                                                 No trabaja                                 0                               0                              0                0           1                                                                                         0                          0                         0                                                       0                                                                           0                                                   0                                                  0\n",
            "6   Operadores de maquinaria industrial, ensambladores, choferes y conductores de transporte                                 0                               0                              0                0           0                                                                                         1                          0                         0                                                       0                                                                           0                                                   0                                                  0\n",
            "7                                                                  Profesionistas y técnicos                                 0                               0                              0                0           0                                                                                         0                          1                         0                                                       0                                                                           0                                                   0                                                  0\n",
            "8                                                                   Trabajadores artesanales                                 0                               0                              0                0           0                                                                                         0                          0                         1                                                       0                                                                           0                                                   0                                                  0\n",
            "9                                     Trabajadores auxiliares en actividades administrativas                                 0                               0                              0                0           0                                                                                         0                          0                         0                                                       1                                                                           0                                                   0                                                  0\n",
            "10                Trabajadores en actividades agrícolas, ganaderas, forestales, caza y pesca                                 0                               0                              0                0           0                                                                                         0                          0                         0                                                       0                                                                           1                                                   0                                                  0\n",
            "11                                        Trabajadores en actividades elementales y de apoyo                                 0                               0                              0                0           0                                                                                         0                          0                         0                                                       0                                                                           0                                                   1                                                  0\n",
            "12                                         Trabajadores en servicios personales y vigilancia                                 0                               0                              0                0           0                                                                                         0                          0                         0                                                       0                                                                           0                                                   0                                                  1\n"
          ]
        }
      ]
    },
    {
      "cell_type": "markdown",
      "source": [
        "#### Empleo. Poner toda la matriz en una sola fila"
      ],
      "metadata": {
        "id": "v8jz3wT0KUf-"
      }
    },
    {
      "cell_type": "code",
      "source": [
        "# Mandar a llamar la funcion vectorizar para aplicarla sobre el df de: 'Empleo'\n",
        "dfTrabajosCodVect = vectorizar(dfTrabajosCod, 'Empleo')"
      ],
      "metadata": {
        "colab": {
          "base_uri": "https://localhost:8080/"
        },
        "id": "gBa3V3BzKUAe",
        "outputId": "cc5c87b6-63b2-4990-acee-e7ec4dfeb047"
      },
      "execution_count": 158,
      "outputs": [
        {
          "output_type": "stream",
          "name": "stdout",
          "text": [
            "   Funcionarios, directores y jefes0  Insuficientemente especificada0  \\\n",
            "0                                  0                                0   \n",
            "\n",
            "   No aplica a menores de 5 años0  No especificada0  No trabaja0  \\\n",
            "0                               0                 0            0   \n",
            "\n",
            "   Operadores de maquinaria industrial, ensambladores, choferes y conductores de transporte0  \\\n",
            "0                                                  0                                           \n",
            "\n",
            "   Profesionistas y técnicos0  Trabajadores artesanales0  \\\n",
            "0                           0                          0   \n",
            "\n",
            "   Trabajadores auxiliares en actividades administrativas0  \\\n",
            "0                                                  0         \n",
            "\n",
            "   Trabajadores en actividades agrícolas, ganaderas, forestales, caza y pesca0  \\\n",
            "0                                                  0                             \n",
            "\n",
            "   ...  No aplica a menores de 5 años12  No especificada12  No trabaja12  \\\n",
            "0  ...                                0                  0             0   \n",
            "\n",
            "   Operadores de maquinaria industrial, ensambladores, choferes y conductores de transporte12  \\\n",
            "0                                                  0                                            \n",
            "\n",
            "   Profesionistas y técnicos12  Trabajadores artesanales12  \\\n",
            "0                            0                           0   \n",
            "\n",
            "   Trabajadores auxiliares en actividades administrativas12  \\\n",
            "0                                                  0          \n",
            "\n",
            "   Trabajadores en actividades agrícolas, ganaderas, forestales, caza y pesca12  \\\n",
            "0                                                  0                              \n",
            "\n",
            "   Trabajadores en actividades elementales y de apoyo12  \\\n",
            "0                                                  0      \n",
            "\n",
            "   Trabajadores en servicios personales y vigilancia12  \n",
            "0                                                  1    \n",
            "\n",
            "[1 rows x 156 columns]\n",
            "   Funcionarios, directores y jefes0  Insuficientemente especificada0  No aplica a menores de 5 años0  No especificada0  No trabaja0  Operadores de maquinaria industrial, ensambladores, choferes y conductores de transporte0  Profesionistas y técnicos0  Trabajadores artesanales0  Trabajadores auxiliares en actividades administrativas0  Trabajadores en actividades agrícolas, ganaderas, forestales, caza y pesca0  Trabajadores en actividades elementales y de apoyo0  Trabajadores en servicios personales y vigilancia0  Funcionarios, directores y jefes1  Insuficientemente especificada1  No aplica a menores de 5 años1  No especificada1  No trabaja1  Operadores de maquinaria industrial, ensambladores, choferes y conductores de transporte1  Profesionistas y técnicos1  Trabajadores artesanales1  Trabajadores auxiliares en actividades administrativas1  Trabajadores en actividades agrícolas, ganaderas, forestales, caza y pesca1  Trabajadores en actividades elementales y de apoyo1  Trabajadores en servicios personales y vigilancia1  Funcionarios, directores y jefes2  Insuficientemente especificada2  No aplica a menores de 5 años2  No especificada2  No trabaja2  Operadores de maquinaria industrial, ensambladores, choferes y conductores de transporte2  Profesionistas y técnicos2  Trabajadores artesanales2  Trabajadores auxiliares en actividades administrativas2  Trabajadores en actividades agrícolas, ganaderas, forestales, caza y pesca2  Trabajadores en actividades elementales y de apoyo2  Trabajadores en servicios personales y vigilancia2  Funcionarios, directores y jefes3  Insuficientemente especificada3  No aplica a menores de 5 años3  No especificada3  No trabaja3  Operadores de maquinaria industrial, ensambladores, choferes y conductores de transporte3  Profesionistas y técnicos3  Trabajadores artesanales3  Trabajadores auxiliares en actividades administrativas3  Trabajadores en actividades agrícolas, ganaderas, forestales, caza y pesca3  Trabajadores en actividades elementales y de apoyo3  Trabajadores en servicios personales y vigilancia3  Funcionarios, directores y jefes4  Insuficientemente especificada4  No aplica a menores de 5 años4  No especificada4  No trabaja4  Operadores de maquinaria industrial, ensambladores, choferes y conductores de transporte4  Profesionistas y técnicos4  Trabajadores artesanales4  Trabajadores auxiliares en actividades administrativas4  Trabajadores en actividades agrícolas, ganaderas, forestales, caza y pesca4  Trabajadores en actividades elementales y de apoyo4  Trabajadores en servicios personales y vigilancia4  Funcionarios, directores y jefes5  Insuficientemente especificada5  No aplica a menores de 5 años5  No especificada5  No trabaja5  Operadores de maquinaria industrial, ensambladores, choferes y conductores de transporte5  Profesionistas y técnicos5  Trabajadores artesanales5  Trabajadores auxiliares en actividades administrativas5  Trabajadores en actividades agrícolas, ganaderas, forestales, caza y pesca5  Trabajadores en actividades elementales y de apoyo5  Trabajadores en servicios personales y vigilancia5  Funcionarios, directores y jefes6  Insuficientemente especificada6  No aplica a menores de 5 años6  No especificada6  No trabaja6  Operadores de maquinaria industrial, ensambladores, choferes y conductores de transporte6  Profesionistas y técnicos6  Trabajadores artesanales6  Trabajadores auxiliares en actividades administrativas6  Trabajadores en actividades agrícolas, ganaderas, forestales, caza y pesca6  Trabajadores en actividades elementales y de apoyo6  Trabajadores en servicios personales y vigilancia6  Funcionarios, directores y jefes7  Insuficientemente especificada7  No aplica a menores de 5 años7  No especificada7  No trabaja7  Operadores de maquinaria industrial, ensambladores, choferes y conductores de transporte7  Profesionistas y técnicos7  Trabajadores artesanales7  Trabajadores auxiliares en actividades administrativas7  Trabajadores en actividades agrícolas, ganaderas, forestales, caza y pesca7  Trabajadores en actividades elementales y de apoyo7  Trabajadores en servicios personales y vigilancia7  Funcionarios, directores y jefes8  Insuficientemente especificada8  No aplica a menores de 5 años8  No especificada8  No trabaja8  Operadores de maquinaria industrial, ensambladores, choferes y conductores de transporte8  Profesionistas y técnicos8  Trabajadores artesanales8  Trabajadores auxiliares en actividades administrativas8  Trabajadores en actividades agrícolas, ganaderas, forestales, caza y pesca8  Trabajadores en actividades elementales y de apoyo8  Trabajadores en servicios personales y vigilancia8  Funcionarios, directores y jefes9  Insuficientemente especificada9  No aplica a menores de 5 años9  No especificada9  No trabaja9  Operadores de maquinaria industrial, ensambladores, choferes y conductores de transporte9  Profesionistas y técnicos9  Trabajadores artesanales9  Trabajadores auxiliares en actividades administrativas9  Trabajadores en actividades agrícolas, ganaderas, forestales, caza y pesca9  Trabajadores en actividades elementales y de apoyo9  Trabajadores en servicios personales y vigilancia9  Funcionarios, directores y jefes10  Insuficientemente especificada10  No aplica a menores de 5 años10  No especificada10  No trabaja10  Operadores de maquinaria industrial, ensambladores, choferes y conductores de transporte10  Profesionistas y técnicos10  Trabajadores artesanales10  Trabajadores auxiliares en actividades administrativas10  Trabajadores en actividades agrícolas, ganaderas, forestales, caza y pesca10  Trabajadores en actividades elementales y de apoyo10  Trabajadores en servicios personales y vigilancia10  Funcionarios, directores y jefes11  Insuficientemente especificada11  No aplica a menores de 5 años11  No especificada11  No trabaja11  Operadores de maquinaria industrial, ensambladores, choferes y conductores de transporte11  Profesionistas y técnicos11  Trabajadores artesanales11  Trabajadores auxiliares en actividades administrativas11  Trabajadores en actividades agrícolas, ganaderas, forestales, caza y pesca11  Trabajadores en actividades elementales y de apoyo11  Trabajadores en servicios personales y vigilancia11  Funcionarios, directores y jefes12  Insuficientemente especificada12  No aplica a menores de 5 años12  No especificada12  No trabaja12  Operadores de maquinaria industrial, ensambladores, choferes y conductores de transporte12  Profesionistas y técnicos12  Trabajadores artesanales12  Trabajadores auxiliares en actividades administrativas12  Trabajadores en actividades agrícolas, ganaderas, forestales, caza y pesca12  Trabajadores en actividades elementales y de apoyo12  Trabajadores en servicios personales y vigilancia12\n",
            "0                                  0                                0                               0                 0            0                                                                                          0                           0                          0                                                        0                                                                            0                                                    0                                                   0                                  1                                0                               0                 0            0                                                                                          0                           0                          0                                                        0                                                                            0                                                    0                                                   0                                  0                                1                               0                 0            0                                                                                          0                           0                          0                                                        0                                                                            0                                                    0                                                   0                                  0                                0                               1                 0            0                                                                                          0                           0                          0                                                        0                                                                            0                                                    0                                                   0                                  0                                0                               0                 1            0                                                                                          0                           0                          0                                                        0                                                                            0                                                    0                                                   0                                  0                                0                               0                 0            1                                                                                          0                           0                          0                                                        0                                                                            0                                                    0                                                   0                                  0                                0                               0                 0            0                                                                                          1                           0                          0                                                        0                                                                            0                                                    0                                                   0                                  0                                0                               0                 0            0                                                                                          0                           1                          0                                                        0                                                                            0                                                    0                                                   0                                  0                                0                               0                 0            0                                                                                          0                           0                          1                                                        0                                                                            0                                                    0                                                   0                                  0                                0                               0                 0            0                                                                                          0                           0                          0                                                        1                                                                            0                                                    0                                                   0                                   0                                 0                                0                  0             0                                                                                           0                            0                           0                                                         0                                                                             1                                                     0                                                    0                                   0                                 0                                0                  0             0                                                                                           0                            0                           0                                                         0                                                                             0                                                     1                                                    0                                   0                                 0                                0                  0             0                                                                                           0                            0                           0                                                         0                                                                             0                                                     0                                                    1\n"
          ]
        }
      ]
    },
    {
      "cell_type": "markdown",
      "source": [
        "#### Cancer"
      ],
      "metadata": {
        "id": "5Wi0oLUCZvZA"
      }
    },
    {
      "cell_type": "code",
      "source": [
        "# Crear df con los tipos de cancer\n",
        "dfCanceresSinCod = pd.DataFrame({'Organ': canceres})\n",
        "\n",
        "# Mandar a llamar a la funcion dumizadora de la variable 'trabajos'\n",
        "dfCanceresCod = duminizador(dfCanceresSinCod, 'Canceres codificados', 'Organ')"
      ],
      "metadata": {
        "id": "_Ip5N8RfZ2ci",
        "colab": {
          "base_uri": "https://localhost:8080/"
        },
        "outputId": "67c7c6b8-7b5f-4ed0-8f89-dfb22b93df57"
      },
      "execution_count": 159,
      "outputs": [
        {
          "output_type": "stream",
          "name": "stdout",
          "text": [
            "                      Organ\n",
            "0                   Bladder\n",
            "1                      Bone\n",
            "2                     Brain\n",
            "3                    Breast\n",
            "4              Cervix Uteri\n",
            "5          Colon and Rectum\n",
            "6                 Esophagus\n",
            "7                      Eyes\n",
            "8           Female Genitals\n",
            "9               Gallbladder\n",
            "10                    Heart\n",
            "11       Hodgkin's Lymphoma\n",
            "12                   Kidney\n",
            "13                   Larynx\n",
            "14                 Leukemia\n",
            "15                   Liver \n",
            "16                    Lungs\n",
            "17                 Lymphoma\n",
            "18           Male Genitales\n",
            "19                 Melanoma\n",
            "20             Mesothelioma\n",
            "21                 Mylenoma\n",
            "22                  Nervous\n",
            "23  Oral Cavity and Pharynx\n",
            "24       Outter Respiratory\n",
            "25                    Ovary\n",
            "26                 Pancreas\n",
            "27                 Prostate\n",
            "28       Skin non Melanoma \n",
            "29              Soft Tissue\n",
            "30                  Stomach\n",
            "31                   Testis\n",
            "32                  Thyroid\n",
            "33                  Trachea\n",
            "34                   Ureter\n",
            "35      Urinary Tract Other\n",
            "-----------------------------------DataFrame Canceres codificados-----------------------------------\n",
            "                      Organ  Bone  Brain  Breast  Cervix Uteri  Colon and Rectum  Esophagus  Eyes  Female Genitals  Gallbladder  Heart  Hodgkin's Lymphoma  Kidney  Larynx  Leukemia  Liver   Lungs  Lymphoma  Male Genitales  Melanoma  Mesothelioma  Mylenoma  Nervous  Oral Cavity and Pharynx  Outter Respiratory  Ovary  Pancreas  Prostate  Skin non Melanoma   Soft Tissue  Stomach  Testis  Thyroid  Trachea  Ureter  Urinary Tract Other\n",
            "0                   Bladder     0      0       0             0                 0          0     0                0            0      0                   0       0       0         0       0      0         0               0         0             0         0        0                        0                   0      0         0         0                   0            0        0       0        0        0       0                    0\n",
            "1                      Bone     1      0       0             0                 0          0     0                0            0      0                   0       0       0         0       0      0         0               0         0             0         0        0                        0                   0      0         0         0                   0            0        0       0        0        0       0                    0\n",
            "2                     Brain     0      1       0             0                 0          0     0                0            0      0                   0       0       0         0       0      0         0               0         0             0         0        0                        0                   0      0         0         0                   0            0        0       0        0        0       0                    0\n",
            "3                    Breast     0      0       1             0                 0          0     0                0            0      0                   0       0       0         0       0      0         0               0         0             0         0        0                        0                   0      0         0         0                   0            0        0       0        0        0       0                    0\n",
            "4              Cervix Uteri     0      0       0             1                 0          0     0                0            0      0                   0       0       0         0       0      0         0               0         0             0         0        0                        0                   0      0         0         0                   0            0        0       0        0        0       0                    0\n",
            "5          Colon and Rectum     0      0       0             0                 1          0     0                0            0      0                   0       0       0         0       0      0         0               0         0             0         0        0                        0                   0      0         0         0                   0            0        0       0        0        0       0                    0\n",
            "6                 Esophagus     0      0       0             0                 0          1     0                0            0      0                   0       0       0         0       0      0         0               0         0             0         0        0                        0                   0      0         0         0                   0            0        0       0        0        0       0                    0\n",
            "7                      Eyes     0      0       0             0                 0          0     1                0            0      0                   0       0       0         0       0      0         0               0         0             0         0        0                        0                   0      0         0         0                   0            0        0       0        0        0       0                    0\n",
            "8           Female Genitals     0      0       0             0                 0          0     0                1            0      0                   0       0       0         0       0      0         0               0         0             0         0        0                        0                   0      0         0         0                   0            0        0       0        0        0       0                    0\n",
            "9               Gallbladder     0      0       0             0                 0          0     0                0            1      0                   0       0       0         0       0      0         0               0         0             0         0        0                        0                   0      0         0         0                   0            0        0       0        0        0       0                    0\n",
            "10                    Heart     0      0       0             0                 0          0     0                0            0      1                   0       0       0         0       0      0         0               0         0             0         0        0                        0                   0      0         0         0                   0            0        0       0        0        0       0                    0\n",
            "11       Hodgkin's Lymphoma     0      0       0             0                 0          0     0                0            0      0                   1       0       0         0       0      0         0               0         0             0         0        0                        0                   0      0         0         0                   0            0        0       0        0        0       0                    0\n",
            "12                   Kidney     0      0       0             0                 0          0     0                0            0      0                   0       1       0         0       0      0         0               0         0             0         0        0                        0                   0      0         0         0                   0            0        0       0        0        0       0                    0\n",
            "13                   Larynx     0      0       0             0                 0          0     0                0            0      0                   0       0       1         0       0      0         0               0         0             0         0        0                        0                   0      0         0         0                   0            0        0       0        0        0       0                    0\n",
            "14                 Leukemia     0      0       0             0                 0          0     0                0            0      0                   0       0       0         1       0      0         0               0         0             0         0        0                        0                   0      0         0         0                   0            0        0       0        0        0       0                    0\n",
            "15                   Liver      0      0       0             0                 0          0     0                0            0      0                   0       0       0         0       1      0         0               0         0             0         0        0                        0                   0      0         0         0                   0            0        0       0        0        0       0                    0\n",
            "16                    Lungs     0      0       0             0                 0          0     0                0            0      0                   0       0       0         0       0      1         0               0         0             0         0        0                        0                   0      0         0         0                   0            0        0       0        0        0       0                    0\n",
            "17                 Lymphoma     0      0       0             0                 0          0     0                0            0      0                   0       0       0         0       0      0         1               0         0             0         0        0                        0                   0      0         0         0                   0            0        0       0        0        0       0                    0\n",
            "18           Male Genitales     0      0       0             0                 0          0     0                0            0      0                   0       0       0         0       0      0         0               1         0             0         0        0                        0                   0      0         0         0                   0            0        0       0        0        0       0                    0\n",
            "19                 Melanoma     0      0       0             0                 0          0     0                0            0      0                   0       0       0         0       0      0         0               0         1             0         0        0                        0                   0      0         0         0                   0            0        0       0        0        0       0                    0\n",
            "20             Mesothelioma     0      0       0             0                 0          0     0                0            0      0                   0       0       0         0       0      0         0               0         0             1         0        0                        0                   0      0         0         0                   0            0        0       0        0        0       0                    0\n",
            "21                 Mylenoma     0      0       0             0                 0          0     0                0            0      0                   0       0       0         0       0      0         0               0         0             0         1        0                        0                   0      0         0         0                   0            0        0       0        0        0       0                    0\n",
            "22                  Nervous     0      0       0             0                 0          0     0                0            0      0                   0       0       0         0       0      0         0               0         0             0         0        1                        0                   0      0         0         0                   0            0        0       0        0        0       0                    0\n",
            "23  Oral Cavity and Pharynx     0      0       0             0                 0          0     0                0            0      0                   0       0       0         0       0      0         0               0         0             0         0        0                        1                   0      0         0         0                   0            0        0       0        0        0       0                    0\n",
            "24       Outter Respiratory     0      0       0             0                 0          0     0                0            0      0                   0       0       0         0       0      0         0               0         0             0         0        0                        0                   1      0         0         0                   0            0        0       0        0        0       0                    0\n",
            "25                    Ovary     0      0       0             0                 0          0     0                0            0      0                   0       0       0         0       0      0         0               0         0             0         0        0                        0                   0      1         0         0                   0            0        0       0        0        0       0                    0\n",
            "26                 Pancreas     0      0       0             0                 0          0     0                0            0      0                   0       0       0         0       0      0         0               0         0             0         0        0                        0                   0      0         1         0                   0            0        0       0        0        0       0                    0\n",
            "27                 Prostate     0      0       0             0                 0          0     0                0            0      0                   0       0       0         0       0      0         0               0         0             0         0        0                        0                   0      0         0         1                   0            0        0       0        0        0       0                    0\n",
            "28       Skin non Melanoma      0      0       0             0                 0          0     0                0            0      0                   0       0       0         0       0      0         0               0         0             0         0        0                        0                   0      0         0         0                   1            0        0       0        0        0       0                    0\n",
            "29              Soft Tissue     0      0       0             0                 0          0     0                0            0      0                   0       0       0         0       0      0         0               0         0             0         0        0                        0                   0      0         0         0                   0            1        0       0        0        0       0                    0\n",
            "30                  Stomach     0      0       0             0                 0          0     0                0            0      0                   0       0       0         0       0      0         0               0         0             0         0        0                        0                   0      0         0         0                   0            0        1       0        0        0       0                    0\n",
            "31                   Testis     0      0       0             0                 0          0     0                0            0      0                   0       0       0         0       0      0         0               0         0             0         0        0                        0                   0      0         0         0                   0            0        0       1        0        0       0                    0\n",
            "32                  Thyroid     0      0       0             0                 0          0     0                0            0      0                   0       0       0         0       0      0         0               0         0             0         0        0                        0                   0      0         0         0                   0            0        0       0        1        0       0                    0\n",
            "33                  Trachea     0      0       0             0                 0          0     0                0            0      0                   0       0       0         0       0      0         0               0         0             0         0        0                        0                   0      0         0         0                   0            0        0       0        0        1       0                    0\n",
            "34                   Ureter     0      0       0             0                 0          0     0                0            0      0                   0       0       0         0       0      0         0               0         0             0         0        0                        0                   0      0         0         0                   0            0        0       0        0        0       1                    0\n",
            "35      Urinary Tract Other     0      0       0             0                 0          0     0                0            0      0                   0       0       0         0       0      0         0               0         0             0         0        0                        0                   0      0         0         0                   0            0        0       0        0        0       0                    1\n"
          ]
        }
      ]
    },
    {
      "cell_type": "markdown",
      "source": [
        "#### Cancer. Poner toda la matriz en una sola fila"
      ],
      "metadata": {
        "id": "s_-db177bWBv"
      }
    },
    {
      "cell_type": "code",
      "source": [
        "# Mandar a llamar la funcion vectorizar para aplicarla sobre el df de: 'Cancer'\n",
        "dfCanceresCodVect = vectorizar(dfCanceresCod, 'Cancer')"
      ],
      "metadata": {
        "colab": {
          "base_uri": "https://localhost:8080/"
        },
        "outputId": "8a07f6ad-32dd-4ee5-80cb-80f03711502b",
        "id": "aBD8NFxubWBv"
      },
      "execution_count": 160,
      "outputs": [
        {
          "output_type": "stream",
          "name": "stdout",
          "text": [
            "   Bone0  Brain0  Breast0  Cervix Uteri0  Colon and Rectum0  Esophagus0  \\\n",
            "0      0       0        0              0                  0           0   \n",
            "\n",
            "   Eyes0  Female Genitals0  Gallbladder0  Heart0  ...  Pancreas35  Prostate35  \\\n",
            "0      0                 0             0       0  ...           0           0   \n",
            "\n",
            "   Skin non Melanoma 35  Soft Tissue35  Stomach35  Testis35  Thyroid35  \\\n",
            "0                     0              0          0         0          0   \n",
            "\n",
            "   Trachea35  Ureter35  Urinary Tract Other35  \n",
            "0          0         0                      1  \n",
            "\n",
            "[1 rows x 1260 columns]\n",
            "   Bone0  Brain0  Breast0  Cervix Uteri0  Colon and Rectum0  Esophagus0  Eyes0  Female Genitals0  Gallbladder0  Heart0  Hodgkin's Lymphoma0  Kidney0  Larynx0  Leukemia0  Liver 0  Lungs0  Lymphoma0  Male Genitales0  Melanoma0  Mesothelioma0  Mylenoma0  Nervous0  Oral Cavity and Pharynx0  Outter Respiratory0  Ovary0  Pancreas0  Prostate0  Skin non Melanoma 0  Soft Tissue0  Stomach0  Testis0  Thyroid0  Trachea0  Ureter0  Urinary Tract Other0  Bone1  Brain1  Breast1  Cervix Uteri1  Colon and Rectum1  Esophagus1  Eyes1  Female Genitals1  Gallbladder1  Heart1  Hodgkin's Lymphoma1  Kidney1  Larynx1  Leukemia1  Liver 1  Lungs1  Lymphoma1  Male Genitales1  Melanoma1  Mesothelioma1  Mylenoma1  Nervous1  Oral Cavity and Pharynx1  Outter Respiratory1  Ovary1  Pancreas1  Prostate1  Skin non Melanoma 1  Soft Tissue1  Stomach1  Testis1  Thyroid1  Trachea1  Ureter1  Urinary Tract Other1  Bone2  Brain2  Breast2  Cervix Uteri2  Colon and Rectum2  Esophagus2  Eyes2  Female Genitals2  Gallbladder2  Heart2  Hodgkin's Lymphoma2  Kidney2  Larynx2  Leukemia2  Liver 2  Lungs2  Lymphoma2  Male Genitales2  Melanoma2  Mesothelioma2  Mylenoma2  Nervous2  Oral Cavity and Pharynx2  Outter Respiratory2  Ovary2  Pancreas2  Prostate2  Skin non Melanoma 2  Soft Tissue2  Stomach2  Testis2  Thyroid2  Trachea2  Ureter2  Urinary Tract Other2  Bone3  Brain3  Breast3  Cervix Uteri3  Colon and Rectum3  Esophagus3  Eyes3  Female Genitals3  Gallbladder3  Heart3  Hodgkin's Lymphoma3  Kidney3  Larynx3  Leukemia3  Liver 3  Lungs3  Lymphoma3  Male Genitales3  Melanoma3  Mesothelioma3  Mylenoma3  Nervous3  Oral Cavity and Pharynx3  Outter Respiratory3  Ovary3  Pancreas3  Prostate3  Skin non Melanoma 3  Soft Tissue3  Stomach3  Testis3  Thyroid3  Trachea3  Ureter3  Urinary Tract Other3  Bone4  Brain4  Breast4  Cervix Uteri4  Colon and Rectum4  Esophagus4  Eyes4  Female Genitals4  Gallbladder4  Heart4  Hodgkin's Lymphoma4  Kidney4  Larynx4  Leukemia4  Liver 4  Lungs4  Lymphoma4  Male Genitales4  Melanoma4  Mesothelioma4  Mylenoma4  Nervous4  Oral Cavity and Pharynx4  Outter Respiratory4  Ovary4  Pancreas4  Prostate4  Skin non Melanoma 4  Soft Tissue4  Stomach4  Testis4  Thyroid4  Trachea4  Ureter4  Urinary Tract Other4  Bone5  Brain5  Breast5  Cervix Uteri5  Colon and Rectum5  Esophagus5  Eyes5  Female Genitals5  Gallbladder5  Heart5  Hodgkin's Lymphoma5  Kidney5  Larynx5  Leukemia5  Liver 5  Lungs5  Lymphoma5  Male Genitales5  Melanoma5  Mesothelioma5  Mylenoma5  Nervous5  Oral Cavity and Pharynx5  Outter Respiratory5  Ovary5  Pancreas5  Prostate5  Skin non Melanoma 5  Soft Tissue5  Stomach5  Testis5  Thyroid5  Trachea5  Ureter5  Urinary Tract Other5  Bone6  Brain6  Breast6  Cervix Uteri6  Colon and Rectum6  Esophagus6  Eyes6  Female Genitals6  Gallbladder6  Heart6  Hodgkin's Lymphoma6  Kidney6  Larynx6  Leukemia6  Liver 6  Lungs6  Lymphoma6  Male Genitales6  Melanoma6  Mesothelioma6  Mylenoma6  Nervous6  Oral Cavity and Pharynx6  Outter Respiratory6  Ovary6  Pancreas6  Prostate6  Skin non Melanoma 6  Soft Tissue6  Stomach6  Testis6  Thyroid6  Trachea6  Ureter6  Urinary Tract Other6  Bone7  Brain7  Breast7  Cervix Uteri7  Colon and Rectum7  Esophagus7  Eyes7  Female Genitals7  Gallbladder7  Heart7  Hodgkin's Lymphoma7  Kidney7  Larynx7  Leukemia7  Liver 7  Lungs7  Lymphoma7  Male Genitales7  Melanoma7  Mesothelioma7  Mylenoma7  Nervous7  Oral Cavity and Pharynx7  Outter Respiratory7  Ovary7  Pancreas7  Prostate7  Skin non Melanoma 7  Soft Tissue7  Stomach7  Testis7  Thyroid7  Trachea7  Ureter7  Urinary Tract Other7  Bone8  Brain8  Breast8  Cervix Uteri8  Colon and Rectum8  Esophagus8  Eyes8  Female Genitals8  Gallbladder8  Heart8  Hodgkin's Lymphoma8  Kidney8  Larynx8  Leukemia8  Liver 8  Lungs8  Lymphoma8  Male Genitales8  Melanoma8  Mesothelioma8  Mylenoma8  Nervous8  Oral Cavity and Pharynx8  Outter Respiratory8  Ovary8  Pancreas8  Prostate8  Skin non Melanoma 8  Soft Tissue8  Stomach8  Testis8  Thyroid8  Trachea8  Ureter8  Urinary Tract Other8  Bone9  Brain9  Breast9  Cervix Uteri9  Colon and Rectum9  Esophagus9  Eyes9  Female Genitals9  Gallbladder9  Heart9  Hodgkin's Lymphoma9  Kidney9  Larynx9  Leukemia9  Liver 9  Lungs9  Lymphoma9  Male Genitales9  Melanoma9  Mesothelioma9  Mylenoma9  Nervous9  Oral Cavity and Pharynx9  Outter Respiratory9  Ovary9  Pancreas9  Prostate9  Skin non Melanoma 9  Soft Tissue9  Stomach9  Testis9  Thyroid9  Trachea9  Ureter9  Urinary Tract Other9  Bone10  Brain10  Breast10  Cervix Uteri10  Colon and Rectum10  Esophagus10  Eyes10  Female Genitals10  Gallbladder10  Heart10  Hodgkin's Lymphoma10  Kidney10  Larynx10  Leukemia10  Liver 10  Lungs10  Lymphoma10  Male Genitales10  Melanoma10  Mesothelioma10  Mylenoma10  Nervous10  Oral Cavity and Pharynx10  Outter Respiratory10  Ovary10  Pancreas10  Prostate10  Skin non Melanoma 10  Soft Tissue10  Stomach10  Testis10  Thyroid10  Trachea10  Ureter10  Urinary Tract Other10  Bone11  Brain11  Breast11  Cervix Uteri11  Colon and Rectum11  Esophagus11  Eyes11  Female Genitals11  Gallbladder11  Heart11  Hodgkin's Lymphoma11  Kidney11  Larynx11  Leukemia11  Liver 11  Lungs11  Lymphoma11  Male Genitales11  Melanoma11  Mesothelioma11  Mylenoma11  Nervous11  Oral Cavity and Pharynx11  Outter Respiratory11  Ovary11  Pancreas11  Prostate11  Skin non Melanoma 11  Soft Tissue11  Stomach11  Testis11  Thyroid11  Trachea11  Ureter11  Urinary Tract Other11  Bone12  Brain12  Breast12  Cervix Uteri12  Colon and Rectum12  Esophagus12  Eyes12  Female Genitals12  Gallbladder12  Heart12  Hodgkin's Lymphoma12  Kidney12  Larynx12  Leukemia12  Liver 12  Lungs12  Lymphoma12  Male Genitales12  Melanoma12  Mesothelioma12  Mylenoma12  Nervous12  Oral Cavity and Pharynx12  Outter Respiratory12  Ovary12  Pancreas12  Prostate12  Skin non Melanoma 12  Soft Tissue12  Stomach12  Testis12  Thyroid12  Trachea12  Ureter12  Urinary Tract Other12  Bone13  Brain13  Breast13  Cervix Uteri13  Colon and Rectum13  Esophagus13  Eyes13  Female Genitals13  Gallbladder13  Heart13  Hodgkin's Lymphoma13  Kidney13  Larynx13  Leukemia13  Liver 13  Lungs13  Lymphoma13  Male Genitales13  Melanoma13  Mesothelioma13  Mylenoma13  Nervous13  Oral Cavity and Pharynx13  Outter Respiratory13  Ovary13  Pancreas13  Prostate13  Skin non Melanoma 13  Soft Tissue13  Stomach13  Testis13  Thyroid13  Trachea13  Ureter13  Urinary Tract Other13  Bone14  Brain14  Breast14  Cervix Uteri14  Colon and Rectum14  Esophagus14  Eyes14  Female Genitals14  Gallbladder14  Heart14  Hodgkin's Lymphoma14  Kidney14  Larynx14  Leukemia14  Liver 14  Lungs14  Lymphoma14  Male Genitales14  Melanoma14  Mesothelioma14  Mylenoma14  Nervous14  Oral Cavity and Pharynx14  Outter Respiratory14  Ovary14  Pancreas14  Prostate14  Skin non Melanoma 14  Soft Tissue14  Stomach14  Testis14  Thyroid14  Trachea14  Ureter14  Urinary Tract Other14  Bone15  Brain15  Breast15  Cervix Uteri15  Colon and Rectum15  Esophagus15  Eyes15  Female Genitals15  Gallbladder15  Heart15  Hodgkin's Lymphoma15  Kidney15  Larynx15  Leukemia15  Liver 15  Lungs15  Lymphoma15  Male Genitales15  Melanoma15  Mesothelioma15  Mylenoma15  Nervous15  Oral Cavity and Pharynx15  Outter Respiratory15  Ovary15  Pancreas15  Prostate15  Skin non Melanoma 15  Soft Tissue15  Stomach15  Testis15  Thyroid15  Trachea15  Ureter15  Urinary Tract Other15  Bone16  Brain16  Breast16  Cervix Uteri16  Colon and Rectum16  Esophagus16  Eyes16  Female Genitals16  Gallbladder16  Heart16  Hodgkin's Lymphoma16  Kidney16  Larynx16  Leukemia16  Liver 16  Lungs16  Lymphoma16  Male Genitales16  Melanoma16  Mesothelioma16  Mylenoma16  Nervous16  Oral Cavity and Pharynx16  Outter Respiratory16  Ovary16  Pancreas16  Prostate16  Skin non Melanoma 16  Soft Tissue16  Stomach16  Testis16  Thyroid16  Trachea16  Ureter16  Urinary Tract Other16  Bone17  Brain17  Breast17  Cervix Uteri17  Colon and Rectum17  Esophagus17  Eyes17  Female Genitals17  Gallbladder17  Heart17  Hodgkin's Lymphoma17  Kidney17  Larynx17  Leukemia17  Liver 17  Lungs17  Lymphoma17  Male Genitales17  Melanoma17  Mesothelioma17  Mylenoma17  Nervous17  Oral Cavity and Pharynx17  Outter Respiratory17  Ovary17  Pancreas17  Prostate17  Skin non Melanoma 17  Soft Tissue17  Stomach17  Testis17  Thyroid17  Trachea17  Ureter17  Urinary Tract Other17  Bone18  Brain18  Breast18  Cervix Uteri18  Colon and Rectum18  Esophagus18  Eyes18  Female Genitals18  Gallbladder18  Heart18  Hodgkin's Lymphoma18  Kidney18  Larynx18  Leukemia18  Liver 18  Lungs18  Lymphoma18  Male Genitales18  Melanoma18  Mesothelioma18  Mylenoma18  Nervous18  Oral Cavity and Pharynx18  Outter Respiratory18  Ovary18  Pancreas18  Prostate18  Skin non Melanoma 18  Soft Tissue18  Stomach18  Testis18  Thyroid18  Trachea18  Ureter18  Urinary Tract Other18  Bone19  Brain19  Breast19  Cervix Uteri19  Colon and Rectum19  Esophagus19  Eyes19  Female Genitals19  Gallbladder19  Heart19  Hodgkin's Lymphoma19  Kidney19  Larynx19  Leukemia19  Liver 19  Lungs19  Lymphoma19  Male Genitales19  Melanoma19  Mesothelioma19  Mylenoma19  Nervous19  Oral Cavity and Pharynx19  Outter Respiratory19  Ovary19  Pancreas19  Prostate19  Skin non Melanoma 19  Soft Tissue19  Stomach19  Testis19  Thyroid19  Trachea19  Ureter19  Urinary Tract Other19  Bone20  Brain20  Breast20  Cervix Uteri20  Colon and Rectum20  Esophagus20  Eyes20  Female Genitals20  Gallbladder20  Heart20  Hodgkin's Lymphoma20  Kidney20  Larynx20  Leukemia20  Liver 20  Lungs20  Lymphoma20  Male Genitales20  Melanoma20  Mesothelioma20  Mylenoma20  Nervous20  Oral Cavity and Pharynx20  Outter Respiratory20  Ovary20  Pancreas20  Prostate20  Skin non Melanoma 20  Soft Tissue20  Stomach20  Testis20  Thyroid20  Trachea20  Ureter20  Urinary Tract Other20  Bone21  Brain21  Breast21  Cervix Uteri21  Colon and Rectum21  Esophagus21  Eyes21  Female Genitals21  Gallbladder21  Heart21  Hodgkin's Lymphoma21  Kidney21  Larynx21  Leukemia21  Liver 21  Lungs21  Lymphoma21  Male Genitales21  Melanoma21  Mesothelioma21  Mylenoma21  Nervous21  Oral Cavity and Pharynx21  Outter Respiratory21  Ovary21  Pancreas21  Prostate21  Skin non Melanoma 21  Soft Tissue21  Stomach21  Testis21  Thyroid21  Trachea21  Ureter21  Urinary Tract Other21  Bone22  Brain22  Breast22  Cervix Uteri22  Colon and Rectum22  Esophagus22  Eyes22  Female Genitals22  Gallbladder22  Heart22  Hodgkin's Lymphoma22  Kidney22  Larynx22  Leukemia22  Liver 22  Lungs22  Lymphoma22  Male Genitales22  Melanoma22  Mesothelioma22  Mylenoma22  Nervous22  Oral Cavity and Pharynx22  Outter Respiratory22  Ovary22  Pancreas22  Prostate22  Skin non Melanoma 22  Soft Tissue22  Stomach22  Testis22  Thyroid22  Trachea22  Ureter22  Urinary Tract Other22  Bone23  Brain23  Breast23  Cervix Uteri23  Colon and Rectum23  Esophagus23  Eyes23  Female Genitals23  Gallbladder23  Heart23  Hodgkin's Lymphoma23  Kidney23  Larynx23  Leukemia23  Liver 23  Lungs23  Lymphoma23  Male Genitales23  Melanoma23  Mesothelioma23  Mylenoma23  Nervous23  Oral Cavity and Pharynx23  Outter Respiratory23  Ovary23  Pancreas23  Prostate23  Skin non Melanoma 23  Soft Tissue23  Stomach23  Testis23  Thyroid23  Trachea23  Ureter23  Urinary Tract Other23  Bone24  Brain24  Breast24  Cervix Uteri24  Colon and Rectum24  Esophagus24  Eyes24  Female Genitals24  Gallbladder24  Heart24  Hodgkin's Lymphoma24  Kidney24  Larynx24  Leukemia24  Liver 24  Lungs24  Lymphoma24  Male Genitales24  Melanoma24  Mesothelioma24  Mylenoma24  Nervous24  Oral Cavity and Pharynx24  Outter Respiratory24  Ovary24  Pancreas24  Prostate24  Skin non Melanoma 24  Soft Tissue24  Stomach24  Testis24  Thyroid24  Trachea24  Ureter24  Urinary Tract Other24  Bone25  Brain25  Breast25  Cervix Uteri25  Colon and Rectum25  Esophagus25  Eyes25  Female Genitals25  Gallbladder25  Heart25  Hodgkin's Lymphoma25  Kidney25  Larynx25  Leukemia25  Liver 25  Lungs25  Lymphoma25  Male Genitales25  Melanoma25  Mesothelioma25  Mylenoma25  Nervous25  Oral Cavity and Pharynx25  Outter Respiratory25  Ovary25  Pancreas25  Prostate25  Skin non Melanoma 25  Soft Tissue25  Stomach25  Testis25  Thyroid25  Trachea25  Ureter25  Urinary Tract Other25  Bone26  Brain26  Breast26  Cervix Uteri26  Colon and Rectum26  Esophagus26  Eyes26  Female Genitals26  Gallbladder26  Heart26  Hodgkin's Lymphoma26  Kidney26  Larynx26  Leukemia26  Liver 26  Lungs26  Lymphoma26  Male Genitales26  Melanoma26  Mesothelioma26  Mylenoma26  Nervous26  Oral Cavity and Pharynx26  Outter Respiratory26  Ovary26  Pancreas26  Prostate26  Skin non Melanoma 26  Soft Tissue26  Stomach26  Testis26  Thyroid26  Trachea26  Ureter26  Urinary Tract Other26  Bone27  Brain27  Breast27  Cervix Uteri27  Colon and Rectum27  Esophagus27  Eyes27  Female Genitals27  Gallbladder27  Heart27  Hodgkin's Lymphoma27  Kidney27  Larynx27  Leukemia27  Liver 27  Lungs27  Lymphoma27  Male Genitales27  Melanoma27  Mesothelioma27  Mylenoma27  Nervous27  Oral Cavity and Pharynx27  Outter Respiratory27  Ovary27  Pancreas27  Prostate27  Skin non Melanoma 27  Soft Tissue27  Stomach27  Testis27  Thyroid27  Trachea27  Ureter27  Urinary Tract Other27  Bone28  Brain28  Breast28  Cervix Uteri28  Colon and Rectum28  Esophagus28  Eyes28  Female Genitals28  Gallbladder28  Heart28  Hodgkin's Lymphoma28  Kidney28  Larynx28  Leukemia28  Liver 28  Lungs28  Lymphoma28  Male Genitales28  Melanoma28  Mesothelioma28  Mylenoma28  Nervous28  Oral Cavity and Pharynx28  Outter Respiratory28  Ovary28  Pancreas28  Prostate28  Skin non Melanoma 28  Soft Tissue28  Stomach28  Testis28  Thyroid28  Trachea28  Ureter28  Urinary Tract Other28  Bone29  Brain29  Breast29  Cervix Uteri29  Colon and Rectum29  Esophagus29  Eyes29  Female Genitals29  Gallbladder29  Heart29  Hodgkin's Lymphoma29  Kidney29  Larynx29  Leukemia29  Liver 29  Lungs29  Lymphoma29  Male Genitales29  Melanoma29  Mesothelioma29  Mylenoma29  Nervous29  Oral Cavity and Pharynx29  Outter Respiratory29  Ovary29  Pancreas29  Prostate29  Skin non Melanoma 29  Soft Tissue29  Stomach29  Testis29  Thyroid29  Trachea29  Ureter29  Urinary Tract Other29  Bone30  Brain30  Breast30  Cervix Uteri30  Colon and Rectum30  Esophagus30  Eyes30  Female Genitals30  Gallbladder30  Heart30  Hodgkin's Lymphoma30  Kidney30  Larynx30  Leukemia30  Liver 30  Lungs30  Lymphoma30  Male Genitales30  Melanoma30  Mesothelioma30  Mylenoma30  Nervous30  Oral Cavity and Pharynx30  Outter Respiratory30  Ovary30  Pancreas30  Prostate30  Skin non Melanoma 30  Soft Tissue30  Stomach30  Testis30  Thyroid30  Trachea30  Ureter30  Urinary Tract Other30  Bone31  Brain31  Breast31  Cervix Uteri31  Colon and Rectum31  Esophagus31  Eyes31  Female Genitals31  Gallbladder31  Heart31  Hodgkin's Lymphoma31  Kidney31  Larynx31  Leukemia31  Liver 31  Lungs31  Lymphoma31  Male Genitales31  Melanoma31  Mesothelioma31  Mylenoma31  Nervous31  Oral Cavity and Pharynx31  Outter Respiratory31  Ovary31  Pancreas31  Prostate31  Skin non Melanoma 31  Soft Tissue31  Stomach31  Testis31  Thyroid31  Trachea31  Ureter31  Urinary Tract Other31  Bone32  Brain32  Breast32  Cervix Uteri32  Colon and Rectum32  Esophagus32  Eyes32  Female Genitals32  Gallbladder32  Heart32  Hodgkin's Lymphoma32  Kidney32  Larynx32  Leukemia32  Liver 32  Lungs32  Lymphoma32  Male Genitales32  Melanoma32  Mesothelioma32  Mylenoma32  Nervous32  Oral Cavity and Pharynx32  Outter Respiratory32  Ovary32  Pancreas32  Prostate32  Skin non Melanoma 32  Soft Tissue32  Stomach32  Testis32  Thyroid32  Trachea32  Ureter32  Urinary Tract Other32  Bone33  Brain33  Breast33  Cervix Uteri33  Colon and Rectum33  Esophagus33  Eyes33  Female Genitals33  Gallbladder33  Heart33  Hodgkin's Lymphoma33  Kidney33  Larynx33  Leukemia33  Liver 33  Lungs33  Lymphoma33  Male Genitales33  Melanoma33  Mesothelioma33  Mylenoma33  Nervous33  Oral Cavity and Pharynx33  Outter Respiratory33  Ovary33  Pancreas33  Prostate33  Skin non Melanoma 33  Soft Tissue33  Stomach33  Testis33  Thyroid33  Trachea33  Ureter33  Urinary Tract Other33  Bone34  Brain34  Breast34  Cervix Uteri34  Colon and Rectum34  Esophagus34  Eyes34  Female Genitals34  Gallbladder34  Heart34  Hodgkin's Lymphoma34  Kidney34  Larynx34  Leukemia34  Liver 34  Lungs34  Lymphoma34  Male Genitales34  Melanoma34  Mesothelioma34  Mylenoma34  Nervous34  Oral Cavity and Pharynx34  Outter Respiratory34  Ovary34  Pancreas34  Prostate34  Skin non Melanoma 34  Soft Tissue34  Stomach34  Testis34  Thyroid34  Trachea34  Ureter34  Urinary Tract Other34  Bone35  Brain35  Breast35  Cervix Uteri35  Colon and Rectum35  Esophagus35  Eyes35  Female Genitals35  Gallbladder35  Heart35  Hodgkin's Lymphoma35  Kidney35  Larynx35  Leukemia35  Liver 35  Lungs35  Lymphoma35  Male Genitales35  Melanoma35  Mesothelioma35  Mylenoma35  Nervous35  Oral Cavity and Pharynx35  Outter Respiratory35  Ovary35  Pancreas35  Prostate35  Skin non Melanoma 35  Soft Tissue35  Stomach35  Testis35  Thyroid35  Trachea35  Ureter35  Urinary Tract Other35\n",
            "0      0       0        0              0                  0           0      0                 0             0       0                    0        0        0          0        0       0          0                0          0              0          0         0                         0                    0       0          0          0                    0             0         0        0         0         0        0                     0      1       0        0              0                  0           0      0                 0             0       0                    0        0        0          0        0       0          0                0          0              0          0         0                         0                    0       0          0          0                    0             0         0        0         0         0        0                     0      0       1        0              0                  0           0      0                 0             0       0                    0        0        0          0        0       0          0                0          0              0          0         0                         0                    0       0          0          0                    0             0         0        0         0         0        0                     0      0       0        1              0                  0           0      0                 0             0       0                    0        0        0          0        0       0          0                0          0              0          0         0                         0                    0       0          0          0                    0             0         0        0         0         0        0                     0      0       0        0              1                  0           0      0                 0             0       0                    0        0        0          0        0       0          0                0          0              0          0         0                         0                    0       0          0          0                    0             0         0        0         0         0        0                     0      0       0        0              0                  1           0      0                 0             0       0                    0        0        0          0        0       0          0                0          0              0          0         0                         0                    0       0          0          0                    0             0         0        0         0         0        0                     0      0       0        0              0                  0           1      0                 0             0       0                    0        0        0          0        0       0          0                0          0              0          0         0                         0                    0       0          0          0                    0             0         0        0         0         0        0                     0      0       0        0              0                  0           0      1                 0             0       0                    0        0        0          0        0       0          0                0          0              0          0         0                         0                    0       0          0          0                    0             0         0        0         0         0        0                     0      0       0        0              0                  0           0      0                 1             0       0                    0        0        0          0        0       0          0                0          0              0          0         0                         0                    0       0          0          0                    0             0         0        0         0         0        0                     0      0       0        0              0                  0           0      0                 0             1       0                    0        0        0          0        0       0          0                0          0              0          0         0                         0                    0       0          0          0                    0             0         0        0         0         0        0                     0       0        0         0               0                   0            0       0                  0              0        1                     0         0         0           0         0        0           0                 0           0               0           0          0                          0                     0        0           0           0                     0              0          0         0          0          0         0                      0       0        0         0               0                   0            0       0                  0              0        0                     1         0         0           0         0        0           0                 0           0               0           0          0                          0                     0        0           0           0                     0              0          0         0          0          0         0                      0       0        0         0               0                   0            0       0                  0              0        0                     0         1         0           0         0        0           0                 0           0               0           0          0                          0                     0        0           0           0                     0              0          0         0          0          0         0                      0       0        0         0               0                   0            0       0                  0              0        0                     0         0         1           0         0        0           0                 0           0               0           0          0                          0                     0        0           0           0                     0              0          0         0          0          0         0                      0       0        0         0               0                   0            0       0                  0              0        0                     0         0         0           1         0        0           0                 0           0               0           0          0                          0                     0        0           0           0                     0              0          0         0          0          0         0                      0       0        0         0               0                   0            0       0                  0              0        0                     0         0         0           0         1        0           0                 0           0               0           0          0                          0                     0        0           0           0                     0              0          0         0          0          0         0                      0       0        0         0               0                   0            0       0                  0              0        0                     0         0         0           0         0        1           0                 0           0               0           0          0                          0                     0        0           0           0                     0              0          0         0          0          0         0                      0       0        0         0               0                   0            0       0                  0              0        0                     0         0         0           0         0        0           1                 0           0               0           0          0                          0                     0        0           0           0                     0              0          0         0          0          0         0                      0       0        0         0               0                   0            0       0                  0              0        0                     0         0         0           0         0        0           0                 1           0               0           0          0                          0                     0        0           0           0                     0              0          0         0          0          0         0                      0       0        0         0               0                   0            0       0                  0              0        0                     0         0         0           0         0        0           0                 0           1               0           0          0                          0                     0        0           0           0                     0              0          0         0          0          0         0                      0       0        0         0               0                   0            0       0                  0              0        0                     0         0         0           0         0        0           0                 0           0               1           0          0                          0                     0        0           0           0                     0              0          0         0          0          0         0                      0       0        0         0               0                   0            0       0                  0              0        0                     0         0         0           0         0        0           0                 0           0               0           1          0                          0                     0        0           0           0                     0              0          0         0          0          0         0                      0       0        0         0               0                   0            0       0                  0              0        0                     0         0         0           0         0        0           0                 0           0               0           0          1                          0                     0        0           0           0                     0              0          0         0          0          0         0                      0       0        0         0               0                   0            0       0                  0              0        0                     0         0         0           0         0        0           0                 0           0               0           0          0                          1                     0        0           0           0                     0              0          0         0          0          0         0                      0       0        0         0               0                   0            0       0                  0              0        0                     0         0         0           0         0        0           0                 0           0               0           0          0                          0                     1        0           0           0                     0              0          0         0          0          0         0                      0       0        0         0               0                   0            0       0                  0              0        0                     0         0         0           0         0        0           0                 0           0               0           0          0                          0                     0        1           0           0                     0              0          0         0          0          0         0                      0       0        0         0               0                   0            0       0                  0              0        0                     0         0         0           0         0        0           0                 0           0               0           0          0                          0                     0        0           1           0                     0              0          0         0          0          0         0                      0       0        0         0               0                   0            0       0                  0              0        0                     0         0         0           0         0        0           0                 0           0               0           0          0                          0                     0        0           0           1                     0              0          0         0          0          0         0                      0       0        0         0               0                   0            0       0                  0              0        0                     0         0         0           0         0        0           0                 0           0               0           0          0                          0                     0        0           0           0                     1              0          0         0          0          0         0                      0       0        0         0               0                   0            0       0                  0              0        0                     0         0         0           0         0        0           0                 0           0               0           0          0                          0                     0        0           0           0                     0              1          0         0          0          0         0                      0       0        0         0               0                   0            0       0                  0              0        0                     0         0         0           0         0        0           0                 0           0               0           0          0                          0                     0        0           0           0                     0              0          1         0          0          0         0                      0       0        0         0               0                   0            0       0                  0              0        0                     0         0         0           0         0        0           0                 0           0               0           0          0                          0                     0        0           0           0                     0              0          0         1          0          0         0                      0       0        0         0               0                   0            0       0                  0              0        0                     0         0         0           0         0        0           0                 0           0               0           0          0                          0                     0        0           0           0                     0              0          0         0          1          0         0                      0       0        0         0               0                   0            0       0                  0              0        0                     0         0         0           0         0        0           0                 0           0               0           0          0                          0                     0        0           0           0                     0              0          0         0          0          1         0                      0       0        0         0               0                   0            0       0                  0              0        0                     0         0         0           0         0        0           0                 0           0               0           0          0                          0                     0        0           0           0                     0              0          0         0          0          0         1                      0       0        0         0               0                   0            0       0                  0              0        0                     0         0         0           0         0        0           0                 0           0               0           0          0                          0                     0        0           0           0                     0              0          0         0          0          0         0                      1\n"
          ]
        }
      ]
    },
    {
      "cell_type": "markdown",
      "source": [
        "#### Entidad Federativa"
      ],
      "metadata": {
        "id": "2djLe774Zxhe"
      }
    },
    {
      "cell_type": "code",
      "source": [
        "# Crear df con los tipos de cancer\n",
        "dfEstadosSinCod = pd.DataFrame({'ent_resid_nm': estados})\n",
        "\n",
        "# Mandar a llamar a la funcion dumizadora de la variable 'trabajos'\n",
        "dfEstadosCod = duminizador(dfEstadosSinCod, 'Estados codificados', 'ent_resid_nm')"
      ],
      "metadata": {
        "id": "JVkrWqcZZ2F4",
        "colab": {
          "base_uri": "https://localhost:8080/"
        },
        "outputId": "3ef5f106-1dd5-42de-e8e8-a9aba8eca954"
      },
      "execution_count": 161,
      "outputs": [
        {
          "output_type": "stream",
          "name": "stdout",
          "text": [
            "                       ent_resid_nm\n",
            "0                    Aguascalientes\n",
            "1                   Baja California\n",
            "2               Baja California Sur\n",
            "3                          Campeche\n",
            "4                           Chiapas\n",
            "5                         Chihuahua\n",
            "6              Coahuila de Zaragoza\n",
            "7                            Colima\n",
            "8                  Distrito Federal\n",
            "9                           Durango\n",
            "10                       Guanajuato\n",
            "11                         Guerrero\n",
            "12                          Hidalgo\n",
            "13                          Jalisco\n",
            "14              Michoacán de Ocampo\n",
            "15                          Morelos\n",
            "16                           México\n",
            "17                          Nayarit\n",
            "18                       Nuevo León\n",
            "19                           Oaxaca\n",
            "20                           Puebla\n",
            "21                        Querétaro\n",
            "22                     Quintana Roo\n",
            "23                  San Luis Potosí\n",
            "24                          Sinaloa\n",
            "25                           Sonora\n",
            "26                          Tabasco\n",
            "27                       Tamaulipas\n",
            "28                         Tlaxcala\n",
            "29  Veracruz de Ignacio de la Llave\n",
            "30                          Yucatán\n",
            "31                        Zacatecas\n",
            "-----------------------------------DataFrame Estados codificados------------------------------------\n",
            "                       ent_resid_nm  Baja California  Baja California Sur  Campeche  Chiapas  Chihuahua  Coahuila de Zaragoza  Colima  Distrito Federal  Durango  Guanajuato  Guerrero  Hidalgo  Jalisco  Michoacán de Ocampo  Morelos  México  Nayarit  Nuevo León  Oaxaca  Puebla  Querétaro  Quintana Roo  San Luis Potosí  Sinaloa  Sonora  Tabasco  Tamaulipas  Tlaxcala  Veracruz de Ignacio de la Llave  Yucatán  Zacatecas\n",
            "0                    Aguascalientes                0                    0         0        0          0                     0       0                 0        0           0         0        0        0                    0        0       0        0           0       0       0          0             0                0        0       0        0           0         0                                0        0          0\n",
            "1                   Baja California                1                    0         0        0          0                     0       0                 0        0           0         0        0        0                    0        0       0        0           0       0       0          0             0                0        0       0        0           0         0                                0        0          0\n",
            "2               Baja California Sur                0                    1         0        0          0                     0       0                 0        0           0         0        0        0                    0        0       0        0           0       0       0          0             0                0        0       0        0           0         0                                0        0          0\n",
            "3                          Campeche                0                    0         1        0          0                     0       0                 0        0           0         0        0        0                    0        0       0        0           0       0       0          0             0                0        0       0        0           0         0                                0        0          0\n",
            "4                           Chiapas                0                    0         0        1          0                     0       0                 0        0           0         0        0        0                    0        0       0        0           0       0       0          0             0                0        0       0        0           0         0                                0        0          0\n",
            "5                         Chihuahua                0                    0         0        0          1                     0       0                 0        0           0         0        0        0                    0        0       0        0           0       0       0          0             0                0        0       0        0           0         0                                0        0          0\n",
            "6              Coahuila de Zaragoza                0                    0         0        0          0                     1       0                 0        0           0         0        0        0                    0        0       0        0           0       0       0          0             0                0        0       0        0           0         0                                0        0          0\n",
            "7                            Colima                0                    0         0        0          0                     0       1                 0        0           0         0        0        0                    0        0       0        0           0       0       0          0             0                0        0       0        0           0         0                                0        0          0\n",
            "8                  Distrito Federal                0                    0         0        0          0                     0       0                 1        0           0         0        0        0                    0        0       0        0           0       0       0          0             0                0        0       0        0           0         0                                0        0          0\n",
            "9                           Durango                0                    0         0        0          0                     0       0                 0        1           0         0        0        0                    0        0       0        0           0       0       0          0             0                0        0       0        0           0         0                                0        0          0\n",
            "10                       Guanajuato                0                    0         0        0          0                     0       0                 0        0           1         0        0        0                    0        0       0        0           0       0       0          0             0                0        0       0        0           0         0                                0        0          0\n",
            "11                         Guerrero                0                    0         0        0          0                     0       0                 0        0           0         1        0        0                    0        0       0        0           0       0       0          0             0                0        0       0        0           0         0                                0        0          0\n",
            "12                          Hidalgo                0                    0         0        0          0                     0       0                 0        0           0         0        1        0                    0        0       0        0           0       0       0          0             0                0        0       0        0           0         0                                0        0          0\n",
            "13                          Jalisco                0                    0         0        0          0                     0       0                 0        0           0         0        0        1                    0        0       0        0           0       0       0          0             0                0        0       0        0           0         0                                0        0          0\n",
            "14              Michoacán de Ocampo                0                    0         0        0          0                     0       0                 0        0           0         0        0        0                    1        0       0        0           0       0       0          0             0                0        0       0        0           0         0                                0        0          0\n",
            "15                          Morelos                0                    0         0        0          0                     0       0                 0        0           0         0        0        0                    0        1       0        0           0       0       0          0             0                0        0       0        0           0         0                                0        0          0\n",
            "16                           México                0                    0         0        0          0                     0       0                 0        0           0         0        0        0                    0        0       1        0           0       0       0          0             0                0        0       0        0           0         0                                0        0          0\n",
            "17                          Nayarit                0                    0         0        0          0                     0       0                 0        0           0         0        0        0                    0        0       0        1           0       0       0          0             0                0        0       0        0           0         0                                0        0          0\n",
            "18                       Nuevo León                0                    0         0        0          0                     0       0                 0        0           0         0        0        0                    0        0       0        0           1       0       0          0             0                0        0       0        0           0         0                                0        0          0\n",
            "19                           Oaxaca                0                    0         0        0          0                     0       0                 0        0           0         0        0        0                    0        0       0        0           0       1       0          0             0                0        0       0        0           0         0                                0        0          0\n",
            "20                           Puebla                0                    0         0        0          0                     0       0                 0        0           0         0        0        0                    0        0       0        0           0       0       1          0             0                0        0       0        0           0         0                                0        0          0\n",
            "21                        Querétaro                0                    0         0        0          0                     0       0                 0        0           0         0        0        0                    0        0       0        0           0       0       0          1             0                0        0       0        0           0         0                                0        0          0\n",
            "22                     Quintana Roo                0                    0         0        0          0                     0       0                 0        0           0         0        0        0                    0        0       0        0           0       0       0          0             1                0        0       0        0           0         0                                0        0          0\n",
            "23                  San Luis Potosí                0                    0         0        0          0                     0       0                 0        0           0         0        0        0                    0        0       0        0           0       0       0          0             0                1        0       0        0           0         0                                0        0          0\n",
            "24                          Sinaloa                0                    0         0        0          0                     0       0                 0        0           0         0        0        0                    0        0       0        0           0       0       0          0             0                0        1       0        0           0         0                                0        0          0\n",
            "25                           Sonora                0                    0         0        0          0                     0       0                 0        0           0         0        0        0                    0        0       0        0           0       0       0          0             0                0        0       1        0           0         0                                0        0          0\n",
            "26                          Tabasco                0                    0         0        0          0                     0       0                 0        0           0         0        0        0                    0        0       0        0           0       0       0          0             0                0        0       0        1           0         0                                0        0          0\n",
            "27                       Tamaulipas                0                    0         0        0          0                     0       0                 0        0           0         0        0        0                    0        0       0        0           0       0       0          0             0                0        0       0        0           1         0                                0        0          0\n",
            "28                         Tlaxcala                0                    0         0        0          0                     0       0                 0        0           0         0        0        0                    0        0       0        0           0       0       0          0             0                0        0       0        0           0         1                                0        0          0\n",
            "29  Veracruz de Ignacio de la Llave                0                    0         0        0          0                     0       0                 0        0           0         0        0        0                    0        0       0        0           0       0       0          0             0                0        0       0        0           0         0                                1        0          0\n",
            "30                          Yucatán                0                    0         0        0          0                     0       0                 0        0           0         0        0        0                    0        0       0        0           0       0       0          0             0                0        0       0        0           0         0                                0        1          0\n",
            "31                        Zacatecas                0                    0         0        0          0                     0       0                 0        0           0         0        0        0                    0        0       0        0           0       0       0          0             0                0        0       0        0           0         0                                0        0          1\n"
          ]
        }
      ]
    },
    {
      "cell_type": "code",
      "source": [
        "dfCanceresCodVect"
      ],
      "metadata": {
        "colab": {
          "base_uri": "https://localhost:8080/",
          "height": 165
        },
        "id": "hFcDL3CSOsaa",
        "outputId": "3653f685-547c-4c77-90ff-46c751c45e60"
      },
      "execution_count": 163,
      "outputs": [
        {
          "output_type": "execute_result",
          "data": {
            "text/plain": [
              "   Bone0  Brain0  Breast0  Cervix Uteri0  Colon and Rectum0  Esophagus0  \\\n",
              "0      0       0        0              0                  0           0   \n",
              "\n",
              "   Eyes0  Female Genitals0  Gallbladder0  Heart0  ...  Pancreas35  Prostate35  \\\n",
              "0      0                 0             0       0  ...           0           0   \n",
              "\n",
              "   Skin non Melanoma 35  Soft Tissue35  Stomach35  Testis35  Thyroid35  \\\n",
              "0                     0              0          0         0          0   \n",
              "\n",
              "   Trachea35  Ureter35  Urinary Tract Other35  \n",
              "0          0         0                      1  \n",
              "\n",
              "[1 rows x 1260 columns]"
            ],
            "text/html": [
              "\n",
              "  <div id=\"df-0bdbe299-78d8-4d5c-8ced-254fc927b68f\" class=\"colab-df-container\">\n",
              "    <div>\n",
              "<style scoped>\n",
              "    .dataframe tbody tr th:only-of-type {\n",
              "        vertical-align: middle;\n",
              "    }\n",
              "\n",
              "    .dataframe tbody tr th {\n",
              "        vertical-align: top;\n",
              "    }\n",
              "\n",
              "    .dataframe thead th {\n",
              "        text-align: right;\n",
              "    }\n",
              "</style>\n",
              "<table border=\"1\" class=\"dataframe\">\n",
              "  <thead>\n",
              "    <tr style=\"text-align: right;\">\n",
              "      <th></th>\n",
              "      <th>Bone0</th>\n",
              "      <th>Brain0</th>\n",
              "      <th>Breast0</th>\n",
              "      <th>Cervix Uteri0</th>\n",
              "      <th>Colon and Rectum0</th>\n",
              "      <th>Esophagus0</th>\n",
              "      <th>Eyes0</th>\n",
              "      <th>Female Genitals0</th>\n",
              "      <th>Gallbladder0</th>\n",
              "      <th>Heart0</th>\n",
              "      <th>...</th>\n",
              "      <th>Pancreas35</th>\n",
              "      <th>Prostate35</th>\n",
              "      <th>Skin non Melanoma 35</th>\n",
              "      <th>Soft Tissue35</th>\n",
              "      <th>Stomach35</th>\n",
              "      <th>Testis35</th>\n",
              "      <th>Thyroid35</th>\n",
              "      <th>Trachea35</th>\n",
              "      <th>Ureter35</th>\n",
              "      <th>Urinary Tract Other35</th>\n",
              "    </tr>\n",
              "  </thead>\n",
              "  <tbody>\n",
              "    <tr>\n",
              "      <th>0</th>\n",
              "      <td>0</td>\n",
              "      <td>0</td>\n",
              "      <td>0</td>\n",
              "      <td>0</td>\n",
              "      <td>0</td>\n",
              "      <td>0</td>\n",
              "      <td>0</td>\n",
              "      <td>0</td>\n",
              "      <td>0</td>\n",
              "      <td>0</td>\n",
              "      <td>...</td>\n",
              "      <td>0</td>\n",
              "      <td>0</td>\n",
              "      <td>0</td>\n",
              "      <td>0</td>\n",
              "      <td>0</td>\n",
              "      <td>0</td>\n",
              "      <td>0</td>\n",
              "      <td>0</td>\n",
              "      <td>0</td>\n",
              "      <td>1</td>\n",
              "    </tr>\n",
              "  </tbody>\n",
              "</table>\n",
              "<p>1 rows × 1260 columns</p>\n",
              "</div>\n",
              "    <div class=\"colab-df-buttons\">\n",
              "\n",
              "  <div class=\"colab-df-container\">\n",
              "    <button class=\"colab-df-convert\" onclick=\"convertToInteractive('df-0bdbe299-78d8-4d5c-8ced-254fc927b68f')\"\n",
              "            title=\"Convert this dataframe to an interactive table.\"\n",
              "            style=\"display:none;\">\n",
              "\n",
              "  <svg xmlns=\"http://www.w3.org/2000/svg\" height=\"24px\" viewBox=\"0 -960 960 960\">\n",
              "    <path d=\"M120-120v-720h720v720H120Zm60-500h600v-160H180v160Zm220 220h160v-160H400v160Zm0 220h160v-160H400v160ZM180-400h160v-160H180v160Zm440 0h160v-160H620v160ZM180-180h160v-160H180v160Zm440 0h160v-160H620v160Z\"/>\n",
              "  </svg>\n",
              "    </button>\n",
              "\n",
              "  <style>\n",
              "    .colab-df-container {\n",
              "      display:flex;\n",
              "      gap: 12px;\n",
              "    }\n",
              "\n",
              "    .colab-df-convert {\n",
              "      background-color: #E8F0FE;\n",
              "      border: none;\n",
              "      border-radius: 50%;\n",
              "      cursor: pointer;\n",
              "      display: none;\n",
              "      fill: #1967D2;\n",
              "      height: 32px;\n",
              "      padding: 0 0 0 0;\n",
              "      width: 32px;\n",
              "    }\n",
              "\n",
              "    .colab-df-convert:hover {\n",
              "      background-color: #E2EBFA;\n",
              "      box-shadow: 0px 1px 2px rgba(60, 64, 67, 0.3), 0px 1px 3px 1px rgba(60, 64, 67, 0.15);\n",
              "      fill: #174EA6;\n",
              "    }\n",
              "\n",
              "    .colab-df-buttons div {\n",
              "      margin-bottom: 4px;\n",
              "    }\n",
              "\n",
              "    [theme=dark] .colab-df-convert {\n",
              "      background-color: #3B4455;\n",
              "      fill: #D2E3FC;\n",
              "    }\n",
              "\n",
              "    [theme=dark] .colab-df-convert:hover {\n",
              "      background-color: #434B5C;\n",
              "      box-shadow: 0px 1px 3px 1px rgba(0, 0, 0, 0.15);\n",
              "      filter: drop-shadow(0px 1px 2px rgba(0, 0, 0, 0.3));\n",
              "      fill: #FFFFFF;\n",
              "    }\n",
              "  </style>\n",
              "\n",
              "    <script>\n",
              "      const buttonEl =\n",
              "        document.querySelector('#df-0bdbe299-78d8-4d5c-8ced-254fc927b68f button.colab-df-convert');\n",
              "      buttonEl.style.display =\n",
              "        google.colab.kernel.accessAllowed ? 'block' : 'none';\n",
              "\n",
              "      async function convertToInteractive(key) {\n",
              "        const element = document.querySelector('#df-0bdbe299-78d8-4d5c-8ced-254fc927b68f');\n",
              "        const dataTable =\n",
              "          await google.colab.kernel.invokeFunction('convertToInteractive',\n",
              "                                                    [key], {});\n",
              "        if (!dataTable) return;\n",
              "\n",
              "        const docLinkHtml = 'Like what you see? Visit the ' +\n",
              "          '<a target=\"_blank\" href=https://colab.research.google.com/notebooks/data_table.ipynb>data table notebook</a>'\n",
              "          + ' to learn more about interactive tables.';\n",
              "        element.innerHTML = '';\n",
              "        dataTable['output_type'] = 'display_data';\n",
              "        await google.colab.output.renderOutput(dataTable, element);\n",
              "        const docLink = document.createElement('div');\n",
              "        docLink.innerHTML = docLinkHtml;\n",
              "        element.appendChild(docLink);\n",
              "      }\n",
              "    </script>\n",
              "  </div>\n",
              "\n",
              "    </div>\n",
              "  </div>\n"
            ]
          },
          "metadata": {},
          "execution_count": 163
        }
      ]
    },
    {
      "cell_type": "markdown",
      "source": [
        "#### Aplicar transformaciones"
      ],
      "metadata": {
        "id": "PUKm6KB-e003"
      }
    },
    {
      "cell_type": "code",
      "source": [
        "#dfEstadosCod\n",
        "#dfEstadosCod.iloc[0, 1:] # si esta bien\n",
        "#dfCanceresCodVect.iloc[0, 0:35] # 36 elementos\n",
        "#dfEstados.iloc[:, 2]\n",
        "\n",
        "# Juntar estado con cancer\n",
        "dfEstadosCanceres = pd.DataFrame()\n",
        "for j in range(0, 33):\n",
        "  dfEstadoCancer = dfEstadosCod.iloc[j:j + 1, 1:]\n",
        "\n",
        "  for i in range(0, 35): # 67 cols de un cancer\n",
        "    dfEstadoCancer = pd.concat([dfEstadoCancer, dfCanceresCodVect.iloc[0:1, 0 + (36*i):35 + (36*i)], dfEstados.iloc[:, i*2]], axis=1)\n",
        "\n",
        "  dfEstadosCanceres = pd.concat([dfEstadosCanceres, dfEstadoCancer], ignore_index=True)\n",
        "\n",
        "print(dfEstadoCancer)\n",
        "print(dfEstadoCancer.to_string())\n"
      ],
      "metadata": {
        "id": "QIktrrpYezcX",
        "colab": {
          "base_uri": "https://localhost:8080/"
        },
        "outputId": "1d7d18f3-e1f3-4720-a9e5-b8103b29cbc0"
      },
      "execution_count": 162,
      "outputs": [
        {
          "output_type": "stream",
          "name": "stdout",
          "text": [
            "   Baja California  Baja California Sur  Campeche  Chiapas  Chihuahua  Coahuila de Zaragoza  Colima  Distrito Federal  Durango  Guanajuato  Guerrero  Hidalgo  Jalisco  Michoacán de Ocampo  Morelos  México  Nayarit  Nuevo León  Oaxaca  Puebla  Querétaro  Quintana Roo  San Luis Potosí  Sinaloa  Sonora  Tabasco  Tamaulipas  Tlaxcala  Veracruz de Ignacio de la Llave  Yucatán  Zacatecas\n",
            "0                0                    0         0        0          0                     0       0                 0        0           0         0        0        0                    0        0       0        0           0       0       0          0             0                0        0       0        0           0         0                                0        0          0\n",
            "   Baja California  Baja California Sur  Campeche  Chiapas  Chihuahua  \\\n",
            "0                0                    0         0        0          0   \n",
            "\n",
            "   Coahuila de Zaragoza  Colima  Distrito Federal  Durango  Guanajuato  ...  \\\n",
            "0                     0       0                 0        0           0  ...   \n",
            "\n",
            "   Prostate0  Skin non Melanoma 0  Soft Tissue0  Stomach0  Testis0  Thyroid0  \\\n",
            "0          0                    0             0         0        0         0   \n",
            "\n",
            "   Trachea0  Ureter0  Urinary Tract Other0  Organ0Cant  \n",
            "0         0        0                     0         123  \n",
            "\n",
            "[1 rows x 67 columns]\n",
            "   Baja California  Baja California Sur  Campeche  Chiapas  Chihuahua  Coahuila de Zaragoza  Colima  Distrito Federal  Durango  Guanajuato  Guerrero  Hidalgo  Jalisco  Michoacán de Ocampo  Morelos  México  Nayarit  Nuevo León  Oaxaca  Puebla  Querétaro  Quintana Roo  San Luis Potosí  Sinaloa  Sonora  Tabasco  Tamaulipas  Tlaxcala  Veracruz de Ignacio de la Llave  Yucatán  Zacatecas  Bone0  Brain0  Breast0  Cervix Uteri0  Colon and Rectum0  Esophagus0  Eyes0  Female Genitals0  Gallbladder0  Heart0  Hodgkin's Lymphoma0  Kidney0  Larynx0  Leukemia0  Liver 0  Lungs0  Lymphoma0  Male Genitales0  Melanoma0  Mesothelioma0  Mylenoma0  Nervous0  Oral Cavity and Pharynx0  Outter Respiratory0  Ovary0  Pancreas0  Prostate0  Skin non Melanoma 0  Soft Tissue0  Stomach0  Testis0  Thyroid0  Trachea0  Ureter0  Urinary Tract Other0  Organ0Cant\n",
            "0                0                    0         0        0          0                     0       0                 0        0           0         0        0        0                    0        0       0        0           0       0       0          0             0                0        0       0        0           0         0                                0        0          0      0       0        0              0                  0           0      0                 0             0       0                    0        0        0          0        0       0          0                0          0              0          0         0                         0                    0       0          0          0                    0             0         0        0         0         0        0                     0         123\n",
            "(1,)\n"
          ]
        },
        {
          "output_type": "execute_result",
          "data": {
            "text/plain": [
              "0    123\n",
              "Name: Organ0Cant, dtype: int64"
            ]
          },
          "metadata": {},
          "execution_count": 162
        }
      ]
    },
    {
      "cell_type": "markdown",
      "source": [
        "### Algoritmos/Modelos"
      ],
      "metadata": {
        "id": "5Nnl1rb7OYtH"
      }
    },
    {
      "cell_type": "code",
      "source": [],
      "metadata": {
        "id": "p7yuu1vmOhj4"
      },
      "execution_count": null,
      "outputs": []
    }
  ]
}