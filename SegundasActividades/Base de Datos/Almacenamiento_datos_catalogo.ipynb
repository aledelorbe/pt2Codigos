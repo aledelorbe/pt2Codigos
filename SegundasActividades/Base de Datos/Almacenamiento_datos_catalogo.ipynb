{
  "nbformat": 4,
  "nbformat_minor": 0,
  "metadata": {
    "colab": {
      "provenance": [],
      "toc_visible": true,
      "mount_file_id": "1NLG3EHrtVWyojKoT6v5JHQpZNgc1AOrc",
      "authorship_tag": "ABX9TyNO6JEuuROjT4PTsSP8stcV",
      "include_colab_link": true
    },
    "kernelspec": {
      "name": "python3",
      "display_name": "Python 3"
    },
    "language_info": {
      "name": "python"
    }
  },
  "cells": [
    {
      "cell_type": "markdown",
      "metadata": {
        "id": "view-in-github",
        "colab_type": "text"
      },
      "source": [
        "<a href=\"https://colab.research.google.com/github/aledelorbe/pt2Codigos/blob/main/SegundasActividades/Base%20de%20Datos/Almacenamiento_datos_catalogo.ipynb\" target=\"_parent\"><img src=\"https://colab.research.google.com/assets/colab-badge.svg\" alt=\"Open In Colab\"/></a>"
      ]
    },
    {
      "cell_type": "markdown",
      "source": [
        "### Cargar librerias"
      ],
      "metadata": {
        "id": "TfLRvAuPFeqe"
      }
    },
    {
      "cell_type": "code",
      "source": [
        "import pandas as pd\n",
        "import numpy as np"
      ],
      "metadata": {
        "id": "AO4KKD9XEpzI"
      },
      "execution_count": null,
      "outputs": []
    },
    {
      "cell_type": "markdown",
      "source": [
        "### Cargar los dataFrame"
      ],
      "metadata": {
        "id": "r7EfovT3UImO"
      }
    },
    {
      "cell_type": "code",
      "source": [
        "nuevaMortalidadLimpia = '/content/drive/MyDrive/Pt2/Primeras Actividades/0 Bases de Datos/Nueva Mortalidad Limpia/'\n",
        "\n",
        "df2013 = pd.read_csv(nuevaMortalidadLimpia + '2013.csv') # Se toma arbitrariamente un año"
      ],
      "metadata": {
        "id": "y1JW32OLUImP"
      },
      "execution_count": null,
      "outputs": []
    },
    {
      "cell_type": "markdown",
      "source": [
        "### Insercion de los registros que tendran las entidades"
      ],
      "metadata": {
        "id": "g72p5wmkuZUT"
      }
    },
    {
      "cell_type": "code",
      "source": [
        "# Definicion de la funcion que preparara los registros que se insertaran en las entidades.\n",
        "def preparacionAltasRegistros(nombreVariable, nombreColumna):\n",
        "  columna_ordenada = df2013[nombreColumna].sort_values() # Se toma arbitrariamente un año\n",
        "  elementos = columna_ordenada.unique()\n",
        "  print(f'\\nCantidad de {nombreVariable}: {len(elementos)}')\n",
        "\n",
        "  for elemento in elementos:\n",
        "    print(f\"INSERT INTO {nombreVariable} VALUES ('{elemento}')\")\n",
        "\n",
        "# Mandar a llamar la funcion\n",
        "preparacionAltasRegistros('Estado', 'ent_resid_nm')\n",
        "preparacionAltasRegistros('Cancer', 'Organ')\n",
        "preparacionAltasRegistros('Ocupacion', 'desc_ocupacion')"
      ],
      "metadata": {
        "colab": {
          "base_uri": "https://localhost:8080/"
        },
        "id": "qsGVGYkMfj6-",
        "outputId": "ddb34f4b-cfa9-40aa-c0e2-a1929bda6bd0"
      },
      "execution_count": null,
      "outputs": [
        {
          "output_type": "stream",
          "name": "stdout",
          "text": [
            "\n",
            "Cantidad de Estado: 32\n",
            "INSERT INTO Estado VALUES ('Aguascalientes')\n",
            "INSERT INTO Estado VALUES ('Baja California')\n",
            "INSERT INTO Estado VALUES ('Baja California Sur')\n",
            "INSERT INTO Estado VALUES ('Campeche')\n",
            "INSERT INTO Estado VALUES ('Chiapas')\n",
            "INSERT INTO Estado VALUES ('Chihuahua')\n",
            "INSERT INTO Estado VALUES ('Coahuila de Zaragoza')\n",
            "INSERT INTO Estado VALUES ('Colima')\n",
            "INSERT INTO Estado VALUES ('Distrito Federal')\n",
            "INSERT INTO Estado VALUES ('Durango')\n",
            "INSERT INTO Estado VALUES ('Guanajuato')\n",
            "INSERT INTO Estado VALUES ('Guerrero')\n",
            "INSERT INTO Estado VALUES ('Hidalgo')\n",
            "INSERT INTO Estado VALUES ('Jalisco')\n",
            "INSERT INTO Estado VALUES ('Michoacán de Ocampo')\n",
            "INSERT INTO Estado VALUES ('Morelos')\n",
            "INSERT INTO Estado VALUES ('México')\n",
            "INSERT INTO Estado VALUES ('Nayarit')\n",
            "INSERT INTO Estado VALUES ('Nuevo León')\n",
            "INSERT INTO Estado VALUES ('Oaxaca')\n",
            "INSERT INTO Estado VALUES ('Puebla')\n",
            "INSERT INTO Estado VALUES ('Querétaro')\n",
            "INSERT INTO Estado VALUES ('Quintana Roo')\n",
            "INSERT INTO Estado VALUES ('San Luis Potosí')\n",
            "INSERT INTO Estado VALUES ('Sinaloa')\n",
            "INSERT INTO Estado VALUES ('Sonora')\n",
            "INSERT INTO Estado VALUES ('Tabasco')\n",
            "INSERT INTO Estado VALUES ('Tamaulipas')\n",
            "INSERT INTO Estado VALUES ('Tlaxcala')\n",
            "INSERT INTO Estado VALUES ('Veracruz de Ignacio de la Llave')\n",
            "INSERT INTO Estado VALUES ('Yucatán')\n",
            "INSERT INTO Estado VALUES ('Zacatecas')\n",
            "\n",
            "Cantidad de Cancer: 36\n",
            "INSERT INTO Cancer VALUES ('Bladder')\n",
            "INSERT INTO Cancer VALUES ('Bone')\n",
            "INSERT INTO Cancer VALUES ('Brain')\n",
            "INSERT INTO Cancer VALUES ('Breast')\n",
            "INSERT INTO Cancer VALUES ('Cervix Uteri')\n",
            "INSERT INTO Cancer VALUES ('Colon and Rectum')\n",
            "INSERT INTO Cancer VALUES ('Esophagus')\n",
            "INSERT INTO Cancer VALUES ('Eyes')\n",
            "INSERT INTO Cancer VALUES ('Female Genitals')\n",
            "INSERT INTO Cancer VALUES ('Gallbladder')\n",
            "INSERT INTO Cancer VALUES ('Heart')\n",
            "INSERT INTO Cancer VALUES ('Hodgkin's Lymphoma')\n",
            "INSERT INTO Cancer VALUES ('Kidney')\n",
            "INSERT INTO Cancer VALUES ('Larynx')\n",
            "INSERT INTO Cancer VALUES ('Leukemia')\n",
            "INSERT INTO Cancer VALUES ('Liver ')\n",
            "INSERT INTO Cancer VALUES ('Lungs')\n",
            "INSERT INTO Cancer VALUES ('Lymphoma')\n",
            "INSERT INTO Cancer VALUES ('Male Genitales')\n",
            "INSERT INTO Cancer VALUES ('Melanoma')\n",
            "INSERT INTO Cancer VALUES ('Mesothelioma')\n",
            "INSERT INTO Cancer VALUES ('Mylenoma')\n",
            "INSERT INTO Cancer VALUES ('Nervous')\n",
            "INSERT INTO Cancer VALUES ('Oral Cavity and Pharynx')\n",
            "INSERT INTO Cancer VALUES ('Outter Respiratory')\n",
            "INSERT INTO Cancer VALUES ('Ovary')\n",
            "INSERT INTO Cancer VALUES ('Pancreas')\n",
            "INSERT INTO Cancer VALUES ('Prostate')\n",
            "INSERT INTO Cancer VALUES ('Skin non Melanoma ')\n",
            "INSERT INTO Cancer VALUES ('Soft Tissue')\n",
            "INSERT INTO Cancer VALUES ('Stomach')\n",
            "INSERT INTO Cancer VALUES ('Testis')\n",
            "INSERT INTO Cancer VALUES ('Thyroid')\n",
            "INSERT INTO Cancer VALUES ('Trachea')\n",
            "INSERT INTO Cancer VALUES ('Ureter')\n",
            "INSERT INTO Cancer VALUES ('Urinary Tract Other')\n",
            "\n",
            "Cantidad de Ocupacion: 14\n",
            "INSERT INTO Ocupacion VALUES ('Busca trabajo')\n",
            "INSERT INTO Ocupacion VALUES ('Comerciantes, empleados en ventas y agentes de ventas')\n",
            "INSERT INTO Ocupacion VALUES ('Funcionarios, directores y jefes')\n",
            "INSERT INTO Ocupacion VALUES ('Insuficientemente especificada')\n",
            "INSERT INTO Ocupacion VALUES ('No aplica a menores de 5 años')\n",
            "INSERT INTO Ocupacion VALUES ('No especificada')\n",
            "INSERT INTO Ocupacion VALUES ('No trabaja')\n",
            "INSERT INTO Ocupacion VALUES ('Operadores de maquinaria industrial, ensambladores, choferes y conductores de transporte')\n",
            "INSERT INTO Ocupacion VALUES ('Profesionistas y técnicos')\n",
            "INSERT INTO Ocupacion VALUES ('Trabajadores artesanales')\n",
            "INSERT INTO Ocupacion VALUES ('Trabajadores auxiliares en actividades administrativas')\n",
            "INSERT INTO Ocupacion VALUES ('Trabajadores en actividades agrícolas, ganaderas, forestales, caza y pesca')\n",
            "INSERT INTO Ocupacion VALUES ('Trabajadores en actividades elementales y de apoyo')\n",
            "INSERT INTO Ocupacion VALUES ('Trabajadores en servicios personales y vigilancia')\n"
          ]
        }
      ]
    },
    {
      "cell_type": "code",
      "source": [
        "# En el caso de escolaridad se hace distinto para que esta variable tenga un orden jerarquico\n",
        "valoresDistintosEducacion = [\n",
        "    'No especificada ',\n",
        "    'No aplica a menores de 3 años',\n",
        "    'Sin escolaridad',\n",
        "    'Preescolar',\n",
        "    'Primaria completa',\n",
        "    'Secundaria incompleta',\n",
        "    'Secundaria completa',\n",
        "    'Bachillerato o preparatoria',\n",
        "    'Profesional',\n",
        "    'Posgrado',\n",
        "]\n",
        "print(f'\\nCantidad de Niveles Academicos: {len(valoresDistintosEducacion)}')\n",
        "\n",
        "for elemento in valoresDistintosEducacion:\n",
        "  print(f\"INSERT INTO Escolaridad VALUES ('{elemento}')\")"
      ],
      "metadata": {
        "colab": {
          "base_uri": "https://localhost:8080/"
        },
        "id": "eLtVXyuywU7Q",
        "outputId": "003ddde4-af1c-4049-df02-7720996d4bbf"
      },
      "execution_count": null,
      "outputs": [
        {
          "output_type": "stream",
          "name": "stdout",
          "text": [
            "\n",
            "Cantidad de Niveles Academicos: 10\n",
            "INSERT INTO Escolaridad VALUES ('No especificada ')\n",
            "INSERT INTO Escolaridad VALUES ('No aplica a menores de 3 años')\n",
            "INSERT INTO Escolaridad VALUES ('Sin escolaridad')\n",
            "INSERT INTO Escolaridad VALUES ('Preescolar')\n",
            "INSERT INTO Escolaridad VALUES ('Primaria completa')\n",
            "INSERT INTO Escolaridad VALUES ('Secundaria incompleta')\n",
            "INSERT INTO Escolaridad VALUES ('Secundaria completa')\n",
            "INSERT INTO Escolaridad VALUES ('Bachillerato o preparatoria')\n",
            "INSERT INTO Escolaridad VALUES ('Profesional')\n",
            "INSERT INTO Escolaridad VALUES ('Posgrado')\n"
          ]
        }
      ]
    }
  ]
}