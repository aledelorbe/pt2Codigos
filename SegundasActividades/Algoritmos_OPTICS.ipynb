{
  "cells": [
    {
      "cell_type": "markdown",
      "metadata": {
        "id": "view-in-github",
        "colab_type": "text"
      },
      "source": [
        "<a href=\"https://colab.research.google.com/github/aledelorbe/pt2Codigos/blob/main/SegundasActividades/Algoritmos_OPTICS.ipynb\" target=\"_parent\"><img src=\"https://colab.research.google.com/assets/colab-badge.svg\" alt=\"Open In Colab\"/></a>"
      ]
    },
    {
      "cell_type": "markdown",
      "metadata": {
        "id": "TfLRvAuPFeqe"
      },
      "source": [
        "### Cargar librerias"
      ]
    },
    {
      "cell_type": "code",
      "execution_count": 2,
      "metadata": {
        "id": "AO4KKD9XEpzI"
      },
      "outputs": [],
      "source": [
        "import pandas as pd\n",
        "import matplotlib.pyplot as plt\n",
        "from sklearn.compose import ColumnTransformer\n",
        "from sklearn.preprocessing import OneHotEncoder\n",
        "from sklearn.preprocessing import OrdinalEncoder\n",
        "import numpy as np\n",
        "from sklearn.cluster import KMeans"
      ]
    },
    {
      "cell_type": "markdown",
      "metadata": {
        "id": "r7EfovT3UImO"
      },
      "source": [
        "### Cargar los dataFrame"
      ]
    },
    {
      "cell_type": "code",
      "execution_count": 3,
      "metadata": {
        "id": "y1JW32OLUImP"
      },
      "outputs": [],
      "source": [
        "nuevaMortalidadLimpia = '/content/drive/MyDrive/Pt2/Primeras Actividades/0 Bases de Datos/Nueva Mortalidad Limpia/'\n",
        "\n",
        "df2010 = pd.read_csv(nuevaMortalidadLimpia + '2010.csv')\n",
        "df2011 = pd.read_csv(nuevaMortalidadLimpia + '2011.csv')\n",
        "df2012 = pd.read_csv(nuevaMortalidadLimpia + '2012.csv')\n",
        "df2013 = pd.read_csv(nuevaMortalidadLimpia + '2013.csv')\n",
        "df2014 = pd.read_csv(nuevaMortalidadLimpia + '2014.csv')\n",
        "df2015 = pd.read_csv(nuevaMortalidadLimpia + '2015.csv')\n",
        "df2016 = pd.read_csv(nuevaMortalidadLimpia + '2016.csv')\n",
        "df2017 = pd.read_csv(nuevaMortalidadLimpia + '2017.csv')\n",
        "df2018 = pd.read_csv(nuevaMortalidadLimpia + '2018.csv')\n",
        "df2019 = pd.read_csv(nuevaMortalidadLimpia + '2019.csv')"
      ]
    },
    {
      "cell_type": "markdown",
      "metadata": {
        "id": "G84wwQTELXxl"
      },
      "source": [
        "### Unir todos los fragmentos"
      ]
    },
    {
      "cell_type": "code",
      "execution_count": 4,
      "metadata": {
        "id": "nNIfr2c5LbJ2"
      },
      "outputs": [],
      "source": [
        "dfDefinitivo = pd.concat([df2010, df2011, df2012, df2013, df2014, df2015, df2016, df2017, df2018, df2019], ignore_index=True)"
      ]
    },
    {
      "cell_type": "markdown",
      "metadata": {
        "id": "lVAEmiRcOsMq"
      },
      "source": [
        "### Almacenamiento de valores distintos en cada columna"
      ]
    },
    {
      "cell_type": "code",
      "execution_count": 5,
      "metadata": {
        "colab": {
          "base_uri": "https://localhost:8080/"
        },
        "id": "cT-LMWjUOxvI",
        "outputId": "ee4b2c2d-87b0-4880-ad40-6139d312f906"
      },
      "outputs": [
        {
          "output_type": "stream",
          "name": "stdout",
          "text": [
            "----------------------------------------Columna ent_resid_nm----------------------------------------\n",
            "['Aguascalientes', 'Baja California', 'Baja California Sur', 'Campeche', 'Chiapas', 'Chihuahua', 'Coahuila de Zaragoza', 'Colima', 'Distrito Federal', 'Durango', 'Guanajuato', 'Guerrero', 'Hidalgo', 'Jalisco', 'Michoacán de Ocampo', 'Morelos', 'México', 'Nayarit', 'Nuevo León', 'Oaxaca', 'Puebla', 'Querétaro', 'Quintana Roo', 'San Luis Potosí', 'Sinaloa', 'Sonora', 'Tabasco', 'Tamaulipas', 'Tlaxcala', 'Veracruz de Ignacio de la Llave', 'Yucatán', 'Zacatecas']\n",
            "Cantidad de elementos: 32\n",
            "-------------------------------------------Columna Organ--------------------------------------------\n",
            "['Bladder', 'Bone', 'Brain', 'Breast', 'Cervix Uteri', 'Colon and Rectum', 'Esophagus', 'Eyes', 'Female Genitals', 'Gallbladder', 'Heart', \"Hodgkin's Lymphoma\", 'Kidney', 'Larynx', 'Leukemia', 'Liver ', 'Lungs', 'Lymphoma', 'Male Genitales', 'Melanoma', 'Mesothelioma', 'Mylenoma', 'Nervous', 'Oral Cavity and Pharynx', 'Outter Respiratory', 'Ovary', 'Pancreas', 'Prostate', 'Skin non Melanoma ', 'Soft Tissue', 'Stomach', 'Testis', 'Thyroid', 'Trachea', 'Ureter', 'Urinary Tract Other']\n",
            "Cantidad de elementos: 36\n",
            "---------------------------------------Columna desc_ocupacion---------------------------------------\n",
            "['Comerciantes, empleados en ventas y agentes de ventas', 'Funcionarios, directores y jefes', 'Insuficientemente especificada', 'No aplica a menores de 5 años', 'No especificada', 'No trabaja', 'Operadores de maquinaria industrial, ensambladores, choferes y conductores de transporte', 'Profesionistas y técnicos', 'Trabajadores artesanales', 'Trabajadores auxiliares en actividades administrativas', 'Trabajadores en actividades agrícolas, ganaderas, forestales, caza y pesca', 'Trabajadores en actividades elementales y de apoyo', 'Trabajadores en servicios personales y vigilancia']\n",
            "Cantidad de elementos: 13\n"
          ]
        }
      ],
      "source": [
        "# Definicion de la funcion que imprimira los valores distintos de determinada columna en orden alfabetico\n",
        "def imprimirValoresDistintos(df20xx, nombreColumna):\n",
        "  titulo = f\"Columna {nombreColumna}\".center(100, '-')\n",
        "  valoresDistintos = list(df2010[nombreColumna].unique())\n",
        "  valoresDistintos.sort()\n",
        "  print(titulo)\n",
        "  print(valoresDistintos)\n",
        "  print(f'Cantidad de elementos: {len(valoresDistintos)}')\n",
        "\n",
        "  return valoresDistintos\n",
        "\n",
        "estados = imprimirValoresDistintos(dfDefinitivo, 'ent_resid_nm')\n",
        "canceres = imprimirValoresDistintos(dfDefinitivo, 'Organ')\n",
        "trabajos = imprimirValoresDistintos(dfDefinitivo, 'desc_ocupacion')"
      ]
    },
    {
      "cell_type": "code",
      "execution_count": 6,
      "metadata": {
        "colab": {
          "base_uri": "https://localhost:8080/"
        },
        "id": "MyoiQj3OHWKb",
        "outputId": "81dd6f85-5b2c-40dd-8957-b95b6801c2cd"
      },
      "outputs": [
        {
          "output_type": "stream",
          "name": "stdout",
          "text": [
            "--------------------------------------Columna desc_escolaridad--------------------------------------\n",
            "['No especificada ', 'No aplica a menores de 3 años', 'Sin escolaridad', 'Preescolar', 'Primaria completa', 'Secundaria incompleta', 'Secundaria completa', 'Bachillerato o preparatoria', 'Profesional', 'Posgrado']\n",
            "Cantidad de elementos: 10\n"
          ]
        }
      ],
      "source": [
        "# Para este caso se hace distinto ya que se desea crear una jerarquia (de menor a mayor jerarquia)\n",
        "nivelesEscolares = [\n",
        "    'No especificada ',\n",
        "    'No aplica a menores de 3 años',\n",
        "    'Sin escolaridad',\n",
        "    'Preescolar',\n",
        "    'Primaria completa',\n",
        "    'Secundaria incompleta',\n",
        "    'Secundaria completa',\n",
        "    'Bachillerato o preparatoria',\n",
        "    'Profesional',\n",
        "    'Posgrado',\n",
        "]\n",
        "titulo = f\"Columna desc_escolaridad\".center(100, '-')\n",
        "print(titulo)\n",
        "print(nivelesEscolares)\n",
        "print(f'Cantidad de elementos: {len(nivelesEscolares)}')"
      ]
    },
    {
      "cell_type": "markdown",
      "metadata": {
        "id": "PUKm6KB-e003"
      },
      "source": [
        "### Aplicar transformaciones y armado de matrices de datos"
      ]
    },
    {
      "cell_type": "code",
      "execution_count": 7,
      "metadata": {
        "id": "yyYa9K_E4d5V"
      },
      "outputs": [],
      "source": [
        "dfDefinitivo = pd.concat([df2010,\n",
        "                          df2011,\n",
        "                          df2012,\n",
        "                          df2013,\n",
        "                          df2014,\n",
        "                          df2015,\n",
        "                          df2016,\n",
        "                          df2017,\n",
        "                          df2018,\n",
        "                          df2019], ignore_index=True)"
      ]
    },
    {
      "cell_type": "code",
      "execution_count": 8,
      "metadata": {
        "id": "r7CXGB3Jvddk"
      },
      "outputs": [],
      "source": [
        "# Defincion de la funcion que asocia estados, tipos de canceres y cierto parametro: nivel escolar o categoria de empleo utilizando transformaciones\n",
        "def asociador(lista, df20xx, columnaX, parametro, anio):\n",
        "\n",
        "  dfEstadosDefinitivoCanceres20xx = pd.DataFrame() # Crear el df que almacenara todos los datos de estados-educaciones-canceres\n",
        "\n",
        "  for indice, estado in enumerate(estados):\n",
        "    #dfEstadosParametroCanceres20xx = dfEstadosCod.iloc[indice:indice+1, 1:] # Almacenar el estado X\n",
        "    dfEstadosParametroCanceres20xx = pd.DataFrame({'vacio': [0]})\n",
        "\n",
        "    condicion = (df20xx['ent_resid_nm'] == estado) # Total de personas en cierto estado\n",
        "    total = df20xx.loc[condicion].shape[0]\n",
        "\n",
        "    # Crear una nueva columna por cada valor distinto (nivel educativo ó categoria de ocupacion)\n",
        "    # y colocarle la frecuencia del valor distinto respectivamente\n",
        "    for etiqueta in lista:\n",
        "      # Determinar cuantas personas hay por cada nivel educativo y por cada estado\n",
        "      condicion = (df20xx[columnaX] == etiqueta) & (df20xx['ent_resid_nm'] == estado)\n",
        "      cantidad = df20xx.loc[condicion].shape[0]\n",
        "\n",
        "      # Si la frecuancia de esa etiqueta es 0 igualemente crea la columna con ese nombre y colocale 0\n",
        "      if cantidad == 0:\n",
        "        dfEstadosParametroCanceres20xx[etiqueta] = 0\n",
        "      else:\n",
        "        dfEstadosParametroCanceres20xx[etiqueta] = cantidad / total # Escalado de datos\n",
        "\n",
        "    # Crear una nueva columna por cada valor distinto (tipo de cancer)\n",
        "    # y colocarle la frecuencia del valor distinto respectivamente\n",
        "    for cancer in canceres:\n",
        "      # Determinar cuantas personas hay por cada nivel educativo y por cada estado\n",
        "      condicion = (df20xx['Organ'] == cancer) & (df20xx['ent_resid_nm'] == estado)\n",
        "      cantidad = df20xx.loc[condicion].shape[0]\n",
        "\n",
        "      # Si la frecuancia de esa etiqueta es 0 igualemente crea la columna con ese nombre y colocale 0\n",
        "      if cantidad == 0:\n",
        "        dfEstadosParametroCanceres20xx[cancer] = 0\n",
        "      else:\n",
        "        dfEstadosParametroCanceres20xx[cancer] = cantidad / total # Escalado de datos\n",
        "\n",
        "    dfEstadosParametroCanceres20xx = dfEstadosParametroCanceres20xx.drop(['vacio'], axis=1)\n",
        "    dfEstadosDefinitivoCanceres20xx = pd.concat([dfEstadosDefinitivoCanceres20xx, dfEstadosParametroCanceres20xx], ignore_index=True)\n",
        "\n",
        "  # Agregar el anio\n",
        "  #dfEstadosDefinitivoCanceres20xx['anio'] = anio\n",
        "\n",
        "\n",
        "  # Imprimir resultado\n",
        "  titulo = f\"Asociacion de datos por estado, por {parametro} y por tipo de cancer en el año: {anio}\".center(140, '-')\n",
        "  print(titulo)\n",
        "  print(dfEstadosDefinitivoCanceres20xx.shape)\n",
        "  print(dfEstadosDefinitivoCanceres20xx.to_string())\n",
        "\n",
        "  return dfEstadosDefinitivoCanceres20xx"
      ]
    },
    {
      "cell_type": "markdown",
      "metadata": {
        "id": "VcEeI7YuRWLX"
      },
      "source": [
        "##### Estados - Educaciones - Canceres"
      ]
    },
    {
      "cell_type": "code",
      "execution_count": 9,
      "metadata": {
        "colab": {
          "base_uri": "https://localhost:8080/"
        },
        "id": "EBLGKZdpje7g",
        "outputId": "01e03a9b-bb38-4a25-aee9-1676716a4016"
      },
      "outputs": [
        {
          "output_type": "stream",
          "name": "stdout",
          "text": [
            "--------------------Asociacion de datos por estado, por Nivel academico y por tipo de cancer en el año: (todos los años)--------------------\n",
            "(32, 46)\n",
            "    No especificada   No aplica a menores de 3 años  Sin escolaridad  Preescolar  Primaria completa  Secundaria incompleta  Secundaria completa  Bachillerato o preparatoria  Profesional  Posgrado   Bladder      Bone     Brain    Breast  Cervix Uteri  Colon and Rectum  Esophagus      Eyes  Female Genitals  Gallbladder     Heart  Hodgkin's Lymphoma    Kidney    Larynx  Leukemia    Liver      Lungs  Lymphoma  Male Genitales  Melanoma  Mesothelioma  Mylenoma   Nervous  Oral Cavity and Pharynx  Outter Respiratory     Ovary  Pancreas  Prostate  Skin non Melanoma   Soft Tissue   Stomach    Testis   Thyroid   Trachea    Ureter  Urinary Tract Other\n",
            "0           0.032313                       0.005102         0.100340    0.240058           0.254055               0.021716             0.129906                     0.087781     0.118001  0.010727  0.016091  0.017007  0.036107  0.092883      0.053637          0.073783   0.012690  0.000916         0.002093     0.032705  0.000262            0.006672  0.028650  0.007980  0.061879  0.047881  0.113161  0.039639        0.001832  0.009812      0.003009  0.012690  0.001047                 0.012690            0.000392  0.031790  0.089089  0.083726            0.019754     0.017007  0.054160  0.006803  0.010858  0.000262  0.000523             0.000523\n",
            "1           0.071177                       0.003893         0.082215    0.187010           0.246508               0.036871             0.153392                     0.096368     0.116841  0.005725  0.015069  0.015161  0.027023  0.093162      0.064398          0.095681   0.012275  0.000962         0.002290     0.023268  0.000229            0.006687  0.035726  0.011313  0.049970  0.054505  0.110979  0.034901        0.001740  0.006000      0.001328  0.013695  0.001420                 0.012458            0.000458  0.026703  0.112582  0.067009            0.014519     0.011634  0.061329  0.006825  0.007466  0.000641  0.000183             0.000412\n",
            "2           0.043223                       0.003258         0.096438    0.214596           0.246525               0.028236             0.130104                     0.107732     0.127063  0.002824  0.018245  0.016942  0.026933  0.089705      0.051043          0.097958   0.016290  0.000434         0.002172     0.018679  0.000000            0.005864  0.034752  0.012163  0.054083  0.040834  0.126629  0.033015        0.004344  0.005864      0.001955  0.010860  0.000869                 0.017593            0.000652  0.019983  0.098175  0.068419            0.022155     0.013032  0.075369  0.005864  0.007819  0.000217  0.000434             0.000652\n",
            "3           0.059659                       0.005371         0.184155    0.239210           0.209860               0.023211             0.109150                     0.066181     0.098216  0.004988  0.010359  0.017265  0.025129  0.053904      0.071360          0.065989   0.011126  0.001726         0.002877     0.033570  0.000192            0.004220  0.032611  0.012277  0.076923  0.092077  0.070593  0.045080        0.002494  0.006714      0.001726  0.011893  0.001151                 0.023403            0.000575  0.021868  0.064838  0.074621            0.024170     0.012277  0.114905  0.003069  0.008057  0.000192  0.000575             0.000192\n",
            "4           0.024863                       0.007287         0.319547    0.263747           0.186290               0.017340             0.074556                     0.041461     0.062007  0.002901  0.007489  0.018150  0.026112  0.052662      0.088084          0.054956   0.011470  0.002868         0.002092     0.028912  0.000135            0.006275  0.021051  0.008771  0.077795  0.109844  0.059105  0.031037        0.002092  0.004824      0.000506  0.008130  0.000742                 0.014709            0.000405  0.020107  0.074995  0.084846            0.022299     0.011808  0.131435  0.006444  0.009142  0.000169  0.000236             0.000304\n",
            "5           0.057702                       0.003827         0.070707    0.226611           0.301925               0.021847             0.142305                     0.075128     0.094560  0.005388  0.015642  0.016163  0.029167  0.094858      0.059003          0.089433   0.013710  0.001152         0.002006     0.023036  0.000223            0.006354  0.035706  0.011481  0.044586  0.048005  0.136583  0.031694        0.001932  0.007728      0.012261  0.012336  0.000855                 0.012373            0.000297  0.027346  0.082448  0.075760            0.017203     0.011035  0.064836  0.006614  0.006799  0.000483  0.000297             0.000594\n",
            "6           0.067752                       0.004680         0.066836    0.184435           0.275076               0.020702             0.140488                     0.096287     0.135504  0.008240  0.017040  0.016022  0.029705  0.098779      0.063632          0.084537   0.014140  0.001272         0.002543     0.022889  0.000000            0.007375  0.038098  0.013835  0.047202  0.061851  0.107884  0.033367        0.002696  0.004883      0.001577  0.013733  0.001068                 0.014598            0.000458  0.030621  0.094100  0.071160            0.016582     0.013377  0.059359  0.006663  0.007935  0.000560  0.000203             0.000254\n",
            "7           0.044829                       0.005309         0.144711    0.266221           0.209595               0.027133             0.116791                     0.070783     0.107157  0.007471  0.012584  0.013173  0.030476  0.086905      0.070389          0.071372   0.012977  0.001376         0.002556     0.024381  0.000000            0.007275  0.017696  0.018482  0.053677  0.054267  0.097523  0.040307        0.002556  0.007275      0.003736  0.014353  0.001376                 0.021038            0.000000  0.033228  0.095556  0.093197            0.024381     0.015140  0.062525  0.004522  0.005112  0.000000  0.000197             0.000393\n",
            "8           0.030637                       0.002276         0.052916    0.144567           0.232337               0.029369             0.144703                     0.148746     0.195704  0.018746  0.016531  0.012937  0.029543  0.090519      0.056212          0.083391   0.011792  0.000809         0.002774     0.027528  0.000236            0.007016  0.035078  0.006742  0.050353  0.061225  0.082060  0.044059        0.001953  0.009839      0.005063  0.018596  0.001082                 0.013646            0.000410  0.035414  0.092571  0.073552            0.012949     0.014815  0.080555  0.007165  0.011755  0.000348  0.000821             0.000659\n",
            "9           0.059444                       0.005422         0.068545    0.274567           0.262174               0.019266             0.120825                     0.072902     0.108917  0.007939  0.016459  0.018104  0.031949  0.085197      0.058573          0.072611   0.015006  0.000678         0.001549     0.030400  0.000290            0.006003  0.030593  0.010359  0.056830  0.057702  0.113273  0.037080        0.003098  0.007648      0.001549  0.016555  0.001646                 0.013457            0.000581  0.025365  0.089554  0.089360            0.016555     0.009972  0.066028  0.006390  0.008713  0.000290  0.000290             0.000290\n",
            "10          0.032047                       0.004595         0.221369    0.236304           0.231074               0.023068             0.104668                     0.060860     0.080632  0.005382  0.013514  0.015419  0.031473  0.086981      0.059862          0.071714   0.010884  0.001330         0.002600     0.031594  0.000121            0.007770  0.028238  0.008617  0.060437  0.057383  0.091789  0.034013        0.002419  0.009675      0.002388  0.014391  0.000998                 0.013968            0.000333  0.033589  0.091517  0.088040            0.020922     0.015207  0.073467  0.006198  0.012275  0.000242  0.000151             0.000484\n",
            "11          0.043299                       0.005580         0.289248    0.219873           0.179096               0.023554             0.083378                     0.063365     0.088958  0.003648  0.009926  0.018028  0.024198  0.063258      0.077691          0.060897   0.011106  0.001180         0.002468     0.026183  0.000268            0.007190  0.022588  0.010570  0.064331  0.080105  0.080427  0.033909        0.002844  0.005097      0.000912  0.010409  0.000912                 0.016042            0.000537  0.023608  0.085256  0.087724            0.023983     0.011375  0.122492  0.004507  0.009175  0.000107  0.000161             0.000537\n",
            "12          0.020669                       0.004523         0.205428    0.263541           0.220371               0.018321             0.119375                     0.068419     0.074717  0.004638  0.010878  0.016203  0.028913  0.064926      0.049181          0.070308   0.024505  0.001260         0.002519     0.037387  0.000115            0.006470  0.030860  0.013111  0.059487  0.088229  0.059888  0.037101        0.001832  0.010993      0.004065  0.013798  0.001088                 0.017520            0.000344  0.031203  0.092637  0.077751            0.022100     0.017520  0.085194  0.008645  0.012997  0.000229  0.000286             0.000458\n",
            "13          0.046457                       0.004110         0.120968    0.258559           0.240817               0.022073             0.110840                     0.074052     0.113097  0.009027  0.014825  0.014073  0.030348  0.092859      0.052622          0.085300   0.011724  0.001303         0.002220     0.029705  0.000202            0.006936  0.024091  0.009504  0.055117  0.046053  0.103372  0.038274        0.001890  0.009431      0.002220  0.014935  0.001321                 0.013614            0.000459  0.029155  0.100492  0.099134            0.018605     0.012880  0.061190  0.006642  0.008715  0.000257  0.000092             0.000440\n",
            "14          0.028038                       0.003606         0.249480    0.288661           0.198311               0.021995             0.074854                     0.051592     0.078882  0.004581  0.013483  0.018713  0.032034  0.069071      0.062216          0.080442   0.011501  0.001332         0.002567     0.032684  0.000130            0.007147  0.025049  0.009292  0.052632  0.059422  0.095289  0.037070        0.001884  0.006920      0.001072  0.012671  0.000975                 0.013905            0.000227  0.028558  0.088142  0.103704            0.022612     0.012183  0.079727  0.005945  0.010299  0.000260  0.000455             0.000390\n",
            "15          0.033819                       0.003196         0.153114    0.219563           0.207968               0.023859             0.125390                     0.089564     0.135499  0.008027  0.014122  0.012115  0.026461  0.071057      0.080719          0.074996   0.011446  0.001189         0.002676     0.033522  0.000372            0.007804  0.025940  0.009291  0.057306  0.067935  0.073138  0.043259        0.002230  0.008325      0.002304  0.013379  0.000966                 0.014791            0.000372  0.027055  0.089564  0.078638            0.023041     0.011149  0.096403  0.006912  0.010183  0.000223  0.000372             0.000743\n",
            "16          0.085895                       0.004626         0.109069    0.196653           0.230282               0.027270             0.137078                     0.099077     0.103007  0.007044  0.013215  0.015733  0.030770  0.081501      0.066276          0.076764   0.011029  0.001347         0.002639     0.029699  0.000144            0.007088  0.034424  0.006856  0.058260  0.060734  0.071708  0.043047        0.002495  0.010930      0.008545  0.015468  0.001468                 0.013734            0.000519  0.034733  0.084857  0.067866            0.018923     0.016373  0.087849  0.011250  0.012255  0.000221  0.000309             0.000972\n",
            "17          0.045348                       0.003994         0.151198    0.312265           0.203830               0.017622             0.104441                     0.059211     0.097392  0.004699  0.012805  0.019267  0.032777  0.068961      0.062970          0.065672   0.011748  0.001292         0.002702     0.025963  0.000235            0.007284  0.020912  0.010221  0.049225  0.072721  0.118069  0.041706        0.003994  0.009398      0.000940  0.011161  0.001410                 0.015860            0.000705  0.018914  0.082824  0.116776            0.024201     0.009868  0.067199  0.004699  0.006461  0.000587  0.000117             0.000352\n",
            "18          0.047765                       0.004118         0.064676    0.213407           0.227627               0.024679             0.148320                     0.117410     0.140496  0.011502  0.019436  0.009800  0.030910  0.096300      0.052844          0.087872   0.015236  0.000576         0.002882     0.022428  0.000192            0.006094  0.039256  0.014439  0.047930  0.060970  0.112249  0.038734        0.002663  0.007961      0.004584  0.013094  0.001043                 0.015977            0.000494  0.028989  0.108927  0.066981            0.012271     0.013506  0.052487  0.004365  0.007659  0.000165  0.000220             0.000467\n",
            "19          0.031828                       0.005021         0.298237    0.278942           0.196623               0.017634             0.068638                     0.039341     0.060612  0.003124  0.007829  0.017199  0.025304  0.045588      0.075637          0.056342   0.020204  0.001858         0.003479     0.040487  0.000079            0.006207  0.022023  0.008936  0.066543  0.099953  0.052704  0.042978        0.003835  0.008066      0.001502  0.013680  0.001384                 0.016685            0.000633  0.030444  0.082912  0.077772            0.023090     0.014155  0.115728  0.005021  0.010715  0.000237  0.000395             0.000395\n",
            "20          0.031770                       0.005375         0.181867    0.245012           0.232462               0.022371             0.099474                     0.068408     0.105496  0.007767  0.011819  0.017109  0.027380  0.065988      0.071137          0.066804   0.013198  0.001576         0.002842     0.037763  0.000084            0.006979  0.032980  0.006979  0.067001  0.082703  0.057714  0.043391        0.003292  0.008639      0.001773  0.012213  0.001126                 0.013676            0.000507  0.032079  0.083603  0.072094            0.022624     0.015843  0.095844  0.010215  0.011397  0.000450  0.000675             0.000507\n",
            "21          0.034444                       0.004760         0.180701    0.171181           0.194375               0.021203             0.133968                     0.099524     0.145911  0.013933  0.016010  0.014972  0.035829  0.087495      0.060753          0.071744   0.014020  0.001212         0.002942     0.030463  0.000087            0.007529  0.033752  0.009087  0.062397  0.053656  0.070446  0.044656        0.003721  0.011077      0.005019  0.018347  0.001125                 0.015491            0.000606  0.037040  0.092254  0.070013            0.021463     0.018607  0.066032  0.010472  0.010645  0.000519  0.000173             0.000346\n",
            "22          0.052899                       0.005843         0.125481    0.196217           0.198831               0.025834             0.143626                     0.107796     0.137014  0.006459  0.012917  0.014455  0.032139  0.071352      0.093495          0.059972   0.012456  0.001384         0.002460     0.028141  0.000154            0.006305  0.033369  0.010457  0.071659  0.075042  0.081347  0.031063        0.003691  0.005843      0.001845  0.009534  0.001538                 0.016761            0.000154  0.030140  0.084115  0.059050            0.021836     0.016146  0.093649  0.006766  0.009227  0.000923  0.000154             0.000461\n",
            "23          0.043161                       0.003782         0.174537    0.262918           0.227043               0.018800             0.101730                     0.064130     0.096724  0.007175  0.010957  0.014183  0.026030  0.070972      0.060348          0.063852   0.016797  0.001502         0.003282     0.040269  0.000056            0.007731  0.030369  0.010624  0.053229  0.091607  0.088158  0.037377        0.003115  0.008343      0.002614  0.014016  0.001112                 0.014573            0.000389  0.031203  0.086935  0.089605            0.019578     0.013683  0.067023  0.007175  0.012125  0.000334  0.000389             0.000445\n",
            "24          0.083584                       0.004151         0.125662    0.266352           0.235390               0.022232             0.086828                     0.068747     0.101904  0.005152  0.015553  0.018701  0.028004  0.082868      0.051811          0.065407   0.012976  0.000906         0.002004     0.018940  0.000048            0.006011  0.028148  0.014551  0.048280  0.055627  0.153428  0.031773        0.002195  0.007013      0.001050  0.016745  0.001193                 0.015123            0.000477  0.024569  0.087162  0.096990            0.019178     0.011259  0.069749  0.004437  0.006870  0.000286  0.000334             0.000334\n",
            "25          0.027015                       0.003186         0.087374    0.239253           0.259940               0.030507             0.155458                     0.089469     0.101383  0.006416  0.016584  0.014490  0.028019  0.084974      0.058788          0.078820   0.015973  0.000917         0.002095     0.023000  0.000131            0.005979  0.034260  0.015973  0.047222  0.049361  0.134858  0.033649        0.002488  0.005237      0.000960  0.016410  0.001222                 0.013791            0.000262  0.026928  0.093702  0.077467            0.017501     0.010998  0.073757  0.005368  0.008074  0.000436  0.000087             0.000218\n",
            "26          0.025554                       0.005481         0.137323    0.298867           0.227316               0.023258             0.119769                     0.066810     0.091252  0.004370  0.008296  0.017628  0.024961  0.070365      0.066365          0.066588   0.009999  0.001333         0.002148     0.022739  0.000148            0.006074  0.025702  0.010814  0.080290  0.106214  0.072883  0.045552        0.003703  0.006962      0.001111  0.012369  0.000889                 0.018739            0.000741  0.026368  0.067032  0.087253            0.020517     0.015184  0.086364  0.005925  0.008296  0.000296  0.000074             0.000074\n",
            "27          0.049956                       0.003319         0.092013    0.238225           0.248057               0.023781             0.121676                     0.096761     0.120163  0.006050  0.015125  0.016092  0.027352  0.089534      0.062014          0.080879   0.013277  0.000924         0.001933     0.017142  0.000168            0.006428  0.036007  0.014831  0.046301  0.090542  0.107601  0.033864        0.002101  0.005252      0.001429  0.012899  0.001134                 0.018235            0.000546  0.029621  0.087769  0.074577            0.018949     0.012268  0.060460  0.005966  0.007395  0.000252  0.000882             0.000252\n",
            "28          0.020039                       0.005123         0.119180    0.250565           0.277987               0.020642             0.137713                     0.067651     0.097936  0.003164  0.011451  0.018231  0.031490  0.070664      0.064939          0.069158   0.010246  0.001507         0.002863     0.029230  0.000301            0.005123  0.039626  0.005273  0.065542  0.066747  0.055748  0.047160        0.003767  0.012807      0.003465  0.014012  0.001507                 0.011602            0.000301  0.034202  0.093265  0.070815            0.023957     0.018984  0.088444  0.011602  0.014916  0.000301  0.000452             0.000301\n",
            "29          0.030585                       0.003787         0.196464    0.265666           0.236763               0.021499             0.091686                     0.064650     0.084995  0.003906  0.011174  0.017950  0.024896  0.068064      0.074313          0.069235   0.016574  0.001477         0.002938     0.026288  0.000119            0.006776  0.028445  0.011225  0.053255  0.122117  0.065907  0.035356        0.002938  0.006266      0.001851  0.011089  0.000764                 0.018544            0.000374  0.027613  0.082481  0.084112            0.018714     0.013518  0.080698  0.007302  0.006861  0.000187  0.000119             0.000459\n",
            "30          0.042938                       0.003572         0.154338    0.277125           0.206802               0.019720             0.111921                     0.069653     0.108126  0.005804  0.011981  0.015181  0.025673  0.061467      0.079030          0.050454   0.013097  0.001712         0.004391     0.032222  0.000223            0.004316  0.035050  0.013320  0.059458  0.115121  0.071811  0.040259        0.004837  0.005581      0.001265  0.011907  0.000893                 0.015999            0.000223  0.022176  0.085950  0.067644            0.022846     0.011534  0.100759  0.004837  0.007739  0.000149  0.000372             0.000521\n",
            "31          0.039110                       0.005019         0.144129    0.350758           0.236837               0.019602             0.092992                     0.042519     0.064489  0.004545  0.013352  0.017424  0.034848  0.073485      0.046117          0.073295   0.011269  0.001705         0.002367     0.025284  0.000473            0.006913  0.029356  0.009186  0.050568  0.061174  0.110890  0.044223        0.002273  0.010890      0.001610  0.013636  0.000663                 0.012405            0.000473  0.029167  0.091667  0.102746            0.022727     0.011932  0.067424  0.006534  0.012879  0.000095  0.000379             0.000568\n"
          ]
        }
      ],
      "source": [
        "# En especifico para este parametro se obtienen: 10 niveles escolares + 36 tipos de canceres = 46 cols\n",
        "dfEstadosEducacionesCanceres = asociador(nivelesEscolares, dfDefinitivo, 'desc_escolaridad', 'Nivel academico', '(todos los años)')"
      ]
    },
    {
      "cell_type": "markdown",
      "metadata": {
        "id": "i3x_pko9RgEd"
      },
      "source": [
        "##### Estados - Empleos - Canceres"
      ]
    },
    {
      "cell_type": "code",
      "execution_count": 10,
      "metadata": {
        "colab": {
          "base_uri": "https://localhost:8080/"
        },
        "id": "BGCc8IptVZDK",
        "outputId": "699a9252-d2ad-4ab8-fb77-6e94da133bc2"
      },
      "outputs": [
        {
          "output_type": "stream",
          "name": "stdout",
          "text": [
            "------------------Asociacion de datos por estado, por Categoria de empleo y por tipo de cancer en el año: (Todos los años)------------------\n",
            "(32, 49)\n",
            "    Comerciantes, empleados en ventas y agentes de ventas  Funcionarios, directores y jefes  Insuficientemente especificada  No aplica a menores de 5 años  No especificada  No trabaja  Operadores de maquinaria industrial, ensambladores, choferes y conductores de transporte  Profesionistas y técnicos  Trabajadores artesanales  Trabajadores auxiliares en actividades administrativas  Trabajadores en actividades agrícolas, ganaderas, forestales, caza y pesca  Trabajadores en actividades elementales y de apoyo  Trabajadores en servicios personales y vigilancia   Bladder      Bone     Brain    Breast  Cervix Uteri  Colon and Rectum  Esophagus      Eyes  Female Genitals  Gallbladder     Heart  Hodgkin's Lymphoma    Kidney    Larynx  Leukemia    Liver      Lungs  Lymphoma  Male Genitales  Melanoma  Mesothelioma  Mylenoma   Nervous  Oral Cavity and Pharynx  Outter Respiratory     Ovary  Pancreas  Prostate  Skin non Melanoma   Soft Tissue   Stomach    Testis   Thyroid   Trachea    Ureter  Urinary Tract Other\n",
            "0                                                0.059785                          0.005625                        0.039639                       0.010204         0.008896    0.584511                                                                                  0.037546                   0.072083                  0.043564                                                0.024725                                                                    0.070774                                            0.028650                                           0.013867  0.016091  0.017007  0.036107  0.092883      0.053637          0.073783   0.012690  0.000916         0.002093     0.032705  0.000262            0.006672  0.028650  0.007980  0.061879  0.047881  0.113161  0.039639        0.001832  0.009812      0.003009  0.012690  0.001047                 0.012690            0.000392  0.031790  0.089089  0.083726            0.019754     0.017007  0.054160  0.006803  0.010858  0.000262  0.000523             0.000523\n",
            "1                                                0.053314                          0.007603                        0.059634                       0.007512         0.044474    0.569780                                                                                  0.046260                   0.073558                  0.039482                                                0.027573                                                                    0.026428                                            0.022122                                           0.022168  0.015069  0.015161  0.027023  0.093162      0.064398          0.095681   0.012275  0.000962         0.002290     0.023268  0.000229            0.006687  0.035726  0.011313  0.049970  0.054505  0.110979  0.034901        0.001740  0.006000      0.001328  0.013695  0.001420                 0.012458            0.000458  0.026703  0.112582  0.067009            0.014519     0.011634  0.061329  0.006825  0.007466  0.000641  0.000183             0.000412\n",
            "2                                                0.051260                          0.011946                        0.046916                       0.006516         0.017811    0.545395                                                                                  0.040834                   0.073849                  0.046481                                                0.035187                                                                    0.059948                                            0.035621                                           0.028236  0.018245  0.016942  0.026933  0.089705      0.051043          0.097958   0.016290  0.000434         0.002172     0.018679  0.000000            0.005864  0.034752  0.012163  0.054083  0.040834  0.126629  0.033015        0.004344  0.005864      0.001955  0.010860  0.000869                 0.017593            0.000652  0.019983  0.098175  0.068419            0.022155     0.013032  0.075369  0.005864  0.007819  0.000217  0.000434             0.000652\n",
            "3                                                0.034529                          0.006138                        0.043161                       0.011126         0.046231    0.535968                                                                                  0.034529                   0.055055                  0.035872                                                0.023403                                                                    0.146173                                            0.008824                                           0.018991  0.010359  0.017265  0.025129  0.053904      0.071360          0.065989   0.011126  0.001726         0.002877     0.033570  0.000192            0.004220  0.032611  0.012277  0.076923  0.092077  0.070593  0.045080        0.002494  0.006714      0.001726  0.011893  0.001151                 0.023403            0.000575  0.021868  0.064838  0.074621            0.024170     0.012277  0.114905  0.003069  0.008057  0.000192  0.000575             0.000192\n",
            "4                                                0.041967                          0.001889                        0.025875                       0.014102         0.028642    0.526854                                                                                  0.026753                   0.041934                  0.027832                                                0.008873                                                                    0.237163                                            0.008974                                           0.009007  0.007489  0.018150  0.026112  0.052662      0.088084          0.054956   0.011470  0.002868         0.002092     0.028912  0.000135            0.006275  0.021051  0.008771  0.077795  0.109844  0.059105  0.031037        0.002092  0.004824      0.000506  0.008130  0.000742                 0.014709            0.000405  0.020107  0.074995  0.084846            0.022299     0.011808  0.131435  0.006444  0.009142  0.000169  0.000236             0.000304\n",
            "5                                                0.040871                          0.005239                        0.057517                       0.007357         0.042617    0.591699                                                                                  0.039533                   0.047968                  0.030430                                                0.019692                                                                    0.077023                                            0.025191                                           0.014862  0.015642  0.016163  0.029167  0.094858      0.059003          0.089433   0.013710  0.001152         0.002006     0.023036  0.000223            0.006354  0.035706  0.011481  0.044586  0.048005  0.136583  0.031694        0.001932  0.007728      0.012261  0.012336  0.000855                 0.012373            0.000297  0.027346  0.082448  0.075760            0.017203     0.011035  0.064836  0.006614  0.006799  0.000483  0.000297             0.000594\n",
            "6                                                0.039674                          0.006053                        0.042879                       0.008138         0.049186    0.614852                                                                                  0.043693                   0.066328                  0.035605                                                0.017752                                                                    0.035961                                            0.023601                                           0.015921  0.017040  0.016022  0.029705  0.098779      0.063632          0.084537   0.014140  0.001272         0.002543     0.022889  0.000000            0.007375  0.038098  0.013835  0.047202  0.061851  0.107884  0.033367        0.002696  0.004883      0.001577  0.013733  0.001068                 0.014598            0.000458  0.030621  0.094100  0.071160            0.016582     0.013377  0.059359  0.006663  0.007935  0.000560  0.000203             0.000254\n",
            "7                                                0.053284                          0.007078                        0.048171                       0.008651         0.023201    0.516909                                                                                  0.045026                   0.068620                  0.041290                                                0.020448                                                                    0.134880                                            0.010028                                           0.020645  0.012584  0.013173  0.030476  0.086905      0.070389          0.071372   0.012977  0.001376         0.002556     0.024381  0.000000            0.007275  0.017696  0.018482  0.053677  0.054267  0.097523  0.040307        0.002556  0.007275      0.003736  0.014353  0.001376                 0.021038            0.000000  0.033228  0.095556  0.093197            0.024381     0.015140  0.062525  0.004522  0.005112  0.000000  0.000197             0.000393\n",
            "8                                                0.072358                          0.012302                        0.052095                       0.004590         0.007327    0.608232                                                                                  0.040875                   0.102635                  0.032578                                                0.037927                                                                    0.006083                                            0.008371                                           0.014516  0.016531  0.012937  0.029543  0.090519      0.056212          0.083391   0.011792  0.000809         0.002774     0.027528  0.000236            0.007016  0.035078  0.006742  0.050353  0.061225  0.082060  0.044059        0.001953  0.009839      0.005063  0.018596  0.001082                 0.013646            0.000410  0.035414  0.092571  0.073552            0.012949     0.014815  0.080555  0.007165  0.011755  0.000348  0.000821             0.000659\n",
            "9                                                0.033788                          0.004066                        0.042695                       0.008132         0.045116    0.535289                                                                                  0.035918                   0.071546                  0.031949                                                0.019363                                                                    0.127118                                            0.029722                                           0.015297  0.016459  0.018104  0.031949  0.085197      0.058573          0.072611   0.015006  0.000678         0.001549     0.030400  0.000290            0.006003  0.030593  0.010359  0.056830  0.057702  0.113273  0.037080        0.003098  0.007648      0.001549  0.016555  0.001646                 0.013457            0.000581  0.025365  0.089554  0.089360            0.016555     0.009972  0.066028  0.006390  0.008713  0.000290  0.000290             0.000290\n",
            "10                                               0.066423                          0.005170                        0.033589                       0.008617         0.017052    0.562251                                                                                  0.038064                   0.049220                  0.052999                                                0.014845                                                                    0.118001                                            0.021073                                           0.012638  0.013514  0.015419  0.031473  0.086981      0.059862          0.071714   0.010884  0.001330         0.002600     0.031594  0.000121            0.007770  0.028238  0.008617  0.060437  0.057383  0.091789  0.034013        0.002419  0.009675      0.002388  0.014391  0.000998                 0.013968            0.000333  0.033589  0.091517  0.088040            0.020922     0.015207  0.073467  0.006198  0.012275  0.000242  0.000151             0.000484\n",
            "11                                               0.048235                          0.003005                        0.040079                       0.009550         0.038953    0.503273                                                                                  0.032300                   0.056980                  0.030905                                                0.017116                                                                    0.198305                                            0.007887                                           0.013360  0.009926  0.018028  0.024198  0.063258      0.077691          0.060897   0.011106  0.001180         0.002468     0.026183  0.000268            0.007190  0.022588  0.010570  0.064331  0.080105  0.080427  0.033909        0.002844  0.005097      0.000912  0.010409  0.000912                 0.016042            0.000537  0.023608  0.085256  0.087724            0.023983     0.011375  0.122492  0.004507  0.009175  0.000107  0.000161             0.000537\n",
            "12                                               0.054105                          0.003034                        0.031032                       0.009046         0.021814    0.532635                                                                                  0.034982                   0.046548                  0.047349                                                0.013111                                                                    0.154185                                            0.043112                                           0.009046  0.010878  0.016203  0.028913  0.064926      0.049181          0.070308   0.024505  0.001260         0.002519     0.037387  0.000115            0.006470  0.030860  0.013111  0.059487  0.088229  0.059888  0.037101        0.001832  0.010993      0.004065  0.013798  0.001088                 0.017520            0.000344  0.031203  0.092637  0.077751            0.022100     0.017520  0.085194  0.008645  0.012997  0.000229  0.000286             0.000458\n",
            "13                                               0.070346                          0.007486                        0.039852                       0.008036         0.027779    0.554328                                                                                  0.039907                   0.064420                  0.045741                                                0.017944                                                                    0.093831                                            0.013155                                           0.017137  0.014825  0.014073  0.030348  0.092859      0.052622          0.085300   0.011724  0.001303         0.002220     0.029705  0.000202            0.006936  0.024091  0.009504  0.055117  0.046053  0.103372  0.038274        0.001890  0.009431      0.002220  0.014935  0.001321                 0.013614            0.000459  0.029155  0.100492  0.099134            0.018605     0.012880  0.061190  0.006642  0.008715  0.000257  0.000092             0.000440\n",
            "14                                               0.061241                          0.002859                        0.025016                       0.006498         0.018031    0.511014                                                                                  0.034081                   0.051592                  0.041423                                                0.011501                                                                    0.200747                                            0.023912                                           0.012053  0.013483  0.018713  0.032034  0.069071      0.062216          0.080442   0.011501  0.001332         0.002567     0.032684  0.000130            0.007147  0.025049  0.009292  0.052632  0.059422  0.095289  0.037070        0.001884  0.006920      0.001072  0.012671  0.000975                 0.013905            0.000227  0.028558  0.088142  0.103704            0.022612     0.012183  0.079727  0.005945  0.010299  0.000260  0.000455             0.000390\n",
            "15                                               0.063401                          0.006169                        0.038353                       0.006318         0.018582    0.577523                                                                                  0.036123                   0.066820                  0.042813                                                0.016426                                                                    0.100714                                            0.008845                                           0.017913  0.014122  0.012115  0.026461  0.071057      0.080719          0.074996   0.011446  0.001189         0.002676     0.033522  0.000372            0.007804  0.025940  0.009291  0.057306  0.067935  0.073138  0.043259        0.002230  0.008325      0.002304  0.013379  0.000966                 0.014791            0.000372  0.027055  0.089564  0.078638            0.023041     0.011149  0.096403  0.006912  0.010183  0.000223  0.000372             0.000743\n",
            "16                                               0.065613                          0.006492                        0.047717                       0.008126         0.012343    0.602864                                                                                  0.044581                   0.061484                  0.047209                                                0.025879                                                                    0.052564                                            0.009429                                           0.015622  0.013215  0.015733  0.030770  0.081501      0.066276          0.076764   0.011029  0.001347         0.002639     0.029699  0.000144            0.007088  0.034424  0.006856  0.058260  0.060734  0.071708  0.043047        0.002495  0.010930      0.008545  0.015468  0.001468                 0.013734            0.000519  0.034733  0.084857  0.067866            0.018923     0.016373  0.087849  0.011250  0.012255  0.000221  0.000309             0.000972\n",
            "17                                               0.058036                          0.004347                        0.045113                       0.008459         0.033717    0.508811                                                                                  0.026081                   0.051457                  0.032307                                                0.012218                                                                    0.155663                                            0.047815                                           0.015742  0.012805  0.019267  0.032777  0.068961      0.062970          0.065672   0.011748  0.001292         0.002702     0.025963  0.000235            0.007284  0.020912  0.010221  0.049225  0.072721  0.118069  0.041706        0.003994  0.009398      0.000940  0.011161  0.001410                 0.015860            0.000705  0.018914  0.082824  0.116776            0.024201     0.009868  0.067199  0.004699  0.006461  0.000587  0.000117             0.000352\n",
            "18                                               0.050785                          0.008153                        0.053695                       0.007302         0.029373    0.605825                                                                                  0.049632                   0.068683                  0.046365                                                0.020369                                                                    0.028549                                            0.013259                                           0.017981  0.019436  0.009800  0.030910  0.096300      0.052844          0.087872   0.015236  0.000576         0.002882     0.022428  0.000192            0.006094  0.039256  0.014439  0.047930  0.060970  0.112249  0.038734        0.002663  0.007961      0.004584  0.013094  0.001043                 0.015977            0.000494  0.028989  0.108927  0.066981            0.012271     0.013506  0.052487  0.004365  0.007659  0.000165  0.000220             0.000467\n",
            "19                                               0.038668                          0.001937                        0.027756                       0.009529         0.026491    0.521904                                                                                  0.027716                   0.040645                  0.033173                                                0.009291                                                                    0.249921                                            0.005377                                           0.007552  0.007829  0.017199  0.025304  0.045588      0.075637          0.056342   0.020204  0.001858         0.003479     0.040487  0.000079            0.006207  0.022023  0.008936  0.066543  0.099953  0.052704  0.042978        0.003835  0.008066      0.001502  0.013680  0.001384                 0.016685            0.000633  0.030444  0.082912  0.077772            0.023090     0.014155  0.115728  0.005021  0.010715  0.000237  0.000395             0.000395\n",
            "20                                               0.056392                          0.004615                        0.034471                       0.010355         0.030081    0.552354                                                                                  0.031742                   0.059037                  0.039790                                                0.014689                                                                    0.151223                                            0.006050                                           0.009174  0.011819  0.017109  0.027380  0.065988      0.071137          0.066804   0.013198  0.001576         0.002842     0.037763  0.000084            0.006979  0.032980  0.006979  0.067001  0.082703  0.057714  0.043391        0.003292  0.008639      0.001773  0.012213  0.001126                 0.013676            0.000507  0.032079  0.083603  0.072094            0.022624     0.015843  0.095844  0.010215  0.011397  0.000450  0.000675             0.000507\n",
            "21                                               0.061359                          0.009866                        0.043704                       0.008135         0.022761    0.558460                                                                                  0.035482                   0.078754                  0.050108                                                0.018780                                                                    0.069580                                            0.028819                                           0.014193  0.016010  0.014972  0.035829  0.087495      0.060753          0.071744   0.014020  0.001212         0.002942     0.030463  0.000087            0.007529  0.033752  0.009087  0.062397  0.053656  0.070446  0.044656        0.003721  0.011077      0.005019  0.018347  0.001125                 0.015491            0.000606  0.037040  0.092254  0.070013            0.021463     0.018607  0.066032  0.010472  0.010645  0.000519  0.000173             0.000346\n",
            "22                                               0.055205                          0.018453                        0.056743                       0.011226         0.039213    0.515454                                                                                  0.040135                   0.077964                  0.034138                                                0.025680                                                                    0.075042                                            0.017377                                           0.033215  0.012917  0.014455  0.032139  0.071352      0.093495          0.059972   0.012456  0.001384         0.002460     0.028141  0.000154            0.006305  0.033369  0.010457  0.071659  0.075042  0.081347  0.031063        0.003691  0.005843      0.001845  0.009534  0.001538                 0.016761            0.000154  0.030140  0.084115  0.059050            0.021836     0.016146  0.093649  0.006766  0.009227  0.000923  0.000154             0.000461\n",
            "23                                               0.053229                          0.004283                        0.032260                       0.007342         0.039268    0.530619                                                                                  0.034429                   0.055565                  0.039435                                                0.016519                                                                    0.123477                                            0.050170                                           0.013349  0.010957  0.014183  0.026030  0.070972      0.060348          0.063852   0.016797  0.001502         0.003282     0.040269  0.000056            0.007731  0.030369  0.010624  0.053229  0.091607  0.088158  0.037377        0.003115  0.008343      0.002614  0.014016  0.001112                 0.014573            0.000389  0.031203  0.086935  0.089605            0.019578     0.013683  0.067023  0.007175  0.012125  0.000334  0.000389             0.000445\n",
            "24                                               0.040933                          0.005296                        0.049616                       0.006822         0.069224    0.521015                                                                                  0.032489                   0.051620                  0.025380                                                0.017127                                                                    0.116264                                            0.045990                                           0.018129  0.015553  0.018701  0.028004  0.082868      0.051811          0.065407   0.012976  0.000906         0.002004     0.018940  0.000048            0.006011  0.028148  0.014551  0.048280  0.055627  0.153428  0.031773        0.002195  0.007013      0.001050  0.016745  0.001193                 0.015123            0.000477  0.024569  0.087162  0.096990            0.019178     0.011259  0.069749  0.004437  0.006870  0.000286  0.000334             0.000334\n",
            "25                                               0.042378                          0.005412                        0.047048                       0.006285         0.009558    0.614847                                                                                  0.035177                   0.053332                  0.033955                                                0.022520                                                                    0.064679                                            0.047484                                           0.017283  0.016584  0.014490  0.028019  0.084974      0.058788          0.078820   0.015973  0.000917         0.002095     0.023000  0.000131            0.005979  0.034260  0.015973  0.047222  0.049361  0.134858  0.033649        0.002488  0.005237      0.000960  0.016410  0.001222                 0.013791            0.000262  0.026928  0.093702  0.077467            0.017501     0.010998  0.073757  0.005368  0.008074  0.000436  0.000087             0.000218\n",
            "26                                               0.034590                          0.005703                        0.033479                       0.011110         0.026591    0.541367                                                                                  0.037108                   0.053181                  0.046811                                                0.014740                                                                    0.169469                                            0.009185                                           0.016665  0.008296  0.017628  0.024961  0.070365      0.066365          0.066588   0.009999  0.001333         0.002148     0.022739  0.000148            0.006074  0.025702  0.010814  0.080290  0.106214  0.072883  0.045552        0.003703  0.006962      0.001111  0.012369  0.000889                 0.018739            0.000741  0.026368  0.067032  0.087253            0.020517     0.015184  0.086364  0.005925  0.008296  0.000296  0.000074             0.000074\n",
            "27                                               0.044284                          0.005000                        0.045460                       0.006008         0.029705    0.585564                                                                                  0.044662                   0.063359                  0.043318                                                0.020923                                                                    0.064703                                            0.031091                                           0.015714  0.015125  0.016092  0.027352  0.089534      0.062014          0.080879   0.013277  0.000924         0.001933     0.017142  0.000168            0.006428  0.036007  0.014831  0.046301  0.090542  0.107601  0.033864        0.002101  0.005252      0.001429  0.012899  0.001134                 0.018235            0.000546  0.029621  0.087769  0.074577            0.018949     0.012268  0.060460  0.005966  0.007395  0.000252  0.000882             0.000252\n",
            "28                                               0.054543                          0.001959                        0.034052                       0.009040         0.024107    0.553563                                                                                  0.037216                   0.054693                  0.048817                                                0.014615                                                                    0.150369                                            0.005575                                           0.008588  0.011451  0.018231  0.031490  0.070664      0.064939          0.069158   0.010246  0.001507         0.002863     0.029230  0.000301            0.005123  0.039626  0.005273  0.065542  0.066747  0.055748  0.047160        0.003767  0.012807      0.003465  0.014012  0.001507                 0.011602            0.000301  0.034202  0.093265  0.070815            0.023957     0.018984  0.088444  0.011602  0.014916  0.000301  0.000452             0.000301\n",
            "29                                               0.041572                          0.002768                        0.034558                       0.006980         0.025031    0.582991                                                                                  0.032011                   0.045563                  0.039432                                                0.014163                                                                    0.156964                                            0.009476                                           0.008440  0.011174  0.017950  0.024896  0.068064      0.074313          0.069235   0.016574  0.001477         0.002938     0.026288  0.000119            0.006776  0.028445  0.011225  0.053255  0.122117  0.065907  0.035356        0.002938  0.006266      0.001851  0.011089  0.000764                 0.018544            0.000374  0.027613  0.082481  0.084112            0.018714     0.013518  0.080698  0.007302  0.006861  0.000187  0.000119             0.000459\n",
            "30                                               0.045542                          0.005730                        0.050007                       0.006772         0.028725    0.582676                                                                                  0.031180                   0.063923                  0.037654                                                0.019050                                                                    0.104257                                            0.008260                                           0.016148  0.011981  0.015181  0.025673  0.061467      0.079030          0.050454   0.013097  0.001712         0.004391     0.032222  0.000223            0.004316  0.035050  0.013320  0.059458  0.115121  0.071811  0.040259        0.004837  0.005581      0.001265  0.011907  0.000893                 0.015999            0.000223  0.022176  0.085950  0.067644            0.022846     0.011534  0.100759  0.004837  0.007739  0.000149  0.000372             0.000521\n",
            "31                                               0.041288                          0.001799                        0.028788                       0.008333         0.027652    0.506061                                                                                  0.024811                   0.043561                  0.037405                                                0.011648                                                                    0.235795                                            0.020549                                           0.012311  0.013352  0.017424  0.034848  0.073485      0.046117          0.073295   0.011269  0.001705         0.002367     0.025284  0.000473            0.006913  0.029356  0.009186  0.050568  0.061174  0.110890  0.044223        0.002273  0.010890      0.001610  0.013636  0.000663                 0.012405            0.000473  0.029167  0.091667  0.102746            0.022727     0.011932  0.067424  0.006534  0.012879  0.000095  0.000379             0.000568\n"
          ]
        }
      ],
      "source": [
        "# En especifico para este parametro se obtienen: 13 categorias de empleo + 36 tipos de canceres = 49 cols\n",
        "dfEstadosEmpleosCanceres = asociador(trabajos, dfDefinitivo, 'desc_ocupacion', 'Categoria de empleo', '(Todos los años)')"
      ]
    },
    {
      "cell_type": "code",
      "source": [
        "dfEstadosEmpleosCanceres.iloc[1, 0:13]"
      ],
      "metadata": {
        "colab": {
          "base_uri": "https://localhost:8080/"
        },
        "id": "DOjBPRNZpqeS",
        "outputId": "a1b4c130-0415-41da-ebe7-1d7b66a0c3c8"
      },
      "execution_count": 12,
      "outputs": [
        {
          "output_type": "execute_result",
          "data": {
            "text/plain": [
              "Comerciantes, empleados en ventas y agentes de ventas                                       0.053314\n",
              "Funcionarios, directores y jefes                                                            0.007603\n",
              "Insuficientemente especificada                                                              0.059634\n",
              "No aplica a menores de 5 años                                                               0.007512\n",
              "No especificada                                                                             0.044474\n",
              "No trabaja                                                                                  0.569780\n",
              "Operadores de maquinaria industrial, ensambladores, choferes y conductores de transporte    0.046260\n",
              "Profesionistas y técnicos                                                                   0.073558\n",
              "Trabajadores artesanales                                                                    0.039482\n",
              "Trabajadores auxiliares en actividades administrativas                                      0.027573\n",
              "Trabajadores en actividades agrícolas, ganaderas, forestales, caza y pesca                  0.026428\n",
              "Trabajadores en actividades elementales y de apoyo                                          0.022122\n",
              "Trabajadores en servicios personales y vigilancia                                           0.022168\n",
              "Bladder                                                                                     0.015069\n",
              "Name: 1, dtype: float64"
            ]
          },
          "metadata": {},
          "execution_count": 12
        }
      ]
    },
    {
      "cell_type": "code",
      "source": [
        "print(f'Fila uno: {dfEstadosEmpleosCanceres.iloc[1, 0:13].sum()}')"
      ],
      "metadata": {
        "colab": {
          "base_uri": "https://localhost:8080/"
        },
        "id": "keh7rEtuIRXT",
        "outputId": "d3ba95c0-6f24-4f6a-cfec-fbc2e29b6df8"
      },
      "execution_count": 21,
      "outputs": [
        {
          "output_type": "stream",
          "name": "stdout",
          "text": [
            "Fila uno: 0.9999083955480237\n"
          ]
        }
      ]
    },
    {
      "cell_type": "markdown",
      "metadata": {
        "id": "5Nnl1rb7OYtH"
      },
      "source": [
        "### Algoritmos/Modelos"
      ]
    },
    {
      "cell_type": "code",
      "execution_count": 13,
      "metadata": {
        "id": "roKY3Nvs891x"
      },
      "outputs": [],
      "source": [
        "# Agregar librerias para utilizar el algoritmo e implementar metricas\n",
        "from sklearn.cluster import OPTICS\n",
        "from sklearn.model_selection import GridSearchCV\n",
        "from sklearn.model_selection import train_test_split\n",
        "from sklearn import metrics"
      ]
    },
    {
      "cell_type": "code",
      "source": [
        "# Creamos el objeto OPTICS\n",
        "# clustering = OPTICS(min_samples=5, eps=1.5, cluster_method='dbscan')\n",
        "clustering = OPTICS(min_samples=5, eps=1.5)\n",
        "\n",
        "# Ajustamos el modelo a los datos\n",
        "clustering.fit(dfEstadosEducacionesCanceres)\n",
        "\n",
        "# Obtenemos las etiquetas de cluster asignadas a cada muestra\n",
        "labels = clustering.labels_\n",
        "\n",
        "# Obtenemos las distancias alcanzables y los núcleos\n",
        "reachability_distances = clustering.reachability_[clustering.ordering_]\n",
        "core_distances = clustering.core_distances_[clustering.ordering_]\n",
        "\n",
        "# Visualizamos los resultados\n",
        "plt.figure(figsize=(10, 6))\n",
        "\n",
        "# Graficamos la ordenación OPTICS\n",
        "plt.plot(range(len(reachability_distances)), reachability_distances, marker='.')\n",
        "plt.title('Ordenación OPTICS')\n",
        "plt.xlabel('Índice de muestra')\n",
        "plt.ylabel('Distancia alcanzable')\n",
        "plt.grid(True)\n",
        "plt.show()\n",
        "\n"
      ],
      "metadata": {
        "colab": {
          "base_uri": "https://localhost:8080/",
          "height": 564
        },
        "id": "A-BykGcchA_F",
        "outputId": "c07cbbdc-862b-4181-a01c-11aee9aad6ae"
      },
      "execution_count": 15,
      "outputs": [
        {
          "output_type": "display_data",
          "data": {
            "text/plain": [
              "<Figure size 1000x600 with 1 Axes>"
            ],
            "image/png": "[encoded data removed]"
          },
          "metadata": {}
        }
      ]
    },
    {
      "cell_type": "code",
      "execution_count": 12,
      "metadata": {
        "id": "_OKi_e7vWcBc",
        "colab": {
          "base_uri": "https://localhost:8080/"
        },
        "outputId": "289ea95d-5e77-41c5-8b17-cfd0443d558a"
      },
      "outputs": [
        {
          "output_type": "stream",
          "name": "stdout",
          "text": [
            "Mejores parámetros encontrados:\n",
            "{'cluster_method': 'dbscan', 'eps': 0.1, 'min_samples': 0.5}\n",
            "Puntuación del mejor modelo:\n",
            "nan\n"
          ]
        },
        {
          "output_type": "stream",
          "name": "stderr",
          "text": [
            "/usr/local/lib/python3.10/dist-packages/sklearn/model_selection/_search.py:952: UserWarning: One or more of the test scores are non-finite: [nan nan nan nan nan nan nan nan nan nan nan nan nan nan nan nan nan nan\n",
            " nan nan nan nan nan nan]\n",
            "  warnings.warn(\n"
          ]
        }
      ],
      "source": [
        "# Define los parámetros para la búsqueda de cuadrícula\n",
        "parameters = [{'cluster_method': ['dbscan'],\n",
        "               'eps': [0.1, 0.5, 1.0, 1.5],\n",
        "               'min_samples': [0.5, 2, 5, 7, 9]},\n",
        "              {'eps': [0.1, 0.5, 1.0, 1.5]},\n",
        "]\n",
        "\n",
        "# Realiza la búsqueda de cuadrícula\n",
        "# grid_search = GridSearchCV(clustering, parameters, cv=5, scoring=metrics.calinski_harabasz_score, n_jobs=-1)\n",
        "# grid_search = GridSearchCV(clustering, parameters, cv=5, scoring='v_measure_score', n_jobs=-1)\n",
        "# grid_search = GridSearchCV(clustering, parameters, cv=5, scoring='rand_score', n_jobs=-1)\n",
        "# grid_search = GridSearchCV(clustering, parameters, cv=5, scoring='normalized_mutual_info_score', n_jobs=-1)\n",
        "# grid_search = GridSearchCV(clustering, parameters, cv=5, scoring='mutual_info_score', n_jobs=-1)\n",
        "# grid_search = GridSearchCV(clustering, parameters, cv=5, scoring='homogeneity_score', n_jobs=-1)\n",
        "# grid_search = GridSearchCV(clustering, parameters, cv=5, scoring='fowlkes_mallows_score', n_jobs=-1)\n",
        "grid_search = GridSearchCV(clustering, parameters, cv=5, scoring='completeness_score', n_jobs=-1)\n",
        "resultado = grid_search.fit(dfEstadosEducacionesCanceres)\n",
        "\n",
        "# Muestra los mejores parámetros encontrados\n",
        "print(\"Mejores parámetros encontrados:\")\n",
        "print(resultado.best_params_)\n",
        "\n",
        "# Muestra la puntuación del mejor modelo\n",
        "print(\"Puntuación del mejor modelo:\")\n",
        "print(resultado.best_score_)"
      ]
    },
    {
      "cell_type": "markdown",
      "metadata": {
        "id": "-VOnVMDcgzZa"
      },
      "source": [
        "#### Creacion y evaluacion de modelos"
      ]
    },
    {
      "cell_type": "code",
      "execution_count": 13,
      "metadata": {
        "id": "bSm9ScnOg-SR"
      },
      "outputs": [],
      "source": [
        "# Definicion del metodo que creara cierto modelo con el numero de cluster optimo y a su vez\n",
        "# determinara el coeficiente de shilloutte obtenido con ese modelo.\n",
        "def crearEvaluarModelo(df, numerClusters, nombreModelo):\n",
        "  # Creacion del modelo con cierta cantidad de clusters\n",
        "  algoritmoKmeans = KMeans(n_clusters=numerClusters, n_init=10, init='k-means++', max_iter=100, random_state=0)\n",
        "  algoritmoKmeans.fit(df)\n",
        "  grupos = algoritmoKmeans.fit_predict(df)\n",
        "  pesos_pertenencia = algoritmoKmeans.transform(df)\n",
        "\n",
        "  # Obtener el coeficiente de shilloutte\n",
        "  coef = metrics.silhouette_score(df, grupos)\n",
        "\n",
        "  # Imprimir los resultados\n",
        "  print('Pesos de pertenencia')\n",
        "  filas, columnas = pesos_pertenencia.shape\n",
        "  for i in range(filas):\n",
        "      for j in range(columnas):\n",
        "          print(f'{pesos_pertenencia[i, j]:.3f}', end=' ')\n",
        "      print('')\n",
        "  print('Grupos')\n",
        "  print(grupos)\n",
        "  print(f'El coeficiente de shilloute para el modelo de {nombreModelo} es: {coef}')\n",
        "  serie = pd.Series(grupos)\n",
        "  df = pd.DataFrame({nombreModelo: serie})\n",
        "  return df"
      ]
    },
    {
      "cell_type": "code",
      "execution_count": 14,
      "metadata": {
        "id": "FUgtOvjJpLkN",
        "colab": {
          "base_uri": "https://localhost:8080/",
          "height": 176
        },
        "outputId": "c810ed63-f09e-4728-fa30-d9573dadc233"
      },
      "outputs": [
        {
          "output_type": "error",
          "ename": "NameError",
          "evalue": "name 'dfDefinitivoEducacion' is not defined",
          "traceback": [
            "\u001b[0;31m---------------------------------------------------------------------------\u001b[0m",
            "\u001b[0;31mNameError\u001b[0m                                 Traceback (most recent call last)",
            "\u001b[0;32m<ipython-input-14-779f217a7581>\u001b[0m in \u001b[0;36m<cell line: 3>\u001b[0;34m()\u001b[0m\n\u001b[1;32m      1\u001b[0m \u001b[0;31m# Aplicar el metodo que creara el modelo a la matriz de datos de estados con educaciones con cierta\u001b[0m\u001b[0;34m\u001b[0m\u001b[0;34m\u001b[0m\u001b[0m\n\u001b[1;32m      2\u001b[0m \u001b[0;31m# cantidad de clusters.\u001b[0m\u001b[0;34m\u001b[0m\u001b[0;34m\u001b[0m\u001b[0m\n\u001b[0;32m----> 3\u001b[0;31m \u001b[0mgruposEducaciones\u001b[0m \u001b[0;34m=\u001b[0m \u001b[0mcrearEvaluarModelo\u001b[0m\u001b[0;34m(\u001b[0m\u001b[0mdfDefinitivoEducacion\u001b[0m\u001b[0;34m,\u001b[0m \u001b[0;36m5\u001b[0m\u001b[0;34m,\u001b[0m \u001b[0;34m'Educacion'\u001b[0m\u001b[0;34m)\u001b[0m\u001b[0;34m\u001b[0m\u001b[0;34m\u001b[0m\u001b[0m\n\u001b[0m",
            "\u001b[0;31mNameError\u001b[0m: name 'dfDefinitivoEducacion' is not defined"
          ]
        }
      ],
      "source": [
        "# Aplicar el metodo que creara el modelo a la matriz de datos de estados con educaciones con cierta\n",
        "# cantidad de clusters.\n",
        "gruposEducaciones = crearEvaluarModelo(dfDefinitivoEducacion, 5, 'Educacion')"
      ]
    },
    {
      "cell_type": "code",
      "execution_count": null,
      "metadata": {
        "id": "tdhbtYFB1fvm"
      },
      "outputs": [],
      "source": [
        "# Aplicar el metodo que creara el modelo a la matriz de datos de estados con empleos con cierta\n",
        "# cantidad de clusters.\n",
        "gruposEmpleos = crearEvaluarModelo(dfDefinitivoEmpleo, 5, 'Empleo')"
      ]
    },
    {
      "cell_type": "markdown",
      "metadata": {
        "id": "h2FkhYr_gz9J"
      },
      "source": [
        "### Guardar Resultados"
      ]
    },
    {
      "cell_type": "code",
      "execution_count": null,
      "metadata": {
        "id": "eRC8GbwHiumm"
      },
      "outputs": [],
      "source": [
        "\"\"\"\n",
        "modelosResultados2 = '/content/drive/MyDrive/Pt2/Primeras Actividades/0 Bases de Datos/Modelos Resultados 2/'\n",
        "\n",
        "dfDefinitivoEducacion.to_csv(modelosResultados2 + 'dfEducaciones.csv', index=False)\n",
        "dfDefinitivoEmpleo.to_csv(modelosResultados2 + 'dfEmpleos.csv', index=False)\n",
        "gruposEducaciones.to_csv(modelosResultados2 + 'gruposEducaciones.csv', index=False)\n",
        "gruposEmpleos.to_csv(modelosResultados2 + 'gruposEmpleos.csv', index=False)\n",
        "\"\"\"\n",
        "# se tendrian que guardar los que no estan escalados"
      ]
    }
  ],
  "metadata": {
    "colab": {
      "toc_visible": true,
      "provenance": [],
      "mount_file_id": "1_XDPv0iC3QuQr2ZBI52Vihl5UeXOeifx",
      "authorship_tag": "ABX9TyNqaWjRX0V9AcNICHm+lH6P",
      "include_colab_link": true
    },
    "kernelspec": {
      "display_name": "Python 3",
      "name": "python3"
    },
    "language_info": {
      "name": "python"
    }
  },
  "nbformat": 4,
  "nbformat_minor": 0
}